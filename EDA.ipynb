{
 "cells": [
  {
   "cell_type": "markdown",
   "metadata": {},
   "source": [
    "# EDA notebook -- scratchbook to play & understand the data\n",
    "### Feel free to mess around!"
   ]
  },
  {
   "cell_type": "code",
   "execution_count": 115,
   "metadata": {},
   "outputs": [
    {
     "data": {
      "text/html": [
       "<style>.container { width:95% !important; }</style>"
      ],
      "text/plain": [
       "<IPython.core.display.HTML object>"
      ]
     },
     "metadata": {},
     "output_type": "display_data"
    }
   ],
   "source": [
    "import numpy as np\n",
    "import pandas as pd\n",
    "import matplotlib.pyplot as plt\n",
    "from IPython.core.display import display, HTML\n",
    "from pylab import rcParams\n",
    "from statistics import stdev, median, mean\n",
    "rcParams['figure.figsize'] = 10, 6\n",
    "display(HTML(\"<style>.container { width:95% !important; }</style>\"))"
   ]
  },
  {
   "cell_type": "code",
   "execution_count": 5,
   "metadata": {},
   "outputs": [
    {
     "ename": "FileNotFoundError",
     "evalue": "[Errno 2] File data/anime-recommendations-database/anime.csv does not exist: 'data/anime-recommendations-database/anime.csv'",
     "output_type": "error",
     "traceback": [
      "\u001b[1;31m---------------------------------------------------------------------------\u001b[0m",
      "\u001b[1;31mFileNotFoundError\u001b[0m                         Traceback (most recent call last)",
      "\u001b[1;32m<ipython-input-5-dc448a4f1fed>\u001b[0m in \u001b[0;36m<module>\u001b[1;34m\u001b[0m\n\u001b[0;32m      1\u001b[0m \u001b[0mroot\u001b[0m \u001b[1;33m=\u001b[0m \u001b[1;34m\"data/anime-recommendations-database/\"\u001b[0m\u001b[1;33m\u001b[0m\u001b[1;33m\u001b[0m\u001b[0m\n\u001b[0;32m      2\u001b[0m \u001b[0mroot2\u001b[0m \u001b[1;33m=\u001b[0m \u001b[1;34m\"data/anime-data-score-staff-synopsis-and-genre/\"\u001b[0m\u001b[1;33m\u001b[0m\u001b[1;33m\u001b[0m\u001b[0m\n\u001b[1;32m----> 3\u001b[1;33m \u001b[0manime_data\u001b[0m \u001b[1;33m=\u001b[0m \u001b[0mpd\u001b[0m\u001b[1;33m.\u001b[0m\u001b[0mread_csv\u001b[0m\u001b[1;33m(\u001b[0m\u001b[0mroot\u001b[0m \u001b[1;33m+\u001b[0m \u001b[1;34m\"anime.csv\"\u001b[0m\u001b[1;33m)\u001b[0m\u001b[1;33m\u001b[0m\u001b[1;33m\u001b[0m\u001b[0m\n\u001b[0m",
      "\u001b[1;32m~\\anaconda3\\lib\\site-packages\\pandas\\io\\parsers.py\u001b[0m in \u001b[0;36mparser_f\u001b[1;34m(filepath_or_buffer, sep, delimiter, header, names, index_col, usecols, squeeze, prefix, mangle_dupe_cols, dtype, engine, converters, true_values, false_values, skipinitialspace, skiprows, skipfooter, nrows, na_values, keep_default_na, na_filter, verbose, skip_blank_lines, parse_dates, infer_datetime_format, keep_date_col, date_parser, dayfirst, cache_dates, iterator, chunksize, compression, thousands, decimal, lineterminator, quotechar, quoting, doublequote, escapechar, comment, encoding, dialect, error_bad_lines, warn_bad_lines, delim_whitespace, low_memory, memory_map, float_precision)\u001b[0m\n\u001b[0;32m    674\u001b[0m         )\n\u001b[0;32m    675\u001b[0m \u001b[1;33m\u001b[0m\u001b[0m\n\u001b[1;32m--> 676\u001b[1;33m         \u001b[1;32mreturn\u001b[0m \u001b[0m_read\u001b[0m\u001b[1;33m(\u001b[0m\u001b[0mfilepath_or_buffer\u001b[0m\u001b[1;33m,\u001b[0m \u001b[0mkwds\u001b[0m\u001b[1;33m)\u001b[0m\u001b[1;33m\u001b[0m\u001b[1;33m\u001b[0m\u001b[0m\n\u001b[0m\u001b[0;32m    677\u001b[0m \u001b[1;33m\u001b[0m\u001b[0m\n\u001b[0;32m    678\u001b[0m     \u001b[0mparser_f\u001b[0m\u001b[1;33m.\u001b[0m\u001b[0m__name__\u001b[0m \u001b[1;33m=\u001b[0m \u001b[0mname\u001b[0m\u001b[1;33m\u001b[0m\u001b[1;33m\u001b[0m\u001b[0m\n",
      "\u001b[1;32m~\\anaconda3\\lib\\site-packages\\pandas\\io\\parsers.py\u001b[0m in \u001b[0;36m_read\u001b[1;34m(filepath_or_buffer, kwds)\u001b[0m\n\u001b[0;32m    446\u001b[0m \u001b[1;33m\u001b[0m\u001b[0m\n\u001b[0;32m    447\u001b[0m     \u001b[1;31m# Create the parser.\u001b[0m\u001b[1;33m\u001b[0m\u001b[1;33m\u001b[0m\u001b[1;33m\u001b[0m\u001b[0m\n\u001b[1;32m--> 448\u001b[1;33m     \u001b[0mparser\u001b[0m \u001b[1;33m=\u001b[0m \u001b[0mTextFileReader\u001b[0m\u001b[1;33m(\u001b[0m\u001b[0mfp_or_buf\u001b[0m\u001b[1;33m,\u001b[0m \u001b[1;33m**\u001b[0m\u001b[0mkwds\u001b[0m\u001b[1;33m)\u001b[0m\u001b[1;33m\u001b[0m\u001b[1;33m\u001b[0m\u001b[0m\n\u001b[0m\u001b[0;32m    449\u001b[0m \u001b[1;33m\u001b[0m\u001b[0m\n\u001b[0;32m    450\u001b[0m     \u001b[1;32mif\u001b[0m \u001b[0mchunksize\u001b[0m \u001b[1;32mor\u001b[0m \u001b[0miterator\u001b[0m\u001b[1;33m:\u001b[0m\u001b[1;33m\u001b[0m\u001b[1;33m\u001b[0m\u001b[0m\n",
      "\u001b[1;32m~\\anaconda3\\lib\\site-packages\\pandas\\io\\parsers.py\u001b[0m in \u001b[0;36m__init__\u001b[1;34m(self, f, engine, **kwds)\u001b[0m\n\u001b[0;32m    878\u001b[0m             \u001b[0mself\u001b[0m\u001b[1;33m.\u001b[0m\u001b[0moptions\u001b[0m\u001b[1;33m[\u001b[0m\u001b[1;34m\"has_index_names\"\u001b[0m\u001b[1;33m]\u001b[0m \u001b[1;33m=\u001b[0m \u001b[0mkwds\u001b[0m\u001b[1;33m[\u001b[0m\u001b[1;34m\"has_index_names\"\u001b[0m\u001b[1;33m]\u001b[0m\u001b[1;33m\u001b[0m\u001b[1;33m\u001b[0m\u001b[0m\n\u001b[0;32m    879\u001b[0m \u001b[1;33m\u001b[0m\u001b[0m\n\u001b[1;32m--> 880\u001b[1;33m         \u001b[0mself\u001b[0m\u001b[1;33m.\u001b[0m\u001b[0m_make_engine\u001b[0m\u001b[1;33m(\u001b[0m\u001b[0mself\u001b[0m\u001b[1;33m.\u001b[0m\u001b[0mengine\u001b[0m\u001b[1;33m)\u001b[0m\u001b[1;33m\u001b[0m\u001b[1;33m\u001b[0m\u001b[0m\n\u001b[0m\u001b[0;32m    881\u001b[0m \u001b[1;33m\u001b[0m\u001b[0m\n\u001b[0;32m    882\u001b[0m     \u001b[1;32mdef\u001b[0m \u001b[0mclose\u001b[0m\u001b[1;33m(\u001b[0m\u001b[0mself\u001b[0m\u001b[1;33m)\u001b[0m\u001b[1;33m:\u001b[0m\u001b[1;33m\u001b[0m\u001b[1;33m\u001b[0m\u001b[0m\n",
      "\u001b[1;32m~\\anaconda3\\lib\\site-packages\\pandas\\io\\parsers.py\u001b[0m in \u001b[0;36m_make_engine\u001b[1;34m(self, engine)\u001b[0m\n\u001b[0;32m   1112\u001b[0m     \u001b[1;32mdef\u001b[0m \u001b[0m_make_engine\u001b[0m\u001b[1;33m(\u001b[0m\u001b[0mself\u001b[0m\u001b[1;33m,\u001b[0m \u001b[0mengine\u001b[0m\u001b[1;33m=\u001b[0m\u001b[1;34m\"c\"\u001b[0m\u001b[1;33m)\u001b[0m\u001b[1;33m:\u001b[0m\u001b[1;33m\u001b[0m\u001b[1;33m\u001b[0m\u001b[0m\n\u001b[0;32m   1113\u001b[0m         \u001b[1;32mif\u001b[0m \u001b[0mengine\u001b[0m \u001b[1;33m==\u001b[0m \u001b[1;34m\"c\"\u001b[0m\u001b[1;33m:\u001b[0m\u001b[1;33m\u001b[0m\u001b[1;33m\u001b[0m\u001b[0m\n\u001b[1;32m-> 1114\u001b[1;33m             \u001b[0mself\u001b[0m\u001b[1;33m.\u001b[0m\u001b[0m_engine\u001b[0m \u001b[1;33m=\u001b[0m \u001b[0mCParserWrapper\u001b[0m\u001b[1;33m(\u001b[0m\u001b[0mself\u001b[0m\u001b[1;33m.\u001b[0m\u001b[0mf\u001b[0m\u001b[1;33m,\u001b[0m \u001b[1;33m**\u001b[0m\u001b[0mself\u001b[0m\u001b[1;33m.\u001b[0m\u001b[0moptions\u001b[0m\u001b[1;33m)\u001b[0m\u001b[1;33m\u001b[0m\u001b[1;33m\u001b[0m\u001b[0m\n\u001b[0m\u001b[0;32m   1115\u001b[0m         \u001b[1;32melse\u001b[0m\u001b[1;33m:\u001b[0m\u001b[1;33m\u001b[0m\u001b[1;33m\u001b[0m\u001b[0m\n\u001b[0;32m   1116\u001b[0m             \u001b[1;32mif\u001b[0m \u001b[0mengine\u001b[0m \u001b[1;33m==\u001b[0m \u001b[1;34m\"python\"\u001b[0m\u001b[1;33m:\u001b[0m\u001b[1;33m\u001b[0m\u001b[1;33m\u001b[0m\u001b[0m\n",
      "\u001b[1;32m~\\anaconda3\\lib\\site-packages\\pandas\\io\\parsers.py\u001b[0m in \u001b[0;36m__init__\u001b[1;34m(self, src, **kwds)\u001b[0m\n\u001b[0;32m   1889\u001b[0m         \u001b[0mkwds\u001b[0m\u001b[1;33m[\u001b[0m\u001b[1;34m\"usecols\"\u001b[0m\u001b[1;33m]\u001b[0m \u001b[1;33m=\u001b[0m \u001b[0mself\u001b[0m\u001b[1;33m.\u001b[0m\u001b[0musecols\u001b[0m\u001b[1;33m\u001b[0m\u001b[1;33m\u001b[0m\u001b[0m\n\u001b[0;32m   1890\u001b[0m \u001b[1;33m\u001b[0m\u001b[0m\n\u001b[1;32m-> 1891\u001b[1;33m         \u001b[0mself\u001b[0m\u001b[1;33m.\u001b[0m\u001b[0m_reader\u001b[0m \u001b[1;33m=\u001b[0m \u001b[0mparsers\u001b[0m\u001b[1;33m.\u001b[0m\u001b[0mTextReader\u001b[0m\u001b[1;33m(\u001b[0m\u001b[0msrc\u001b[0m\u001b[1;33m,\u001b[0m \u001b[1;33m**\u001b[0m\u001b[0mkwds\u001b[0m\u001b[1;33m)\u001b[0m\u001b[1;33m\u001b[0m\u001b[1;33m\u001b[0m\u001b[0m\n\u001b[0m\u001b[0;32m   1892\u001b[0m         \u001b[0mself\u001b[0m\u001b[1;33m.\u001b[0m\u001b[0munnamed_cols\u001b[0m \u001b[1;33m=\u001b[0m \u001b[0mself\u001b[0m\u001b[1;33m.\u001b[0m\u001b[0m_reader\u001b[0m\u001b[1;33m.\u001b[0m\u001b[0munnamed_cols\u001b[0m\u001b[1;33m\u001b[0m\u001b[1;33m\u001b[0m\u001b[0m\n\u001b[0;32m   1893\u001b[0m \u001b[1;33m\u001b[0m\u001b[0m\n",
      "\u001b[1;32mpandas\\_libs\\parsers.pyx\u001b[0m in \u001b[0;36mpandas._libs.parsers.TextReader.__cinit__\u001b[1;34m()\u001b[0m\n",
      "\u001b[1;32mpandas\\_libs\\parsers.pyx\u001b[0m in \u001b[0;36mpandas._libs.parsers.TextReader._setup_parser_source\u001b[1;34m()\u001b[0m\n",
      "\u001b[1;31mFileNotFoundError\u001b[0m: [Errno 2] File data/anime-recommendations-database/anime.csv does not exist: 'data/anime-recommendations-database/anime.csv'"
     ]
    }
   ],
   "source": [
    "root = \"data/anime-recommendations-database/\"\n",
    "root2 = \"data/anime-data-score-staff-synopsis-and-genre/\"\n",
    "anime_data = pd.read_csv(root + \"anime.csv\")"
   ]
  },
  {
   "cell_type": "code",
   "execution_count": null,
   "metadata": {},
   "outputs": [],
   "source": [
    "print (anime_data.shape)\n",
    "anime_data.head(10)"
   ]
  },
  {
   "cell_type": "code",
   "execution_count": null,
   "metadata": {},
   "outputs": [],
   "source": [
    "rating_data = pd.read_csv(root + \"rating.csv\")"
   ]
  },
  {
   "cell_type": "code",
   "execution_count": null,
   "metadata": {},
   "outputs": [],
   "source": [
    "print (rating_data.shape)\n",
    "rating_data.head(10)"
   ]
  },
  {
   "cell_type": "code",
   "execution_count": null,
   "metadata": {},
   "outputs": [],
   "source": [
    "plt.plot(rating_data.rating.value_counts())"
   ]
  },
  {
   "cell_type": "code",
   "execution_count": null,
   "metadata": {},
   "outputs": [],
   "source": [
    "# Seems like there are a ton of -1 ratings (where people didn't rate). May be worthwhile to delete all of them (>1.4M data) \n",
    "rating_data.rating.value_counts().plot(kind='bar')\n",
    "plt.show()"
   ]
  },
  {
   "cell_type": "code",
   "execution_count": null,
   "metadata": {},
   "outputs": [],
   "source": [
    "# lol, the anime with the most ratings is deathnote\n",
    "rating_data.anime_id.value_counts()[:50].plot(kind='bar')\n",
    "plt.show()"
   ]
  },
  {
   "cell_type": "code",
   "execution_count": null,
   "metadata": {},
   "outputs": [],
   "source": [
    "top_50_frequently_rated = list(rating_data.anime_id.value_counts()[:25].keys())"
   ]
  },
  {
   "cell_type": "code",
   "execution_count": null,
   "metadata": {},
   "outputs": [],
   "source": [
    "anime_data[anime_data['anime_id'].isin(top_50_frequently_rated)]"
   ]
  },
  {
   "cell_type": "code",
   "execution_count": null,
   "metadata": {},
   "outputs": [],
   "source": [
    "new_df = pd.read_csv(root2 + \"dataanime.csv\")"
   ]
  },
  {
   "cell_type": "code",
   "execution_count": null,
   "metadata": {},
   "outputs": [],
   "source": [
    "print (new_df.shape)\n",
    "new_df.head()"
   ]
  },
  {
   "cell_type": "code",
   "execution_count": null,
   "metadata": {},
   "outputs": [],
   "source": [
    "new_df = pd.read_csv(\"data/tidy_anime.csv\")"
   ]
  },
  {
   "cell_type": "code",
   "execution_count": null,
   "metadata": {},
   "outputs": [],
   "source": [
    "print(new_df.shape)\n",
    "new_df.head()"
   ]
  },
  {
   "cell_type": "code",
   "execution_count": null,
   "metadata": {},
   "outputs": [],
   "source": [
    "new_df.columns.tolist()"
   ]
  },
  {
   "cell_type": "code",
   "execution_count": null,
   "metadata": {},
   "outputs": [],
   "source": [
    "desired_cols = ['animeID', 'title_english', 'type', 'source', 'producers', 'genre', 'studio',\n",
    "               'episodes', 'premiered', 'rating', 'score', 'scored_by', 'rank', 'popularity',\n",
    "               'members', 'favorites', 'synopsis', 'background']\n",
    "new_df[desired_cols].head()"
   ]
  },
  {
   "cell_type": "code",
   "execution_count": null,
   "metadata": {},
   "outputs": [],
   "source": []
  },
  {
   "cell_type": "markdown",
   "metadata": {},
   "source": [
    "# Join the datasets, clean\n",
    "\n",
    "* Rename rating column (duplicated)\n",
    "* Join anime_data and rating_data on anime_id\n",
    "* Remove all ratings of -1"
   ]
  },
  {
   "cell_type": "code",
   "execution_count": 6,
   "metadata": {},
   "outputs": [
    {
     "ename": "NameError",
     "evalue": "name 'anime_data' is not defined",
     "output_type": "error",
     "traceback": [
      "\u001b[1;31m---------------------------------------------------------------------------\u001b[0m",
      "\u001b[1;31mNameError\u001b[0m                                 Traceback (most recent call last)",
      "\u001b[1;32m<ipython-input-6-8f58bc6a1f6e>\u001b[0m in \u001b[0;36m<module>\u001b[1;34m\u001b[0m\n\u001b[1;32m----> 1\u001b[1;33m \u001b[0manime_data\u001b[0m \u001b[1;33m=\u001b[0m \u001b[0manime_data\u001b[0m\u001b[1;33m.\u001b[0m\u001b[0mrename\u001b[0m\u001b[1;33m(\u001b[0m\u001b[0mcolumns\u001b[0m\u001b[1;33m=\u001b[0m\u001b[1;33m{\u001b[0m\u001b[1;34m\"rating\"\u001b[0m\u001b[1;33m:\u001b[0m \u001b[1;34m\"overall_rating\"\u001b[0m\u001b[1;33m}\u001b[0m\u001b[1;33m)\u001b[0m\u001b[1;33m\u001b[0m\u001b[1;33m\u001b[0m\u001b[0m\n\u001b[0m\u001b[0;32m      2\u001b[0m \u001b[0manime_data\u001b[0m\u001b[1;33m.\u001b[0m\u001b[0mhead\u001b[0m\u001b[1;33m(\u001b[0m\u001b[1;33m)\u001b[0m\u001b[1;33m\u001b[0m\u001b[1;33m\u001b[0m\u001b[0m\n",
      "\u001b[1;31mNameError\u001b[0m: name 'anime_data' is not defined"
     ]
    }
   ],
   "source": [
    "anime_data = anime_data.rename(columns={\"rating\": \"overall_rating\"})\n",
    "anime_data.head()"
   ]
  },
  {
   "cell_type": "code",
   "execution_count": null,
   "metadata": {},
   "outputs": [],
   "source": [
    "rating_data = rating_data.rename(columns={\"rating\": \"user_rating\"})\n",
    "rating_data.head()"
   ]
  },
  {
   "cell_type": "code",
   "execution_count": null,
   "metadata": {},
   "outputs": [],
   "source": [
    "merged_df = pd.merge(anime_data, rating_data, on='anime_id')\n",
    "merged_df.head()"
   ]
  },
  {
   "cell_type": "code",
   "execution_count": 7,
   "metadata": {},
   "outputs": [
    {
     "data": {
      "text/html": [
       "<div>\n",
       "<style scoped>\n",
       "    .dataframe tbody tr th:only-of-type {\n",
       "        vertical-align: middle;\n",
       "    }\n",
       "\n",
       "    .dataframe tbody tr th {\n",
       "        vertical-align: top;\n",
       "    }\n",
       "\n",
       "    .dataframe thead th {\n",
       "        text-align: right;\n",
       "    }\n",
       "</style>\n",
       "<table border=\"1\" class=\"dataframe\">\n",
       "  <thead>\n",
       "    <tr style=\"text-align: right;\">\n",
       "      <th></th>\n",
       "      <th>animeID</th>\n",
       "      <th>title_english</th>\n",
       "      <th>synopsis</th>\n",
       "    </tr>\n",
       "  </thead>\n",
       "  <tbody>\n",
       "    <tr>\n",
       "      <th>0</th>\n",
       "      <td>1</td>\n",
       "      <td>Cowboy Bebop</td>\n",
       "      <td>In the year 2071, humanity has colonized sever...</td>\n",
       "    </tr>\n",
       "    <tr>\n",
       "      <th>1</th>\n",
       "      <td>5</td>\n",
       "      <td>Cowboy Bebop: The Movie</td>\n",
       "      <td>Another day, another bounty—such is the life o...</td>\n",
       "    </tr>\n",
       "    <tr>\n",
       "      <th>2</th>\n",
       "      <td>6</td>\n",
       "      <td>Trigun</td>\n",
       "      <td>Vash the Stampede is the man with a $$60,000,0...</td>\n",
       "    </tr>\n",
       "    <tr>\n",
       "      <th>3</th>\n",
       "      <td>7</td>\n",
       "      <td>Witch Hunter Robin</td>\n",
       "      <td>Witches are individuals with special powers li...</td>\n",
       "    </tr>\n",
       "    <tr>\n",
       "      <th>4</th>\n",
       "      <td>8</td>\n",
       "      <td>Beet the Vandel Buster</td>\n",
       "      <td>It is the dark century and the people are suff...</td>\n",
       "    </tr>\n",
       "  </tbody>\n",
       "</table>\n",
       "</div>"
      ],
      "text/plain": [
       "   animeID            title_english  \\\n",
       "0        1             Cowboy Bebop   \n",
       "1        5  Cowboy Bebop: The Movie   \n",
       "2        6                   Trigun   \n",
       "3        7       Witch Hunter Robin   \n",
       "4        8   Beet the Vandel Buster   \n",
       "\n",
       "                                            synopsis  \n",
       "0  In the year 2071, humanity has colonized sever...  \n",
       "1  Another day, another bounty—such is the life o...  \n",
       "2  Vash the Stampede is the man with a $$60,000,0...  \n",
       "3  Witches are individuals with special powers li...  \n",
       "4  It is the dark century and the people are suff...  "
      ]
     },
     "execution_count": 7,
     "metadata": {},
     "output_type": "execute_result"
    }
   ],
   "source": [
    "out_df = pd.read_csv('data/relevant_output_data.csv')\n",
    "out_df = out_df.drop(columns=['Unnamed: 0'])\n",
    "out_df.head()"
   ]
  },
  {
   "cell_type": "code",
   "execution_count": 2,
   "metadata": {},
   "outputs": [
    {
     "data": {
      "text/html": [
       "<div>\n",
       "<style scoped>\n",
       "    .dataframe tbody tr th:only-of-type {\n",
       "        vertical-align: middle;\n",
       "    }\n",
       "\n",
       "    .dataframe tbody tr th {\n",
       "        vertical-align: top;\n",
       "    }\n",
       "\n",
       "    .dataframe thead th {\n",
       "        text-align: right;\n",
       "    }\n",
       "</style>\n",
       "<table border=\"1\" class=\"dataframe\">\n",
       "  <thead>\n",
       "    <tr style=\"text-align: right;\">\n",
       "      <th></th>\n",
       "      <th>animeID</th>\n",
       "      <th>title_english</th>\n",
       "      <th>episodes</th>\n",
       "      <th>score</th>\n",
       "      <th>scored_by</th>\n",
       "      <th>rank</th>\n",
       "      <th>popularity</th>\n",
       "      <th>members</th>\n",
       "      <th>favorites</th>\n",
       "      <th>genre_Action</th>\n",
       "      <th>...</th>\n",
       "      <th>synopsis_embedded_296</th>\n",
       "      <th>synopsis_embedded_297</th>\n",
       "      <th>synopsis_embedded_298</th>\n",
       "      <th>synopsis_embedded_299</th>\n",
       "      <th>synopsis_embedded_300</th>\n",
       "      <th>premiered_Spring</th>\n",
       "      <th>premiered_Summer</th>\n",
       "      <th>premiered_Fall</th>\n",
       "      <th>premiered_Winter</th>\n",
       "      <th>premiered_Year</th>\n",
       "    </tr>\n",
       "  </thead>\n",
       "  <tbody>\n",
       "    <tr>\n",
       "      <th>0</th>\n",
       "      <td>1</td>\n",
       "      <td>Cowboy Bebop</td>\n",
       "      <td>26.0</td>\n",
       "      <td>8.81</td>\n",
       "      <td>405664</td>\n",
       "      <td>26</td>\n",
       "      <td>39</td>\n",
       "      <td>795733</td>\n",
       "      <td>43460</td>\n",
       "      <td>1</td>\n",
       "      <td>...</td>\n",
       "      <td>-0.015616</td>\n",
       "      <td>0.003619</td>\n",
       "      <td>-0.010637</td>\n",
       "      <td>0.043498</td>\n",
       "      <td>-0.007210</td>\n",
       "      <td>1.0</td>\n",
       "      <td>0.0</td>\n",
       "      <td>0.0</td>\n",
       "      <td>0.0</td>\n",
       "      <td>1998</td>\n",
       "    </tr>\n",
       "    <tr>\n",
       "      <th>1</th>\n",
       "      <td>5</td>\n",
       "      <td>Cowboy Bebop: The Movie</td>\n",
       "      <td>1.0</td>\n",
       "      <td>8.41</td>\n",
       "      <td>120243</td>\n",
       "      <td>164</td>\n",
       "      <td>449</td>\n",
       "      <td>197791</td>\n",
       "      <td>776</td>\n",
       "      <td>1</td>\n",
       "      <td>...</td>\n",
       "      <td>0.013802</td>\n",
       "      <td>0.005209</td>\n",
       "      <td>-0.006860</td>\n",
       "      <td>0.036505</td>\n",
       "      <td>-0.017165</td>\n",
       "      <td>0.0</td>\n",
       "      <td>0.0</td>\n",
       "      <td>0.0</td>\n",
       "      <td>0.0</td>\n",
       "      <td>0</td>\n",
       "    </tr>\n",
       "    <tr>\n",
       "      <th>2</th>\n",
       "      <td>6</td>\n",
       "      <td>Trigun</td>\n",
       "      <td>26.0</td>\n",
       "      <td>8.30</td>\n",
       "      <td>212537</td>\n",
       "      <td>255</td>\n",
       "      <td>146</td>\n",
       "      <td>408548</td>\n",
       "      <td>10432</td>\n",
       "      <td>1</td>\n",
       "      <td>...</td>\n",
       "      <td>-0.004276</td>\n",
       "      <td>0.010292</td>\n",
       "      <td>-0.036921</td>\n",
       "      <td>0.017824</td>\n",
       "      <td>0.005914</td>\n",
       "      <td>1.0</td>\n",
       "      <td>0.0</td>\n",
       "      <td>0.0</td>\n",
       "      <td>0.0</td>\n",
       "      <td>1998</td>\n",
       "    </tr>\n",
       "    <tr>\n",
       "      <th>3</th>\n",
       "      <td>7</td>\n",
       "      <td>Witch Hunter Robin</td>\n",
       "      <td>26.0</td>\n",
       "      <td>7.33</td>\n",
       "      <td>32837</td>\n",
       "      <td>2371</td>\n",
       "      <td>1171</td>\n",
       "      <td>79397</td>\n",
       "      <td>537</td>\n",
       "      <td>1</td>\n",
       "      <td>...</td>\n",
       "      <td>-0.008391</td>\n",
       "      <td>0.026849</td>\n",
       "      <td>-0.003479</td>\n",
       "      <td>0.048176</td>\n",
       "      <td>-0.002020</td>\n",
       "      <td>0.0</td>\n",
       "      <td>1.0</td>\n",
       "      <td>0.0</td>\n",
       "      <td>0.0</td>\n",
       "      <td>2002</td>\n",
       "    </tr>\n",
       "    <tr>\n",
       "      <th>4</th>\n",
       "      <td>8</td>\n",
       "      <td>Beet the Vandel Buster</td>\n",
       "      <td>52.0</td>\n",
       "      <td>7.03</td>\n",
       "      <td>4894</td>\n",
       "      <td>3544</td>\n",
       "      <td>3704</td>\n",
       "      <td>11708</td>\n",
       "      <td>14</td>\n",
       "      <td>0</td>\n",
       "      <td>...</td>\n",
       "      <td>-0.009359</td>\n",
       "      <td>-0.016920</td>\n",
       "      <td>-0.021534</td>\n",
       "      <td>0.047166</td>\n",
       "      <td>-0.012552</td>\n",
       "      <td>0.0</td>\n",
       "      <td>0.0</td>\n",
       "      <td>1.0</td>\n",
       "      <td>0.0</td>\n",
       "      <td>2004</td>\n",
       "    </tr>\n",
       "  </tbody>\n",
       "</table>\n",
       "<p>5 rows × 414 columns</p>\n",
       "</div>"
      ],
      "text/plain": [
       "   animeID            title_english  episodes  score  scored_by  rank  \\\n",
       "0        1             Cowboy Bebop      26.0   8.81     405664    26   \n",
       "1        5  Cowboy Bebop: The Movie       1.0   8.41     120243   164   \n",
       "2        6                   Trigun      26.0   8.30     212537   255   \n",
       "3        7       Witch Hunter Robin      26.0   7.33      32837  2371   \n",
       "4        8   Beet the Vandel Buster      52.0   7.03       4894  3544   \n",
       "\n",
       "   popularity  members  favorites  genre_Action  ...  synopsis_embedded_296  \\\n",
       "0          39   795733      43460             1  ...              -0.015616   \n",
       "1         449   197791        776             1  ...               0.013802   \n",
       "2         146   408548      10432             1  ...              -0.004276   \n",
       "3        1171    79397        537             1  ...              -0.008391   \n",
       "4        3704    11708         14             0  ...              -0.009359   \n",
       "\n",
       "   synopsis_embedded_297  synopsis_embedded_298  synopsis_embedded_299  \\\n",
       "0               0.003619              -0.010637               0.043498   \n",
       "1               0.005209              -0.006860               0.036505   \n",
       "2               0.010292              -0.036921               0.017824   \n",
       "3               0.026849              -0.003479               0.048176   \n",
       "4              -0.016920              -0.021534               0.047166   \n",
       "\n",
       "   synopsis_embedded_300  premiered_Spring  premiered_Summer  premiered_Fall  \\\n",
       "0              -0.007210               1.0               0.0             0.0   \n",
       "1              -0.017165               0.0               0.0             0.0   \n",
       "2               0.005914               1.0               0.0             0.0   \n",
       "3              -0.002020               0.0               1.0             0.0   \n",
       "4              -0.012552               0.0               0.0             1.0   \n",
       "\n",
       "   premiered_Winter  premiered_Year  \n",
       "0               0.0            1998  \n",
       "1               0.0               0  \n",
       "2               0.0            1998  \n",
       "3               0.0            2002  \n",
       "4               0.0            2004  \n",
       "\n",
       "[5 rows x 414 columns]"
      ]
     },
     "execution_count": 2,
     "metadata": {},
     "output_type": "execute_result"
    }
   ],
   "source": [
    "gen_df = pd.read_csv('data/model_training_data.csv')\n",
    "gen_df = gen_df.drop(columns=['Unnamed: 0'])\n",
    "gen_df.head()"
   ]
  },
  {
   "cell_type": "code",
   "execution_count": 3,
   "metadata": {},
   "outputs": [],
   "source": [
    "def std_z(x, avg, std):\n",
    "    return (x-avg)/std\n",
    "\n",
    "def avg_std_z(xs, avg):\n",
    "    sum = 0\n",
    "    for x in xs:\n",
    "        sum += (x-avg)**2\n",
    "    return (sum/len(xs))**(1/2)\n",
    "\n",
    "def avg(vals):\n",
    "    if(len(vals) == 1):\n",
    "        return vals[0]\n",
    "    return sum(vals)/len(vals)"
   ]
  },
  {
   "cell_type": "code",
   "execution_count": 190,
   "metadata": {
    "scrolled": true
   },
   "outputs": [
    {
     "name": "stdout",
     "output_type": "stream",
     "text": [
      "{'scored_by': 96648.63221428858, 'popularity': 2868.050739389625, 'episodes': 44.939364036423385, 'rank': 2736.869440698026, 'members': 164257.15112195478, 'favorites': 6211.037964762604, 'genre_Action': 0.48850123851270644, 'genre_Comedy': 0.4974470826236696, 'genre_Fantasy': 0.4325309112497383, 'genre_Mystery': 0.286256986048879, 'studio_Madhouse': 0.22800310333419382, 'genre_Drama': 0.4414897661801869, 'genre_Horror': 0.21816386583849504, 'genre_Romance': 0.41756893347821583, 'source_Manga': 0.48040963501750594, 'source_Original': 0.4232105983740449}\n"
     ]
    }
   ],
   "source": [
    "# usable overall sample stdev for features\n",
    "fs = ['scored_by','popularity','episodes','rank', 'members', \n",
    "      'favorites', 'genre_Action', 'genre_Comedy', 'genre_Fantasy', \n",
    "      'genre_Mystery', 'studio_Madhouse', 'genre_Drama', \n",
    "      'genre_Fantasy', 'genre_Horror', 'genre_Romance', 'source_Manga',\n",
    "      'source_Original']\n",
    "f_stdv = {}\n",
    "for f in fs:\n",
    "    feat = list(gen_df[f])\n",
    "    f_stdv[f] = stdev(feat)\n",
    "print(f_stdv)"
   ]
  },
  {
   "cell_type": "code",
   "execution_count": 10,
   "metadata": {},
   "outputs": [
    {
     "name": "stdout",
     "output_type": "stream",
     "text": [
      "Centuries ago, mankind was slaughtered to near extinction by monstrous humanoid creatures called titans, forcing humans to hide in fear behind enormous concentric walls. What makes these giants truly terrifying is that their taste for human flesh is not born out of hunger but what appears to be out ...\n",
      ">> \tIn the year 2022, virtual reality has progressed by leaps and bounds, and a massive online role-playing game called Sword Art Online (SAO) is launched. With the aid of \"NerveGear\" technology, players can control their avatars within the game using nothing but their own thoughts. Kazuto Kirigaya, nic...\n",
      ">> \tFive years after winning the World Martial Arts tournament, Gokuu is now living a peaceful life with his wife and son. This changes, however, with the arrival of a mysterious enemy named Raditz who presents himself as Gokuu's long-lost brother. He reveals that Gokuu is a warrior from the once powerf...\n",
      ">> \tOne year has passed since the Black Rebellion, a failed uprising against the Holy Britannian Empire led by the masked vigilante Zero, who is now missing. At a loss without their revolutionary leader, Area 11's resistance group—the Black Knights—find themselves too powerless to combat the brutality i...\n",
      ">> \tA shinigami, as a god of death, can kill any person—provided they see their victim's face and write their victim's name in a notebook called a Death Note. One day, Ryuk, bored by the shinigami lifestyle and interested in seeing how a human would use a Death Note, drops one into the human realm. High...\n",
      ">> \tThe seemingly ordinary and unimpressive Saitama has a rather unique hobby: being a hero. In order to pursue his childhood dream, he trained relentlessly for three years—and lost all of his hair in the process. Now, Saitama is incredibly powerful, so much so that no enemy is able to defeat him in bat...\n"
     ]
    }
   ],
   "source": [
    "# from data_modeling EXAMPLE 1 (Cosine, un-normalized), ['Attack on Titan'] input,\n",
    "# ['Sword Art Online', 'Dragon Ball Z', 'Code Geass: Lelouch of the Rebellion R2', \n",
    "#  'Death Note', 'One Punch Man'] output\n",
    "in_list = ['Attack on Titan']\n",
    "insyn_list = list(out_df[out_df['title_english'].isin(in_list)]['synopsis'])\n",
    "for syn in insyn_list:\n",
    "    print(syn[:300]+\"...\")\n",
    "out_list = ['Sword Art Online', 'Dragon Ball Z', 'Code Geass: Lelouch of the Rebellion R2', 'Death Note', 'One Punch Man']\n",
    "outsyn_list = []\n",
    "for t in out_list:\n",
    "    outsyn_list.append(list(out_df[out_df['title_english'] == t]['synopsis'])[0])\n",
    "for syn in outsyn_list:\n",
    "    print('>> \\t%s'%(syn[:300]+\"...\"))"
   ]
  },
  {
   "cell_type": "code",
   "execution_count": 116,
   "metadata": {},
   "outputs": [
    {
     "name": "stdout",
     "output_type": "stream",
     "text": [
      "1038161\n",
      ">> \t1007035, \t-0.32205318675372124\n",
      ">> \t402779, \t-6.574143735332292\n",
      ">> \t591272, \t-4.6238522963176685\n",
      ">> \t1107955, \t0.7221416216760658\n",
      ">> \t806647, \t-2.3954193111257798\n",
      "AVG ST.Z: 2.9275220302411054\n",
      "AVG SQ ST.Z: 364104.0584099551\n",
      "ABS MEAN DIFF: 255023.40000000002\n"
     ]
    }
   ],
   "source": [
    "# SCORED_BY\n",
    "# from data_modeling EXAMPLE 1 (Cosine, un-normalized), ['Attack on Titan'] input,\n",
    "# ['Sword Art Online', 'Dragon Ball Z', 'Code Geass: Lelouch of the Rebellion R2', \n",
    "#  'Death Note', 'One Punch Man'] output\n",
    "in_list = ['Attack on Titan']\n",
    "insyn_list = list(gen_df[gen_df['title_english'].isin(in_list)]['scored_by'])\n",
    "for syn in insyn_list:\n",
    "    print(syn)\n",
    "out_list = ['Sword Art Online', 'Dragon Ball Z', 'Code Geass: Lelouch of the Rebellion R2', 'Death Note', 'One Punch Man']\n",
    "outsyn_list = []\n",
    "for t in out_list:\n",
    "    outsyn_list.append(list(gen_df[gen_df['title_english'] == t]['scored_by'])[0])\n",
    "sumz = 0\n",
    "for syn in outsyn_list:\n",
    "    z = (std_z(syn, avg(insyn_list), f_stdv['scored_by']))\n",
    "    sumz += abs(z)\n",
    "    print(\">> \\t%s, \\t%s\"%(syn,z))\n",
    "\n",
    "print(\"AVG ST.Z: %s\"%(sumz/len(outsyn_list)))\n",
    "print(\"AVG SQ ST.Z: %s\"%(avg_std_z(outsyn_list,avg(insyn_list))))\n",
    "print(\"ABS MEAN DIFF: %s\"%(abs(mean(outsyn_list)-mean(insyn_list))))"
   ]
  },
  {
   "cell_type": "code",
   "execution_count": 117,
   "metadata": {},
   "outputs": [
    {
     "name": "stdout",
     "output_type": "stream",
     "text": [
      "2\n",
      ">> \t3, \t0.00034866886637187556\n",
      ">> \t71, \t0.024058151779659413\n",
      ">> \t24, \t0.007670715060181262\n",
      ">> \t1, \t-0.00034866886637187556\n",
      ">> \t5, \t0.0010460065991156266\n",
      "AVG ST.Z: 0.00669444223434001\n",
      "AVG SQ ST.Z: 32.42221460665511\n",
      "ABS MEAN DIFF: 18.8\n"
     ]
    }
   ],
   "source": [
    "# POPULARITY\n",
    "# from data_modeling EXAMPLE 1 (Cosine, un-normalized), ['Attack on Titan'] input,\n",
    "# ['Sword Art Online', 'Dragon Ball Z', 'Code Geass: Lelouch of the Rebellion R2', \n",
    "#  'Death Note', 'One Punch Man'] output\n",
    "in_list = ['Attack on Titan']\n",
    "insyn_list = list(gen_df[gen_df['title_english'].isin(in_list)]['popularity'])\n",
    "for syn in insyn_list:\n",
    "    print(syn)\n",
    "out_list = ['Sword Art Online', 'Dragon Ball Z', 'Code Geass: Lelouch of the Rebellion R2', 'Death Note', 'One Punch Man']\n",
    "outsyn_list = []\n",
    "for t in out_list:\n",
    "    outsyn_list.append(list(gen_df[gen_df['title_english'] == t]['popularity'])[0])\n",
    "sumz = 0\n",
    "for syn in outsyn_list:\n",
    "    z = (std_z(syn, avg(insyn_list), f_stdv['popularity']))\n",
    "    sumz += abs(z)\n",
    "    print(\">> \\t%s, \\t%s\"%(syn,z))\n",
    "\n",
    "print(\"AVG ST.Z: %s\"%(sumz/len(outsyn_list)))\n",
    "print(\"AVG SQ ST.Z: %s\"%(avg_std_z(outsyn_list,avg(insyn_list))))\n",
    "print(\"ABS MEAN DIFF: %s\"%(abs(mean(outsyn_list)-mean(insyn_list))))"
   ]
  },
  {
   "cell_type": "code",
   "execution_count": 13,
   "metadata": {},
   "outputs": [
    {
     "name": "stdout",
     "output_type": "stream",
     "text": [
      "25.0\n",
      ">> \t25.0, \t0.0\n",
      ">> \t291.0, \t5.919086878586151\n",
      ">> \t25.0, \t0.0\n",
      ">> \t37.0, \t0.267026475725691\n",
      ">> \t12.0, \t-0.28927868203616525\n",
      "AVG ST.Z: 1.2950784072696013\n",
      "AVG SQ ST.Z: 119.22164233057687\n"
     ]
    }
   ],
   "source": [
    "# EPISODES\n",
    "# from data_modeling EXAMPLE 1 (Cosine, un-normalized), ['Attack on Titan'] input,\n",
    "# ['Sword Art Online', 'Dragon Ball Z', 'Code Geass: Lelouch of the Rebellion R2', \n",
    "#  'Death Note', 'One Punch Man'] output\n",
    "in_list = ['Attack on Titan']\n",
    "insyn_list = list(gen_df[gen_df['title_english'].isin(in_list)]['episodes'])\n",
    "for syn in insyn_list:\n",
    "    print(syn)\n",
    "out_list = ['Sword Art Online', 'Dragon Ball Z', 'Code Geass: Lelouch of the Rebellion R2', 'Death Note', 'One Punch Man']\n",
    "outsyn_list = []\n",
    "for t in out_list:\n",
    "    outsyn_list.append(list(gen_df[gen_df['title_english'] == t]['episodes'])[0])\n",
    "sumz = 0\n",
    "for syn in outsyn_list:\n",
    "    z = (std_z(syn, avg(insyn_list), f_stdv['episodes']))\n",
    "    sumz += abs(z)\n",
    "    print(\">> \\t%s, \\t%s\"%(syn,z))\n",
    "\n",
    "print(\"AVG ST.Z: %s\"%(sumz/len(outsyn_list)))\n",
    "print(\"AVG SQ ST.Z: %s\"%(avg_std_z(outsyn_list,avg(insyn_list))))"
   ]
  },
  {
   "cell_type": "code",
   "execution_count": 14,
   "metadata": {},
   "outputs": [
    {
     "name": "stdout",
     "output_type": "stream",
     "text": [
      "116\n",
      ">> \t1440, \t0.4837643989558814\n",
      ">> \t249, \t0.0485956684751754\n",
      ">> \t17, \t-0.03617271563189748\n",
      ">> \t54, \t-0.02265361989068327\n",
      ">> \t46, \t-0.02557666761851337\n",
      "AVG ST.Z: 0.12335261411443019\n",
      "AVG SQ ST.Z: 598.1989635564408\n"
     ]
    }
   ],
   "source": [
    "# RANK\n",
    "# from data_modeling EXAMPLE 1 (Cosine, un-normalized), ['Attack on Titan'] input,\n",
    "# ['Sword Art Online', 'Dragon Ball Z', 'Code Geass: Lelouch of the Rebellion R2', \n",
    "#  'Death Note', 'One Punch Man'] output\n",
    "in_list = ['Attack on Titan']\n",
    "insyn_list = list(gen_df[gen_df['title_english'].isin(in_list)]['rank'])\n",
    "for syn in insyn_list:\n",
    "    print(syn)\n",
    "out_list = ['Sword Art Online', 'Dragon Ball Z', 'Code Geass: Lelouch of the Rebellion R2', 'Death Note', 'One Punch Man']\n",
    "outsyn_list = []\n",
    "for t in out_list:\n",
    "    outsyn_list.append(list(gen_df[gen_df['title_english'] == t]['rank'])[0])\n",
    "sumz = 0\n",
    "for syn in outsyn_list:\n",
    "    z = (std_z(syn, avg(insyn_list), f_stdv['rank']))\n",
    "    sumz += abs(z)\n",
    "    print(\">> \\t%s, \\t%s\"%(syn,z))\n",
    "\n",
    "print(\"AVG ST.Z: %s\"%(sumz/len(outsyn_list)))\n",
    "print(\"AVG SQ ST.Z: %s\"%(avg_std_z(outsyn_list,avg(insyn_list))))"
   ]
  },
  {
   "cell_type": "code",
   "execution_count": 15,
   "metadata": {},
   "outputs": [
    {
     "name": "stdout",
     "output_type": "stream",
     "text": [
      "1500958\n",
      ">> \t1442099, \t-0.3583344749252311\n",
      ">> \t591990, \t-5.533810819141294\n",
      ">> \t869302, \t-3.8455312032717472\n",
      ">> \t1610561, \t0.6672647081199155\n",
      ">> \t1195384, \t-1.8603390958188648\n",
      "AVG ST.Z: 2.4530560602554106\n",
      "AVG SQ ST.Z: 516539.4072722816\n"
     ]
    }
   ],
   "source": [
    "# MEMBERS\n",
    "# from data_modeling EXAMPLE 1 (Cosine, un-normalized), ['Attack on Titan'] input,\n",
    "# ['Sword Art Online', 'Dragon Ball Z', 'Code Geass: Lelouch of the Rebellion R2', \n",
    "#  'Death Note', 'One Punch Man'] output\n",
    "in_list = ['Attack on Titan']\n",
    "insyn_list = list(gen_df[gen_df['title_english'].isin(in_list)]['members'])\n",
    "for syn in insyn_list:\n",
    "    print(syn)\n",
    "out_list = ['Sword Art Online', 'Dragon Ball Z', 'Code Geass: Lelouch of the Rebellion R2', 'Death Note', 'One Punch Man']\n",
    "outsyn_list = []\n",
    "for t in out_list:\n",
    "    outsyn_list.append(list(gen_df[gen_df['title_english'] == t]['members'])[0])\n",
    "sumz = 0\n",
    "for syn in outsyn_list:\n",
    "    z = (std_z(syn, avg(insyn_list), f_stdv['members']))\n",
    "    sumz += abs(z)\n",
    "    print(\">> \\t%s, \\t%s\"%(syn,z))\n",
    "\n",
    "print(\"AVG ST.Z: %s\"%(sumz/len(outsyn_list)))\n",
    "print(\"AVG SQ ST.Z: %s\"%(avg_std_z(outsyn_list,avg(insyn_list))))"
   ]
  },
  {
   "cell_type": "code",
   "execution_count": 16,
   "metadata": {},
   "outputs": [
    {
     "name": "stdout",
     "output_type": "stream",
     "text": [
      "70555\n",
      ">> \t53268, \t-2.783270702590326\n",
      ">> \t23468, \t-7.581180515582268\n",
      ">> \t47637, \t-3.6898824528238032\n",
      ">> \t96146, \t4.1202453028280805\n",
      ">> \t35969, \t-5.568473449400648\n",
      "AVG ST.Z: 4.748610484645026\n",
      "AVG SQ ST.Z: 31280.509391632353\n"
     ]
    }
   ],
   "source": [
    "# FAVORITES\n",
    "# from data_modeling EXAMPLE 1 (Cosine, un-normalized), ['Attack on Titan'] input,\n",
    "# ['Sword Art Online', 'Dragon Ball Z', 'Code Geass: Lelouch of the Rebellion R2', \n",
    "#  'Death Note', 'One Punch Man'] output\n",
    "in_list = ['Attack on Titan']\n",
    "insyn_list = list(gen_df[gen_df['title_english'].isin(in_list)]['favorites'])\n",
    "for syn in insyn_list:\n",
    "    print(syn)\n",
    "out_list = ['Sword Art Online', 'Dragon Ball Z', 'Code Geass: Lelouch of the Rebellion R2', 'Death Note', 'One Punch Man']\n",
    "outsyn_list = []\n",
    "for t in out_list:\n",
    "    outsyn_list.append(list(gen_df[gen_df['title_english'] == t]['favorites'])[0])\n",
    "sumz = 0\n",
    "for syn in outsyn_list:\n",
    "    z = (std_z(syn, avg(insyn_list), f_stdv['favorites']))\n",
    "    sumz += abs(z)\n",
    "    print(\">> \\t%s, \\t%s\"%(syn,z))\n",
    "\n",
    "print(\"AVG ST.Z: %s\"%(sumz/len(outsyn_list)))\n",
    "print(\"AVG SQ ST.Z: %s\"%(avg_std_z(outsyn_list,avg(insyn_list))))"
   ]
  },
  {
   "cell_type": "code",
   "execution_count": 17,
   "metadata": {},
   "outputs": [
    {
     "name": "stdout",
     "output_type": "stream",
     "text": [
      "Centuries ago, mankind was slaughtered to near extinction by monstrous humanoid creatures called titans, forcing humans to hide in fear behind enormous concentric walls. What makes these giants truly terrifying is that their taste for human flesh is not born out of hunger but what appears to be out ...\n",
      ">> \tFor centuries, humanity has been hunted by giant, mysterious predators known as the Titans. Three mighty walls—Wall Maria, Rose, and Sheena—provided peace and protection for humanity for over a hundred years. That peace, however, was shattered when the Colossus Titan and Armored Titan appeared and d...\n",
      ">> \t\"In order for something to be obtained, something of equal value must be lost.\" Alchemy is bound by this Law of Equivalent Exchange—something the young brothers Edward and Alphonse Elric only realize after attempting human transmutation: the one forbidden act of alchemy. They pay a terrible price fo...\n",
      ">> \tA shinigami, as a god of death, can kill any person—provided they see their victim's face and write their victim's name in a notebook called a Death Note. One day, Ryuk, bored by the shinigami lifestyle and interested in seeing how a human would use a Death Note, drops one into the human realm. High...\n",
      ">> \tIn the year 2010, the Holy Empire of Britannia is establishing itself as a dominant military nation, starting with the conquest of Japan. Renamed to Area 11 after its swift defeat, Japan has seen significant resistance against these tyrants in an attempt to regain independence. Lelouch Lamperouge, a...\n",
      ">> \tOne year has passed since the Black Rebellion, a failed uprising against the Holy Britannian Empire led by the masked vigilante Zero, who is now missing. At a loss without their revolutionary leader, Area 11's resistance group—the Black Knights—find themselves too powerless to combat the brutality i...\n"
     ]
    }
   ],
   "source": [
    "# from data_modeling EXAMPLE 1 (Cosine, normalized), ['Attack on Titan'] input,\n",
    "# ['Attack on Titan Season 2', 'Fullmetal Alchemist: Brotherhood', 'Death Note',\n",
    "# 'Code Geass: Lelouch of the Rebellion', 'Code Geass: Lelouch of the Rebellion R2'] output\n",
    "in_list = ['Attack on Titan']\n",
    "insyn_list = list(out_df[out_df['title_english'].isin(in_list)]['synopsis'])\n",
    "for syn in insyn_list:\n",
    "    print(syn[:300]+\"...\")\n",
    "out_list = ['Attack on Titan Season 2', 'Fullmetal Alchemist: Brotherhood', 'Death Note',\n",
    "            'Code Geass: Lelouch of the Rebellion', 'Code Geass: Lelouch of the Rebellion R2']\n",
    "outsyn_list = []\n",
    "for t in out_list:\n",
    "    outsyn_list.append(list(out_df[out_df['title_english'] == t]['synopsis'])[0])\n",
    "for syn in outsyn_list:\n",
    "    print('>> \\t%s'%(syn[:300]+\"...\"))"
   ]
  },
  {
   "cell_type": "code",
   "execution_count": 18,
   "metadata": {},
   "outputs": [
    {
     "name": "stdout",
     "output_type": "stream",
     "text": [
      "1038161\n",
      ">> \t439965, \t-6.189389195634808\n",
      ">> \t826899, \t-2.1858767699018395\n",
      ">> \t1107955, \t0.7221416216760658\n",
      ">> \t681621, \t-3.689033065770474\n",
      ">> \t591272, \t-4.6238522963176685\n",
      "AVG ST.Z: 3.4820585898601712\n",
      "AVG SQ ST.Z: 383189.72831144626\n"
     ]
    }
   ],
   "source": [
    "# SCORED_BY\n",
    "# from data_modeling EXAMPLE 1 (Cosine, un-normalized), ['Attack on Titan'] input,\n",
    "# ['Sword Art Online', 'Dragon Ball Z', 'Code Geass: Lelouch of the Rebellion R2', \n",
    "#  'Death Note', 'One Punch Man'] output\n",
    "in_list = ['Attack on Titan']\n",
    "insyn_list = list(gen_df[gen_df['title_english'].isin(in_list)]['scored_by'])\n",
    "for syn in insyn_list:\n",
    "    print(syn)\n",
    "out_list = ['Attack on Titan Season 2', 'Fullmetal Alchemist: Brotherhood', 'Death Note',\n",
    "            'Code Geass: Lelouch of the Rebellion', 'Code Geass: Lelouch of the Rebellion R2']\n",
    "outsyn_list = []\n",
    "for t in out_list:\n",
    "    outsyn_list.append(list(gen_df[gen_df['title_english'] == t]['scored_by'])[0])\n",
    "sumz = 0\n",
    "for syn in outsyn_list:\n",
    "    z = (std_z(syn, avg(insyn_list), f_stdv['scored_by']))\n",
    "    sumz += abs(z)\n",
    "    print(\">> \\t%s, \\t%s\"%(syn,z))\n",
    "\n",
    "print(\"AVG ST.Z: %s\"%(sumz/len(outsyn_list)))\n",
    "print(\"AVG SQ ST.Z: %s\"%(avg_std_z(outsyn_list,avg(insyn_list))))"
   ]
  },
  {
   "cell_type": "code",
   "execution_count": 19,
   "metadata": {},
   "outputs": [
    {
     "name": "stdout",
     "output_type": "stream",
     "text": [
      "2\n",
      ">> \t41, \t0.013598085788503146\n",
      ">> \t4, \t0.0006973377327437511\n",
      ">> \t1, \t-0.00034866886637187556\n",
      ">> \t11, \t0.0031380197973468796\n",
      ">> \t24, \t0.007670715060181262\n",
      "AVG ST.Z: 0.005090565449029382\n",
      "AVG SQ ST.Z: 20.449938875214272\n"
     ]
    }
   ],
   "source": [
    "# POPULARITY\n",
    "# from data_modeling EXAMPLE 1 (Cosine, un-normalized), ['Attack on Titan'] input,\n",
    "# ['Sword Art Online', 'Dragon Ball Z', 'Code Geass: Lelouch of the Rebellion R2', \n",
    "#  'Death Note', 'One Punch Man'] output\n",
    "in_list = ['Attack on Titan']\n",
    "insyn_list = list(gen_df[gen_df['title_english'].isin(in_list)]['popularity'])\n",
    "for syn in insyn_list:\n",
    "    print(syn)\n",
    "out_list = ['Attack on Titan Season 2', 'Fullmetal Alchemist: Brotherhood', 'Death Note',\n",
    "            'Code Geass: Lelouch of the Rebellion', 'Code Geass: Lelouch of the Rebellion R2']\n",
    "outsyn_list = []\n",
    "for t in out_list:\n",
    "    outsyn_list.append(list(gen_df[gen_df['title_english'] == t]['popularity'])[0])\n",
    "sumz = 0\n",
    "for syn in outsyn_list:\n",
    "    z = (std_z(syn, avg(insyn_list), f_stdv['popularity']))\n",
    "    sumz += abs(z)\n",
    "    print(\">> \\t%s, \\t%s\"%(syn,z))\n",
    "\n",
    "print(\"AVG ST.Z: %s\"%(sumz/len(outsyn_list)))\n",
    "print(\"AVG SQ ST.Z: %s\"%(avg_std_z(outsyn_list,avg(insyn_list))))"
   ]
  },
  {
   "cell_type": "code",
   "execution_count": 20,
   "metadata": {},
   "outputs": [
    {
     "name": "stdout",
     "output_type": "stream",
     "text": [
      "25.0\n",
      ">> \t12.0, \t-0.28927868203616525\n",
      ">> \t64.0, \t0.8678360461084957\n",
      ">> \t37.0, \t0.267026475725691\n",
      ">> \t25.0, \t0.0\n",
      ">> \t25.0, \t0.0\n",
      "AVG ST.Z: 0.28482824077407043\n",
      "AVG SQ ST.Z: 19.15202339179858\n"
     ]
    }
   ],
   "source": [
    "# EPISODES\n",
    "# from data_modeling EXAMPLE 1 (Cosine, un-normalized), ['Attack on Titan'] input,\n",
    "# ['Sword Art Online', 'Dragon Ball Z', 'Code Geass: Lelouch of the Rebellion R2', \n",
    "#  'Death Note', 'One Punch Man'] output\n",
    "in_list = ['Attack on Titan']\n",
    "insyn_list = list(gen_df[gen_df['title_english'].isin(in_list)]['episodes'])\n",
    "for syn in insyn_list:\n",
    "    print(syn)\n",
    "out_list = ['Attack on Titan Season 2', 'Fullmetal Alchemist: Brotherhood', 'Death Note',\n",
    "            'Code Geass: Lelouch of the Rebellion', 'Code Geass: Lelouch of the Rebellion R2']\n",
    "outsyn_list = []\n",
    "for t in out_list:\n",
    "    outsyn_list.append(list(gen_df[gen_df['title_english'] == t]['episodes'])[0])\n",
    "sumz = 0\n",
    "for syn in outsyn_list:\n",
    "    z = (std_z(syn, avg(insyn_list), f_stdv['episodes']))\n",
    "    sumz += abs(z)\n",
    "    print(\">> \\t%s, \\t%s\"%(syn,z))\n",
    "\n",
    "print(\"AVG ST.Z: %s\"%(sumz/len(outsyn_list)))\n",
    "print(\"AVG SQ ST.Z: %s\"%(avg_std_z(outsyn_list,avg(insyn_list))))"
   ]
  },
  {
   "cell_type": "code",
   "execution_count": 21,
   "metadata": {},
   "outputs": [
    {
     "name": "stdout",
     "output_type": "stream",
     "text": [
      "116\n",
      ">> \t143, \t0.009865286081426585\n",
      ">> \t1, \t-0.04201881108755768\n",
      ">> \t54, \t-0.02265361989068327\n",
      ">> \t32, \t-0.03069200114221604\n",
      ">> \t17, \t-0.03617271563189748\n",
      "AVG ST.Z: 0.028280486766756208\n",
      "AVG SQ ST.Z: 83.25262758616091\n"
     ]
    }
   ],
   "source": [
    "# RANK\n",
    "# from data_modeling EXAMPLE 1 (Cosine, un-normalized), ['Attack on Titan'] input,\n",
    "# ['Sword Art Online', 'Dragon Ball Z', 'Code Geass: Lelouch of the Rebellion R2', \n",
    "#  'Death Note', 'One Punch Man'] output\n",
    "in_list = ['Attack on Titan']\n",
    "insyn_list = list(gen_df[gen_df['title_english'].isin(in_list)]['rank'])\n",
    "for syn in insyn_list:\n",
    "    print(syn)\n",
    "out_list = ['Attack on Titan Season 2', 'Fullmetal Alchemist: Brotherhood', 'Death Note',\n",
    "            'Code Geass: Lelouch of the Rebellion', 'Code Geass: Lelouch of the Rebellion R2']\n",
    "outsyn_list = []\n",
    "for t in out_list:\n",
    "    outsyn_list.append(list(gen_df[gen_df['title_english'] == t]['rank'])[0])\n",
    "sumz = 0\n",
    "for syn in outsyn_list:\n",
    "    z = (std_z(syn, avg(insyn_list), f_stdv['rank']))\n",
    "    sumz += abs(z)\n",
    "    print(\">> \\t%s, \\t%s\"%(syn,z))\n",
    "\n",
    "print(\"AVG ST.Z: %s\"%(sumz/len(outsyn_list)))\n",
    "print(\"AVG SQ ST.Z: %s\"%(avg_std_z(outsyn_list,avg(insyn_list))))"
   ]
  },
  {
   "cell_type": "code",
   "execution_count": 22,
   "metadata": {},
   "outputs": [
    {
     "name": "stdout",
     "output_type": "stream",
     "text": [
      "1500958\n",
      ">> \t781129, \t-4.382329749927015\n",
      ">> \t1355349, \t-0.8864697762345262\n",
      ">> \t1610561, \t0.6672647081199155\n",
      ">> \t1082349, \t-2.548497871421126\n",
      ">> \t869302, \t-3.8455312032717472\n",
      "AVG ST.Z: 2.466018661794866\n",
      "AVG SQ ST.Z: 474466.3075389021\n"
     ]
    }
   ],
   "source": [
    "# MEMBERS\n",
    "# from data_modeling EXAMPLE 1 (Cosine, un-normalized), ['Attack on Titan'] input,\n",
    "# ['Sword Art Online', 'Dragon Ball Z', 'Code Geass: Lelouch of the Rebellion R2', \n",
    "#  'Death Note', 'One Punch Man'] output\n",
    "in_list = ['Attack on Titan']\n",
    "insyn_list = list(gen_df[gen_df['title_english'].isin(in_list)]['members'])\n",
    "for syn in insyn_list:\n",
    "    print(syn)\n",
    "out_list = ['Attack on Titan Season 2', 'Fullmetal Alchemist: Brotherhood', 'Death Note',\n",
    "            'Code Geass: Lelouch of the Rebellion', 'Code Geass: Lelouch of the Rebellion R2']\n",
    "outsyn_list = []\n",
    "for t in out_list:\n",
    "    outsyn_list.append(list(gen_df[gen_df['title_english'] == t]['members'])[0])\n",
    "sumz = 0\n",
    "for syn in outsyn_list:\n",
    "    z = (std_z(syn, avg(insyn_list), f_stdv['members']))\n",
    "    sumz += abs(z)\n",
    "    print(\">> \\t%s, \\t%s\"%(syn,z))\n",
    "\n",
    "print(\"AVG ST.Z: %s\"%(sumz/len(outsyn_list)))\n",
    "print(\"AVG SQ ST.Z: %s\"%(avg_std_z(outsyn_list,avg(insyn_list))))"
   ]
  },
  {
   "cell_type": "code",
   "execution_count": 23,
   "metadata": {},
   "outputs": [
    {
     "name": "stdout",
     "output_type": "stream",
     "text": [
      "70555\n",
      ">> \t8670, \t-9.963713046208266\n",
      ">> \t120331, \t8.014119424546541\n",
      ">> \t96146, \t4.1202453028280805\n",
      ">> \t68684, \t-0.3012378946344941\n",
      ">> \t47637, \t-3.6898824528238032\n",
      "AVG ST.Z: 5.217839624208237\n",
      "AVG SQ ST.Z: 38706.68688224297\n"
     ]
    }
   ],
   "source": [
    "# FAVORITES\n",
    "# from data_modeling EXAMPLE 1 (Cosine, un-normalized), ['Attack on Titan'] input,\n",
    "# ['Sword Art Online', 'Dragon Ball Z', 'Code Geass: Lelouch of the Rebellion R2', \n",
    "#  'Death Note', 'One Punch Man'] output\n",
    "in_list = ['Attack on Titan']\n",
    "insyn_list = list(gen_df[gen_df['title_english'].isin(in_list)]['favorites'])\n",
    "for syn in insyn_list:\n",
    "    print(syn)\n",
    "out_list = ['Attack on Titan Season 2', 'Fullmetal Alchemist: Brotherhood', 'Death Note',\n",
    "            'Code Geass: Lelouch of the Rebellion', 'Code Geass: Lelouch of the Rebellion R2']\n",
    "outsyn_list = []\n",
    "for t in out_list:\n",
    "    outsyn_list.append(list(gen_df[gen_df['title_english'] == t]['favorites'])[0])\n",
    "sumz = 0\n",
    "for syn in outsyn_list:\n",
    "    z = (std_z(syn, avg(insyn_list), f_stdv['favorites']))\n",
    "    sumz += abs(z)\n",
    "    print(\">> \\t%s, \\t%s\"%(syn,z))\n",
    "\n",
    "print(\"AVG ST.Z: %s\"%(sumz/len(outsyn_list)))\n",
    "print(\"AVG SQ ST.Z: %s\"%(avg_std_z(outsyn_list,avg(insyn_list))))"
   ]
  },
  {
   "cell_type": "code",
   "execution_count": 24,
   "metadata": {},
   "outputs": [
    {
     "name": "stdout",
     "output_type": "stream",
     "text": [
      "Centuries ago, mankind was slaughtered to near extinction by monstrous humanoid creatures called titans, forcing humans to hide in fear behind enormous concentric walls. What makes these giants truly terrifying is that their taste for human flesh is not born out of hunger but what appears to be out ...\n",
      "Recap of the events in Shingeki no Kyojin that happened prior to episode 14....\n",
      "Recap of episodes 1-13....\n",
      "Recap of episodes 14-25....\n",
      "For centuries, humanity has been hunted by giant, mysterious predators known as the Titans. Three mighty walls—Wall Maria, Rose, and Sheena—provided peace and protection for humanity for over a hundred years. That peace, however, was shattered when the Colossus Titan and Armored Titan appeared and d...\n",
      "On his first day of junior high, Eren Yeager comes face-to-face with a titan—and has his lunch stolen! From that day on, he holds a grudge against titans for taking his favorite food from him, a cheeseburger, vowing to eliminate their kind once and for all. Along with his adoptive sister Mikasa Acke...\n",
      "Third season of the Shingeki no Kyojin....\n",
      ">> \tJinta Yadomi is peacefully living as a recluse, spending his days away from school and playing video games at home instead. One hot summer day, his childhood friend, Meiko \"Menma\" Honma, appears and pesters him to grant a forgotten wish. He pays her no mind, which annoys her, but he doesn't really c...\n",
      ">> \tThe young girls of Mitakihara happily live their lives, occasionally fighting off evil, but otherwise going about their peaceful, everyday routines. However, Homura Akemi feels that something is wrong with this unusually pleasant atmosphere—though the others remain oblivious, she can't help but susp...\n",
      ">> \tTeikou Junior High School's basketball team is crowned champion three years in a row thanks to five outstanding players who, with their breathtaking and unique skills, leave opponents in despair and fans in admiration. However, after graduating, these teammates, known as \"The Generation of Miracles,...\n",
      ">> \tCross Academy is an elite boarding school with two separate, isolated classes: the Day Class and the Night Class. On the surface, Yuuki Cross and Zero Kiryuu are prefects of the academy, and attempt to keep order between the students as classes rotate in the evenings. As the Night Class is full of u...\n",
      ">> \tBeing the first female student council president isn't easy, especially when your school just transitioned from an all boys high school to a co-ed one. Aptly nicknamed \"Demon President\" by the boys for her strict disciplinary style, Misaki Ayuzawa is not afraid to use her mastery of Aikido technique...\n"
     ]
    }
   ],
   "source": [
    "# from data_modeling EXAMPLE 2 (Cosine, un-normalized)\n",
    "# ['Attack on Titan', 'Attack on Titan: Since That Day', 'Attack on Titan: Crimson Bow and Arrow',\n",
    "#  'Attack on Titan: Wings of Freedom', 'Attack on Titan Season 2', 'Attack on Titan: Junior High',\n",
    "#  'Attack on Titan Season 3'] input,\n",
    "# ['anohana: The Flower We Saw That Day', 'Puella Magi Madoka Magica the Movie: Rebellion',\n",
    "#  'Kuroko\\'s Basketball', 'Vampire Knight', 'Maid Sama!'] output\n",
    "in_list = ['Attack on Titan', 'Attack on Titan: Since That Day', 'Attack on Titan: Crimson Bow and Arrow',\n",
    "           'Attack on Titan: Wings of Freedom', 'Attack on Titan Season 2', 'Attack on Titan: Junior High',\n",
    "           'Attack on Titan Season 3']\n",
    "insyn_list = list(out_df[out_df['title_english'].isin(in_list)]['synopsis'])\n",
    "for syn in insyn_list:\n",
    "    print(syn[:300]+\"...\")\n",
    "out_list = ['anohana: The Flower We Saw That Day', 'Puella Magi Madoka Magica the Movie: Rebellion', \n",
    "            'Kuroko\\'s Basketball', 'Vampire Knight', 'Maid Sama!']\n",
    "outsyn_list = []\n",
    "for t in out_list:\n",
    "    outsyn_list.append(list(out_df[out_df['title_english'] == t]['synopsis'])[0])\n",
    "for syn in outsyn_list:\n",
    "    print('>> \\t%s'%(syn[:300]+\"...\"))"
   ]
  },
  {
   "cell_type": "code",
   "execution_count": 208,
   "metadata": {},
   "outputs": [
    {
     "name": "stdout",
     "output_type": "stream",
     "text": [
      "[1038161, 36288, 20514, 15438, 439965, 43670, 154179]\n",
      ">> \t439345, \t1.9617453000226677\n",
      ">> \t123238, \t-1.3089373031116436\n",
      ">> \t315061, \t0.6758088397483152\n",
      ">> \t220644, \t-0.30110100198290957\n",
      ">> \t339932, \t0.9331430557655291\n",
      "AVG ST.Z: 1.0361471001262132\n",
      "AVG SQ ST.Z: 114191.87718485059\n",
      "ABS MEAN DIFF: 37899\n"
     ]
    }
   ],
   "source": [
    "# SCORED_BY\n",
    "# from data_modeling EXAMPLE 2 (Cosine, un-normalized), ['Attack on Titan'] input,\n",
    "# ['Sword Art Online', 'Dragon Ball Z', 'Code Geass: Lelouch of the Rebellion R2', \n",
    "#  'Death Note', 'One Punch Man'] output\n",
    "in_list = ['Attack on Titan', 'Attack on Titan: Since That Day', 'Attack on Titan: Crimson Bow and Arrow',\n",
    "           'Attack on Titan: Wings of Freedom', 'Attack on Titan Season 2', 'Attack on Titan: Junior High',\n",
    "           'Attack on Titan Season 3']\n",
    "insyn_list = []\n",
    "for t in in_list:\n",
    "    insyn_list.append(list(gen_df[gen_df['title_english'] == t]['scored_by'])[0])\n",
    "print(insyn_list)\n",
    "out_list = ['anohana: The Flower We Saw That Day', 'Puella Magi Madoka Magica the Movie: Rebellion', \n",
    "            'Kuroko\\'s Basketball', 'Vampire Knight', 'Maid Sama!']\n",
    "outsyn_list = []\n",
    "for t in out_list:\n",
    "    outsyn_list.append(list(gen_df[gen_df['title_english'] == t]['scored_by'])[0])\n",
    "sumz = 0\n",
    "for syn in outsyn_list:\n",
    "    z = (std_z(syn, avg(insyn_list), f_stdv['scored_by']))\n",
    "    sumz += abs(z)\n",
    "    print(\">> \\t%s, \\t%s\"%(syn,z))\n",
    "\n",
    "print(\"AVG ST.Z: %s\"%(sumz/len(outsyn_list)))\n",
    "print(\"AVG SQ ST.Z: %s\"%(avg_std_z(outsyn_list,avg(insyn_list))))\n",
    "print(\"ABS MEAN DIFF: %s\"%(abs(mean(outsyn_list)-mean(insyn_list))))"
   ]
  },
  {
   "cell_type": "code",
   "execution_count": 209,
   "metadata": {},
   "outputs": [
    {
     "name": "stdout",
     "output_type": "stream",
     "text": [
      "[2, 1349, 1608, 1714, 41, 1050, 159]\n",
      ">> \t49, \t-0.2779388963364379\n",
      ">> \t416, \t-0.1499774223779596\n",
      ">> \t88, \t-0.2643408105479348\n",
      ">> \t173, \t-0.23470395690632534\n",
      ">> \t76, \t-0.26852483694439727\n",
      "AVG ST.Z: 0.239097184622611\n",
      "AVG SQ ST.Z: 698.7820161698846\n"
     ]
    }
   ],
   "source": [
    "# POPULARITY\n",
    "# from data_modeling EXAMPLE 1 (Cosine, un-normalized), ['Attack on Titan'] input,\n",
    "# ['Sword Art Online', 'Dragon Ball Z', 'Code Geass: Lelouch of the Rebellion R2', \n",
    "#  'Death Note', 'One Punch Man'] output\n",
    "in_list = ['Attack on Titan', 'Attack on Titan: Since That Day', 'Attack on Titan: Crimson Bow and Arrow',\n",
    "           'Attack on Titan: Wings of Freedom', 'Attack on Titan Season 2', 'Attack on Titan: Junior High',\n",
    "           'Attack on Titan Season 3']\n",
    "insyn_list = []\n",
    "for t in in_list:\n",
    "    insyn_list.append(list(gen_df[gen_df['title_english'] == t]['popularity'])[0])\n",
    "print(insyn_list)\n",
    "out_list = ['anohana: The Flower We Saw That Day', 'Puella Magi Madoka Magica the Movie: Rebellion', \n",
    "            'Kuroko\\'s Basketball', 'Vampire Knight', 'Maid Sama!']\n",
    "outsyn_list = []\n",
    "for t in out_list:\n",
    "    outsyn_list.append(list(gen_df[gen_df['title_english'] == t]['popularity'])[0])\n",
    "sumz = 0\n",
    "for syn in outsyn_list:\n",
    "    z = (std_z(syn, avg(insyn_list), f_stdv['popularity']))\n",
    "    sumz += abs(z)\n",
    "    print(\">> \\t%s, \\t%s\"%(syn,z))\n",
    "\n",
    "print(\"AVG ST.Z: %s\"%(sumz/len(outsyn_list)))\n",
    "print(\"AVG SQ ST.Z: %s\"%(avg_std_z(outsyn_list,avg(insyn_list))))"
   ]
  },
  {
   "cell_type": "code",
   "execution_count": 210,
   "metadata": {},
   "outputs": [
    {
     "name": "stdout",
     "output_type": "stream",
     "text": [
      "[25.0, 1.0, 1.0, 1.0, 12.0, 12.0, 12.0]\n",
      ">> \t11.0, \t0.04132552600516647\n",
      ">> \t1.0, \t-0.18119653709957603\n",
      ">> \t25.0, \t0.352856414351806\n",
      ">> \t13.0, \t0.08582993862611497\n",
      ">> \t26.0, \t0.37510862066228023\n",
      "AVG ST.Z: 0.20726340734898874\n",
      "AVG SQ ST.Z: 11.137727757125182\n"
     ]
    }
   ],
   "source": [
    "# EPISODES\n",
    "# from data_modeling EXAMPLE 1 (Cosine, un-normalized), ['Attack on Titan'] input,\n",
    "# ['Sword Art Online', 'Dragon Ball Z', 'Code Geass: Lelouch of the Rebellion R2', \n",
    "#  'Death Note', 'One Punch Man'] output\n",
    "in_list = ['Attack on Titan', 'Attack on Titan: Since That Day', 'Attack on Titan: Crimson Bow and Arrow',\n",
    "           'Attack on Titan: Wings of Freedom', 'Attack on Titan Season 2', 'Attack on Titan: Junior High',\n",
    "           'Attack on Titan Season 3']\n",
    "insyn_list = []\n",
    "for t in in_list:\n",
    "    insyn_list.append(list(gen_df[gen_df['title_english'] == t]['episodes'])[0])\n",
    "print(insyn_list)\n",
    "out_list = ['anohana: The Flower We Saw That Day', 'Puella Magi Madoka Magica the Movie: Rebellion', \n",
    "            'Kuroko\\'s Basketball', 'Vampire Knight', 'Maid Sama!']\n",
    "outsyn_list = []\n",
    "for t in out_list:\n",
    "    outsyn_list.append(list(gen_df[gen_df['title_english'] == t]['episodes'])[0])\n",
    "sumz = 0\n",
    "for syn in outsyn_list:\n",
    "    z = (std_z(syn, avg(insyn_list), f_stdv['episodes']))\n",
    "    sumz += abs(z)\n",
    "    print(\">> \\t%s, \\t%s\"%(syn,z))\n",
    "\n",
    "print(\"AVG ST.Z: %s\"%(sumz/len(outsyn_list)))\n",
    "print(\"AVG SQ ST.Z: %s\"%(avg_std_z(outsyn_list,avg(insyn_list))))"
   ]
  },
  {
   "cell_type": "code",
   "execution_count": 211,
   "metadata": {},
   "outputs": [
    {
     "name": "stdout",
     "output_type": "stream",
     "text": [
      "[116, 3529, 1166, 1002, 143, 3454, 113]\n",
      ">> \t93, \t-0.46309427573765427\n",
      ">> \t131, \t-0.44920979903046127\n",
      ">> \t212, \t-0.4196139407861815\n",
      ">> \t2602, \t0.4536465679030606\n",
      ">> \t336, \t-0.374306701004815\n",
      "AVG ST.Z: 0.43197425689243446\n",
      "AVG SQ ST.Z: 1185.5556916312214\n"
     ]
    }
   ],
   "source": [
    "# RANK\n",
    "# from data_modeling EXAMPLE 1 (Cosine, un-normalized), ['Attack on Titan'] input,\n",
    "# ['Sword Art Online', 'Dragon Ball Z', 'Code Geass: Lelouch of the Rebellion R2', \n",
    "#  'Death Note', 'One Punch Man'] output\n",
    "in_list = ['Attack on Titan', 'Attack on Titan: Since That Day', 'Attack on Titan: Crimson Bow and Arrow',\n",
    "           'Attack on Titan: Wings of Freedom', 'Attack on Titan Season 2', 'Attack on Titan: Junior High',\n",
    "           'Attack on Titan Season 3']\n",
    "insyn_list = []\n",
    "for t in in_list:\n",
    "    insyn_list.append(list(gen_df[gen_df['title_english'] == t]['rank'])[0])\n",
    "print(insyn_list)\n",
    "out_list = ['anohana: The Flower We Saw That Day', 'Puella Magi Madoka Magica the Movie: Rebellion', \n",
    "            'Kuroko\\'s Basketball', 'Vampire Knight', 'Maid Sama!']\n",
    "outsyn_list = []\n",
    "for t in out_list:\n",
    "    outsyn_list.append(list(gen_df[gen_df['title_english'] == t]['rank'])[0])\n",
    "sumz = 0\n",
    "for syn in outsyn_list:\n",
    "    z = (std_z(syn, avg(insyn_list), f_stdv['rank']))\n",
    "    sumz += abs(z)\n",
    "    print(\">> \\t%s, \\t%s\"%(syn,z))\n",
    "\n",
    "print(\"AVG ST.Z: %s\"%(sumz/len(outsyn_list)))\n",
    "print(\"AVG SQ ST.Z: %s\"%(avg_std_z(outsyn_list,avg(insyn_list))))"
   ]
  },
  {
   "cell_type": "code",
   "execution_count": 212,
   "metadata": {},
   "outputs": [
    {
     "name": "stdout",
     "output_type": "stream",
     "text": [
      "[1500958, 68519, 52767, 48292, 781129, 89969, 394365]\n",
      ">> \t734942, \t1.920851355776373\n",
      ">> \t208482, \t-1.284245021483471\n",
      ">> \t534177, \t0.6985910241641468\n",
      ">> \t371097, \t-0.2942424621473211\n",
      ">> \t579513, \t0.9745972722351347\n",
      "AVG ST.Z: 1.0345054271612892\n",
      "AVG SQ ST.Z: 192446.06575598032\n"
     ]
    }
   ],
   "source": [
    "# MEMBERS\n",
    "# from data_modeling EXAMPLE 1 (Cosine, un-normalized), ['Attack on Titan'] input,\n",
    "# ['Sword Art Online', 'Dragon Ball Z', 'Code Geass: Lelouch of the Rebellion R2', \n",
    "#  'Death Note', 'One Punch Man'] output\n",
    "in_list = ['Attack on Titan', 'Attack on Titan: Since That Day', 'Attack on Titan: Crimson Bow and Arrow',\n",
    "           'Attack on Titan: Wings of Freedom', 'Attack on Titan Season 2', 'Attack on Titan: Junior High',\n",
    "           'Attack on Titan Season 3']\n",
    "insyn_list = []\n",
    "for t in in_list:\n",
    "    insyn_list.append(list(gen_df[gen_df['title_english'] == t]['members'])[0])\n",
    "print(insyn_list)\n",
    "out_list = ['anohana: The Flower We Saw That Day', 'Puella Magi Madoka Magica the Movie: Rebellion', \n",
    "            'Kuroko\\'s Basketball', 'Vampire Knight', 'Maid Sama!']\n",
    "outsyn_list = []\n",
    "for t in out_list:\n",
    "    outsyn_list.append(list(gen_df[gen_df['title_english'] == t]['members'])[0])\n",
    "sumz = 0\n",
    "for syn in outsyn_list:\n",
    "    z = (std_z(syn, avg(insyn_list), f_stdv['members']))\n",
    "    sumz += abs(z)\n",
    "    print(\">> \\t%s, \\t%s\"%(syn,z))\n",
    "\n",
    "print(\"AVG ST.Z: %s\"%(sumz/len(outsyn_list)))\n",
    "print(\"AVG SQ ST.Z: %s\"%(avg_std_z(outsyn_list,avg(insyn_list))))"
   ]
  },
  {
   "cell_type": "code",
   "execution_count": 213,
   "metadata": {},
   "outputs": [
    {
     "name": "stdout",
     "output_type": "stream",
     "text": [
      "[70555, 166, 97, 88, 8670, 407, 3662]\n",
      ">> \t22969, \t1.7742146076441634\n",
      ">> \t5275, \t-1.0745845947410524\n",
      ">> \t16005, \t0.6529849453060463\n",
      ">> \t8111, \t-0.6179781440818192\n",
      ">> \t15410, \t0.5571877527312072\n",
      "AVG ST.Z: 0.9353900089008576\n",
      "AVG SQ ST.Z: 6467.425943818414\n"
     ]
    }
   ],
   "source": [
    "# FAVORITES\n",
    "# from data_modeling EXAMPLE 1 (Cosine, un-normalized), ['Attack on Titan'] input,\n",
    "# ['Sword Art Online', 'Dragon Ball Z', 'Code Geass: Lelouch of the Rebellion R2', \n",
    "#  'Death Note', 'One Punch Man'] output\n",
    "in_list = ['Attack on Titan', 'Attack on Titan: Since That Day', 'Attack on Titan: Crimson Bow and Arrow',\n",
    "           'Attack on Titan: Wings of Freedom', 'Attack on Titan Season 2', 'Attack on Titan: Junior High',\n",
    "           'Attack on Titan Season 3']\n",
    "insyn_list = []\n",
    "for t in in_list:\n",
    "    insyn_list.append(list(gen_df[gen_df['title_english'] == t]['favorites'])[0])\n",
    "print(insyn_list)\n",
    "out_list = ['anohana: The Flower We Saw That Day', 'Puella Magi Madoka Magica the Movie: Rebellion', \n",
    "            'Kuroko\\'s Basketball', 'Vampire Knight', 'Maid Sama!']\n",
    "outsyn_list = []\n",
    "for t in out_list:\n",
    "    outsyn_list.append(list(gen_df[gen_df['title_english'] == t]['favorites'])[0])\n",
    "sumz = 0\n",
    "for syn in outsyn_list:\n",
    "    z = (std_z(syn, avg(insyn_list), f_stdv['favorites']))\n",
    "    sumz += abs(z)\n",
    "    print(\">> \\t%s, \\t%s\"%(syn,z))\n",
    "\n",
    "print(\"AVG ST.Z: %s\"%(sumz/len(outsyn_list)))\n",
    "print(\"AVG SQ ST.Z: %s\"%(avg_std_z(outsyn_list,avg(insyn_list))))"
   ]
  },
  {
   "cell_type": "code",
   "execution_count": 214,
   "metadata": {},
   "outputs": [
    {
     "name": "stdout",
     "output_type": "stream",
     "text": [
      "[1, 1, 1, 1, 1, 0, 1]\n",
      ">> \t0, \t-1.7546380429914956\n",
      ">> \t0, \t-1.7546380429914956\n",
      ">> \t0, \t-1.7546380429914956\n",
      ">> \t0, \t-1.7546380429914956\n",
      ">> \t0, \t-1.7546380429914956\n",
      "AVG ST.Z: 1.7546380429914954\n",
      "AVG SQ ST.Z: 0.8571428571428571\n",
      "ABS MEAN DIFF: 0.8571428571428571\n"
     ]
    }
   ],
   "source": [
    "# FAVORITES\n",
    "# from data_modeling EXAMPLE 1 (Cosine, un-normalized), ['Attack on Titan'] input,\n",
    "# ['Sword Art Online', 'Dragon Ball Z', 'Code Geass: Lelouch of the Rebellion R2', \n",
    "#  'Death Note', 'One Punch Man'] output\n",
    "in_list = ['Attack on Titan', 'Attack on Titan: Since That Day', 'Attack on Titan: Crimson Bow and Arrow',\n",
    "           'Attack on Titan: Wings of Freedom', 'Attack on Titan Season 2', 'Attack on Titan: Junior High',\n",
    "           'Attack on Titan Season 3']\n",
    "insyn_list = []\n",
    "for t in in_list:\n",
    "    insyn_list.append(list(gen_df[gen_df['title_english'] == t]['genre_Action'])[0])\n",
    "print(insyn_list)\n",
    "out_list = ['anohana: The Flower We Saw That Day', 'Puella Magi Madoka Magica the Movie: Rebellion', \n",
    "            'Kuroko\\'s Basketball', 'Vampire Knight', 'Maid Sama!']\n",
    "outsyn_list = []\n",
    "for t in out_list:\n",
    "    outsyn_list.append(list(gen_df[gen_df['title_english'] == t]['genre_Action'])[0])\n",
    "sumz = 0\n",
    "for syn in outsyn_list:\n",
    "    z = (std_z(syn, avg(insyn_list), f_stdv['genre_Action']))\n",
    "    sumz += abs(z)\n",
    "    print(\">> \\t%s, \\t%s\"%(syn,z))\n",
    "\n",
    "print(\"AVG ST.Z: %s\"%(sumz/len(outsyn_list)))\n",
    "print(\"AVG SQ ST.Z: %s\"%(avg_std_z(outsyn_list,avg(insyn_list))))\n",
    "print(\"ABS MEAN DIFF: %s\"%(abs(mean(outsyn_list)-mean(insyn_list))))"
   ]
  },
  {
   "cell_type": "code",
   "execution_count": 215,
   "metadata": {},
   "outputs": [
    {
     "name": "stdout",
     "output_type": "stream",
     "text": [
      "[0, 0, 0, 0, 0, 1, 0]\n",
      ">> \t0, \t-0.28718058231174237\n",
      ">> \t0, \t-0.28718058231174237\n",
      ">> \t1, \t1.7230834938704545\n",
      ">> \t0, \t-0.28718058231174237\n",
      ">> \t1, \t1.7230834938704545\n",
      "AVG ST.Z: 0.8615417469352271\n",
      "AVG SQ ST.Z: 0.5532833351724882\n",
      "ABS MEAN DIFF: 0.2571428571428572\n"
     ]
    }
   ],
   "source": [
    "# FAVORITES\n",
    "# from data_modeling EXAMPLE 1 (Cosine, un-normalized), ['Attack on Titan'] input,\n",
    "# ['Sword Art Online', 'Dragon Ball Z', 'Code Geass: Lelouch of the Rebellion R2', \n",
    "#  'Death Note', 'One Punch Man'] output\n",
    "in_list = ['Attack on Titan', 'Attack on Titan: Since That Day', 'Attack on Titan: Crimson Bow and Arrow',\n",
    "           'Attack on Titan: Wings of Freedom', 'Attack on Titan Season 2', 'Attack on Titan: Junior High',\n",
    "           'Attack on Titan Season 3']\n",
    "insyn_list = []\n",
    "for t in in_list:\n",
    "    insyn_list.append(list(gen_df[gen_df['title_english'] == t]['genre_Comedy'])[0])\n",
    "print(insyn_list)\n",
    "out_list = ['anohana: The Flower We Saw That Day', 'Puella Magi Madoka Magica the Movie: Rebellion', \n",
    "            'Kuroko\\'s Basketball', 'Vampire Knight', 'Maid Sama!']\n",
    "outsyn_list = []\n",
    "for t in out_list:\n",
    "    outsyn_list.append(list(gen_df[gen_df['title_english'] == t]['genre_Comedy'])[0])\n",
    "sumz = 0\n",
    "for syn in outsyn_list:\n",
    "    z = (std_z(syn, avg(insyn_list), f_stdv['genre_Comedy']))\n",
    "    sumz += abs(z)\n",
    "    print(\">> \\t%s, \\t%s\"%(syn,z))\n",
    "\n",
    "print(\"AVG ST.Z: %s\"%(sumz/len(outsyn_list)))\n",
    "print(\"AVG SQ ST.Z: %s\"%(avg_std_z(outsyn_list,avg(insyn_list))))\n",
    "print(\"ABS MEAN DIFF: %s\"%(abs(mean(outsyn_list)-mean(insyn_list))))"
   ]
  },
  {
   "cell_type": "code",
   "execution_count": 216,
   "metadata": {},
   "outputs": [
    {
     "name": "stdout",
     "output_type": "stream",
     "text": [
      "[1, 0, 0, 0, 1, 0, 1]\n",
      ">> \t0, \t-1.4971562248554138\n",
      ">> \t1, \t1.9962082998072184\n",
      ">> \t0, \t-1.4971562248554138\n",
      ">> \t1, \t1.9962082998072184\n",
      ">> \t0, \t-1.4971562248554138\n",
      "AVG ST.Z: 1.6967770548361358\n",
      "AVG SQ ST.Z: 0.490730401066219\n",
      "ABS MEAN DIFF: 0.028571428571428525\n"
     ]
    }
   ],
   "source": [
    "# FAVORITES\n",
    "# from data_modeling EXAMPLE 1 (Cosine, un-normalized), ['Attack on Titan'] input,\n",
    "# ['Sword Art Online', 'Dragon Ball Z', 'Code Geass: Lelouch of the Rebellion R2', \n",
    "#  'Death Note', 'One Punch Man'] output\n",
    "in_list = ['Attack on Titan', 'Attack on Titan: Since That Day', 'Attack on Titan: Crimson Bow and Arrow',\n",
    "           'Attack on Titan: Wings of Freedom', 'Attack on Titan Season 2', 'Attack on Titan: Junior High',\n",
    "           'Attack on Titan Season 3']\n",
    "insyn_list = []\n",
    "for t in in_list:\n",
    "    insyn_list.append(list(gen_df[gen_df['title_english'] == t]['genre_Mystery'])[0])\n",
    "print(insyn_list)\n",
    "out_list = ['anohana: The Flower We Saw That Day', 'Puella Magi Madoka Magica the Movie: Rebellion', \n",
    "            'Kuroko\\'s Basketball', 'Vampire Knight', 'Maid Sama!']\n",
    "outsyn_list = []\n",
    "for t in out_list:\n",
    "    outsyn_list.append(list(gen_df[gen_df['title_english'] == t]['genre_Mystery'])[0])\n",
    "sumz = 0\n",
    "for syn in outsyn_list:\n",
    "    z = (std_z(syn, avg(insyn_list), f_stdv['genre_Mystery']))\n",
    "    sumz += abs(z)\n",
    "    print(\">> \\t%s, \\t%s\"%(syn,z))\n",
    "\n",
    "print(\"AVG ST.Z: %s\"%(sumz/len(outsyn_list)))\n",
    "print(\"AVG SQ ST.Z: %s\"%(avg_std_z(outsyn_list,avg(insyn_list))))\n",
    "print(\"ABS MEAN DIFF: %s\"%(abs(mean(outsyn_list)-mean(insyn_list))))"
   ]
  },
  {
   "cell_type": "code",
   "execution_count": 217,
   "metadata": {},
   "outputs": [
    {
     "name": "stdout",
     "output_type": "stream",
     "text": [
      "[0, 0, 0, 0, 0, 0, 0]\n",
      ">> \t0, \t0.0\n",
      ">> \t0, \t0.0\n",
      ">> \t0, \t0.0\n",
      ">> \t0, \t0.0\n",
      ">> \t0, \t0.0\n",
      "AVG ST.Z: 0.0\n",
      "AVG SQ ST.Z: 0.0\n",
      "ABS MEAN DIFF: 0\n"
     ]
    }
   ],
   "source": [
    "# FAVORITES\n",
    "# from data_modeling EXAMPLE 1 (Cosine, un-normalized), ['Attack on Titan'] input,\n",
    "# ['Sword Art Online', 'Dragon Ball Z', 'Code Geass: Lelouch of the Rebellion R2', \n",
    "#  'Death Note', 'One Punch Man'] output\n",
    "in_list = ['Attack on Titan', 'Attack on Titan: Since That Day', 'Attack on Titan: Crimson Bow and Arrow',\n",
    "           'Attack on Titan: Wings of Freedom', 'Attack on Titan Season 2', 'Attack on Titan: Junior High',\n",
    "           'Attack on Titan Season 3']\n",
    "insyn_list = []\n",
    "for t in in_list:\n",
    "    insyn_list.append(list(gen_df[gen_df['title_english'] == t]['studio_Madhouse'])[0])\n",
    "print(insyn_list)\n",
    "out_list = ['anohana: The Flower We Saw That Day', 'Puella Magi Madoka Magica the Movie: Rebellion', \n",
    "            'Kuroko\\'s Basketball', 'Vampire Knight', 'Maid Sama!']\n",
    "outsyn_list = []\n",
    "for t in out_list:\n",
    "    outsyn_list.append(list(gen_df[gen_df['title_english'] == t]['studio_Madhouse'])[0])\n",
    "sumz = 0\n",
    "for syn in outsyn_list:\n",
    "    z = (std_z(syn, avg(insyn_list), f_stdv['studio_Madhouse']))\n",
    "    sumz += abs(z)\n",
    "    print(\">> \\t%s, \\t%s\"%(syn,z))\n",
    "\n",
    "print(\"AVG ST.Z: %s\"%(sumz/len(outsyn_list)))\n",
    "print(\"AVG SQ ST.Z: %s\"%(avg_std_z(outsyn_list,avg(insyn_list))))\n",
    "print(\"ABS MEAN DIFF: %s\"%(abs(mean(outsyn_list)-mean(insyn_list))))"
   ]
  },
  {
   "cell_type": "code",
   "execution_count": 31,
   "metadata": {},
   "outputs": [
    {
     "name": "stdout",
     "output_type": "stream",
     "text": [
      "Centuries ago, mankind was slaughtered to near extinction by monstrous humanoid creatures called titans, forcing humans to hide in fear behind enormous concentric walls. What makes these giants truly terrifying is that their taste for human flesh is not born out of hunger but what appears to be out ...\n",
      "Recap of the events in Shingeki no Kyojin that happened prior to episode 14....\n",
      "Recap of episodes 1-13....\n",
      "Recap of episodes 14-25....\n",
      "For centuries, humanity has been hunted by giant, mysterious predators known as the Titans. Three mighty walls—Wall Maria, Rose, and Sheena—provided peace and protection for humanity for over a hundred years. That peace, however, was shattered when the Colossus Titan and Armored Titan appeared and d...\n",
      "On his first day of junior high, Eren Yeager comes face-to-face with a titan—and has his lunch stolen! From that day on, he holds a grudge against titans for taking his favorite food from him, a cheeseburger, vowing to eliminate their kind once and for all. Along with his adoptive sister Mikasa Acke...\n",
      "Third season of the Shingeki no Kyojin....\n",
      ">> \tRecap of episodes 1-9....\n",
      ">> \tRecap of the first 11 episodes of 3-gatsu no Lion....\n",
      ">> \tRecap episode of Berserk 2nd Season....\n",
      ">> \tNEVER make a deal with a wet goddess you've only just met. That's a lesson Ryosuke Kaga learns the hard way when he foolishly agrees to let Lisara Restole use some of his \"essence\" to stay in this world. Because despite her smoking hot appearance, Lisara's actually a Shinigami, a Goddess of Death. H...\n",
      ">> \tRecap of the first six episodes of Tsuki ga Kirei....\n"
     ]
    }
   ],
   "source": [
    "# from data_modeling EXAMPLE 2 (Cosine, normalized)\n",
    "# ['Attack on Titan', 'Attack on Titan: Since That Day', 'Attack on Titan: Crimson Bow and Arrow',\n",
    "#  'Attack on Titan: Wings of Freedom', 'Attack on Titan Season 2', 'Attack on Titan: Junior High',\n",
    "#  'Attack on Titan Season 3'] input,\n",
    "# ['Gun Samurai Recap', 'Marches Comes in Like a Lion: Special Omnibus Episode',\n",
    "#  'Berserk: Recollections of the Witch', 'So, I Can\\'t Play H!',\n",
    "#  'Tsukigakirei: First Half - The Road So Far'] output\n",
    "in_list = ['Attack on Titan', 'Attack on Titan: Since That Day', 'Attack on Titan: Crimson Bow and Arrow',\n",
    "           'Attack on Titan: Wings of Freedom', 'Attack on Titan Season 2', 'Attack on Titan: Junior High',\n",
    "           'Attack on Titan Season 3']\n",
    "insyn_list = list(out_df[out_df['title_english'].isin(in_list)]['synopsis'])\n",
    "for syn in insyn_list:\n",
    "    print(syn[:300]+\"...\")\n",
    "out_list = ['Gun Samurai Recap', 'Marches Comes in Like a Lion: Special Omnibus Episode',\n",
    "            'Berserk: Recollections of the Witch', 'So, I Can\\'t Play H!',\n",
    "            'Tsukigakirei: First Half - The Road So Far']\n",
    "outsyn_list = []\n",
    "for t in out_list:\n",
    "    outsyn_list.append(list(out_df[out_df['title_english'] == t]['synopsis'])[0])\n",
    "for syn in outsyn_list:\n",
    "    print('>> \\t%s'%(syn[:300]+\"...\"))"
   ]
  },
  {
   "cell_type": "code",
   "execution_count": 218,
   "metadata": {},
   "outputs": [
    {
     "name": "stdout",
     "output_type": "stream",
     "text": [
      "[1038161, 36288, 20514, 15438, 439965, 43670, 154179]\n",
      ">> \t45, \t-2.5835854505045366\n",
      ">> \t4589, \t-2.536569782554626\n",
      ">> \t4083, \t-2.541805242057851\n",
      ">> \t133619, \t-1.2015276092322378\n",
      ">> \t5019, \t-2.532120676652676\n",
      "AVG ST.Z: 2.2791217522003855\n",
      "AVG SQ ST.Z: 226352.5725641306\n"
     ]
    }
   ],
   "source": [
    "# SCORED_BY\n",
    "# from data_modeling EXAMPLE 1 (Cosine, un-normalized), ['Attack on Titan'] input,\n",
    "# ['Sword Art Online', 'Dragon Ball Z', 'Code Geass: Lelouch of the Rebellion R2', \n",
    "#  'Death Note', 'One Punch Man'] output\n",
    "in_list = ['Attack on Titan', 'Attack on Titan: Since That Day', 'Attack on Titan: Crimson Bow and Arrow',\n",
    "           'Attack on Titan: Wings of Freedom', 'Attack on Titan Season 2', 'Attack on Titan: Junior High',\n",
    "           'Attack on Titan Season 3']\n",
    "insyn_list = []\n",
    "for t in in_list:\n",
    "    insyn_list.append(list(gen_df[gen_df['title_english'] == t]['scored_by'])[0])\n",
    "print(insyn_list)\n",
    "out_list = ['Gun Samurai Recap', 'Marches Comes in Like a Lion: Special Omnibus Episode',\n",
    "            'Berserk: Recollections of the Witch', 'So, I Can\\'t Play H!',\n",
    "            'Tsukigakirei: First Half - The Road So Far']\n",
    "outsyn_list = []\n",
    "for t in out_list:\n",
    "    outsyn_list.append(list(gen_df[gen_df['title_english'] == t]['scored_by'])[0])\n",
    "sumz = 0\n",
    "for syn in outsyn_list:\n",
    "    z = (std_z(syn, avg(insyn_list), f_stdv['scored_by']))\n",
    "    sumz += abs(z)\n",
    "    print(\">> \\t%s, \\t%s\"%(syn,z))\n",
    "\n",
    "print(\"AVG ST.Z: %s\"%(sumz/len(outsyn_list)))\n",
    "print(\"AVG SQ ST.Z: %s\"%(avg_std_z(outsyn_list,avg(insyn_list))))"
   ]
  },
  {
   "cell_type": "code",
   "execution_count": 219,
   "metadata": {},
   "outputs": [
    {
     "name": "stdout",
     "output_type": "stream",
     "text": [
      "[2, 1349, 1608, 1714, 41, 1050, 159]\n",
      ">> \t11050, \t3.5577673026205647\n",
      ">> \t4185, \t1.1641555349776394\n",
      ">> \t4249, \t1.1864703424254395\n",
      ">> \t320, \t-0.18344963354965965\n",
      ">> \t4118, \t1.1407947209307236\n",
      "AVG ST.Z: 1.4465275069008054\n",
      "AVG SQ ST.Z: 5250.294845364907\n"
     ]
    }
   ],
   "source": [
    "# POPULARITY\n",
    "# from data_modeling EXAMPLE 1 (Cosine, un-normalized), ['Attack on Titan'] input,\n",
    "# ['Sword Art Online', 'Dragon Ball Z', 'Code Geass: Lelouch of the Rebellion R2', \n",
    "#  'Death Note', 'One Punch Man'] output\n",
    "in_list = ['Attack on Titan', 'Attack on Titan: Since That Day', 'Attack on Titan: Crimson Bow and Arrow',\n",
    "           'Attack on Titan: Wings of Freedom', 'Attack on Titan Season 2', 'Attack on Titan: Junior High',\n",
    "           'Attack on Titan Season 3']\n",
    "insyn_list = []\n",
    "for t in in_list:\n",
    "    insyn_list.append(list(gen_df[gen_df['title_english'] == t]['popularity'])[0])\n",
    "print(insyn_list)\n",
    "out_list = ['Gun Samurai Recap', 'Marches Comes in Like a Lion: Special Omnibus Episode',\n",
    "            'Berserk: Recollections of the Witch', 'So, I Can\\'t Play H!',\n",
    "            'Tsukigakirei: First Half - The Road So Far']\n",
    "outsyn_list = []\n",
    "for t in out_list:\n",
    "    outsyn_list.append(list(gen_df[gen_df['title_english'] == t]['popularity'])[0])\n",
    "sumz = 0\n",
    "for syn in outsyn_list:\n",
    "    z = (std_z(syn, avg(insyn_list), f_stdv['popularity']))\n",
    "    sumz += abs(z)\n",
    "    print(\">> \\t%s, \\t%s\"%(syn,z))\n",
    "\n",
    "print(\"AVG ST.Z: %s\"%(sumz/len(outsyn_list)))\n",
    "print(\"AVG SQ ST.Z: %s\"%(avg_std_z(outsyn_list,avg(insyn_list))))"
   ]
  },
  {
   "cell_type": "code",
   "execution_count": 220,
   "metadata": {},
   "outputs": [
    {
     "name": "stdout",
     "output_type": "stream",
     "text": [
      "[25.0, 1.0, 1.0, 1.0, 12.0, 12.0, 12.0]\n",
      ">> \t1.0, \t-0.18119653709957603\n",
      ">> \t1.0, \t-0.18119653709957603\n",
      ">> \t1.0, \t-0.18119653709957603\n",
      ">> \t12.0, \t0.06357773231564072\n",
      ">> \t1.0, \t-0.18119653709957603\n",
      "AVG ST.Z: 0.15767277614278896\n",
      "AVG SQ ST.Z: 7.394427024483246\n"
     ]
    }
   ],
   "source": [
    "# EPISODES\n",
    "# from data_modeling EXAMPLE 1 (Cosine, un-normalized), ['Attack on Titan'] input,\n",
    "# ['Sword Art Online', 'Dragon Ball Z', 'Code Geass: Lelouch of the Rebellion R2', \n",
    "#  'Death Note', 'One Punch Man'] output\n",
    "in_list = ['Attack on Titan', 'Attack on Titan: Since That Day', 'Attack on Titan: Crimson Bow and Arrow',\n",
    "           'Attack on Titan: Wings of Freedom', 'Attack on Titan Season 2', 'Attack on Titan: Junior High',\n",
    "           'Attack on Titan Season 3']\n",
    "insyn_list = []\n",
    "for t in in_list:\n",
    "    insyn_list.append(list(gen_df[gen_df['title_english'] == t]['episodes'])[0])\n",
    "print(insyn_list)\n",
    "out_list = ['Gun Samurai Recap', 'Marches Comes in Like a Lion: Special Omnibus Episode',\n",
    "            'Berserk: Recollections of the Witch', 'So, I Can\\'t Play H!',\n",
    "            'Tsukigakirei: First Half - The Road So Far']\n",
    "outsyn_list = []\n",
    "for t in out_list:\n",
    "    outsyn_list.append(list(gen_df[gen_df['title_english'] == t]['episodes'])[0])\n",
    "sumz = 0\n",
    "for syn in outsyn_list:\n",
    "    z = (std_z(syn, avg(insyn_list), f_stdv['episodes']))\n",
    "    sumz += abs(z)\n",
    "    print(\">> \\t%s, \\t%s\"%(syn,z))\n",
    "\n",
    "print(\"AVG ST.Z: %s\"%(sumz/len(outsyn_list)))\n",
    "print(\"AVG SQ ST.Z: %s\"%(avg_std_z(outsyn_list,avg(insyn_list))))"
   ]
  },
  {
   "cell_type": "code",
   "execution_count": 221,
   "metadata": {},
   "outputs": [
    {
     "name": "stdout",
     "output_type": "stream",
     "text": [
      "[116, 3529, 1166, 1002, 143, 3454, 113]\n",
      ">> \t11051, \t3.5407503494576242\n",
      ">> \t4747, \t1.2373887399275059\n",
      ">> \t8229, \t2.5096452634655564\n",
      ">> \t4241, \t1.0525059711422522\n",
      ">> \t5603, \t1.5501548468053266\n",
      "AVG ST.Z: 1.978089034159653\n",
      "AVG SQ ST.Z: 5980.809614158967\n"
     ]
    }
   ],
   "source": [
    "# RANK\n",
    "# from data_modeling EXAMPLE 1 (Cosine, un-normalized), ['Attack on Titan'] input,\n",
    "# ['Sword Art Online', 'Dragon Ball Z', 'Code Geass: Lelouch of the Rebellion R2', \n",
    "#  'Death Note', 'One Punch Man'] output\n",
    "in_list = ['Attack on Titan', 'Attack on Titan: Since That Day', 'Attack on Titan: Crimson Bow and Arrow',\n",
    "           'Attack on Titan: Wings of Freedom', 'Attack on Titan Season 2', 'Attack on Titan: Junior High',\n",
    "           'Attack on Titan Season 3']\n",
    "insyn_list = []\n",
    "for t in in_list:\n",
    "    insyn_list.append(list(gen_df[gen_df['title_english'] == t]['rank'])[0])\n",
    "print(insyn_list)\n",
    "out_list = ['Gun Samurai Recap', 'Marches Comes in Like a Lion: Special Omnibus Episode',\n",
    "            'Berserk: Recollections of the Witch', 'So, I Can\\'t Play H!',\n",
    "            'Tsukigakirei: First Half - The Road So Far']\n",
    "outsyn_list = []\n",
    "for t in out_list:\n",
    "    outsyn_list.append(list(gen_df[gen_df['title_english'] == t]['rank'])[0])\n",
    "sumz = 0\n",
    "for syn in outsyn_list:\n",
    "    z = (std_z(syn, avg(insyn_list), f_stdv['rank']))\n",
    "    sumz += abs(z)\n",
    "    print(\">> \\t%s, \\t%s\"%(syn,z))\n",
    "\n",
    "print(\"AVG ST.Z: %s\"%(sumz/len(outsyn_list)))\n",
    "print(\"AVG SQ ST.Z: %s\"%(avg_std_z(outsyn_list,avg(insyn_list))))"
   ]
  },
  {
   "cell_type": "code",
   "execution_count": 222,
   "metadata": {},
   "outputs": [
    {
     "name": "stdout",
     "output_type": "stream",
     "text": [
      "[1500958, 68519, 52767, 48292, 781129, 89969, 394365]\n",
      ">> \t328, \t-2.551489695935748\n",
      ">> \t8811, \t-2.4998450646849495\n",
      ">> \t8518, \t-2.50162885308015\n",
      ">> \t255584, \t-0.9974873389212762\n",
      ">> \t9212, \t-2.4974037706696754\n",
      "AVG ST.Z: 2.20957094465836\n",
      "AVG SQ ST.Z: 376356.6758350165\n"
     ]
    }
   ],
   "source": [
    "# MEMBERS\n",
    "# from data_modeling EXAMPLE 1 (Cosine, un-normalized), ['Attack on Titan'] input,\n",
    "# ['Sword Art Online', 'Dragon Ball Z', 'Code Geass: Lelouch of the Rebellion R2', \n",
    "#  'Death Note', 'One Punch Man'] output\n",
    "in_list = ['Attack on Titan', 'Attack on Titan: Since That Day', 'Attack on Titan: Crimson Bow and Arrow',\n",
    "           'Attack on Titan: Wings of Freedom', 'Attack on Titan Season 2', 'Attack on Titan: Junior High',\n",
    "           'Attack on Titan Season 3']\n",
    "insyn_list = []\n",
    "for t in in_list:\n",
    "    insyn_list.append(list(gen_df[gen_df['title_english'] == t]['members'])[0])\n",
    "print(insyn_list)\n",
    "out_list = ['Gun Samurai Recap', 'Marches Comes in Like a Lion: Special Omnibus Episode',\n",
    "            'Berserk: Recollections of the Witch', 'So, I Can\\'t Play H!',\n",
    "            'Tsukigakirei: First Half - The Road So Far']\n",
    "outsyn_list = []\n",
    "for t in out_list:\n",
    "    outsyn_list.append(list(gen_df[gen_df['title_english'] == t]['members'])[0])\n",
    "sumz = 0\n",
    "for syn in outsyn_list:\n",
    "    z = (std_z(syn, avg(insyn_list), f_stdv['members']))\n",
    "    sumz += abs(z)\n",
    "    print(\">> \\t%s, \\t%s\"%(syn,z))\n",
    "\n",
    "print(\"AVG ST.Z: %s\"%(sumz/len(outsyn_list)))\n",
    "print(\"AVG SQ ST.Z: %s\"%(avg_std_z(outsyn_list,avg(insyn_list))))"
   ]
  },
  {
   "cell_type": "code",
   "execution_count": 223,
   "metadata": {},
   "outputs": [
    {
     "name": "stdout",
     "output_type": "stream",
     "text": [
      "[70555, 166, 97, 88, 8670, 407, 3662]\n",
      ">> \t0, \t-1.923879033114626\n",
      ">> \t8, \t-1.9225910036346283\n",
      ">> \t13, \t-1.9217859852096295\n",
      ">> \t701, \t-1.8110154499298157\n",
      ">> \t10, \t-1.9222689962646287\n",
      "AVG ST.Z: 1.9003080936306656\n",
      "AVG SQ ST.Z: 11806.143528878927\n"
     ]
    }
   ],
   "source": [
    "# FAVORITES\n",
    "# from data_modeling EXAMPLE 1 (Cosine, un-normalized), ['Attack on Titan'] input,\n",
    "# ['Sword Art Online', 'Dragon Ball Z', 'Code Geass: Lelouch of the Rebellion R2', \n",
    "#  'Death Note', 'One Punch Man'] output\n",
    "in_list = ['Attack on Titan', 'Attack on Titan: Since That Day', 'Attack on Titan: Crimson Bow and Arrow',\n",
    "           'Attack on Titan: Wings of Freedom', 'Attack on Titan Season 2', 'Attack on Titan: Junior High',\n",
    "           'Attack on Titan Season 3']\n",
    "insyn_list = []\n",
    "for t in in_list:\n",
    "    insyn_list.append(list(gen_df[gen_df['title_english'] == t]['favorites'])[0])\n",
    "print(insyn_list)\n",
    "out_list = ['Gun Samurai Recap', 'Marches Comes in Like a Lion: Special Omnibus Episode',\n",
    "            'Berserk: Recollections of the Witch', 'So, I Can\\'t Play H!',\n",
    "            'Tsukigakirei: First Half - The Road So Far']\n",
    "outsyn_list = []\n",
    "for t in out_list:\n",
    "    outsyn_list.append(list(gen_df[gen_df['title_english'] == t]['favorites'])[0])\n",
    "sumz = 0\n",
    "for syn in outsyn_list:\n",
    "    z = (std_z(syn, avg(insyn_list), f_stdv['favorites']))\n",
    "    sumz += abs(z)\n",
    "    print(\">> \\t%s, \\t%s\"%(syn,z))\n",
    "\n",
    "print(\"AVG ST.Z: %s\"%(sumz/len(outsyn_list)))\n",
    "print(\"AVG SQ ST.Z: %s\"%(avg_std_z(outsyn_list,avg(insyn_list))))"
   ]
  },
  {
   "cell_type": "code",
   "execution_count": 224,
   "metadata": {},
   "outputs": [
    {
     "name": "stdout",
     "output_type": "stream",
     "text": [
      "[1, 1, 1, 1, 1, 0, 1]\n",
      ">> \t0, \t-1.7546380429914956\n",
      ">> \t0, \t-1.7546380429914956\n",
      ">> \t1, \t0.29243967383191605\n",
      ">> \t0, \t-1.7546380429914956\n",
      ">> \t0, \t-1.7546380429914956\n",
      "AVG ST.Z: 1.4621983691595797\n",
      "AVG SQ ST.Z: 0.769309258162072\n",
      "ABS MEAN DIFF: 0.657142857142857\n"
     ]
    }
   ],
   "source": [
    "# FAVORITES\n",
    "# from data_modeling EXAMPLE 1 (Cosine, un-normalized), ['Attack on Titan'] input,\n",
    "# ['Sword Art Online', 'Dragon Ball Z', 'Code Geass: Lelouch of the Rebellion R2', \n",
    "#  'Death Note', 'One Punch Man'] output\n",
    "in_list = ['Attack on Titan', 'Attack on Titan: Since That Day', 'Attack on Titan: Crimson Bow and Arrow',\n",
    "           'Attack on Titan: Wings of Freedom', 'Attack on Titan Season 2', 'Attack on Titan: Junior High',\n",
    "           'Attack on Titan Season 3']\n",
    "insyn_list = []\n",
    "for t in in_list:\n",
    "    insyn_list.append(list(gen_df[gen_df['title_english'] == t]['genre_Action'])[0])\n",
    "print(insyn_list)\n",
    "out_list = ['Gun Samurai Recap', 'Marches Comes in Like a Lion: Special Omnibus Episode',\n",
    "            'Berserk: Recollections of the Witch', 'So, I Can\\'t Play H!',\n",
    "            'Tsukigakirei: First Half - The Road So Far']\n",
    "outsyn_list = []\n",
    "for t in out_list:\n",
    "    outsyn_list.append(list(gen_df[gen_df['title_english'] == t]['genre_Action'])[0])\n",
    "sumz = 0\n",
    "for syn in outsyn_list:\n",
    "    z = (std_z(syn, avg(insyn_list), f_stdv['genre_Action']))\n",
    "    sumz += abs(z)\n",
    "    print(\">> \\t%s, \\t%s\"%(syn,z))\n",
    "\n",
    "print(\"AVG ST.Z: %s\"%(sumz/len(outsyn_list)))\n",
    "print(\"AVG SQ ST.Z: %s\"%(avg_std_z(outsyn_list,avg(insyn_list))))\n",
    "print(\"ABS MEAN DIFF: %s\"%(abs(mean(outsyn_list)-mean(insyn_list))))"
   ]
  },
  {
   "cell_type": "code",
   "execution_count": 225,
   "metadata": {},
   "outputs": [
    {
     "name": "stdout",
     "output_type": "stream",
     "text": [
      "[0, 0, 0, 0, 0, 1, 0]\n",
      ">> \t0, \t-0.28718058231174237\n",
      ">> \t0, \t-0.28718058231174237\n",
      ">> \t0, \t-0.28718058231174237\n",
      ">> \t1, \t1.7230834938704545\n",
      ">> \t0, \t-0.28718058231174237\n",
      "AVG ST.Z: 0.5743611646234849\n",
      "AVG SQ ST.Z: 0.4040610178208843\n",
      "ABS MEAN DIFF: 0.05714285714285716\n"
     ]
    }
   ],
   "source": [
    "# FAVORITES\n",
    "# from data_modeling EXAMPLE 1 (Cosine, un-normalized), ['Attack on Titan'] input,\n",
    "# ['Sword Art Online', 'Dragon Ball Z', 'Code Geass: Lelouch of the Rebellion R2', \n",
    "#  'Death Note', 'One Punch Man'] output\n",
    "in_list = ['Attack on Titan', 'Attack on Titan: Since That Day', 'Attack on Titan: Crimson Bow and Arrow',\n",
    "           'Attack on Titan: Wings of Freedom', 'Attack on Titan Season 2', 'Attack on Titan: Junior High',\n",
    "           'Attack on Titan Season 3']\n",
    "insyn_list = []\n",
    "for t in in_list:\n",
    "    insyn_list.append(list(gen_df[gen_df['title_english'] == t]['genre_Comedy'])[0])\n",
    "print(insyn_list)\n",
    "out_list = ['Gun Samurai Recap', 'Marches Comes in Like a Lion: Special Omnibus Episode',\n",
    "            'Berserk: Recollections of the Witch', 'So, I Can\\'t Play H!',\n",
    "            'Tsukigakirei: First Half - The Road So Far']\n",
    "outsyn_list = []\n",
    "for t in out_list:\n",
    "    outsyn_list.append(list(gen_df[gen_df['title_english'] == t]['genre_Comedy'])[0])\n",
    "sumz = 0\n",
    "for syn in outsyn_list:\n",
    "    z = (std_z(syn, avg(insyn_list), f_stdv['genre_Comedy']))\n",
    "    sumz += abs(z)\n",
    "    print(\">> \\t%s, \\t%s\"%(syn,z))\n",
    "\n",
    "print(\"AVG ST.Z: %s\"%(sumz/len(outsyn_list)))\n",
    "print(\"AVG SQ ST.Z: %s\"%(avg_std_z(outsyn_list,avg(insyn_list))))\n",
    "print(\"ABS MEAN DIFF: %s\"%(abs(mean(outsyn_list)-mean(insyn_list))))"
   ]
  },
  {
   "cell_type": "code",
   "execution_count": 226,
   "metadata": {},
   "outputs": [
    {
     "name": "stdout",
     "output_type": "stream",
     "text": [
      "[1, 0, 0, 0, 1, 0, 1]\n",
      ">> \t0, \t-1.4971562248554138\n",
      ">> \t0, \t-1.4971562248554138\n",
      ">> \t0, \t-1.4971562248554138\n",
      ">> \t0, \t-1.4971562248554138\n",
      ">> \t0, \t-1.4971562248554138\n",
      "AVG ST.Z: 1.4971562248554138\n",
      "AVG SQ ST.Z: 0.42857142857142855\n",
      "ABS MEAN DIFF: 0.42857142857142855\n"
     ]
    }
   ],
   "source": [
    "# FAVORITES\n",
    "# from data_modeling EXAMPLE 1 (Cosine, un-normalized), ['Attack on Titan'] input,\n",
    "# ['Sword Art Online', 'Dragon Ball Z', 'Code Geass: Lelouch of the Rebellion R2', \n",
    "#  'Death Note', 'One Punch Man'] output\n",
    "in_list = ['Attack on Titan', 'Attack on Titan: Since That Day', 'Attack on Titan: Crimson Bow and Arrow',\n",
    "           'Attack on Titan: Wings of Freedom', 'Attack on Titan Season 2', 'Attack on Titan: Junior High',\n",
    "           'Attack on Titan Season 3']\n",
    "insyn_list = []\n",
    "for t in in_list:\n",
    "    insyn_list.append(list(gen_df[gen_df['title_english'] == t]['genre_Mystery'])[0])\n",
    "print(insyn_list)\n",
    "out_list = ['Gun Samurai Recap', 'Marches Comes in Like a Lion: Special Omnibus Episode',\n",
    "            'Berserk: Recollections of the Witch', 'So, I Can\\'t Play H!',\n",
    "            'Tsukigakirei: First Half - The Road So Far']\n",
    "outsyn_list = []\n",
    "for t in out_list:\n",
    "    outsyn_list.append(list(gen_df[gen_df['title_english'] == t]['genre_Mystery'])[0])\n",
    "sumz = 0\n",
    "for syn in outsyn_list:\n",
    "    z = (std_z(syn, avg(insyn_list), f_stdv['genre_Mystery']))\n",
    "    sumz += abs(z)\n",
    "    print(\">> \\t%s, \\t%s\"%(syn,z))\n",
    "\n",
    "print(\"AVG ST.Z: %s\"%(sumz/len(outsyn_list)))\n",
    "print(\"AVG SQ ST.Z: %s\"%(avg_std_z(outsyn_list,avg(insyn_list))))\n",
    "print(\"ABS MEAN DIFF: %s\"%(abs(mean(outsyn_list)-mean(insyn_list))))"
   ]
  },
  {
   "cell_type": "code",
   "execution_count": 227,
   "metadata": {},
   "outputs": [
    {
     "name": "stdout",
     "output_type": "stream",
     "text": [
      "[0, 0, 0, 0, 0, 0, 0]\n",
      ">> \t0, \t0.0\n",
      ">> \t0, \t0.0\n",
      ">> \t0, \t0.0\n",
      ">> \t0, \t0.0\n",
      ">> \t0, \t0.0\n",
      "AVG ST.Z: 0.0\n",
      "AVG SQ ST.Z: 0.0\n",
      "ABS MEAN DIFF: 0\n"
     ]
    }
   ],
   "source": [
    "# FAVORITES\n",
    "# from data_modeling EXAMPLE 1 (Cosine, un-normalized), ['Attack on Titan'] input,\n",
    "# ['Sword Art Online', 'Dragon Ball Z', 'Code Geass: Lelouch of the Rebellion R2', \n",
    "#  'Death Note', 'One Punch Man'] output\n",
    "in_list = ['Attack on Titan', 'Attack on Titan: Since That Day', 'Attack on Titan: Crimson Bow and Arrow',\n",
    "           'Attack on Titan: Wings of Freedom', 'Attack on Titan Season 2', 'Attack on Titan: Junior High',\n",
    "           'Attack on Titan Season 3']\n",
    "insyn_list = []\n",
    "for t in in_list:\n",
    "    insyn_list.append(list(gen_df[gen_df['title_english'] == t]['studio_Madhouse'])[0])\n",
    "print(insyn_list)\n",
    "out_list = ['Gun Samurai Recap', 'Marches Comes in Like a Lion: Special Omnibus Episode',\n",
    "            'Berserk: Recollections of the Witch', 'So, I Can\\'t Play H!',\n",
    "            'Tsukigakirei: First Half - The Road So Far']\n",
    "outsyn_list = []\n",
    "for t in out_list:\n",
    "    outsyn_list.append(list(gen_df[gen_df['title_english'] == t]['studio_Madhouse'])[0])\n",
    "sumz = 0\n",
    "for syn in outsyn_list:\n",
    "    z = (std_z(syn, avg(insyn_list), f_stdv['studio_Madhouse']))\n",
    "    sumz += abs(z)\n",
    "    print(\">> \\t%s, \\t%s\"%(syn,z))\n",
    "\n",
    "print(\"AVG ST.Z: %s\"%(sumz/len(outsyn_list)))\n",
    "print(\"AVG SQ ST.Z: %s\"%(avg_std_z(outsyn_list,avg(insyn_list))))\n",
    "print(\"ABS MEAN DIFF: %s\"%(abs(mean(outsyn_list)-mean(insyn_list))))"
   ]
  },
  {
   "cell_type": "code",
   "execution_count": 39,
   "metadata": {},
   "outputs": [
    {
     "name": "stdout",
     "output_type": "stream",
     "text": [
      "Centuries ago, mankind was slaughtered to near extinction by monstrous humanoid creatures called titans, forcing humans to hide in fear behind enormous concentric walls. What makes these giants truly terrifying is that their taste for human flesh is not born out of hunger but what appears to be out ...\n",
      "Recap of the events in Shingeki no Kyojin that happened prior to episode 14....\n",
      "Recap of episodes 1-13....\n",
      "Recap of episodes 14-25....\n",
      "For centuries, humanity has been hunted by giant, mysterious predators known as the Titans. Three mighty walls—Wall Maria, Rose, and Sheena—provided peace and protection for humanity for over a hundred years. That peace, however, was shattered when the Colossus Titan and Armored Titan appeared and d...\n",
      "On his first day of junior high, Eren Yeager comes face-to-face with a titan—and has his lunch stolen! From that day on, he holds a grudge against titans for taking his favorite food from him, a cheeseburger, vowing to eliminate their kind once and for all. Along with his adoptive sister Mikasa Acke...\n",
      "Third season of the Shingeki no Kyojin....\n",
      ">> \tRecap of the first 11 episodes of 3-gatsu no Lion....\n",
      ">> \tRecap of the entire 25-episode television anime series with new cuts and also the unaired \"True End Episode\" that was included in the 10th Blu-ray Disc/DVD volume....\n",
      ">> \t1. State Alchemists vs Seven Homunculi A 10 minute film featuring: Ed, Al, Mustang and many other members of the State doing battle with the deadly Homonculi in an alternate reality Amestris. 2. Chibi Party (Enkai-hen) Short 6 minute Skit drawn in Super Deformed style where every character in the se...\n",
      ">> \tThe official website of the Shiki television anime series confirmed on Saturday that the anime's eighth and ninth Blu-ray Disc/DVD volumes will each include an unaired episode. The eighth volume will ship with Episode 21 and the unaired episode \"Dai Futatō to Han wa\" (a wordplay for \"Episode 20.5\") ...\n",
      ">> \tThe story revolves around a new team of \"Toei robot girls\" named \"Team Z\" that is made up of three girls based on Toei's Mazinger Z franchise: Mazinger Z, Great Mazinger, and UFO Robot Grendizer. Usually they perform in activities around Nerima ward in Tokyo to raise the awareness of the promising f...\n"
     ]
    }
   ],
   "source": [
    "# from data_modeling EXAMPLE 2 (Euclidean, normalized)\n",
    "# ['Attack on Titan', 'Attack on Titan: Since That Day', 'Attack on Titan: Crimson Bow and Arrow',\n",
    "#  'Attack on Titan: Wings of Freedom', 'Attack on Titan Season 2', 'Attack on Titan: Junior High',\n",
    "#  'Attack on Titan Season 3'] input,\n",
    "# ['Gun Samurai Recap', 'Marches Comes in Like a Lion: Special Omnibus Episode',\n",
    "#  'Berserk: Recollections of the Witch', 'So, I Can\\'t Play H!',\n",
    "#  'Tsukigakirei: First Half - The Road So Far'] output\n",
    "in_list = ['Attack on Titan', 'Attack on Titan: Since That Day', 'Attack on Titan: Crimson Bow and Arrow',\n",
    "           'Attack on Titan: Wings of Freedom', 'Attack on Titan Season 2', 'Attack on Titan: Junior High',\n",
    "           'Attack on Titan Season 3']\n",
    "insyn_list = list(out_df[out_df['title_english'].isin(in_list)]['synopsis'])\n",
    "for syn in insyn_list:\n",
    "    print(syn[:300]+\"...\")\n",
    "out_list = ['Marches Comes in Like a Lion: Special Omnibus Episode', \n",
    "            'Persona 4 the Animation: The Factor of Hope', \n",
    "            'Fullmetal Alchemist: Premium OVA Collection', 'Shiki Specials',\n",
    "            'Robot Girls Z']\n",
    "outsyn_list = []\n",
    "for t in out_list:\n",
    "    outsyn_list.append(list(out_df[out_df['title_english'] == t]['synopsis'])[0])\n",
    "for syn in outsyn_list:\n",
    "    print('>> \\t%s'%(syn[:300]+\"...\"))"
   ]
  },
  {
   "cell_type": "code",
   "execution_count": 228,
   "metadata": {},
   "outputs": [
    {
     "name": "stdout",
     "output_type": "stream",
     "text": [
      "[1038161, 36288, 20514, 15438, 439965, 43670, 154179]\n",
      ">> \t4589, \t-2.536569782554626\n",
      ">> \t3261, \t-2.550310277061114\n",
      ">> \t27630, \t-2.298170133515479\n",
      ">> \t28578, \t-2.2883614070153655\n",
      ">> \t6135, \t-2.5205736948234287\n",
      "AVG ST.Z: 2.4387970589940027\n",
      "AVG SQ ST.Z: 235987.95469514964\n"
     ]
    }
   ],
   "source": [
    "# SCORED_BY\n",
    "# from data_modeling EXAMPLE 1 (Cosine, un-normalized), ['Attack on Titan'] input,\n",
    "# ['Sword Art Online', 'Dragon Ball Z', 'Code Geass: Lelouch of the Rebellion R2', \n",
    "#  'Death Note', 'One Punch Man'] output\n",
    "in_list = ['Attack on Titan', 'Attack on Titan: Since That Day', 'Attack on Titan: Crimson Bow and Arrow',\n",
    "           'Attack on Titan: Wings of Freedom', 'Attack on Titan Season 2', 'Attack on Titan: Junior High',\n",
    "           'Attack on Titan Season 3']\n",
    "insyn_list = []\n",
    "for t in in_list:\n",
    "    insyn_list.append(list(gen_df[gen_df['title_english'] == t]['scored_by'])[0])\n",
    "print(insyn_list)\n",
    "out_list = ['Marches Comes in Like a Lion: Special Omnibus Episode', \n",
    "            'Persona 4 the Animation: The Factor of Hope', \n",
    "            'Fullmetal Alchemist: Premium OVA Collection', 'Shiki Specials',\n",
    "            'Robot Girls Z']\n",
    "outsyn_list = []\n",
    "for t in out_list:\n",
    "    outsyn_list.append(list(gen_df[gen_df['title_english'] == t]['scored_by'])[0])\n",
    "sumz = 0\n",
    "for syn in outsyn_list:\n",
    "    z = (std_z(syn, avg(insyn_list), f_stdv['scored_by']))\n",
    "    sumz += abs(z)\n",
    "    print(\">> \\t%s, \\t%s\"%(syn,z))\n",
    "\n",
    "print(\"AVG ST.Z: %s\"%(sumz/len(outsyn_list)))\n",
    "print(\"AVG SQ ST.Z: %s\"%(avg_std_z(outsyn_list,avg(insyn_list))))"
   ]
  },
  {
   "cell_type": "code",
   "execution_count": 229,
   "metadata": {},
   "outputs": [
    {
     "name": "stdout",
     "output_type": "stream",
     "text": [
      "[2, 1349, 1608, 1714, 41, 1050, 159]\n",
      ">> \t4185, \t1.1641555349776394\n",
      ">> \t3487, \t0.9207846662500703\n",
      ">> \t1605, \t0.26458985973820043\n",
      ">> \t1701, \t0.29806207090990045\n",
      ">> \t3234, \t0.8325714430579857\n",
      "AVG ST.Z: 0.6960327149867592\n",
      "AVG SQ ST.Z: 2241.9009836315618\n"
     ]
    }
   ],
   "source": [
    "# POPULARITY\n",
    "# from data_modeling EXAMPLE 1 (Cosine, un-normalized), ['Attack on Titan'] input,\n",
    "# ['Sword Art Online', 'Dragon Ball Z', 'Code Geass: Lelouch of the Rebellion R2', \n",
    "#  'Death Note', 'One Punch Man'] output\n",
    "in_list = ['Attack on Titan', 'Attack on Titan: Since That Day', 'Attack on Titan: Crimson Bow and Arrow',\n",
    "           'Attack on Titan: Wings of Freedom', 'Attack on Titan Season 2', 'Attack on Titan: Junior High',\n",
    "           'Attack on Titan Season 3']\n",
    "insyn_list = []\n",
    "for t in in_list:\n",
    "    insyn_list.append(list(gen_df[gen_df['title_english'] == t]['popularity'])[0])\n",
    "print(insyn_list)\n",
    "out_list = ['Marches Comes in Like a Lion: Special Omnibus Episode', \n",
    "            'Persona 4 the Animation: The Factor of Hope', \n",
    "            'Fullmetal Alchemist: Premium OVA Collection', 'Shiki Specials',\n",
    "            'Robot Girls Z']\n",
    "outsyn_list = []\n",
    "for t in out_list:\n",
    "    outsyn_list.append(list(gen_df[gen_df['title_english'] == t]['popularity'])[0])\n",
    "sumz = 0\n",
    "for syn in outsyn_list:\n",
    "    z = (std_z(syn, avg(insyn_list), f_stdv['popularity']))\n",
    "    sumz += abs(z)\n",
    "    print(\">> \\t%s, \\t%s\"%(syn,z))\n",
    "\n",
    "print(\"AVG ST.Z: %s\"%(sumz/len(outsyn_list)))\n",
    "print(\"AVG SQ ST.Z: %s\"%(avg_std_z(outsyn_list,avg(insyn_list))))"
   ]
  },
  {
   "cell_type": "code",
   "execution_count": 230,
   "metadata": {},
   "outputs": [
    {
     "name": "stdout",
     "output_type": "stream",
     "text": [
      "[25.0, 1.0, 1.0, 1.0, 12.0, 12.0, 12.0]\n",
      ">> \t1.0, \t-0.18119653709957603\n",
      ">> \t1.0, \t-0.18119653709957603\n",
      ">> \t3.0, \t-0.13669212447862752\n",
      ">> \t2.0, \t-0.15894433078910178\n",
      ">> \t3.0, \t-0.13669212447862752\n",
      "AVG ST.Z: 0.15894433078910178\n",
      "AVG SQ ST.Z: 7.1986393272107545\n"
     ]
    }
   ],
   "source": [
    "# EPISODES\n",
    "# from data_modeling EXAMPLE 1 (Cosine, un-normalized), ['Attack on Titan'] input,\n",
    "# ['Sword Art Online', 'Dragon Ball Z', 'Code Geass: Lelouch of the Rebellion R2', \n",
    "#  'Death Note', 'One Punch Man'] output\n",
    "in_list = ['Attack on Titan', 'Attack on Titan: Since That Day', 'Attack on Titan: Crimson Bow and Arrow',\n",
    "           'Attack on Titan: Wings of Freedom', 'Attack on Titan Season 2', 'Attack on Titan: Junior High',\n",
    "           'Attack on Titan Season 3']\n",
    "insyn_list = []\n",
    "for t in in_list:\n",
    "    insyn_list.append(list(gen_df[gen_df['title_english'] == t]['episodes'])[0])\n",
    "print(insyn_list)\n",
    "out_list = ['Marches Comes in Like a Lion: Special Omnibus Episode', \n",
    "            'Persona 4 the Animation: The Factor of Hope', \n",
    "            'Fullmetal Alchemist: Premium OVA Collection', 'Shiki Specials',\n",
    "            'Robot Girls Z']\n",
    "outsyn_list = []\n",
    "for t in out_list:\n",
    "    outsyn_list.append(list(gen_df[gen_df['title_english'] == t]['episodes'])[0])\n",
    "sumz = 0\n",
    "for syn in outsyn_list:\n",
    "    z = (std_z(syn, avg(insyn_list), f_stdv['episodes']))\n",
    "    sumz += abs(z)\n",
    "    print(\">> \\t%s, \\t%s\"%(syn,z))\n",
    "\n",
    "print(\"AVG ST.Z: %s\"%(sumz/len(outsyn_list)))\n",
    "print(\"AVG SQ ST.Z: %s\"%(avg_std_z(outsyn_list,avg(insyn_list))))"
   ]
  },
  {
   "cell_type": "code",
   "execution_count": 231,
   "metadata": {},
   "outputs": [
    {
     "name": "stdout",
     "output_type": "stream",
     "text": [
      "[116, 3529, 1166, 1002, 143, 3454, 113]\n",
      ">> \t4747, \t1.2373887399275059\n",
      ">> \t1879, \t0.1894761295004154\n",
      ">> \t2000, \t0.23368722638384565\n",
      ">> \t749, \t-0.22340436205558611\n",
      ">> \t5800, \t1.6221348971031426\n",
      "AVG ST.Z: 0.7012182709940992\n",
      "AVG SQ ST.Z: 2538.9160422093037\n"
     ]
    }
   ],
   "source": [
    "# RANK\n",
    "# from data_modeling EXAMPLE 1 (Cosine, un-normalized), ['Attack on Titan'] input,\n",
    "# ['Sword Art Online', 'Dragon Ball Z', 'Code Geass: Lelouch of the Rebellion R2', \n",
    "#  'Death Note', 'One Punch Man'] output\n",
    "in_list = ['Attack on Titan', 'Attack on Titan: Since That Day', 'Attack on Titan: Crimson Bow and Arrow',\n",
    "           'Attack on Titan: Wings of Freedom', 'Attack on Titan Season 2', 'Attack on Titan: Junior High',\n",
    "           'Attack on Titan Season 3']\n",
    "insyn_list = []\n",
    "for t in in_list:\n",
    "    insyn_list.append(list(gen_df[gen_df['title_english'] == t]['rank'])[0])\n",
    "print(insyn_list)\n",
    "out_list = ['Marches Comes in Like a Lion: Special Omnibus Episode', \n",
    "            'Persona 4 the Animation: The Factor of Hope', \n",
    "            'Fullmetal Alchemist: Premium OVA Collection', 'Shiki Specials',\n",
    "            'Robot Girls Z']\n",
    "outsyn_list = []\n",
    "for t in out_list:\n",
    "    outsyn_list.append(list(gen_df[gen_df['title_english'] == t]['rank'])[0])\n",
    "sumz = 0\n",
    "for syn in outsyn_list:\n",
    "    z = (std_z(syn, avg(insyn_list), f_stdv['rank']))\n",
    "    sumz += abs(z)\n",
    "    print(\">> \\t%s, \\t%s\"%(syn,z))\n",
    "\n",
    "print(\"AVG ST.Z: %s\"%(sumz/len(outsyn_list)))\n",
    "print(\"AVG SQ ST.Z: %s\"%(avg_std_z(outsyn_list,avg(insyn_list))))"
   ]
  },
  {
   "cell_type": "code",
   "execution_count": 232,
   "metadata": {},
   "outputs": [
    {
     "name": "stdout",
     "output_type": "stream",
     "text": [
      "[1500958, 68519, 52767, 48292, 781129, 89969, 394365]\n",
      ">> \t8811, \t-2.4998450646849495\n",
      ">> \t13700, \t-2.4700807593466076\n",
      ">> \t52727, \t-2.232483797914932\n",
      ">> \t48923, \t-2.255642606977532\n",
      ">> \t16045, \t-2.455804364170005\n",
      "AVG ST.Z: 2.382771318618805\n",
      "AVG SQ ST.Z: 391837.8825894501\n"
     ]
    }
   ],
   "source": [
    "# MEMBERS\n",
    "# from data_modeling EXAMPLE 1 (Cosine, un-normalized), ['Attack on Titan'] input,\n",
    "# ['Sword Art Online', 'Dragon Ball Z', 'Code Geass: Lelouch of the Rebellion R2', \n",
    "#  'Death Note', 'One Punch Man'] output\n",
    "in_list = ['Attack on Titan', 'Attack on Titan: Since That Day', 'Attack on Titan: Crimson Bow and Arrow',\n",
    "           'Attack on Titan: Wings of Freedom', 'Attack on Titan Season 2', 'Attack on Titan: Junior High',\n",
    "           'Attack on Titan Season 3']\n",
    "insyn_list = []\n",
    "for t in in_list:\n",
    "    insyn_list.append(list(gen_df[gen_df['title_english'] == t]['members'])[0])\n",
    "print(insyn_list)\n",
    "out_list = ['Marches Comes in Like a Lion: Special Omnibus Episode', \n",
    "            'Persona 4 the Animation: The Factor of Hope', \n",
    "            'Fullmetal Alchemist: Premium OVA Collection', 'Shiki Specials',\n",
    "            'Robot Girls Z']\n",
    "outsyn_list = []\n",
    "for t in out_list:\n",
    "    outsyn_list.append(list(gen_df[gen_df['title_english'] == t]['members'])[0])\n",
    "sumz = 0\n",
    "for syn in outsyn_list:\n",
    "    z = (std_z(syn, avg(insyn_list), f_stdv['members']))\n",
    "    sumz += abs(z)\n",
    "    print(\">> \\t%s, \\t%s\"%(syn,z))\n",
    "\n",
    "print(\"AVG ST.Z: %s\"%(sumz/len(outsyn_list)))\n",
    "print(\"AVG SQ ST.Z: %s\"%(avg_std_z(outsyn_list,avg(insyn_list))))"
   ]
  },
  {
   "cell_type": "code",
   "execution_count": 233,
   "metadata": {},
   "outputs": [
    {
     "name": "stdout",
     "output_type": "stream",
     "text": [
      "[70555, 166, 97, 88, 8670, 407, 3662]\n",
      ">> \t8, \t-1.9225910036346283\n",
      ">> \t15, \t-1.92146397783963\n",
      ">> \t101, \t-1.9076176609296533\n",
      ">> \t76, \t-1.9116427530546467\n",
      ">> \t14, \t-1.9216249815246298\n",
      "AVG ST.Z: 1.9169880753966375\n",
      "AVG SQ ST.Z: 11906.54704876648\n"
     ]
    }
   ],
   "source": [
    "# FAVORITES\n",
    "# from data_modeling EXAMPLE 1 (Cosine, un-normalized), ['Attack on Titan'] input,\n",
    "# ['Sword Art Online', 'Dragon Ball Z', 'Code Geass: Lelouch of the Rebellion R2', \n",
    "#  'Death Note', 'One Punch Man'] output\n",
    "in_list = ['Attack on Titan', 'Attack on Titan: Since That Day', 'Attack on Titan: Crimson Bow and Arrow',\n",
    "           'Attack on Titan: Wings of Freedom', 'Attack on Titan Season 2', 'Attack on Titan: Junior High',\n",
    "           'Attack on Titan Season 3']\n",
    "insyn_list = []\n",
    "for t in in_list:\n",
    "    insyn_list.append(list(gen_df[gen_df['title_english'] == t]['favorites'])[0])\n",
    "print(insyn_list)\n",
    "out_list = ['Marches Comes in Like a Lion: Special Omnibus Episode', \n",
    "            'Persona 4 the Animation: The Factor of Hope', \n",
    "            'Fullmetal Alchemist: Premium OVA Collection', 'Shiki Specials',\n",
    "            'Robot Girls Z']\n",
    "outsyn_list = []\n",
    "for t in out_list:\n",
    "    outsyn_list.append(list(gen_df[gen_df['title_english'] == t]['favorites'])[0])\n",
    "sumz = 0\n",
    "for syn in outsyn_list:\n",
    "    z = (std_z(syn, avg(insyn_list), f_stdv['favorites']))\n",
    "    sumz += abs(z)\n",
    "    print(\">> \\t%s, \\t%s\"%(syn,z))\n",
    "\n",
    "print(\"AVG ST.Z: %s\"%(sumz/len(outsyn_list)))\n",
    "print(\"AVG SQ ST.Z: %s\"%(avg_std_z(outsyn_list,avg(insyn_list))))"
   ]
  },
  {
   "cell_type": "code",
   "execution_count": 234,
   "metadata": {},
   "outputs": [
    {
     "name": "stdout",
     "output_type": "stream",
     "text": [
      "[1, 1, 1, 1, 1, 0, 1]\n",
      ">> \t0, \t-1.7546380429914956\n",
      ">> \t0, \t-1.7546380429914956\n",
      ">> \t0, \t-1.7546380429914956\n",
      ">> \t0, \t-1.7546380429914956\n",
      ">> \t0, \t-1.7546380429914956\n",
      "AVG ST.Z: 1.7546380429914954\n",
      "AVG SQ ST.Z: 0.8571428571428571\n",
      "ABS MEAN DIFF: 0.8571428571428571\n"
     ]
    }
   ],
   "source": [
    "# FAVORITES\n",
    "# from data_modeling EXAMPLE 1 (Cosine, un-normalized), ['Attack on Titan'] input,\n",
    "# ['Sword Art Online', 'Dragon Ball Z', 'Code Geass: Lelouch of the Rebellion R2', \n",
    "#  'Death Note', 'One Punch Man'] output\n",
    "in_list = ['Attack on Titan', 'Attack on Titan: Since That Day', 'Attack on Titan: Crimson Bow and Arrow',\n",
    "           'Attack on Titan: Wings of Freedom', 'Attack on Titan Season 2', 'Attack on Titan: Junior High',\n",
    "           'Attack on Titan Season 3']\n",
    "insyn_list = []\n",
    "for t in in_list:\n",
    "    insyn_list.append(list(gen_df[gen_df['title_english'] == t]['genre_Action'])[0])\n",
    "print(insyn_list)\n",
    "out_list = ['Marches Comes in Like a Lion: Special Omnibus Episode', \n",
    "            'Persona 4 the Animation: The Factor of Hope', \n",
    "            'Fullmetal Alchemist: Premium OVA Collection', 'Shiki Specials',\n",
    "            'Robot Girls Z']\n",
    "outsyn_list = []\n",
    "for t in out_list:\n",
    "    outsyn_list.append(list(gen_df[gen_df['title_english'] == t]['genre_Action'])[0])\n",
    "sumz = 0\n",
    "for syn in outsyn_list:\n",
    "    z = (std_z(syn, avg(insyn_list), f_stdv['genre_Action']))\n",
    "    sumz += abs(z)\n",
    "    print(\">> \\t%s, \\t%s\"%(syn,z))\n",
    "\n",
    "print(\"AVG ST.Z: %s\"%(sumz/len(outsyn_list)))\n",
    "print(\"AVG SQ ST.Z: %s\"%(avg_std_z(outsyn_list,avg(insyn_list))))\n",
    "print(\"ABS MEAN DIFF: %s\"%(abs(mean(outsyn_list)-mean(insyn_list))))"
   ]
  },
  {
   "cell_type": "code",
   "execution_count": 235,
   "metadata": {},
   "outputs": [
    {
     "name": "stdout",
     "output_type": "stream",
     "text": [
      "[0, 0, 0, 0, 0, 1, 0]\n",
      ">> \t0, \t-0.28718058231174237\n",
      ">> \t0, \t-0.28718058231174237\n",
      ">> \t1, \t1.7230834938704545\n",
      ">> \t0, \t-0.28718058231174237\n",
      ">> \t1, \t1.7230834938704545\n",
      "AVG ST.Z: 0.8615417469352271\n",
      "AVG SQ ST.Z: 0.5532833351724882\n",
      "ABS MEAN DIFF: 0.2571428571428572\n"
     ]
    }
   ],
   "source": [
    "# FAVORITES\n",
    "# from data_modeling EXAMPLE 1 (Cosine, un-normalized), ['Attack on Titan'] input,\n",
    "# ['Sword Art Online', 'Dragon Ball Z', 'Code Geass: Lelouch of the Rebellion R2', \n",
    "#  'Death Note', 'One Punch Man'] output\n",
    "in_list = ['Attack on Titan', 'Attack on Titan: Since That Day', 'Attack on Titan: Crimson Bow and Arrow',\n",
    "           'Attack on Titan: Wings of Freedom', 'Attack on Titan Season 2', 'Attack on Titan: Junior High',\n",
    "           'Attack on Titan Season 3']\n",
    "insyn_list = []\n",
    "for t in in_list:\n",
    "    insyn_list.append(list(gen_df[gen_df['title_english'] == t]['genre_Comedy'])[0])\n",
    "print(insyn_list)\n",
    "out_list = ['Marches Comes in Like a Lion: Special Omnibus Episode', \n",
    "            'Persona 4 the Animation: The Factor of Hope', \n",
    "            'Fullmetal Alchemist: Premium OVA Collection', 'Shiki Specials',\n",
    "            'Robot Girls Z']\n",
    "outsyn_list = []\n",
    "for t in out_list:\n",
    "    outsyn_list.append(list(gen_df[gen_df['title_english'] == t]['genre_Comedy'])[0])\n",
    "sumz = 0\n",
    "for syn in outsyn_list:\n",
    "    z = (std_z(syn, avg(insyn_list), f_stdv['genre_Comedy']))\n",
    "    sumz += abs(z)\n",
    "    print(\">> \\t%s, \\t%s\"%(syn,z))\n",
    "\n",
    "print(\"AVG ST.Z: %s\"%(sumz/len(outsyn_list)))\n",
    "print(\"AVG SQ ST.Z: %s\"%(avg_std_z(outsyn_list,avg(insyn_list))))\n",
    "print(\"ABS MEAN DIFF: %s\"%(abs(mean(outsyn_list)-mean(insyn_list))))"
   ]
  },
  {
   "cell_type": "code",
   "execution_count": 236,
   "metadata": {},
   "outputs": [
    {
     "name": "stdout",
     "output_type": "stream",
     "text": [
      "[1, 0, 0, 0, 1, 0, 1]\n",
      ">> \t0, \t-1.4971562248554138\n",
      ">> \t1, \t1.9962082998072184\n",
      ">> \t0, \t-1.4971562248554138\n",
      ">> \t1, \t1.9962082998072184\n",
      ">> \t0, \t-1.4971562248554138\n",
      "AVG ST.Z: 1.6967770548361358\n",
      "AVG SQ ST.Z: 0.490730401066219\n",
      "ABS MEAN DIFF: 0.028571428571428525\n"
     ]
    }
   ],
   "source": [
    "# FAVORITES\n",
    "# from data_modeling EXAMPLE 1 (Cosine, un-normalized), ['Attack on Titan'] input,\n",
    "# ['Sword Art Online', 'Dragon Ball Z', 'Code Geass: Lelouch of the Rebellion R2', \n",
    "#  'Death Note', 'One Punch Man'] output\n",
    "in_list = ['Attack on Titan', 'Attack on Titan: Since That Day', 'Attack on Titan: Crimson Bow and Arrow',\n",
    "           'Attack on Titan: Wings of Freedom', 'Attack on Titan Season 2', 'Attack on Titan: Junior High',\n",
    "           'Attack on Titan Season 3']\n",
    "insyn_list = []\n",
    "for t in in_list:\n",
    "    insyn_list.append(list(gen_df[gen_df['title_english'] == t]['genre_Mystery'])[0])\n",
    "print(insyn_list)\n",
    "out_list = ['Marches Comes in Like a Lion: Special Omnibus Episode', \n",
    "            'Persona 4 the Animation: The Factor of Hope', \n",
    "            'Fullmetal Alchemist: Premium OVA Collection', 'Shiki Specials',\n",
    "            'Robot Girls Z']\n",
    "outsyn_list = []\n",
    "for t in out_list:\n",
    "    outsyn_list.append(list(gen_df[gen_df['title_english'] == t]['genre_Mystery'])[0])\n",
    "sumz = 0\n",
    "for syn in outsyn_list:\n",
    "    z = (std_z(syn, avg(insyn_list), f_stdv['genre_Mystery']))\n",
    "    sumz += abs(z)\n",
    "    print(\">> \\t%s, \\t%s\"%(syn,z))\n",
    "\n",
    "print(\"AVG ST.Z: %s\"%(sumz/len(outsyn_list)))\n",
    "print(\"AVG SQ ST.Z: %s\"%(avg_std_z(outsyn_list,avg(insyn_list))))\n",
    "print(\"ABS MEAN DIFF: %s\"%(abs(mean(outsyn_list)-mean(insyn_list))))"
   ]
  },
  {
   "cell_type": "code",
   "execution_count": 237,
   "metadata": {},
   "outputs": [
    {
     "name": "stdout",
     "output_type": "stream",
     "text": [
      "[0, 0, 0, 0, 0, 0, 0]\n",
      ">> \t0, \t0.0\n",
      ">> \t0, \t0.0\n",
      ">> \t0, \t0.0\n",
      ">> \t0, \t0.0\n",
      ">> \t0, \t0.0\n",
      "AVG ST.Z: 0.0\n",
      "AVG SQ ST.Z: 0.0\n",
      "ABS MEAN DIFF: 0\n"
     ]
    }
   ],
   "source": [
    "# FAVORITES\n",
    "# from data_modeling EXAMPLE 1 (Cosine, un-normalized), ['Attack on Titan'] input,\n",
    "# ['Sword Art Online', 'Dragon Ball Z', 'Code Geass: Lelouch of the Rebellion R2', \n",
    "#  'Death Note', 'One Punch Man'] output\n",
    "in_list = ['Attack on Titan', 'Attack on Titan: Since That Day', 'Attack on Titan: Crimson Bow and Arrow',\n",
    "           'Attack on Titan: Wings of Freedom', 'Attack on Titan Season 2', 'Attack on Titan: Junior High',\n",
    "           'Attack on Titan Season 3']\n",
    "insyn_list = []\n",
    "for t in in_list:\n",
    "    insyn_list.append(list(gen_df[gen_df['title_english'] == t]['studio_Madhouse'])[0])\n",
    "print(insyn_list)\n",
    "out_list = ['Marches Comes in Like a Lion: Special Omnibus Episode', \n",
    "            'Persona 4 the Animation: The Factor of Hope', \n",
    "            'Fullmetal Alchemist: Premium OVA Collection', 'Shiki Specials',\n",
    "            'Robot Girls Z']\n",
    "outsyn_list = []\n",
    "for t in out_list:\n",
    "    outsyn_list.append(list(gen_df[gen_df['title_english'] == t]['studio_Madhouse'])[0])\n",
    "sumz = 0\n",
    "for syn in outsyn_list:\n",
    "    z = (std_z(syn, avg(insyn_list), f_stdv['studio_Madhouse']))\n",
    "    sumz += abs(z)\n",
    "    print(\">> \\t%s, \\t%s\"%(syn,z))\n",
    "\n",
    "print(\"AVG ST.Z: %s\"%(sumz/len(outsyn_list)))\n",
    "print(\"AVG SQ ST.Z: %s\"%(avg_std_z(outsyn_list,avg(insyn_list))))\n",
    "print(\"ABS MEAN DIFF: %s\"%(abs(mean(outsyn_list)-mean(insyn_list))))"
   ]
  },
  {
   "cell_type": "code",
   "execution_count": 46,
   "metadata": {},
   "outputs": [
    {
     "name": "stdout",
     "output_type": "stream",
     "text": [
      "Centuries ago, mankind was slaughtered to near extinction by monstrous humanoid creatures called titans, forcing humans to hide in fear behind enormous concentric walls. What makes these giants truly terrifying is that their taste for human flesh is not born out of hunger but what appears to be out ...\n",
      "Recap of the events in Shingeki no Kyojin that happened prior to episode 14....\n",
      "Recap of episodes 1-13....\n",
      "Recap of episodes 14-25....\n",
      "For centuries, humanity has been hunted by giant, mysterious predators known as the Titans. Three mighty walls—Wall Maria, Rose, and Sheena—provided peace and protection for humanity for over a hundred years. That peace, however, was shattered when the Colossus Titan and Armored Titan appeared and d...\n",
      "On his first day of junior high, Eren Yeager comes face-to-face with a titan—and has his lunch stolen! From that day on, he holds a grudge against titans for taking his favorite food from him, a cheeseburger, vowing to eliminate their kind once and for all. Along with his adoptive sister Mikasa Acke...\n",
      "Third season of the Shingeki no Kyojin....\n",
      ">> \tAs Kobayashi sets off for another day at work, she opens her apartment door only to be met by an unusually frightening sight—the head of a dragon, staring at her from across the balcony. The dragon immediately transforms into a cute, busty, and energetic young girl dressed in a maid outfit, introduc...\n",
      ">> \tYoukai Academy is a seemingly normal boarding school, except that its pupils are monsters learning to coexist with humans. All students attend in human form and take normal academic subjects, such as literature, gym, foreign language, and mathematics. However, there is one golden rule at Youkai Acad...\n",
      ">> \tYahari Ore no Seishun Love Comedy wa Machigatteiru. Zoku picks up immediately after the events of the first season, continuing the adventures of the Volunteer Service Club—the dispassionate Hachiman Hikigaya, the cheerful Yui Yuigahama, and the competitive Yukino Yukinoshita—as it dedicates itself t...\n",
      ">> \tOff-duty Japan Self-Defense Forces (JSDF) officer and otaku, Youji Itami, is on his way to attend a doujin convention in Ginza, Tokyo when a mysterious portal in the shape of a large gate suddenly appears. From this gate, supernatural creatures and warriors clad in medieval armor emerge, charging th...\n",
      ">> \tKujo Jotaro is a normal, popular Japanese high-schooler, until he thinks that he is possessed by a spirit, and locks himself in prison. After seeing his grandfather, Joseph Joestar, and fighting Joseph's friend Muhammad Abdul, Jotaro learns that the \"Spirit\" is actually Star Platinum, his Stand, or ...\n"
     ]
    }
   ],
   "source": [
    "# from data_modeling EXAMPLE 2 (Euclidean, un-normalized)\n",
    "# ['Attack on Titan', 'Attack on Titan: Since That Day', 'Attack on Titan: Crimson Bow and Arrow',\n",
    "#  'Attack on Titan: Wings of Freedom', 'Attack on Titan Season 2', 'Attack on Titan: Junior High',\n",
    "#  'Attack on Titan Season 3'] input,\n",
    "# ['Gun Samurai Recap', 'Marches Comes in Like a Lion: Special Omnibus Episode',\n",
    "#  'Berserk: Recollections of the Witch', 'So, I Can\\'t Play H!',\n",
    "#  'Tsukigakirei: First Half - The Road So Far'] output\n",
    "in_list = ['Attack on Titan', 'Attack on Titan: Since That Day', 'Attack on Titan: Crimson Bow and Arrow',\n",
    "           'Attack on Titan: Wings of Freedom', 'Attack on Titan Season 2', 'Attack on Titan: Junior High',\n",
    "           'Attack on Titan Season 3']\n",
    "insyn_list = list(out_df[out_df['title_english'].isin(in_list)]['synopsis'])\n",
    "for syn in insyn_list:\n",
    "    print(syn[:300]+\"...\")\n",
    "out_list = ['Miss Kobayashi\\'s Dragon Maid', 'Rosario + Vampire', \n",
    "            'My Teen Romantic Comedy SNAFU TOO!', 'GATE',\n",
    "            'JoJo\\'s Bizarre Adventure']\n",
    "outsyn_list = []\n",
    "for t in out_list:\n",
    "    outsyn_list.append(list(out_df[out_df['title_english'] == t]['synopsis'])[0])\n",
    "for syn in outsyn_list:\n",
    "    print('>> \\t%s'%(syn[:300]+\"...\"))"
   ]
  },
  {
   "cell_type": "code",
   "execution_count": 238,
   "metadata": {},
   "outputs": [
    {
     "name": "stdout",
     "output_type": "stream",
     "text": [
      "[1038161, 36288, 20514, 15438, 439965, 43670, 154179]\n",
      ">> \t244021, \t-0.05922484228549446\n",
      ">> \t245586, \t-0.043032166153978244\n",
      ">> \t251353, \t0.016637586721711232\n",
      ">> \t235214, \t-0.15034873921218028\n",
      ">> \t14356, \t-2.435512998032889\n",
      "AVG ST.Z: 0.5409512664812507\n",
      "AVG SQ ST.Z: 105519.45640781135\n"
     ]
    }
   ],
   "source": [
    "# SCORED_BY\n",
    "# from data_modeling EXAMPLE 1 (Cosine, un-normalized), ['Attack on Titan'] input,\n",
    "# ['Sword Art Online', 'Dragon Ball Z', 'Code Geass: Lelouch of the Rebellion R2', \n",
    "#  'Death Note', 'One Punch Man'] output\n",
    "in_list = ['Attack on Titan', 'Attack on Titan: Since That Day', 'Attack on Titan: Crimson Bow and Arrow',\n",
    "           'Attack on Titan: Wings of Freedom', 'Attack on Titan Season 2', 'Attack on Titan: Junior High',\n",
    "           'Attack on Titan Season 3']\n",
    "insyn_list = []\n",
    "for t in in_list:\n",
    "    insyn_list.append(list(gen_df[gen_df['title_english'] == t]['scored_by'])[0])\n",
    "print(insyn_list)\n",
    "out_list = ['Miss Kobayashi\\'s Dragon Maid', 'Rosario + Vampire', \n",
    "            'My Teen Romantic Comedy SNAFU TOO!', 'GATE',\n",
    "            'JoJo\\'s Bizarre Adventure']\n",
    "outsyn_list = []\n",
    "for t in out_list:\n",
    "    outsyn_list.append(list(gen_df[gen_df['title_english'] == t]['scored_by'])[0])\n",
    "sumz = 0\n",
    "for syn in outsyn_list:\n",
    "    z = (std_z(syn, avg(insyn_list), f_stdv['scored_by']))\n",
    "    sumz += abs(z)\n",
    "    print(\">> \\t%s, \\t%s\"%(syn,z))\n",
    "\n",
    "print(\"AVG ST.Z: %s\"%(sumz/len(outsyn_list)))\n",
    "print(\"AVG SQ ST.Z: %s\"%(avg_std_z(outsyn_list,avg(insyn_list))))"
   ]
  },
  {
   "cell_type": "code",
   "execution_count": 239,
   "metadata": {},
   "outputs": [
    {
     "name": "stdout",
     "output_type": "stream",
     "text": [
      "[2, 1349, 1608, 1714, 41, 1050, 159]\n",
      ">> \t134, \t-0.2483020426948285\n",
      ">> \t143, \t-0.24516402289748163\n",
      ">> \t148, \t-0.24342067856562224\n",
      ">> \t139, \t-0.24655869836296912\n",
      ">> \t2139, \t0.45077903438078193\n",
      "AVG ST.Z: 0.2868448953803367\n",
      "AVG SQ ST.Z: 855.6274174843979\n"
     ]
    }
   ],
   "source": [
    "# POPULARITY\n",
    "# from data_modeling EXAMPLE 1 (Cosine, un-normalized), ['Attack on Titan'] input,\n",
    "# ['Sword Art Online', 'Dragon Ball Z', 'Code Geass: Lelouch of the Rebellion R2', \n",
    "#  'Death Note', 'One Punch Man'] output\n",
    "in_list = ['Attack on Titan', 'Attack on Titan: Since That Day', 'Attack on Titan: Crimson Bow and Arrow',\n",
    "           'Attack on Titan: Wings of Freedom', 'Attack on Titan Season 2', 'Attack on Titan: Junior High',\n",
    "           'Attack on Titan Season 3']\n",
    "insyn_list = []\n",
    "for t in in_list:\n",
    "    insyn_list.append(list(gen_df[gen_df['title_english'] == t]['popularity'])[0])\n",
    "print(insyn_list)\n",
    "out_list = ['Miss Kobayashi\\'s Dragon Maid', 'Rosario + Vampire', \n",
    "            'My Teen Romantic Comedy SNAFU TOO!', 'GATE',\n",
    "            'JoJo\\'s Bizarre Adventure']\n",
    "outsyn_list = []\n",
    "for t in out_list:\n",
    "    outsyn_list.append(list(gen_df[gen_df['title_english'] == t]['popularity'])[0])\n",
    "sumz = 0\n",
    "for syn in outsyn_list:\n",
    "    z = (std_z(syn, avg(insyn_list), f_stdv['popularity']))\n",
    "    sumz += abs(z)\n",
    "    print(\">> \\t%s, \\t%s\"%(syn,z))\n",
    "\n",
    "print(\"AVG ST.Z: %s\"%(sumz/len(outsyn_list)))\n",
    "print(\"AVG SQ ST.Z: %s\"%(avg_std_z(outsyn_list,avg(insyn_list))))"
   ]
  },
  {
   "cell_type": "code",
   "execution_count": 240,
   "metadata": {},
   "outputs": [
    {
     "name": "stdout",
     "output_type": "stream",
     "text": [
      "[25.0, 1.0, 1.0, 1.0, 12.0, 12.0, 12.0]\n",
      ">> \t13.0, \t0.08582993862611497\n",
      ">> \t13.0, \t0.08582993862611497\n",
      ">> \t13.0, \t0.08582993862611497\n",
      ">> \t12.0, \t0.06357773231564072\n",
      ">> \t7.0, \t-0.04768329923673052\n",
      "AVG ST.Z: 0.07375016948614324\n",
      "AVG SQ ST.Z: 3.387853453207232\n"
     ]
    }
   ],
   "source": [
    "# EPISODES\n",
    "# from data_modeling EXAMPLE 1 (Cosine, un-normalized), ['Attack on Titan'] input,\n",
    "# ['Sword Art Online', 'Dragon Ball Z', 'Code Geass: Lelouch of the Rebellion R2', \n",
    "#  'Death Note', 'One Punch Man'] output\n",
    "in_list = ['Attack on Titan', 'Attack on Titan: Since That Day', 'Attack on Titan: Crimson Bow and Arrow',\n",
    "           'Attack on Titan: Wings of Freedom', 'Attack on Titan Season 2', 'Attack on Titan: Junior High',\n",
    "           'Attack on Titan Season 3']\n",
    "insyn_list = []\n",
    "for t in in_list:\n",
    "    insyn_list.append(list(gen_df[gen_df['title_english'] == t]['episodes'])[0])\n",
    "print(insyn_list)\n",
    "out_list = ['Miss Kobayashi\\'s Dragon Maid', 'Rosario + Vampire', \n",
    "            'My Teen Romantic Comedy SNAFU TOO!', 'GATE',\n",
    "            'JoJo\\'s Bizarre Adventure']\n",
    "outsyn_list = []\n",
    "for t in out_list:\n",
    "    outsyn_list.append(list(gen_df[gen_df['title_english'] == t]['episodes'])[0])\n",
    "sumz = 0\n",
    "for syn in outsyn_list:\n",
    "    z = (std_z(syn, avg(insyn_list), f_stdv['episodes']))\n",
    "    sumz += abs(z)\n",
    "    print(\">> \\t%s, \\t%s\"%(syn,z))\n",
    "\n",
    "print(\"AVG ST.Z: %s\"%(sumz/len(outsyn_list)))\n",
    "print(\"AVG SQ ST.Z: %s\"%(avg_std_z(outsyn_list,avg(insyn_list))))"
   ]
  },
  {
   "cell_type": "code",
   "execution_count": 241,
   "metadata": {},
   "outputs": [
    {
     "name": "stdout",
     "output_type": "stream",
     "text": [
      "[116, 3529, 1166, 1002, 143, 3454, 113]\n",
      ">> \t359, \t-0.36590293878730346\n",
      ">> \t3569, \t0.8069699620045238\n",
      ">> \t271, \t-0.39805646379343457\n",
      ">> \t758, \t-0.22011593336177726\n",
      ">> \t2818, \t0.5325688565544733\n",
      "AVG ST.Z: 0.4647228309003024\n",
      "AVG SQ ST.Z: 1382.3846211587881\n"
     ]
    }
   ],
   "source": [
    "# RANK\n",
    "# from data_modeling EXAMPLE 1 (Cosine, un-normalized), ['Attack on Titan'] input,\n",
    "# ['Sword Art Online', 'Dragon Ball Z', 'Code Geass: Lelouch of the Rebellion R2', \n",
    "#  'Death Note', 'One Punch Man'] output\n",
    "in_list = ['Attack on Titan', 'Attack on Titan: Since That Day', 'Attack on Titan: Crimson Bow and Arrow',\n",
    "           'Attack on Titan: Wings of Freedom', 'Attack on Titan Season 2', 'Attack on Titan: Junior High',\n",
    "           'Attack on Titan Season 3']\n",
    "insyn_list = []\n",
    "for t in in_list:\n",
    "    insyn_list.append(list(gen_df[gen_df['title_english'] == t]['rank'])[0])\n",
    "print(insyn_list)\n",
    "out_list = ['Miss Kobayashi\\'s Dragon Maid', 'Rosario + Vampire', \n",
    "            'My Teen Romantic Comedy SNAFU TOO!', 'GATE',\n",
    "            'JoJo\\'s Bizarre Adventure']\n",
    "outsyn_list = []\n",
    "for t in out_list:\n",
    "    outsyn_list.append(list(gen_df[gen_df['title_english'] == t]['rank'])[0])\n",
    "sumz = 0\n",
    "for syn in outsyn_list:\n",
    "    z = (std_z(syn, avg(insyn_list), f_stdv['rank']))\n",
    "    sumz += abs(z)\n",
    "    print(\">> \\t%s, \\t%s\"%(syn,z))\n",
    "\n",
    "print(\"AVG ST.Z: %s\"%(sumz/len(outsyn_list)))\n",
    "print(\"AVG SQ ST.Z: %s\"%(avg_std_z(outsyn_list,avg(insyn_list))))"
   ]
  },
  {
   "cell_type": "code",
   "execution_count": 242,
   "metadata": {},
   "outputs": [
    {
     "name": "stdout",
     "output_type": "stream",
     "text": [
      "[1500958, 68519, 52767, 48292, 781129, 89969, 394365]\n",
      ">> \t426274, \t0.041675941545393294\n",
      ">> \t414882, \t-0.027678725342393323\n",
      ">> \t405743, \t-0.08331709443363998\n",
      ">> \t419943, \t0.0031327185760659532\n",
      ">> \t34055, \t-2.346159214007695\n",
      "AVG ST.Z: 0.5003927387810375\n",
      "AVG SQ ST.Z: 172492.18361930232\n"
     ]
    }
   ],
   "source": [
    "# MEMBERS\n",
    "# from data_modeling EXAMPLE 1 (Cosine, un-normalized), ['Attack on Titan'] input,\n",
    "# ['Sword Art Online', 'Dragon Ball Z', 'Code Geass: Lelouch of the Rebellion R2', \n",
    "#  'Death Note', 'One Punch Man'] output\n",
    "in_list = ['Attack on Titan', 'Attack on Titan: Since That Day', 'Attack on Titan: Crimson Bow and Arrow',\n",
    "           'Attack on Titan: Wings of Freedom', 'Attack on Titan Season 2', 'Attack on Titan: Junior High',\n",
    "           'Attack on Titan Season 3']\n",
    "insyn_list = []\n",
    "for t in in_list:\n",
    "    insyn_list.append(list(gen_df[gen_df['title_english'] == t]['members'])[0])\n",
    "print(insyn_list)\n",
    "out_list = ['Miss Kobayashi\\'s Dragon Maid', 'Rosario + Vampire', \n",
    "            'My Teen Romantic Comedy SNAFU TOO!', 'GATE',\n",
    "            'JoJo\\'s Bizarre Adventure']\n",
    "outsyn_list = []\n",
    "for t in out_list:\n",
    "    outsyn_list.append(list(gen_df[gen_df['title_english'] == t]['members'])[0])\n",
    "sumz = 0\n",
    "for syn in outsyn_list:\n",
    "    z = (std_z(syn, avg(insyn_list), f_stdv['members']))\n",
    "    sumz += abs(z)\n",
    "    print(\">> \\t%s, \\t%s\"%(syn,z))\n",
    "\n",
    "print(\"AVG ST.Z: %s\"%(sumz/len(outsyn_list)))\n",
    "print(\"AVG SQ ST.Z: %s\"%(avg_std_z(outsyn_list,avg(insyn_list))))"
   ]
  },
  {
   "cell_type": "code",
   "execution_count": 243,
   "metadata": {},
   "outputs": [
    {
     "name": "stdout",
     "output_type": "stream",
     "text": [
      "[70555, 166, 97, 88, 8670, 407, 3662]\n",
      ">> \t7684, \t-0.6867267175767038\n",
      ">> \t3262, \t-1.3986850126455082\n",
      ">> \t10758, \t-0.19180138988753495\n",
      ">> \t4266, \t-1.2370373129057795\n",
      ">> \t166, \t-1.8971524214046709\n",
      "AVG ST.Z: 1.0822805708840395\n",
      "AVG SQ ST.Z: 7654.534062253827\n"
     ]
    }
   ],
   "source": [
    "# FAVORITES\n",
    "# from data_modeling EXAMPLE 1 (Cosine, un-normalized), ['Attack on Titan'] input,\n",
    "# ['Sword Art Online', 'Dragon Ball Z', 'Code Geass: Lelouch of the Rebellion R2', \n",
    "#  'Death Note', 'One Punch Man'] output\n",
    "in_list = ['Attack on Titan', 'Attack on Titan: Since That Day', 'Attack on Titan: Crimson Bow and Arrow',\n",
    "           'Attack on Titan: Wings of Freedom', 'Attack on Titan Season 2', 'Attack on Titan: Junior High',\n",
    "           'Attack on Titan Season 3']\n",
    "insyn_list = []\n",
    "for t in in_list:\n",
    "    insyn_list.append(list(gen_df[gen_df['title_english'] == t]['favorites'])[0])\n",
    "print(insyn_list)\n",
    "out_list = ['Miss Kobayashi\\'s Dragon Maid', 'Rosario + Vampire', \n",
    "            'My Teen Romantic Comedy SNAFU TOO!', 'GATE',\n",
    "            'JoJo\\'s Bizarre Adventure']\n",
    "outsyn_list = []\n",
    "for t in out_list:\n",
    "    outsyn_list.append(list(gen_df[gen_df['title_english'] == t]['favorites'])[0])\n",
    "sumz = 0\n",
    "for syn in outsyn_list:\n",
    "    z = (std_z(syn, avg(insyn_list), f_stdv['favorites']))\n",
    "    sumz += abs(z)\n",
    "    print(\">> \\t%s, \\t%s\"%(syn,z))\n",
    "\n",
    "print(\"AVG ST.Z: %s\"%(sumz/len(outsyn_list)))\n",
    "print(\"AVG SQ ST.Z: %s\"%(avg_std_z(outsyn_list,avg(insyn_list))))"
   ]
  },
  {
   "cell_type": "code",
   "execution_count": 244,
   "metadata": {},
   "outputs": [
    {
     "name": "stdout",
     "output_type": "stream",
     "text": [
      "[1, 1, 1, 1, 1, 0, 1]\n",
      ">> \t0, \t-1.7546380429914956\n",
      ">> \t0, \t-1.7546380429914956\n",
      ">> \t0, \t-1.7546380429914956\n",
      ">> \t1, \t0.29243967383191605\n",
      ">> \t0, \t-1.7546380429914956\n",
      "AVG ST.Z: 1.4621983691595797\n",
      "AVG SQ ST.Z: 0.769309258162072\n",
      "ABS MEAN DIFF: 0.657142857142857\n"
     ]
    }
   ],
   "source": [
    "# for 'genre_Action'\n",
    "# from data_modeling EXAMPLE 1 (Cosine, un-normalized), ['Attack on Titan'] input,\n",
    "# ['Sword Art Online', 'Dragon Ball Z', 'Code Geass: Lelouch of the Rebellion R2', \n",
    "#  'Death Note', 'One Punch Man'] output\n",
    "in_list = ['Attack on Titan', 'Attack on Titan: Since That Day', 'Attack on Titan: Crimson Bow and Arrow',\n",
    "           'Attack on Titan: Wings of Freedom', 'Attack on Titan Season 2', 'Attack on Titan: Junior High',\n",
    "           'Attack on Titan Season 3']\n",
    "insyn_list = []\n",
    "for t in in_list:\n",
    "    insyn_list.append(list(gen_df[gen_df['title_english'] == t]['genre_Action'])[0])\n",
    "print(insyn_list)\n",
    "out_list = ['Miss Kobayashi\\'s Dragon Maid', 'Rosario + Vampire', \n",
    "            'My Teen Romantic Comedy SNAFU TOO!', 'GATE',\n",
    "            'JoJo\\'s Bizarre Adventure']\n",
    "outsyn_list = []\n",
    "for t in out_list:\n",
    "    outsyn_list.append(list(gen_df[gen_df['title_english'] == t]['genre_Action'])[0])\n",
    "sumz = 0\n",
    "for syn in outsyn_list:\n",
    "    z = (std_z(syn, avg(insyn_list), f_stdv['genre_Action']))\n",
    "    sumz += abs(z)\n",
    "    print(\">> \\t%s, \\t%s\"%(syn,z))\n",
    "\n",
    "print(\"AVG ST.Z: %s\"%(sumz/len(outsyn_list)))\n",
    "print(\"AVG SQ ST.Z: %s\"%(avg_std_z(outsyn_list,avg(insyn_list))))\n",
    "print(\"ABS MEAN DIFF: %s\"%(abs(mean(outsyn_list)-mean(insyn_list))))"
   ]
  },
  {
   "cell_type": "code",
   "execution_count": 245,
   "metadata": {},
   "outputs": [
    {
     "name": "stdout",
     "output_type": "stream",
     "text": [
      "[0, 0, 0, 0, 0, 1, 0]\n",
      ">> \t1, \t1.7230834938704545\n",
      ">> \t1, \t1.7230834938704545\n",
      ">> \t1, \t1.7230834938704545\n",
      ">> \t0, \t-0.28718058231174237\n",
      ">> \t0, \t-0.28718058231174237\n",
      "AVG ST.Z: 1.1487223292469695\n",
      "AVG SQ ST.Z: 0.67005939426049\n",
      "ABS MEAN DIFF: 0.45714285714285713\n"
     ]
    }
   ],
   "source": [
    "# for 'genre_Action'\n",
    "# from data_modeling EXAMPLE 1 (Cosine, un-normalized), ['Attack on Titan'] input,\n",
    "# ['Sword Art Online', 'Dragon Ball Z', 'Code Geass: Lelouch of the Rebellion R2', \n",
    "#  'Death Note', 'One Punch Man'] output\n",
    "in_list = ['Attack on Titan', 'Attack on Titan: Since That Day', 'Attack on Titan: Crimson Bow and Arrow',\n",
    "           'Attack on Titan: Wings of Freedom', 'Attack on Titan Season 2', 'Attack on Titan: Junior High',\n",
    "           'Attack on Titan Season 3']\n",
    "insyn_list = []\n",
    "for t in in_list:\n",
    "    insyn_list.append(list(gen_df[gen_df['title_english'] == t]['genre_Comedy'])[0])\n",
    "print(insyn_list)\n",
    "out_list = ['Miss Kobayashi\\'s Dragon Maid', 'Rosario + Vampire', \n",
    "            'My Teen Romantic Comedy SNAFU TOO!', 'GATE',\n",
    "            'JoJo\\'s Bizarre Adventure']\n",
    "outsyn_list = []\n",
    "for t in out_list:\n",
    "    outsyn_list.append(list(gen_df[gen_df['title_english'] == t]['genre_Comedy'])[0])\n",
    "sumz = 0\n",
    "for syn in outsyn_list:\n",
    "    z = (std_z(syn, avg(insyn_list), f_stdv['genre_Comedy']))\n",
    "    sumz += abs(z)\n",
    "    print(\">> \\t%s, \\t%s\"%(syn,z))\n",
    "\n",
    "print(\"AVG ST.Z: %s\"%(sumz/len(outsyn_list)))\n",
    "print(\"AVG SQ ST.Z: %s\"%(avg_std_z(outsyn_list,avg(insyn_list))))\n",
    "print(\"ABS MEAN DIFF: %s\"%(abs(mean(outsyn_list)-mean(insyn_list))))"
   ]
  },
  {
   "cell_type": "code",
   "execution_count": 246,
   "metadata": {},
   "outputs": [
    {
     "name": "stdout",
     "output_type": "stream",
     "text": [
      "[1, 0, 0, 0, 1, 0, 1]\n",
      ">> \t0, \t-1.4971562248554138\n",
      ">> \t0, \t-1.4971562248554138\n",
      ">> \t0, \t-1.4971562248554138\n",
      ">> \t0, \t-1.4971562248554138\n",
      ">> \t0, \t-1.4971562248554138\n",
      "AVG ST.Z: 1.4971562248554138\n",
      "AVG SQ ST.Z: 0.42857142857142855\n",
      "ABS MEAN DIFF: 0.42857142857142855\n"
     ]
    }
   ],
   "source": [
    "# for 'genre_Action'\n",
    "# from data_modeling EXAMPLE 1 (Cosine, un-normalized), ['Attack on Titan'] input,\n",
    "# ['Sword Art Online', 'Dragon Ball Z', 'Code Geass: Lelouch of the Rebellion R2', \n",
    "#  'Death Note', 'One Punch Man'] output\n",
    "in_list = ['Attack on Titan', 'Attack on Titan: Since That Day', 'Attack on Titan: Crimson Bow and Arrow',\n",
    "           'Attack on Titan: Wings of Freedom', 'Attack on Titan Season 2', 'Attack on Titan: Junior High',\n",
    "           'Attack on Titan Season 3']\n",
    "insyn_list = []\n",
    "for t in in_list:\n",
    "    insyn_list.append(list(gen_df[gen_df['title_english'] == t]['genre_Mystery'])[0])\n",
    "print(insyn_list)\n",
    "out_list = ['Miss Kobayashi\\'s Dragon Maid', 'Rosario + Vampire', \n",
    "            'My Teen Romantic Comedy SNAFU TOO!', 'GATE',\n",
    "            'JoJo\\'s Bizarre Adventure']\n",
    "outsyn_list = []\n",
    "for t in out_list:\n",
    "    outsyn_list.append(list(gen_df[gen_df['title_english'] == t]['genre_Mystery'])[0])\n",
    "sumz = 0\n",
    "for syn in outsyn_list:\n",
    "    z = (std_z(syn, avg(insyn_list), f_stdv['genre_Mystery']))\n",
    "    sumz += abs(z)\n",
    "    print(\">> \\t%s, \\t%s\"%(syn,z))\n",
    "\n",
    "print(\"AVG ST.Z: %s\"%(sumz/len(outsyn_list)))\n",
    "print(\"AVG SQ ST.Z: %s\"%(avg_std_z(outsyn_list,avg(insyn_list))))\n",
    "print(\"ABS MEAN DIFF: %s\"%(abs(mean(outsyn_list)-mean(insyn_list))))"
   ]
  },
  {
   "cell_type": "code",
   "execution_count": 247,
   "metadata": {},
   "outputs": [
    {
     "name": "stdout",
     "output_type": "stream",
     "text": [
      "[0, 0, 0, 0, 0, 0, 0]\n",
      ">> \t0, \t0.0\n",
      ">> \t0, \t0.0\n",
      ">> \t0, \t0.0\n",
      ">> \t0, \t0.0\n",
      ">> \t0, \t0.0\n",
      "AVG ST.Z: 0.0\n",
      "AVG SQ ST.Z: 0.0\n",
      "ABS MEAN DIFF: 0\n"
     ]
    }
   ],
   "source": [
    "# for 'genre_Action'\n",
    "# from data_modeling EXAMPLE 1 (Cosine, un-normalized), ['Attack on Titan'] input,\n",
    "# ['Sword Art Online', 'Dragon Ball Z', 'Code Geass: Lelouch of the Rebellion R2', \n",
    "#  'Death Note', 'One Punch Man'] output\n",
    "in_list = ['Attack on Titan', 'Attack on Titan: Since That Day', 'Attack on Titan: Crimson Bow and Arrow',\n",
    "           'Attack on Titan: Wings of Freedom', 'Attack on Titan Season 2', 'Attack on Titan: Junior High',\n",
    "           'Attack on Titan Season 3']\n",
    "insyn_list = []\n",
    "for t in in_list:\n",
    "    insyn_list.append(list(gen_df[gen_df['title_english'] == t]['studio_Madhouse'])[0])\n",
    "print(insyn_list)\n",
    "out_list = ['Miss Kobayashi\\'s Dragon Maid', 'Rosario + Vampire', \n",
    "            'My Teen Romantic Comedy SNAFU TOO!', 'GATE',\n",
    "            'JoJo\\'s Bizarre Adventure']\n",
    "outsyn_list = []\n",
    "for t in out_list:\n",
    "    outsyn_list.append(list(gen_df[gen_df['title_english'] == t]['studio_Madhouse'])[0])\n",
    "sumz = 0\n",
    "for syn in outsyn_list:\n",
    "    z = (std_z(syn, avg(insyn_list), f_stdv['studio_Madhouse']))\n",
    "    sumz += abs(z)\n",
    "    print(\">> \\t%s, \\t%s\"%(syn,z))\n",
    "\n",
    "print(\"AVG ST.Z: %s\"%(sumz/len(outsyn_list)))\n",
    "print(\"AVG SQ ST.Z: %s\"%(avg_std_z(outsyn_list,avg(insyn_list))))\n",
    "print(\"ABS MEAN DIFF: %s\"%(abs(mean(outsyn_list)-mean(insyn_list))))"
   ]
  },
  {
   "cell_type": "code",
   "execution_count": 75,
   "metadata": {},
   "outputs": [
    {
     "name": "stdout",
     "output_type": "stream",
     "text": [
      "1975\n",
      ">> \t2018, \t0.014992761253990648\n",
      ">> \t1788, \t-0.06520107801154072\n",
      ">> \t1795, \t-0.0627603959469376\n",
      ">> \t2281, \t0.10669267310979391\n",
      ">> \t1980, \t0.0017433443318593776\n",
      "AVG ST.Z: 0.050278050530824445\n",
      "AVG SQ ST.Z: 180.48767270924625\n"
     ]
    }
   ],
   "source": [
    "# Cosine un-normalized KNN\n",
    "# results for ['Queen\\'s Blade: Inheritor of the Throne']\n",
    "med = median(list(gen_df['popularity']))\n",
    "print(med)\n",
    "rec_indices = [2598, 1922, 1757, 2240, 376]\n",
    "dat = gen_df[gen_df.index.isin(rec_indices)]\n",
    "pop_dat = list(dat['popularity'])\n",
    "\n",
    "sumz = 0\n",
    "for p in pop_dat:\n",
    "    z = (std_z(p, med, f_stdv['popularity']))\n",
    "    sumz += abs(z)\n",
    "    print(\">> \\t%s, \\t%s\"%(p,z))\n",
    "    \n",
    "print(\"AVG ST.Z: %s\"%(sumz/len(rec_indices)))\n",
    "print(\"AVG SQ ST.Z: %s\"%(avg_std_z(pop_dat,med)))"
   ]
  },
  {
   "cell_type": "code",
   "execution_count": 76,
   "metadata": {},
   "outputs": [
    {
     "name": "stdout",
     "output_type": "stream",
     "text": [
      "Centuries ago, mankind was slaughtered to near extinction by monstrous humanoid creatures called titans, forcing humans to hide in fear behind enormous concentric walls. What makes these giants truly terrifying is that their taste for human flesh is not born out of hunger but what appears to be out ...\n",
      "For centuries, humanity has been hunted by giant, mysterious predators known as the Titans. Three mighty walls—Wall Maria, Rose, and Sheena—provided peace and protection for humanity for over a hundred years. That peace, however, was shattered when the Colossus Titan and Armored Titan appeared and d...\n",
      "Nanba is the world's most formidable prison, built to incarcerate criminals who are too slippery to stay in ordinary confinement. The four inmates who occupy Cell 13 are particularly cunning on that behalf, having escaped every other prison with a perfect success rate. There is Juugo, a specialist i...\n",
      "The seemingly ordinary and unimpressive Saitama has a rather unique hobby: being a hero. In order to pursue his childhood dream, he trained relentlessly for three years—and lost all of his hair in the process. Now, Saitama is incredibly powerful, so much so that no enemy is able to defeat him in bat...\n",
      "For weeks, Atsushi Nakajima's orphanage has been plagued by a mystical tiger that only he seems to be aware of. Suspected to be behind the strange incidents, the 18-year-old is abruptly kicked out of the orphanage and left hungry, homeless, and wandering through the city. While starving on a riverba...\n",
      "The second part of Nanbaka. The prisoners and their guards continue their comfortable lives at Nanba Prison. However, from the shadows emerges a new threat: Enki Gokuu, a person from Samon's past, who has mysterious goals of his own....\n",
      "The official website for the Nanbaka television anime announced that the \"Nanfes\" event in April will screen a previously unreleased anime special....\n",
      "As summer arrives for the students at UA Academy, each of these superheroes-in-training puts in their best efforts to become renowned heroes. They head off to a forest training camp run by UA's pro heroes, where the students face one another in battle and go through dangerous tests, improving their ...\n",
      ">> \tEdward Elric, a young, brilliant alchemist, has lost much in his twelve-year life: when he and his brother Alphonse try to resurrect their dead mother through the forbidden act of human transmutation, Edward loses his brother as well as two of his limbs. With his supreme alchemy skills, Edward binds...\n",
      ">> \tLonely high school student, Yukiteru Amano, spends his days writing a diary on his cellphone, while conversing with his two seemingly imaginary friends Deus Ex Machina, who is the god of time and space, and Murmur, the god's servant. Revealing himself to be an actual entity, Deus grants Yukiteru a \"...\n",
      ">> \tLucy is a special breed of human referred to as \"Diclonius,\" born with a short pair of horns and invisible telekinetic hands that lands her as a victim of inhumane scientific experimentation by the government. However, once circumstances present her an opportunity to escape, Lucy, corrupted by the c...\n",
      ">> \tAll of a sudden, they arrived: parasitic aliens that descended upon Earth and quickly infiltrated humanity by burrowing into the brains of vulnerable targets. These insatiable beings acquire full control of their host and are able to morph into a variety of forms in order to feed on unsuspecting pre...\n",
      ">> \tYahari Ore no Seishun Love Comedy wa Machigatteiru. Zoku picks up immediately after the events of the first season, continuing the adventures of the Volunteer Service Club—the dispassionate Hachiman Hikigaya, the cheerful Yui Yuigahama, and the competitive Yukino Yukinoshita—as it dedicates itself t...\n"
     ]
    }
   ],
   "source": [
    "# from data_modeling EXAMPLE 3 (Cosine, un-normalized)\n",
    "in_list = ['Attack on Titan', 'Attack on Titan Season 2', \n",
    "           'Bungo Stray Dogs', 'My Hero Academia 3', 'Nanbaka',\n",
    "           'Nanbaka: Season 2', 'Nanbaka: Idiots with Student Numbers!',\n",
    "           'One Punch Man']\n",
    "insyn_list = list(out_df[out_df['title_english'].isin(in_list)]['synopsis'])\n",
    "for syn in insyn_list:\n",
    "    print(syn[:300]+\"...\")\n",
    "out_list = ['Fullmetal Alchemist', 'The Future Diary', 'Elfen Lied', \n",
    "            'Parasyte -the maxim-', 'My Teen Romantic Comedy SNAFU TOO!']\n",
    "outsyn_list = []\n",
    "for t in out_list:\n",
    "    outsyn_list.append(list(out_df[out_df['title_english'] == t]['synopsis'])[0])\n",
    "for syn in outsyn_list:\n",
    "    print('>> \\t%s'%(syn[:300]+\"...\"))"
   ]
  },
  {
   "cell_type": "code",
   "execution_count": 248,
   "metadata": {},
   "outputs": [
    {
     "name": "stdout",
     "output_type": "stream",
     "text": [
      "[1038161, 439965, 190064, 262182, 57332, 26862, 5131, 806647]\n",
      ">> \t524986, \t1.776465906101223\n",
      ">> \t648490, \t3.054331895204596\n",
      ">> \t549257, \t2.0275920673715295\n",
      ">> \t463232, \t1.1375122180337134\n",
      ">> \t251353, \t-1.0547485014995293\n",
      "AVG ST.Z: 1.810130117642118\n",
      "AVG SQ ST.Z: 188414.43239571643\n"
     ]
    }
   ],
   "source": [
    "# EXAMPLE 3, scored_by\n",
    "\n",
    "in_list = ['Attack on Titan', 'Attack on Titan Season 2', \n",
    "   'Bungo Stray Dogs', 'My Hero Academia 3', 'Nanbaka', 'Nanbaka: Season 2', 'Nanbaka: Idiots with Student Numbers!',\n",
    "   'One Punch Man']\n",
    "insyn_list = []\n",
    "for t in in_list:\n",
    "    insyn_list.append(list(gen_df[gen_df['title_english'] == t]['scored_by'])[0])\n",
    "print(insyn_list)\n",
    "out_list = ['Fullmetal Alchemist', 'The Future Diary', 'Elfen Lied', 'Parasyte -the maxim-', \n",
    "            'My Teen Romantic Comedy SNAFU TOO!']\n",
    "outsyn_list = []\n",
    "for t in out_list:\n",
    "    outsyn_list.append(list(gen_df[gen_df['title_english'] == t]['scored_by'])[0])\n",
    "sumz = 0\n",
    "for syn in outsyn_list:\n",
    "    z = (std_z(syn, avg(insyn_list), f_stdv['scored_by']))\n",
    "    sumz += abs(z)\n",
    "    print(\">> \\t%s, \\t%s\"%(syn,z))\n",
    "\n",
    "print(\"AVG ST.Z: %s\"%(sumz/len(outsyn_list)))\n",
    "print(\"AVG SQ ST.Z: %s\"%(avg_std_z(outsyn_list,avg(insyn_list))))"
   ]
  },
  {
   "cell_type": "code",
   "execution_count": 249,
   "metadata": {},
   "outputs": [
    {
     "name": "stdout",
     "output_type": "stream",
     "text": [
      "[2, 41, 152, 89, 658, 1534, 3340, 5]\n",
      ">> \t27, \t-0.2442861245017953\n",
      ">> \t12, \t-0.24951615749737344\n",
      ">> \t18, \t-0.24742414429914217\n",
      ">> \t44, \t-0.2383587537734734\n",
      ">> \t148, \t-0.20209719167079834\n",
      "AVG ST.Z: 0.2363364743485165\n",
      "AVG SQ ST.Z: 679.6867591949986\n"
     ]
    }
   ],
   "source": [
    "# EXAMPLE 3, popularity\n",
    "\n",
    "in_list = ['Attack on Titan', 'Attack on Titan Season 2', \n",
    "   'Bungo Stray Dogs', 'My Hero Academia 3', 'Nanbaka', 'Nanbaka: Season 2', 'Nanbaka: Idiots with Student Numbers!',\n",
    "   'One Punch Man']\n",
    "insyn_list = []\n",
    "for t in in_list:\n",
    "    insyn_list.append(list(gen_df[gen_df['title_english'] == t]['popularity'])[0])\n",
    "print(insyn_list)\n",
    "out_list = ['Fullmetal Alchemist', 'The Future Diary', 'Elfen Lied', 'Parasyte -the maxim-', \n",
    "            'My Teen Romantic Comedy SNAFU TOO!']\n",
    "outsyn_list = []\n",
    "for t in out_list:\n",
    "    outsyn_list.append(list(gen_df[gen_df['title_english'] == t]['popularity'])[0])\n",
    "sumz = 0\n",
    "for syn in outsyn_list:\n",
    "    z = (std_z(syn, avg(insyn_list), f_stdv['popularity']))\n",
    "    sumz += abs(z)\n",
    "    print(\">> \\t%s, \\t%s\"%(syn,z))\n",
    "\n",
    "print(\"AVG ST.Z: %s\"%(sumz/len(outsyn_list)))\n",
    "print(\"AVG SQ ST.Z: %s\"%(avg_std_z(outsyn_list,avg(insyn_list))))"
   ]
  },
  {
   "cell_type": "code",
   "execution_count": 250,
   "metadata": {},
   "outputs": [
    {
     "name": "stdout",
     "output_type": "stream",
     "text": [
      "[25.0, 12.0, 12.0, 25.0, 13.0, 12.0, 1.0, 12.0]\n",
      ">> \t51.0, \t0.8233316334875472\n",
      ">> \t26.0, \t0.267026475725691\n",
      ">> \t13.0, \t-0.02225220631047425\n",
      ">> \t24.0, \t0.2225220631047425\n",
      ">> \t13.0, \t-0.02225220631047425\n",
      "AVG ST.Z: 0.2714769169877858\n",
      "AVG SQ ST.Z: 17.97220075561143\n"
     ]
    }
   ],
   "source": [
    "# EXAMPLE 3, episodes\n",
    "\n",
    "in_list = ['Attack on Titan', 'Attack on Titan Season 2', \n",
    "   'Bungo Stray Dogs', 'My Hero Academia 3', 'Nanbaka', 'Nanbaka: Season 2', 'Nanbaka: Idiots with Student Numbers!',\n",
    "   'One Punch Man']\n",
    "insyn_list = []\n",
    "for t in in_list:\n",
    "    insyn_list.append(list(gen_df[gen_df['title_english'] == t]['episodes'])[0])\n",
    "print(insyn_list)\n",
    "out_list = ['Fullmetal Alchemist', 'The Future Diary', 'Elfen Lied', 'Parasyte -the maxim-', \n",
    "            'My Teen Romantic Comedy SNAFU TOO!']\n",
    "outsyn_list = []\n",
    "for t in out_list:\n",
    "    outsyn_list.append(list(gen_df[gen_df['title_english'] == t]['episodes'])[0])\n",
    "sumz = 0\n",
    "for syn in outsyn_list:\n",
    "    z = (std_z(syn, avg(insyn_list), f_stdv['episodes']))\n",
    "    sumz += abs(z)\n",
    "    print(\">> \\t%s, \\t%s\"%(syn,z))\n",
    "\n",
    "print(\"AVG ST.Z: %s\"%(sumz/len(outsyn_list)))\n",
    "print(\"AVG SQ ST.Z: %s\"%(avg_std_z(outsyn_list,avg(insyn_list))))"
   ]
  },
  {
   "cell_type": "code",
   "execution_count": 251,
   "metadata": {},
   "outputs": [
    {
     "name": "stdout",
     "output_type": "stream",
     "text": [
      "[116, 143, 858, 50, 1972, 1347, 4026, 46]\n",
      ">> \t268, \t-0.2929441894734728\n",
      ">> \t824, \t-0.08979237238928087\n",
      ">> \t1067, \t-0.0010047976564415966\n",
      ">> \t104, \t-0.3528666678939898\n",
      ">> \t271, \t-0.2918480465755365\n",
      "AVG ST.Z: 0.20569121479774427\n",
      "AVG SQ ST.Z: 674.3705676406704\n"
     ]
    }
   ],
   "source": [
    "# EXAMPLE 3, rank\n",
    "\n",
    "in_list = ['Attack on Titan', 'Attack on Titan Season 2', \n",
    "   'Bungo Stray Dogs', 'My Hero Academia 3', 'Nanbaka', 'Nanbaka: Season 2', 'Nanbaka: Idiots with Student Numbers!',\n",
    "   'One Punch Man']\n",
    "insyn_list = []\n",
    "for t in in_list:\n",
    "    insyn_list.append(list(gen_df[gen_df['title_english'] == t]['rank'])[0])\n",
    "print(insyn_list)\n",
    "out_list = ['Fullmetal Alchemist', 'The Future Diary', 'Elfen Lied', 'Parasyte -the maxim-', \n",
    "            'My Teen Romantic Comedy SNAFU TOO!']\n",
    "outsyn_list = []\n",
    "for t in out_list:\n",
    "    outsyn_list.append(list(gen_df[gen_df['title_english'] == t]['rank'])[0])\n",
    "sumz = 0\n",
    "for syn in outsyn_list:\n",
    "    z = (std_z(syn, avg(insyn_list), f_stdv['rank']))\n",
    "    sumz += abs(z)\n",
    "    print(\">> \\t%s, \\t%s\"%(syn,z))\n",
    "\n",
    "print(\"AVG ST.Z: %s\"%(sumz/len(outsyn_list)))\n",
    "print(\"AVG SQ ST.Z: %s\"%(avg_std_z(outsyn_list,avg(insyn_list))))"
   ]
  },
  {
   "cell_type": "code",
   "execution_count": 252,
   "metadata": {},
   "outputs": [
    {
     "name": "stdout",
     "output_type": "stream",
     "text": [
      "[1500958, 781129, 401847, 535390, 143814, 57054, 15109, 1195384]\n",
      ">> \t854022, \t1.6753387789837193\n",
      ">> \t1064223, \t2.9550456201423954\n",
      ">> \t901294, \t1.9631314240960305\n",
      ">> \t767501, \t1.1485976331095809\n",
      ">> \t405743, \t-1.0537904975076866\n",
      "AVG ST.Z: 1.7591807907678825\n",
      "AVG SQ ST.Z: 310117.2452334611\n"
     ]
    }
   ],
   "source": [
    "# EXAMPLE 3, members\n",
    "\n",
    "in_list = ['Attack on Titan', 'Attack on Titan Season 2', \n",
    "   'Bungo Stray Dogs', 'My Hero Academia 3', 'Nanbaka', 'Nanbaka: Season 2', 'Nanbaka: Idiots with Student Numbers!',\n",
    "   'One Punch Man']\n",
    "insyn_list = []\n",
    "for t in in_list:\n",
    "    insyn_list.append(list(gen_df[gen_df['title_english'] == t]['members'])[0])\n",
    "print(insyn_list)\n",
    "out_list = ['Fullmetal Alchemist', 'The Future Diary', 'Elfen Lied', 'Parasyte -the maxim-', \n",
    "            'My Teen Romantic Comedy SNAFU TOO!']\n",
    "outsyn_list = []\n",
    "for t in out_list:\n",
    "    outsyn_list.append(list(gen_df[gen_df['title_english'] == t]['members'])[0])\n",
    "sumz = 0\n",
    "for syn in outsyn_list:\n",
    "    z = (std_z(syn, avg(insyn_list), f_stdv['members']))\n",
    "    sumz += abs(z)\n",
    "    print(\">> \\t%s, \\t%s\"%(syn,z))\n",
    "\n",
    "print(\"AVG ST.Z: %s\"%(sumz/len(outsyn_list)))\n",
    "print(\"AVG SQ ST.Z: %s\"%(avg_std_z(outsyn_list,avg(insyn_list))))"
   ]
  },
  {
   "cell_type": "code",
   "execution_count": 253,
   "metadata": {},
   "outputs": [
    {
     "name": "stdout",
     "output_type": "stream",
     "text": [
      "[70555, 8670, 5777, 8361, 971, 232, 30, 35969]\n",
      ">> \t22764, \t1.0374071188351328\n",
      ">> \t25002, \t1.3977333658645277\n",
      ">> \t20990, \t0.7517865816456124\n",
      ">> \t18100, \t0.2864859319963939\n",
      ">> \t10758, \t-0.895603123271621\n",
      "AVG ST.Z: 0.8738032243226576\n",
      "AVG SQ ST.Z: 5878.69693815092\n"
     ]
    }
   ],
   "source": [
    "# EXAMPLE 3, favorites\n",
    "\n",
    "in_list = ['Attack on Titan', 'Attack on Titan Season 2', \n",
    "   'Bungo Stray Dogs', 'My Hero Academia 3', 'Nanbaka', 'Nanbaka: Season 2', 'Nanbaka: Idiots with Student Numbers!',\n",
    "   'One Punch Man']\n",
    "insyn_list = []\n",
    "for t in in_list:\n",
    "    insyn_list.append(list(gen_df[gen_df['title_english'] == t]['favorites'])[0])\n",
    "print(insyn_list)\n",
    "out_list = ['Fullmetal Alchemist', 'The Future Diary', 'Elfen Lied', 'Parasyte -the maxim-', \n",
    "            'My Teen Romantic Comedy SNAFU TOO!']\n",
    "outsyn_list = []\n",
    "for t in out_list:\n",
    "    outsyn_list.append(list(gen_df[gen_df['title_english'] == t]['favorites'])[0])\n",
    "sumz = 0\n",
    "for syn in outsyn_list:\n",
    "    z = (std_z(syn, avg(insyn_list), f_stdv['favorites']))\n",
    "    sumz += abs(z)\n",
    "    print(\">> \\t%s, \\t%s\"%(syn,z))\n",
    "\n",
    "print(\"AVG ST.Z: %s\"%(sumz/len(outsyn_list)))\n",
    "print(\"AVG SQ ST.Z: %s\"%(avg_std_z(outsyn_list,avg(insyn_list))))"
   ]
  },
  {
   "cell_type": "code",
   "execution_count": 254,
   "metadata": {},
   "outputs": [
    {
     "name": "stdout",
     "output_type": "stream",
     "text": [
      "[0, 0, 1, 1, 1, 1, 1, 1]\n",
      ">> \t1, \t0.5025660190455492\n",
      ">> \t0, \t-1.5076980571366474\n",
      ">> \t0, \t-1.5076980571366474\n",
      ">> \t0, \t-1.5076980571366474\n",
      ">> \t1, \t0.5025660190455492\n",
      "AVG ST.Z: 1.105645241900208\n",
      "AVG SQ ST.Z: 0.6020797289396148\n",
      "ABS MEAN DIFF: 0.35\n"
     ]
    }
   ],
   "source": [
    "# EXAMPLE 3, genre_Comedy\n",
    "\n",
    "in_list = ['Attack on Titan', 'Attack on Titan Season 2', \n",
    "   'Bungo Stray Dogs', 'My Hero Academia 3', 'Nanbaka', 'Nanbaka: Season 2', 'Nanbaka: Idiots with Student Numbers!',\n",
    "   'One Punch Man']\n",
    "insyn_list = []\n",
    "for t in in_list:\n",
    "    insyn_list.append(list(gen_df[gen_df['title_english'] == t]['genre_Comedy'])[0])\n",
    "print(insyn_list)\n",
    "out_list = ['Fullmetal Alchemist', 'The Future Diary', 'Elfen Lied', 'Parasyte -the maxim-', \n",
    "            'My Teen Romantic Comedy SNAFU TOO!']\n",
    "outsyn_list = []\n",
    "for t in out_list:\n",
    "    outsyn_list.append(list(gen_df[gen_df['title_english'] == t]['genre_Comedy'])[0])\n",
    "sumz = 0\n",
    "for syn in outsyn_list:\n",
    "    z = (std_z(syn, avg(insyn_list), f_stdv['genre_Comedy']))\n",
    "    sumz += abs(z)\n",
    "    print(\">> \\t%s, \\t%s\"%(syn,z))\n",
    "\n",
    "print(\"AVG ST.Z: %s\"%(sumz/len(outsyn_list)))\n",
    "print(\"AVG SQ ST.Z: %s\"%(avg_std_z(outsyn_list,avg(insyn_list))))\n",
    "print(\"ABS MEAN DIFF: %s\"%(abs(mean(outsyn_list)-mean(insyn_list))))"
   ]
  },
  {
   "cell_type": "code",
   "execution_count": 255,
   "metadata": {},
   "outputs": [
    {
     "name": "stdout",
     "output_type": "stream",
     "text": [
      "[1, 1, 1, 1, 1, 1, 1, 1]\n",
      ">> \t1, \t0.0\n",
      ">> \t1, \t0.0\n",
      ">> \t1, \t0.0\n",
      ">> \t1, \t0.0\n",
      ">> \t0, \t-2.0470777168234116\n",
      "AVG ST.Z: 0.40941554336468233\n",
      "AVG SQ ST.Z: 0.4472135954999579\n",
      "ABS MEAN DIFF: 0.19999999999999996\n"
     ]
    }
   ],
   "source": [
    "# EXAMPLE 3, genre_Action\n",
    "\n",
    "in_list = ['Attack on Titan', 'Attack on Titan Season 2', \n",
    "   'Bungo Stray Dogs', 'My Hero Academia 3', 'Nanbaka', 'Nanbaka: Season 2', 'Nanbaka: Idiots with Student Numbers!',\n",
    "   'One Punch Man']\n",
    "insyn_list = []\n",
    "for t in in_list:\n",
    "    insyn_list.append(list(gen_df[gen_df['title_english'] == t]['genre_Action'])[0])\n",
    "print(insyn_list)\n",
    "out_list = ['Fullmetal Alchemist', 'The Future Diary', 'Elfen Lied', 'Parasyte -the maxim-', \n",
    "            'My Teen Romantic Comedy SNAFU TOO!']\n",
    "outsyn_list = []\n",
    "for t in out_list:\n",
    "    outsyn_list.append(list(gen_df[gen_df['title_english'] == t]['genre_Action'])[0])\n",
    "sumz = 0\n",
    "for syn in outsyn_list:\n",
    "    z = (std_z(syn, avg(insyn_list), f_stdv['genre_Action']))\n",
    "    sumz += abs(z)\n",
    "    print(\">> \\t%s, \\t%s\"%(syn,z))\n",
    "\n",
    "print(\"AVG ST.Z: %s\"%(sumz/len(outsyn_list)))\n",
    "print(\"AVG SQ ST.Z: %s\"%(avg_std_z(outsyn_list,avg(insyn_list))))\n",
    "print(\"ABS MEAN DIFF: %s\"%(abs(mean(outsyn_list)-mean(insyn_list))))"
   ]
  },
  {
   "cell_type": "code",
   "execution_count": 85,
   "metadata": {},
   "outputs": [
    {
     "name": "stdout",
     "output_type": "stream",
     "text": [
      "Centuries ago, mankind was slaughtered to near extinction by monstrous humanoid creatures called titans, forcing humans to hide in fear behind enormous concentric walls. What makes these giants truly terrifying is that their taste for human flesh is not born out of hunger but what appears to be out ...\n",
      "For centuries, humanity has been hunted by giant, mysterious predators known as the Titans. Three mighty walls—Wall Maria, Rose, and Sheena—provided peace and protection for humanity for over a hundred years. That peace, however, was shattered when the Colossus Titan and Armored Titan appeared and d...\n",
      "Nanba is the world's most formidable prison, built to incarcerate criminals who are too slippery to stay in ordinary confinement. The four inmates who occupy Cell 13 are particularly cunning on that behalf, having escaped every other prison with a perfect success rate. There is Juugo, a specialist i...\n",
      "The seemingly ordinary and unimpressive Saitama has a rather unique hobby: being a hero. In order to pursue his childhood dream, he trained relentlessly for three years—and lost all of his hair in the process. Now, Saitama is incredibly powerful, so much so that no enemy is able to defeat him in bat...\n",
      "For weeks, Atsushi Nakajima's orphanage has been plagued by a mystical tiger that only he seems to be aware of. Suspected to be behind the strange incidents, the 18-year-old is abruptly kicked out of the orphanage and left hungry, homeless, and wandering through the city. While starving on a riverba...\n",
      "The second part of Nanbaka. The prisoners and their guards continue their comfortable lives at Nanba Prison. However, from the shadows emerges a new threat: Enki Gokuu, a person from Samon's past, who has mysterious goals of his own....\n",
      "The official website for the Nanbaka television anime announced that the \"Nanfes\" event in April will screen a previously unreleased anime special....\n",
      "As summer arrives for the students at UA Academy, each of these superheroes-in-training puts in their best efforts to become renowned heroes. They head off to a forest training camp run by UA's pro heroes, where the students face one another in battle and go through dangerous tests, improving their ...\n",
      ">> \t\"In order for something to be obtained, something of equal value must be lost.\" Alchemy is bound by this Law of Equivalent Exchange—something the young brothers Edward and Alphonse Elric only realize after attempting human transmutation: the one forbidden act of alchemy. They pay a terrible price fo...\n",
      ">> \tThe appearance of \"quirks,\" newly discovered super powers, has been steadily increasing over the years, with 80 percent of humanity possessing various abilities from manipulation of elements to shapeshifting. This leaves the remainder of the world completely powerless, and Izuku Midoriya is one such...\n",
      ">> \tIn the year 2010, the Holy Empire of Britannia is establishing itself as a dominant military nation, starting with the conquest of Japan. Renamed to Area 11 after its swift defeat, Japan has seen significant resistance against these tyrants in an attempt to regain independence. Lelouch Lamperouge, a...\n",
      ">> \tA shinigami, as a god of death, can kill any person—provided they see their victim's face and write their victim's name in a notebook called a Death Note. One day, Ryuk, bored by the shinigami lifestyle and interested in seeing how a human would use a Death Note, drops one into the human realm. High...\n",
      ">> \tOne year has passed since the Black Rebellion, a failed uprising against the Holy Britannian Empire led by the masked vigilante Zero, who is now missing. At a loss without their revolutionary leader, Area 11's resistance group—the Black Knights—find themselves too powerless to combat the brutality i...\n"
     ]
    }
   ],
   "source": [
    "# from data_modeling EXAMPLE 3 (Cosine, normalized)\n",
    "in_list = ['Attack on Titan', 'Attack on Titan Season 2', \n",
    "           'Bungo Stray Dogs', 'My Hero Academia 3', 'Nanbaka',\n",
    "           'Nanbaka: Season 2', 'Nanbaka: Idiots with Student Numbers!',\n",
    "           'One Punch Man']\n",
    "insyn_list = list(out_df[out_df['title_english'].isin(in_list)]['synopsis'])\n",
    "for syn in insyn_list:\n",
    "    print(syn[:300]+\"...\")\n",
    "out_list = ['Fullmetal Alchemist: Brotherhood', 'My Hero Academia', \n",
    "            'Code Geass: Lelouch of the Rebellion', 'Death Note', \n",
    "            'Code Geass: Lelouch of the Rebellion R2']\n",
    "outsyn_list = []\n",
    "for t in out_list:\n",
    "    outsyn_list.append(list(out_df[out_df['title_english'] == t]['synopsis'])[0])\n",
    "for syn in outsyn_list:\n",
    "    print('>> \\t%s'%(syn[:300]+\"...\"))"
   ]
  },
  {
   "cell_type": "code",
   "execution_count": 256,
   "metadata": {},
   "outputs": [
    {
     "name": "stdout",
     "output_type": "stream",
     "text": [
      "[1038161, 439965, 190064, 262182, 57332, 26862, 5131, 806647]\n",
      ">> \t826899, \t4.900286627439534\n",
      ">> \t625249, \t2.8138628945831465\n",
      ">> \t681621, \t3.397130331570899\n",
      ">> \t1107955, \t7.808305019017439\n",
      ">> \t591272, \t2.4623111010237047\n",
      "AVG ST.Z: 4.276379194726944\n",
      "AVG SQ ST.Z: 454359.0482076923\n"
     ]
    }
   ],
   "source": [
    "# EXAMPLE 3, scored_by\n",
    "\n",
    "in_list = ['Attack on Titan', 'Attack on Titan Season 2', \n",
    "   'Bungo Stray Dogs', 'My Hero Academia 3', 'Nanbaka', 'Nanbaka: Season 2', 'Nanbaka: Idiots with Student Numbers!',\n",
    "   'One Punch Man']\n",
    "insyn_list = []\n",
    "for t in in_list:\n",
    "    insyn_list.append(list(gen_df[gen_df['title_english'] == t]['scored_by'])[0])\n",
    "print(insyn_list)\n",
    "out_list = ['Fullmetal Alchemist: Brotherhood', 'My Hero Academia', \n",
    "            'Code Geass: Lelouch of the Rebellion', 'Death Note', \n",
    "            'Code Geass: Lelouch of the Rebellion R2']\n",
    "outsyn_list = []\n",
    "for t in out_list:\n",
    "    outsyn_list.append(list(gen_df[gen_df['title_english'] == t]['scored_by'])[0])\n",
    "sumz = 0\n",
    "for syn in outsyn_list:\n",
    "    z = (std_z(syn, avg(insyn_list), f_stdv['scored_by']))\n",
    "    sumz += abs(z)\n",
    "    print(\">> \\t%s, \\t%s\"%(syn,z))\n",
    "\n",
    "print(\"AVG ST.Z: %s\"%(sumz/len(outsyn_list)))\n",
    "print(\"AVG SQ ST.Z: %s\"%(avg_std_z(outsyn_list,avg(insyn_list))))"
   ]
  },
  {
   "cell_type": "code",
   "execution_count": 257,
   "metadata": {},
   "outputs": [
    {
     "name": "stdout",
     "output_type": "stream",
     "text": [
      "[2, 41, 152, 89, 658, 1534, 3340, 5]\n",
      ">> \t4, \t-0.2523055084283484\n",
      ">> \t15, \t-0.2484701508982578\n",
      ">> \t11, \t-0.2498648263637453\n",
      ">> \t1, \t-0.25335151502746406\n",
      ">> \t24, \t-0.24533213110091093\n",
      "AVG ST.Z: 0.2498648263637453\n",
      "AVG SQ ST.Z: 716.6716058453829\n"
     ]
    }
   ],
   "source": [
    "# EXAMPLE 3, popularity\n",
    "\n",
    "in_list = ['Attack on Titan', 'Attack on Titan Season 2', \n",
    "   'Bungo Stray Dogs', 'My Hero Academia 3', 'Nanbaka', 'Nanbaka: Season 2', 'Nanbaka: Idiots with Student Numbers!',\n",
    "   'One Punch Man']\n",
    "insyn_list = []\n",
    "for t in in_list:\n",
    "    insyn_list.append(list(gen_df[gen_df['title_english'] == t]['popularity'])[0])\n",
    "print(insyn_list)\n",
    "out_list = ['Fullmetal Alchemist: Brotherhood', 'My Hero Academia', \n",
    "            'Code Geass: Lelouch of the Rebellion', 'Death Note', \n",
    "            'Code Geass: Lelouch of the Rebellion R2']\n",
    "outsyn_list = []\n",
    "for t in out_list:\n",
    "    outsyn_list.append(list(gen_df[gen_df['title_english'] == t]['popularity'])[0])\n",
    "sumz = 0\n",
    "for syn in outsyn_list:\n",
    "    z = (std_z(syn, avg(insyn_list), f_stdv['popularity']))\n",
    "    sumz += abs(z)\n",
    "    print(\">> \\t%s, \\t%s\"%(syn,z))\n",
    "\n",
    "print(\"AVG ST.Z: %s\"%(sumz/len(outsyn_list)))\n",
    "print(\"AVG SQ ST.Z: %s\"%(avg_std_z(outsyn_list,avg(insyn_list))))"
   ]
  },
  {
   "cell_type": "code",
   "execution_count": 258,
   "metadata": {},
   "outputs": [
    {
     "name": "stdout",
     "output_type": "stream",
     "text": [
      "[25.0, 12.0, 12.0, 25.0, 13.0, 12.0, 1.0, 12.0]\n",
      ">> \t64.0, \t1.1126103155237126\n",
      ">> \t13.0, \t-0.02225220631047425\n",
      ">> \t25.0, \t0.24477426941521674\n",
      ">> \t37.0, \t0.5118007451409078\n",
      ">> \t25.0, \t0.24477426941521674\n",
      "AVG ST.Z: 0.4272423611611056\n",
      "AVG SQ ST.Z: 25.581243128511172\n"
     ]
    }
   ],
   "source": [
    "# EXAMPLE 3, episodes\n",
    "\n",
    "in_list = ['Attack on Titan', 'Attack on Titan Season 2', \n",
    "   'Bungo Stray Dogs', 'My Hero Academia 3', 'Nanbaka', 'Nanbaka: Season 2', 'Nanbaka: Idiots with Student Numbers!',\n",
    "   'One Punch Man']\n",
    "insyn_list = []\n",
    "for t in in_list:\n",
    "    insyn_list.append(list(gen_df[gen_df['title_english'] == t]['episodes'])[0])\n",
    "print(insyn_list)\n",
    "out_list = ['Fullmetal Alchemist: Brotherhood', 'My Hero Academia', \n",
    "            'Code Geass: Lelouch of the Rebellion', 'Death Note', \n",
    "            'Code Geass: Lelouch of the Rebellion R2']\n",
    "outsyn_list = []\n",
    "for t in out_list:\n",
    "    outsyn_list.append(list(gen_df[gen_df['title_english'] == t]['episodes'])[0])\n",
    "sumz = 0\n",
    "for syn in outsyn_list:\n",
    "    z = (std_z(syn, avg(insyn_list), f_stdv['episodes']))\n",
    "    sumz += abs(z)\n",
    "    print(\">> \\t%s, \\t%s\"%(syn,z))\n",
    "\n",
    "print(\"AVG ST.Z: %s\"%(sumz/len(outsyn_list)))\n",
    "print(\"AVG SQ ST.Z: %s\"%(avg_std_z(outsyn_list,avg(insyn_list))))"
   ]
  },
  {
   "cell_type": "code",
   "execution_count": 259,
   "metadata": {},
   "outputs": [
    {
     "name": "stdout",
     "output_type": "stream",
     "text": [
      "[116, 143, 858, 50, 1972, 1347, 4026, 46]\n",
      ">> \t1, \t-0.3905009073898023\n",
      ">> \t152, \t-0.3353283815270092\n",
      ">> \t32, \t-0.3791740974444607\n",
      ">> \t54, \t-0.3711357161929279\n",
      ">> \t17, \t-0.38465481193414214\n",
      "AVG ST.Z: 0.37215878289766846\n",
      "AVG SQ ST.Z: 1019.9458135116787\n"
     ]
    }
   ],
   "source": [
    "# EXAMPLE 3, rank\n",
    "\n",
    "in_list = ['Attack on Titan', 'Attack on Titan Season 2', \n",
    "   'Bungo Stray Dogs', 'My Hero Academia 3', 'Nanbaka', 'Nanbaka: Season 2', 'Nanbaka: Idiots with Student Numbers!',\n",
    "   'One Punch Man']\n",
    "insyn_list = []\n",
    "for t in in_list:\n",
    "    insyn_list.append(list(gen_df[gen_df['title_english'] == t]['rank'])[0])\n",
    "print(insyn_list)\n",
    "out_list = ['Fullmetal Alchemist: Brotherhood', 'My Hero Academia', \n",
    "            'Code Geass: Lelouch of the Rebellion', 'Death Note', \n",
    "            'Code Geass: Lelouch of the Rebellion R2']\n",
    "outsyn_list = []\n",
    "for t in out_list:\n",
    "    outsyn_list.append(list(gen_df[gen_df['title_english'] == t]['rank'])[0])\n",
    "sumz = 0\n",
    "for syn in outsyn_list:\n",
    "    z = (std_z(syn, avg(insyn_list), f_stdv['rank']))\n",
    "    sumz += abs(z)\n",
    "    print(\">> \\t%s, \\t%s\"%(syn,z))\n",
    "\n",
    "print(\"AVG ST.Z: %s\"%(sumz/len(outsyn_list)))\n",
    "print(\"AVG SQ ST.Z: %s\"%(avg_std_z(outsyn_list,avg(insyn_list))))"
   ]
  },
  {
   "cell_type": "code",
   "execution_count": 260,
   "metadata": {},
   "outputs": [
    {
     "name": "stdout",
     "output_type": "stream",
     "text": [
      "[1500958, 781129, 401847, 535390, 143814, 57054, 15109, 1195384]\n",
      ">> \t1355349, \t4.727425075231385\n",
      ">> \t958412, \t2.3108666649050718\n",
      ">> \t1082349, \t3.0653969800447847\n",
      ">> \t1610561, \t6.281159559585826\n",
      ">> \t869302, \t1.7683636481941636\n",
      "AVG ST.Z: 3.630642385592246\n",
      "AVG SQ ST.Z: 655653.0987100501\n"
     ]
    }
   ],
   "source": [
    "# EXAMPLE 3, members\n",
    "\n",
    "in_list = ['Attack on Titan', 'Attack on Titan Season 2', \n",
    "   'Bungo Stray Dogs', 'My Hero Academia 3', 'Nanbaka', 'Nanbaka: Season 2', 'Nanbaka: Idiots with Student Numbers!',\n",
    "   'One Punch Man']\n",
    "insyn_list = []\n",
    "for t in in_list:\n",
    "    insyn_list.append(list(gen_df[gen_df['title_english'] == t]['members'])[0])\n",
    "print(insyn_list)\n",
    "out_list = ['Fullmetal Alchemist: Brotherhood', 'My Hero Academia', \n",
    "            'Code Geass: Lelouch of the Rebellion', 'Death Note', \n",
    "            'Code Geass: Lelouch of the Rebellion R2']\n",
    "outsyn_list = []\n",
    "for t in out_list:\n",
    "    outsyn_list.append(list(gen_df[gen_df['title_english'] == t]['members'])[0])\n",
    "sumz = 0\n",
    "for syn in outsyn_list:\n",
    "    z = (std_z(syn, avg(insyn_list), f_stdv['members']))\n",
    "    sumz += abs(z)\n",
    "    print(\">> \\t%s, \\t%s\"%(syn,z))\n",
    "\n",
    "print(\"AVG ST.Z: %s\"%(sumz/len(outsyn_list)))\n",
    "print(\"AVG SQ ST.Z: %s\"%(avg_std_z(outsyn_list,avg(insyn_list))))"
   ]
  },
  {
   "cell_type": "code",
   "execution_count": 261,
   "metadata": {},
   "outputs": [
    {
     "name": "stdout",
     "output_type": "stream",
     "text": [
      "[70555, 8670, 5777, 8361, 971, 232, 30, 35969]\n",
      ">> \t120331, \t16.746053653203752\n",
      ">> \t28657, \t1.9862018345385393\n",
      ">> \t68684, \t8.430696334022716\n",
      ">> \t96146, \t12.852179531485291\n",
      ">> \t47637, \t5.042051775833407\n",
      "AVG ST.Z: 9.01143662581674\n",
      "AVG SQ ST.Z: 64907.73934470854\n"
     ]
    }
   ],
   "source": [
    "# EXAMPLE 3, favorites\n",
    "\n",
    "in_list = ['Attack on Titan', 'Attack on Titan Season 2', \n",
    "   'Bungo Stray Dogs', 'My Hero Academia 3', 'Nanbaka', 'Nanbaka: Season 2', 'Nanbaka: Idiots with Student Numbers!',\n",
    "   'One Punch Man']\n",
    "insyn_list = []\n",
    "for t in in_list:\n",
    "    insyn_list.append(list(gen_df[gen_df['title_english'] == t]['favorites'])[0])\n",
    "print(insyn_list)\n",
    "out_list = ['Fullmetal Alchemist: Brotherhood', 'My Hero Academia', \n",
    "            'Code Geass: Lelouch of the Rebellion', 'Death Note', \n",
    "            'Code Geass: Lelouch of the Rebellion R2']\n",
    "outsyn_list = []\n",
    "for t in out_list:\n",
    "    outsyn_list.append(list(gen_df[gen_df['title_english'] == t]['favorites'])[0])\n",
    "sumz = 0\n",
    "for syn in outsyn_list:\n",
    "    z = (std_z(syn, avg(insyn_list), f_stdv['favorites']))\n",
    "    sumz += abs(z)\n",
    "    print(\">> \\t%s, \\t%s\"%(syn,z))\n",
    "\n",
    "print(\"AVG ST.Z: %s\"%(sumz/len(outsyn_list)))\n",
    "print(\"AVG SQ ST.Z: %s\"%(avg_std_z(outsyn_list,avg(insyn_list))))"
   ]
  },
  {
   "cell_type": "code",
   "execution_count": 262,
   "metadata": {},
   "outputs": [
    {
     "name": "stdout",
     "output_type": "stream",
     "text": [
      "[0, 0, 1, 1, 1, 1, 1, 1]\n",
      ">> \t1, \t0.5025660190455492\n",
      ">> \t1, \t0.5025660190455492\n",
      ">> \t0, \t-1.5076980571366474\n",
      ">> \t0, \t-1.5076980571366474\n",
      ">> \t0, \t-1.5076980571366474\n",
      "AVG ST.Z: 1.105645241900208\n",
      "AVG SQ ST.Z: 0.6020797289396148\n",
      "ABS MEAN DIFF: 0.35\n"
     ]
    }
   ],
   "source": [
    "# EXAMPLE 3, genre_Comedy\n",
    "\n",
    "in_list = ['Attack on Titan', 'Attack on Titan Season 2', \n",
    "   'Bungo Stray Dogs', 'My Hero Academia 3', 'Nanbaka', 'Nanbaka: Season 2', 'Nanbaka: Idiots with Student Numbers!',\n",
    "   'One Punch Man']\n",
    "insyn_list = []\n",
    "for t in in_list:\n",
    "    insyn_list.append(list(gen_df[gen_df['title_english'] == t]['genre_Comedy'])[0])\n",
    "print(insyn_list)\n",
    "out_list = ['Fullmetal Alchemist: Brotherhood', 'My Hero Academia', \n",
    "            'Code Geass: Lelouch of the Rebellion', 'Death Note', \n",
    "            'Code Geass: Lelouch of the Rebellion R2']\n",
    "outsyn_list = []\n",
    "for t in out_list:\n",
    "    outsyn_list.append(list(gen_df[gen_df['title_english'] == t]['genre_Comedy'])[0])\n",
    "sumz = 0\n",
    "for syn in outsyn_list:\n",
    "    z = (std_z(syn, avg(insyn_list), f_stdv['genre_Comedy']))\n",
    "    sumz += abs(z)\n",
    "    print(\">> \\t%s, \\t%s\"%(syn,z))\n",
    "\n",
    "print(\"AVG ST.Z: %s\"%(sumz/len(outsyn_list)))\n",
    "print(\"AVG SQ ST.Z: %s\"%(avg_std_z(outsyn_list,avg(insyn_list))))\n",
    "print(\"ABS MEAN DIFF: %s\"%(abs(mean(outsyn_list)-mean(insyn_list))))"
   ]
  },
  {
   "cell_type": "code",
   "execution_count": 263,
   "metadata": {},
   "outputs": [
    {
     "name": "stdout",
     "output_type": "stream",
     "text": [
      "[1, 1, 1, 1, 1, 1, 1, 1]\n",
      ">> \t1, \t0.0\n",
      ">> \t1, \t0.0\n",
      ">> \t1, \t0.0\n",
      ">> \t0, \t-2.0470777168234116\n",
      ">> \t1, \t0.0\n",
      "AVG ST.Z: 0.40941554336468233\n",
      "AVG SQ ST.Z: 0.4472135954999579\n",
      "ABS MEAN DIFF: 0.19999999999999996\n"
     ]
    }
   ],
   "source": [
    "# EXAMPLE 3, genre_Comedy\n",
    "\n",
    "in_list = ['Attack on Titan', 'Attack on Titan Season 2', \n",
    "   'Bungo Stray Dogs', 'My Hero Academia 3', 'Nanbaka', 'Nanbaka: Season 2', 'Nanbaka: Idiots with Student Numbers!',\n",
    "   'One Punch Man']\n",
    "insyn_list = []\n",
    "for t in in_list:\n",
    "    insyn_list.append(list(gen_df[gen_df['title_english'] == t]['genre_Action'])[0])\n",
    "print(insyn_list)\n",
    "out_list = ['Fullmetal Alchemist: Brotherhood', 'My Hero Academia', \n",
    "            'Code Geass: Lelouch of the Rebellion', 'Death Note', \n",
    "            'Code Geass: Lelouch of the Rebellion R2']\n",
    "outsyn_list = []\n",
    "for t in out_list:\n",
    "    outsyn_list.append(list(gen_df[gen_df['title_english'] == t]['genre_Action'])[0])\n",
    "sumz = 0\n",
    "for syn in outsyn_list:\n",
    "    z = (std_z(syn, avg(insyn_list), f_stdv['genre_Action']))\n",
    "    sumz += abs(z)\n",
    "    print(\">> \\t%s, \\t%s\"%(syn,z))\n",
    "\n",
    "print(\"AVG ST.Z: %s\"%(sumz/len(outsyn_list)))\n",
    "print(\"AVG SQ ST.Z: %s\"%(avg_std_z(outsyn_list,avg(insyn_list))))\n",
    "print(\"ABS MEAN DIFF: %s\"%(abs(mean(outsyn_list)-mean(insyn_list))))"
   ]
  },
  {
   "cell_type": "code",
   "execution_count": 93,
   "metadata": {},
   "outputs": [
    {
     "name": "stdout",
     "output_type": "stream",
     "text": [
      "Centuries ago, mankind was slaughtered to near extinction by monstrous humanoid creatures called titans, forcing humans to hide in fear behind enormous concentric walls. What makes these giants truly terrifying is that their taste for human flesh is not born out of hunger but what appears to be out ...\n",
      "For centuries, humanity has been hunted by giant, mysterious predators known as the Titans. Three mighty walls—Wall Maria, Rose, and Sheena—provided peace and protection for humanity for over a hundred years. That peace, however, was shattered when the Colossus Titan and Armored Titan appeared and d...\n",
      "Nanba is the world's most formidable prison, built to incarcerate criminals who are too slippery to stay in ordinary confinement. The four inmates who occupy Cell 13 are particularly cunning on that behalf, having escaped every other prison with a perfect success rate. There is Juugo, a specialist i...\n",
      "The seemingly ordinary and unimpressive Saitama has a rather unique hobby: being a hero. In order to pursue his childhood dream, he trained relentlessly for three years—and lost all of his hair in the process. Now, Saitama is incredibly powerful, so much so that no enemy is able to defeat him in bat...\n",
      "For weeks, Atsushi Nakajima's orphanage has been plagued by a mystical tiger that only he seems to be aware of. Suspected to be behind the strange incidents, the 18-year-old is abruptly kicked out of the orphanage and left hungry, homeless, and wandering through the city. While starving on a riverba...\n",
      "The second part of Nanbaka. The prisoners and their guards continue their comfortable lives at Nanba Prison. However, from the shadows emerges a new threat: Enki Gokuu, a person from Samon's past, who has mysterious goals of his own....\n",
      "The official website for the Nanbaka television anime announced that the \"Nanfes\" event in April will screen a previously unreleased anime special....\n",
      "As summer arrives for the students at UA Academy, each of these superheroes-in-training puts in their best efforts to become renowned heroes. They head off to a forest training camp run by UA's pro heroes, where the students face one another in battle and go through dangerous tests, improving their ...\n",
      ">> \tThe year is 1999. Morioh, a normally quiet and peaceful town, has recently become a hotbed of strange activity. Joutarou Kuujou, now a marine biologist, heads to the mysterious town to meet Jousuke Higashikata. While the two may seem like strangers at first, Jousuke is actually the illegitimate chil...\n",
      ">> \tHumans have designed countless worlds—each one born from the unique imagination of its creator. Souta Mizushino is a high school student who aspires to be such a creator by writing and illustrating his own light novel. One day, while watching anime for inspiration, he is briefly transported into a f...\n",
      ">> \tNight Raid is the covert assassination branch of the Revolutionary Army, an uprising assembled to overthrow Prime Minister Honest, whose avarice and greed for power has lead him to take advantage of the child emperor's inexperience. Without a strong and benevolent leader, the rest of the nation is l...\n",
      ">> \tAt the Battle of Sekigahara in 1600, Toyohisa Shimazu is the rearguard for his retreating troops, and is critically wounded when he suddenly finds himself in a modern, gleaming white hallway. Faced with only a stoic man named Murasaki and hundreds of doors on both sides, Toyohisa is pulled into the ...\n",
      ">> \tYears after an ancient evil was salvaged from the depths of the sea, Joutarou Kuujou sits peacefully within a Japanese jail cell. He's committed no crime yet demands he not be released, believing he's been possessed by an evil spirit capable of harming those around him. Concerned for her son, Holly ...\n"
     ]
    }
   ],
   "source": [
    "# from data_modeling EXAMPLE 3 (Euclidean, normalized)\n",
    "in_list = ['Attack on Titan', 'Attack on Titan Season 2', \n",
    "           'Bungo Stray Dogs', 'My Hero Academia 3', 'Nanbaka',\n",
    "           'Nanbaka: Season 2', 'Nanbaka: Idiots with Student Numbers!',\n",
    "           'One Punch Man']\n",
    "insyn_list = list(out_df[out_df['title_english'].isin(in_list)]['synopsis'])\n",
    "for syn in insyn_list:\n",
    "    print(syn[:300]+\"...\")\n",
    "out_list = ['JoJo\\'s Bizarre Adventure: Diamond is Unbreakable', \n",
    "            'Re:CREATORS', 'Akame ga Kill!', 'Drifters', \n",
    "            'JoJo\\'s Bizarre Adventure: Stardust Crusaders']\n",
    "outsyn_list = []\n",
    "for t in out_list:\n",
    "    outsyn_list.append(list(out_df[out_df['title_english'] == t]['synopsis'])[0])\n",
    "for syn in outsyn_list:\n",
    "    print('>> \\t%s'%(syn[:300]+\"...\"))"
   ]
  },
  {
   "cell_type": "code",
   "execution_count": 264,
   "metadata": {},
   "outputs": [
    {
     "name": "stdout",
     "output_type": "stream",
     "text": [
      "[1038161, 439965, 190064, 262182, 57332, 26862, 5131, 806647]\n",
      ">> \t134149, \t-2.267429915760377\n",
      ">> \t90342, \t-2.7206903395899813\n",
      ">> \t531506, \t1.843926767684281\n",
      ">> \t133963, \t-2.2693544127319183\n",
      ">> \t176466, \t-1.8295861612189253\n",
      "AVG ST.Z: 2.186197519397097\n",
      "AVG SQ ST.Z: 213682.30218480894\n"
     ]
    }
   ],
   "source": [
    "# EXAMPLE 3, scored_by\n",
    "\n",
    "in_list = ['Attack on Titan', 'Attack on Titan Season 2', \n",
    "   'Bungo Stray Dogs', 'My Hero Academia 3', 'Nanbaka', 'Nanbaka: Season 2', 'Nanbaka: Idiots with Student Numbers!',\n",
    "   'One Punch Man']\n",
    "insyn_list = []\n",
    "for t in in_list:\n",
    "    insyn_list.append(list(gen_df[gen_df['title_english'] == t]['scored_by'])[0])\n",
    "print(insyn_list)\n",
    "out_list = ['JoJo\\'s Bizarre Adventure: Diamond is Unbreakable', \n",
    "            'Re:CREATORS', 'Akame ga Kill!', 'Drifters', \n",
    "            'JoJo\\'s Bizarre Adventure: Stardust Crusaders']\n",
    "outsyn_list = []\n",
    "for t in out_list:\n",
    "    outsyn_list.append(list(gen_df[gen_df['title_english'] == t]['scored_by'])[0])\n",
    "sumz = 0\n",
    "for syn in outsyn_list:\n",
    "    z = (std_z(syn, avg(insyn_list), f_stdv['scored_by']))\n",
    "    sumz += abs(z)\n",
    "    print(\">> \\t%s, \\t%s\"%(syn,z))\n",
    "\n",
    "print(\"AVG ST.Z: %s\"%(sumz/len(outsyn_list)))\n",
    "print(\"AVG SQ ST.Z: %s\"%(avg_std_z(outsyn_list,avg(insyn_list))))"
   ]
  },
  {
   "cell_type": "code",
   "execution_count": 265,
   "metadata": {},
   "outputs": [
    {
     "name": "stdout",
     "output_type": "stream",
     "text": [
      "[2, 41, 152, 89, 658, 1534, 3340, 5]\n",
      ">> \t352, \t-0.13096874293093574\n",
      ">> \t333, \t-0.13759345139200138\n",
      ">> \t23, \t-0.2456807999672828\n",
      ">> \t294, \t-0.15119153718050451\n",
      ">> \t289, \t-0.1529348815123639\n",
      "AVG ST.Z: 0.16367388259661766\n",
      "AVG SQ ST.Z: 484.5084009849571\n"
     ]
    }
   ],
   "source": [
    "# EXAMPLE 3, popularity\n",
    "\n",
    "in_list = ['Attack on Titan', 'Attack on Titan Season 2', \n",
    "   'Bungo Stray Dogs', 'My Hero Academia 3', 'Nanbaka', 'Nanbaka: Season 2', 'Nanbaka: Idiots with Student Numbers!',\n",
    "   'One Punch Man']\n",
    "insyn_list = []\n",
    "for t in in_list:\n",
    "    insyn_list.append(list(gen_df[gen_df['title_english'] == t]['popularity'])[0])\n",
    "print(insyn_list)\n",
    "out_list = ['JoJo\\'s Bizarre Adventure: Diamond is Unbreakable', \n",
    "            'Re:CREATORS', 'Akame ga Kill!', 'Drifters', \n",
    "            'JoJo\\'s Bizarre Adventure: Stardust Crusaders']\n",
    "outsyn_list = []\n",
    "for t in out_list:\n",
    "    outsyn_list.append(list(gen_df[gen_df['title_english'] == t]['popularity'])[0])\n",
    "sumz = 0\n",
    "for syn in outsyn_list:\n",
    "    z = (std_z(syn, avg(insyn_list), f_stdv['popularity']))\n",
    "    sumz += abs(z)\n",
    "    print(\">> \\t%s, \\t%s\"%(syn,z))\n",
    "\n",
    "print(\"AVG ST.Z: %s\"%(sumz/len(outsyn_list)))\n",
    "print(\"AVG SQ ST.Z: %s\"%(avg_std_z(outsyn_list,avg(insyn_list))))"
   ]
  },
  {
   "cell_type": "code",
   "execution_count": 266,
   "metadata": {},
   "outputs": [
    {
     "name": "stdout",
     "output_type": "stream",
     "text": [
      "[25.0, 12.0, 12.0, 25.0, 13.0, 12.0, 1.0, 12.0]\n",
      ">> \t39.0, \t0.5563051577618563\n",
      ">> \t22.0, \t0.178017650483794\n",
      ">> \t24.0, \t0.2225220631047425\n",
      ">> \t12.0, \t-0.0445044126209485\n",
      ">> \t24.0, \t0.2225220631047425\n",
      "AVG ST.Z: 0.24477426941521677\n",
      "AVG SQ ST.Z: 13.36413109783049\n"
     ]
    }
   ],
   "source": [
    "# EXAMPLE 3, episodes\n",
    "\n",
    "in_list = ['Attack on Titan', 'Attack on Titan Season 2', \n",
    "   'Bungo Stray Dogs', 'My Hero Academia 3', 'Nanbaka', 'Nanbaka: Season 2', 'Nanbaka: Idiots with Student Numbers!',\n",
    "   'One Punch Man']\n",
    "insyn_list = []\n",
    "for t in in_list:\n",
    "    insyn_list.append(list(gen_df[gen_df['title_english'] == t]['episodes'])[0])\n",
    "print(insyn_list)\n",
    "out_list = ['JoJo\\'s Bizarre Adventure: Diamond is Unbreakable', \n",
    "            'Re:CREATORS', 'Akame ga Kill!', 'Drifters', \n",
    "            'JoJo\\'s Bizarre Adventure: Stardust Crusaders']\n",
    "outsyn_list = []\n",
    "for t in out_list:\n",
    "    outsyn_list.append(list(gen_df[gen_df['title_english'] == t]['episodes'])[0])\n",
    "sumz = 0\n",
    "for syn in outsyn_list:\n",
    "    z = (std_z(syn, avg(insyn_list), f_stdv['episodes']))\n",
    "    sumz += abs(z)\n",
    "    print(\">> \\t%s, \\t%s\"%(syn,z))\n",
    "\n",
    "print(\"AVG ST.Z: %s\"%(sumz/len(outsyn_list)))\n",
    "print(\"AVG SQ ST.Z: %s\"%(avg_std_z(outsyn_list,avg(insyn_list))))"
   ]
  },
  {
   "cell_type": "code",
   "execution_count": 267,
   "metadata": {},
   "outputs": [
    {
     "name": "stdout",
     "output_type": "stream",
     "text": [
      "[116, 143, 858, 50, 1972, 1347, 4026, 46]\n",
      ">> \t64, \t-0.3674819065331403\n",
      ">> \t1216, \t0.053436966274394\n",
      ">> \t946, \t-0.04521589453987185\n",
      ">> \t524, \t-0.1994066621829096\n",
      ">> \t291, \t-0.28454042725596124\n",
      "AVG ST.Z: 0.1900163713572554\n",
      "AVG SQ ST.Z: 624.904922768256\n"
     ]
    }
   ],
   "source": [
    "# EXAMPLE 3, rank\n",
    "\n",
    "in_list = ['Attack on Titan', 'Attack on Titan Season 2', \n",
    "   'Bungo Stray Dogs', 'My Hero Academia 3', 'Nanbaka', 'Nanbaka: Season 2', 'Nanbaka: Idiots with Student Numbers!',\n",
    "   'One Punch Man']\n",
    "insyn_list = []\n",
    "for t in in_list:\n",
    "    insyn_list.append(list(gen_df[gen_df['title_english'] == t]['rank'])[0])\n",
    "print(insyn_list)\n",
    "out_list = ['JoJo\\'s Bizarre Adventure: Diamond is Unbreakable', \n",
    "            'Re:CREATORS', 'Akame ga Kill!', 'Drifters', \n",
    "            'JoJo\\'s Bizarre Adventure: Stardust Crusaders']\n",
    "outsyn_list = []\n",
    "for t in out_list:\n",
    "    outsyn_list.append(list(gen_df[gen_df['title_english'] == t]['rank'])[0])\n",
    "sumz = 0\n",
    "for syn in outsyn_list:\n",
    "    z = (std_z(syn, avg(insyn_list), f_stdv['rank']))\n",
    "    sumz += abs(z)\n",
    "    print(\">> \\t%s, \\t%s\"%(syn,z))\n",
    "\n",
    "print(\"AVG ST.Z: %s\"%(sumz/len(outsyn_list)))\n",
    "print(\"AVG SQ ST.Z: %s\"%(avg_std_z(outsyn_list,avg(insyn_list))))"
   ]
  },
  {
   "cell_type": "code",
   "execution_count": 268,
   "metadata": {},
   "outputs": [
    {
     "name": "stdout",
     "output_type": "stream",
     "text": [
      "[1500958, 781129, 401847, 535390, 143814, 57054, 15109, 1195384]\n",
      ">> \t236502, \t-2.084132244238366\n",
      ">> \t248516, \t-2.0109908320201537\n",
      ">> \t874667, \t1.8010258486728306\n",
      ">> \t275539, \t-1.8464744026566833\n",
      ">> \t281554, \t-1.8098549924275718\n",
      "AVG ST.Z: 1.9104956640031212\n",
      "AVG SQ ST.Z: 314383.4522360244\n"
     ]
    }
   ],
   "source": [
    "# EXAMPLE 3, members\n",
    "\n",
    "in_list = ['Attack on Titan', 'Attack on Titan Season 2', \n",
    "   'Bungo Stray Dogs', 'My Hero Academia 3', 'Nanbaka', 'Nanbaka: Season 2', 'Nanbaka: Idiots with Student Numbers!',\n",
    "   'One Punch Man']\n",
    "insyn_list = []\n",
    "for t in in_list:\n",
    "    insyn_list.append(list(gen_df[gen_df['title_english'] == t]['members'])[0])\n",
    "print(insyn_list)\n",
    "out_list = ['JoJo\\'s Bizarre Adventure: Diamond is Unbreakable', \n",
    "            'Re:CREATORS', 'Akame ga Kill!', 'Drifters', \n",
    "            'JoJo\\'s Bizarre Adventure: Stardust Crusaders']\n",
    "outsyn_list = []\n",
    "for t in out_list:\n",
    "    outsyn_list.append(list(gen_df[gen_df['title_english'] == t]['members'])[0])\n",
    "sumz = 0\n",
    "for syn in outsyn_list:\n",
    "    z = (std_z(syn, avg(insyn_list), f_stdv['members']))\n",
    "    sumz += abs(z)\n",
    "    print(\">> \\t%s, \\t%s\"%(syn,z))\n",
    "\n",
    "print(\"AVG ST.Z: %s\"%(sumz/len(outsyn_list)))\n",
    "print(\"AVG SQ ST.Z: %s\"%(avg_std_z(outsyn_list,avg(insyn_list))))"
   ]
  },
  {
   "cell_type": "code",
   "execution_count": 269,
   "metadata": {},
   "outputs": [
    {
     "name": "stdout",
     "output_type": "stream",
     "text": [
      "[70555, 8670, 5777, 8361, 971, 232, 30, 35969]\n",
      ">> \t9765, \t-1.0554797824763524\n",
      ">> \t2044, \t-2.2985892343592647\n",
      ">> \t16107, \t-0.034394412208067236\n",
      ">> \t2120, \t-2.2863529542992853\n",
      ">> \t6335, \t-1.607722422025425\n",
      "AVG ST.Z: 1.456507761073679\n",
      "AVG SQ ST.Z: 10471.048975180329\n"
     ]
    }
   ],
   "source": [
    "# EXAMPLE 3, favorites\n",
    "\n",
    "in_list = ['Attack on Titan', 'Attack on Titan Season 2', \n",
    "   'Bungo Stray Dogs', 'My Hero Academia 3', 'Nanbaka', 'Nanbaka: Season 2', 'Nanbaka: Idiots with Student Numbers!',\n",
    "   'One Punch Man']\n",
    "insyn_list = []\n",
    "for t in in_list:\n",
    "    insyn_list.append(list(gen_df[gen_df['title_english'] == t]['favorites'])[0])\n",
    "print(insyn_list)\n",
    "out_list = ['JoJo\\'s Bizarre Adventure: Diamond is Unbreakable', \n",
    "            'Re:CREATORS', 'Akame ga Kill!', 'Drifters', \n",
    "            'JoJo\\'s Bizarre Adventure: Stardust Crusaders']\n",
    "outsyn_list = []\n",
    "for t in out_list:\n",
    "    outsyn_list.append(list(gen_df[gen_df['title_english'] == t]['favorites'])[0])\n",
    "sumz = 0\n",
    "for syn in outsyn_list:\n",
    "    z = (std_z(syn, avg(insyn_list), f_stdv['favorites']))\n",
    "    sumz += abs(z)\n",
    "    print(\">> \\t%s, \\t%s\"%(syn,z))\n",
    "\n",
    "print(\"AVG ST.Z: %s\"%(sumz/len(outsyn_list)))\n",
    "print(\"AVG SQ ST.Z: %s\"%(avg_std_z(outsyn_list,avg(insyn_list))))"
   ]
  },
  {
   "cell_type": "code",
   "execution_count": 270,
   "metadata": {},
   "outputs": [
    {
     "name": "stdout",
     "output_type": "stream",
     "text": [
      "[0, 0, 1, 1, 1, 1, 1, 1]\n",
      ">> \t1, \t0.5025660190455492\n",
      ">> \t0, \t-1.5076980571366474\n",
      ">> \t0, \t-1.5076980571366474\n",
      ">> \t1, \t0.5025660190455492\n",
      ">> \t0, \t-1.5076980571366474\n",
      "AVG ST.Z: 1.105645241900208\n",
      "AVG SQ ST.Z: 0.6020797289396148\n",
      "ABS MEAN DIFF: 0.35\n"
     ]
    }
   ],
   "source": [
    "# EXAMPLE 3, genre_Comedy\n",
    "\n",
    "in_list = ['Attack on Titan', 'Attack on Titan Season 2', \n",
    "   'Bungo Stray Dogs', 'My Hero Academia 3', 'Nanbaka', 'Nanbaka: Season 2', 'Nanbaka: Idiots with Student Numbers!',\n",
    "   'One Punch Man']\n",
    "insyn_list = []\n",
    "for t in in_list:\n",
    "    insyn_list.append(list(gen_df[gen_df['title_english'] == t]['genre_Comedy'])[0])\n",
    "print(insyn_list)\n",
    "out_list = ['JoJo\\'s Bizarre Adventure: Diamond is Unbreakable', \n",
    "            'Re:CREATORS', 'Akame ga Kill!', 'Drifters', \n",
    "            'JoJo\\'s Bizarre Adventure: Stardust Crusaders']\n",
    "outsyn_list = []\n",
    "for t in out_list:\n",
    "    outsyn_list.append(list(gen_df[gen_df['title_english'] == t]['genre_Comedy'])[0])\n",
    "sumz = 0\n",
    "for syn in outsyn_list:\n",
    "    z = (std_z(syn, avg(insyn_list), f_stdv['genre_Comedy']))\n",
    "    sumz += abs(z)\n",
    "    print(\">> \\t%s, \\t%s\"%(syn,z))\n",
    "\n",
    "print(\"AVG ST.Z: %s\"%(sumz/len(outsyn_list)))\n",
    "print(\"AVG SQ ST.Z: %s\"%(avg_std_z(outsyn_list,avg(insyn_list))))\n",
    "print(\"ABS MEAN DIFF: %s\"%(abs(mean(outsyn_list)-mean(insyn_list))))"
   ]
  },
  {
   "cell_type": "code",
   "execution_count": 271,
   "metadata": {},
   "outputs": [
    {
     "name": "stdout",
     "output_type": "stream",
     "text": [
      "[1, 1, 1, 1, 1, 1, 1, 1]\n",
      ">> \t1, \t0.0\n",
      ">> \t1, \t0.0\n",
      ">> \t1, \t0.0\n",
      ">> \t1, \t0.0\n",
      ">> \t1, \t0.0\n",
      "AVG ST.Z: 0.0\n",
      "AVG SQ ST.Z: 0.0\n",
      "ABS MEAN DIFF: 0\n"
     ]
    }
   ],
   "source": [
    "# EXAMPLE 3, genre_Action\n",
    "\n",
    "in_list = ['Attack on Titan', 'Attack on Titan Season 2', \n",
    "   'Bungo Stray Dogs', 'My Hero Academia 3', 'Nanbaka', 'Nanbaka: Season 2', 'Nanbaka: Idiots with Student Numbers!',\n",
    "   'One Punch Man']\n",
    "insyn_list = []\n",
    "for t in in_list:\n",
    "    insyn_list.append(list(gen_df[gen_df['title_english'] == t]['genre_Action'])[0])\n",
    "print(insyn_list)\n",
    "out_list = ['JoJo\\'s Bizarre Adventure: Diamond is Unbreakable', \n",
    "            'Re:CREATORS', 'Akame ga Kill!', 'Drifters', \n",
    "            'JoJo\\'s Bizarre Adventure: Stardust Crusaders']\n",
    "outsyn_list = []\n",
    "for t in out_list:\n",
    "    outsyn_list.append(list(gen_df[gen_df['title_english'] == t]['genre_Action'])[0])\n",
    "sumz = 0\n",
    "for syn in outsyn_list:\n",
    "    z = (std_z(syn, avg(insyn_list), f_stdv['genre_Action']))\n",
    "    sumz += abs(z)\n",
    "    print(\">> \\t%s, \\t%s\"%(syn,z))\n",
    "\n",
    "print(\"AVG ST.Z: %s\"%(sumz/len(outsyn_list)))\n",
    "print(\"AVG SQ ST.Z: %s\"%(avg_std_z(outsyn_list,avg(insyn_list))))\n",
    "print(\"ABS MEAN DIFF: %s\"%(abs(mean(outsyn_list)-mean(insyn_list))))"
   ]
  },
  {
   "cell_type": "code",
   "execution_count": 95,
   "metadata": {},
   "outputs": [
    {
     "name": "stdout",
     "output_type": "stream",
     "text": [
      "Centuries ago, mankind was slaughtered to near extinction by monstrous humanoid creatures called titans, forcing humans to hide in fear behind enormous concentric walls. What makes these giants truly terrifying is that their taste for human flesh is not born out of hunger but what appears to be out ...\n",
      "For centuries, humanity has been hunted by giant, mysterious predators known as the Titans. Three mighty walls—Wall Maria, Rose, and Sheena—provided peace and protection for humanity for over a hundred years. That peace, however, was shattered when the Colossus Titan and Armored Titan appeared and d...\n",
      "Nanba is the world's most formidable prison, built to incarcerate criminals who are too slippery to stay in ordinary confinement. The four inmates who occupy Cell 13 are particularly cunning on that behalf, having escaped every other prison with a perfect success rate. There is Juugo, a specialist i...\n",
      "The seemingly ordinary and unimpressive Saitama has a rather unique hobby: being a hero. In order to pursue his childhood dream, he trained relentlessly for three years—and lost all of his hair in the process. Now, Saitama is incredibly powerful, so much so that no enemy is able to defeat him in bat...\n",
      "For weeks, Atsushi Nakajima's orphanage has been plagued by a mystical tiger that only he seems to be aware of. Suspected to be behind the strange incidents, the 18-year-old is abruptly kicked out of the orphanage and left hungry, homeless, and wandering through the city. While starving on a riverba...\n",
      "The second part of Nanbaka. The prisoners and their guards continue their comfortable lives at Nanba Prison. However, from the shadows emerges a new threat: Enki Gokuu, a person from Samon's past, who has mysterious goals of his own....\n",
      "The official website for the Nanbaka television anime announced that the \"Nanfes\" event in April will screen a previously unreleased anime special....\n",
      "As summer arrives for the students at UA Academy, each of these superheroes-in-training puts in their best efforts to become renowned heroes. They head off to a forest training camp run by UA's pro heroes, where the students face one another in battle and go through dangerous tests, improving their ...\n",
      ">> \tHaruhi Fujioka is a bright scholarship candidate with no rank or title to speak of—a rare species at Ouran High School, an elite academy for students of high pedigree. When she opens the door to Music Room #3 hoping to find a quiet place to study, Haruhi unexpectedly stumbles upon the Host Club. Led...\n",
      ">> \tBeing the first female student council president isn't easy, especially when your school just transitioned from an all boys high school to a co-ed one. Aptly nicknamed \"Demon President\" by the boys for her strict disciplinary style, Misaki Ayuzawa is not afraid to use her mastery of Aikido technique...\n",
      ">> \tHachiman Hikigaya is an apathetic high school student with narcissistic and semi-nihilistic tendencies. He firmly believes that joyful youth is nothing but a farce, and everyone who says otherwise is just lying to themselves. In a novel punishment for writing an essay mocking modern social relations...\n",
      ">> \tWhen an Emishi village is attacked by a fierce demon boar, the young prince Ashitaka puts his life at stake to defend his tribe. With its dying breath, the beast curses the prince's arm, granting him demonic powers while gradually siphoning his life away. Instructed by the village elders to travel w...\n",
      ">> \tThe final hour of the popular virtual reality game Yggdrasil has come. However, Momonga, a powerful wizard and master of the dark guild Ainz Ooal Gown, decides to spend his last few moments in the game as the servers begin to shut down. To his surprise, despite the clock having struck midnight, Momo...\n"
     ]
    }
   ],
   "source": [
    "# from data_modeling EXAMPLE 3 (Euclidean, un-normalized)\n",
    "in_list = ['Attack on Titan', 'Attack on Titan Season 2', \n",
    "           'Bungo Stray Dogs', 'My Hero Academia 3', 'Nanbaka',\n",
    "           'Nanbaka: Season 2', 'Nanbaka: Idiots with Student Numbers!',\n",
    "           'One Punch Man']\n",
    "insyn_list = list(out_df[out_df['title_english'].isin(in_list)]['synopsis'])\n",
    "for syn in insyn_list:\n",
    "    print(syn[:300]+\"...\")\n",
    "out_list = ['Ouran High School Host Club', 'Maid Sama!', \n",
    "            'My Teen Romantic Comedy SNAFU', 'Princess Mononoke', 'Overlord']\n",
    "outsyn_list = []\n",
    "for t in out_list:\n",
    "    outsyn_list.append(list(out_df[out_df['title_english'] == t]['synopsis'])[0])\n",
    "for syn in outsyn_list:\n",
    "    print('>> \\t%s'%(syn[:300]+\"...\"))"
   ]
  },
  {
   "cell_type": "code",
   "execution_count": 272,
   "metadata": {},
   "outputs": [
    {
     "name": "stdout",
     "output_type": "stream",
     "text": [
      "[1038161, 439965, 190064, 262182, 57332, 26862, 5131, 806647]\n",
      ">> \t354874, \t0.01635822425810041\n",
      ">> \t339932, \t-0.1382430324557113\n",
      ">> \t340376, \t-0.133649071943\n",
      ">> \t368410, \t0.15641193934832628\n",
      ">> \t344782, \t-0.08806125658487829\n",
      "AVG ST.Z: 0.10654470491800325\n",
      "AVG SQ ST.Z: 11391.449258105837\n"
     ]
    }
   ],
   "source": [
    "# EXAMPLE 3, scored_by\n",
    "\n",
    "in_list = ['Attack on Titan', 'Attack on Titan Season 2', \n",
    "   'Bungo Stray Dogs', 'My Hero Academia 3', 'Nanbaka', 'Nanbaka: Season 2', 'Nanbaka: Idiots with Student Numbers!',\n",
    "   'One Punch Man']\n",
    "insyn_list = []\n",
    "for t in in_list:\n",
    "    insyn_list.append(list(gen_df[gen_df['title_english'] == t]['scored_by'])[0])\n",
    "print(insyn_list)\n",
    "out_list = ['Ouran High School Host Club', 'Maid Sama!', \n",
    "            'My Teen Romantic Comedy SNAFU', 'Princess Mononoke', 'Overlord']\n",
    "outsyn_list = []\n",
    "for t in out_list:\n",
    "    outsyn_list.append(list(gen_df[gen_df['title_english'] == t]['scored_by'])[0])\n",
    "sumz = 0\n",
    "for syn in outsyn_list:\n",
    "    z = (std_z(syn, avg(insyn_list), f_stdv['scored_by']))\n",
    "    sumz += abs(z)\n",
    "    print(\">> \\t%s, \\t%s\"%(syn,z))\n",
    "\n",
    "print(\"AVG ST.Z: %s\"%(sumz/len(outsyn_list)))\n",
    "print(\"AVG SQ ST.Z: %s\"%(avg_std_z(outsyn_list,avg(insyn_list))))"
   ]
  },
  {
   "cell_type": "code",
   "execution_count": 273,
   "metadata": {},
   "outputs": [
    {
     "name": "stdout",
     "output_type": "stream",
     "text": [
      "[2, 41, 152, 89, 658, 1534, 3340, 5]\n",
      ">> \t77, \t-0.2268526811832015\n",
      ">> \t76, \t-0.2272013500495734\n",
      ">> \t74, \t-0.22789868778231714\n",
      ">> \t79, \t-0.22615534345045776\n",
      ">> \t71, \t-0.22894469438143278\n",
      "AVG ST.Z: 0.22741055136939653\n",
      "AVG SQ ST.Z: 652.2307035282838\n"
     ]
    }
   ],
   "source": [
    "# EXAMPLE 3, popularity\n",
    "\n",
    "in_list = ['Attack on Titan', 'Attack on Titan Season 2', \n",
    "   'Bungo Stray Dogs', 'My Hero Academia 3', 'Nanbaka', 'Nanbaka: Season 2', 'Nanbaka: Idiots with Student Numbers!',\n",
    "   'One Punch Man']\n",
    "insyn_list = []\n",
    "for t in in_list:\n",
    "    insyn_list.append(list(gen_df[gen_df['title_english'] == t]['popularity'])[0])\n",
    "print(insyn_list)\n",
    "out_list = ['Ouran High School Host Club', 'Maid Sama!', \n",
    "            'My Teen Romantic Comedy SNAFU', 'Princess Mononoke', 'Overlord']\n",
    "outsyn_list = []\n",
    "for t in out_list:\n",
    "    outsyn_list.append(list(gen_df[gen_df['title_english'] == t]['popularity'])[0])\n",
    "sumz = 0\n",
    "for syn in outsyn_list:\n",
    "    z = (std_z(syn, avg(insyn_list), f_stdv['popularity']))\n",
    "    sumz += abs(z)\n",
    "    print(\">> \\t%s, \\t%s\"%(syn,z))\n",
    "\n",
    "print(\"AVG ST.Z: %s\"%(sumz/len(outsyn_list)))\n",
    "print(\"AVG SQ ST.Z: %s\"%(avg_std_z(outsyn_list,avg(insyn_list))))"
   ]
  },
  {
   "cell_type": "code",
   "execution_count": 274,
   "metadata": {},
   "outputs": [
    {
     "name": "stdout",
     "output_type": "stream",
     "text": [
      "[25.0, 12.0, 12.0, 25.0, 13.0, 12.0, 1.0, 12.0]\n",
      ">> \t26.0, \t0.267026475725691\n",
      ">> \t26.0, \t0.267026475725691\n",
      ">> \t13.0, \t-0.02225220631047425\n",
      ">> \t1.0, \t-0.28927868203616525\n",
      ">> \t13.0, \t-0.02225220631047425\n",
      "AVG ST.Z: 0.17356720922169913\n",
      "AVG SQ ST.Z: 9.581231653602787\n"
     ]
    }
   ],
   "source": [
    "# EXAMPLE 3, episodes\n",
    "\n",
    "in_list = ['Attack on Titan', 'Attack on Titan Season 2', \n",
    "   'Bungo Stray Dogs', 'My Hero Academia 3', 'Nanbaka', 'Nanbaka: Season 2', 'Nanbaka: Idiots with Student Numbers!',\n",
    "   'One Punch Man']\n",
    "insyn_list = []\n",
    "for t in in_list:\n",
    "    insyn_list.append(list(gen_df[gen_df['title_english'] == t]['episodes'])[0])\n",
    "print(insyn_list)\n",
    "out_list = ['Ouran High School Host Club', 'Maid Sama!', \n",
    "            'My Teen Romantic Comedy SNAFU', 'Princess Mononoke', 'Overlord']\n",
    "outsyn_list = []\n",
    "for t in out_list:\n",
    "    outsyn_list.append(list(gen_df[gen_df['title_english'] == t]['episodes'])[0])\n",
    "sumz = 0\n",
    "for syn in outsyn_list:\n",
    "    z = (std_z(syn, avg(insyn_list), f_stdv['episodes']))\n",
    "    sumz += abs(z)\n",
    "    print(\">> \\t%s, \\t%s\"%(syn,z))\n",
    "\n",
    "print(\"AVG ST.Z: %s\"%(sumz/len(outsyn_list)))\n",
    "print(\"AVG SQ ST.Z: %s\"%(avg_std_z(outsyn_list,avg(insyn_list))))"
   ]
  },
  {
   "cell_type": "code",
   "execution_count": 275,
   "metadata": {},
   "outputs": [
    {
     "name": "stdout",
     "output_type": "stream",
     "text": [
      "[116, 143, 858, 50, 1972, 1347, 4026, 46]\n",
      ">> \t225, \t-0.3086555710105595\n",
      ">> \t336, \t-0.2680982837869169\n",
      ">> \t450, \t-0.226444853665338\n",
      ">> \t30, \t-0.3799048593764182\n",
      ">> \t473, \t-0.21804109144782646\n",
      "AVG ST.Z: 0.2802289318574118\n",
      "AVG SQ ST.Z: 783.9990194509174\n"
     ]
    }
   ],
   "source": [
    "# EXAMPLE 3, rank\n",
    "\n",
    "in_list = ['Attack on Titan', 'Attack on Titan Season 2', \n",
    "   'Bungo Stray Dogs', 'My Hero Academia 3', 'Nanbaka', 'Nanbaka: Season 2', 'Nanbaka: Idiots with Student Numbers!',\n",
    "   'One Punch Man']\n",
    "insyn_list = []\n",
    "for t in in_list:\n",
    "    insyn_list.append(list(gen_df[gen_df['title_english'] == t]['rank'])[0])\n",
    "print(insyn_list)\n",
    "out_list = ['Ouran High School Host Club', 'Maid Sama!', \n",
    "            'My Teen Romantic Comedy SNAFU', 'Princess Mononoke', 'Overlord']\n",
    "outsyn_list = []\n",
    "for t in out_list:\n",
    "    outsyn_list.append(list(gen_df[gen_df['title_english'] == t]['rank'])[0])\n",
    "sumz = 0\n",
    "for syn in outsyn_list:\n",
    "    z = (std_z(syn, avg(insyn_list), f_stdv['rank']))\n",
    "    sumz += abs(z)\n",
    "    print(\">> \\t%s, \\t%s\"%(syn,z))\n",
    "\n",
    "print(\"AVG ST.Z: %s\"%(sumz/len(outsyn_list)))\n",
    "print(\"AVG SQ ST.Z: %s\"%(avg_std_z(outsyn_list,avg(insyn_list))))"
   ]
  },
  {
   "cell_type": "code",
   "execution_count": 276,
   "metadata": {},
   "outputs": [
    {
     "name": "stdout",
     "output_type": "stream",
     "text": [
      "[1500958, 781129, 401847, 535390, 143814, 57054, 15109, 1195384]\n",
      ">> \t577939, \t-0.005458666449987858\n",
      ">> \t579513, \t0.004123869161087997\n",
      ">> \t587060, \t0.050070118371246496\n",
      ">> \t568463, \t-0.06314869659646485\n",
      ">> \t595128, \t0.0991882233967611\n",
      "AVG ST.Z: 0.04439791479510966\n",
      "AVG SQ ST.Z: 9401.446164852778\n"
     ]
    }
   ],
   "source": [
    "# EXAMPLE 3, members\n",
    "\n",
    "in_list = ['Attack on Titan', 'Attack on Titan Season 2', \n",
    "   'Bungo Stray Dogs', 'My Hero Academia 3', 'Nanbaka', 'Nanbaka: Season 2', 'Nanbaka: Idiots with Student Numbers!',\n",
    "   'One Punch Man']\n",
    "insyn_list = []\n",
    "for t in in_list:\n",
    "    insyn_list.append(list(gen_df[gen_df['title_english'] == t]['members'])[0])\n",
    "print(insyn_list)\n",
    "out_list = ['Ouran High School Host Club', 'Maid Sama!', \n",
    "            'My Teen Romantic Comedy SNAFU', 'Princess Mononoke', 'Overlord']\n",
    "outsyn_list = []\n",
    "for t in out_list:\n",
    "    outsyn_list.append(list(gen_df[gen_df['title_english'] == t]['members'])[0])\n",
    "sumz = 0\n",
    "for syn in outsyn_list:\n",
    "    z = (std_z(syn, avg(insyn_list), f_stdv['members']))\n",
    "    sumz += abs(z)\n",
    "    print(\">> \\t%s, \\t%s\"%(syn,z))\n",
    "\n",
    "print(\"AVG ST.Z: %s\"%(sumz/len(outsyn_list)))\n",
    "print(\"AVG SQ ST.Z: %s\"%(avg_std_z(outsyn_list,avg(insyn_list))))"
   ]
  },
  {
   "cell_type": "code",
   "execution_count": 277,
   "metadata": {},
   "outputs": [
    {
     "name": "stdout",
     "output_type": "stream",
     "text": [
      "[70555, 8670, 5777, 8361, 971, 232, 30, 35969]\n",
      ">> \t25017, \t1.4001484211395236\n",
      ">> \t15410, \t-0.14661398065287878\n",
      ">> \t15575, \t-0.1200483726279234\n",
      ">> \t11828, \t-0.7233291803219102\n",
      ">> \t10877, \t-0.8764436847566531\n",
      "AVG ST.Z: 0.6533167278997778\n",
      "AVG SQ ST.Z: 5036.444484020944\n"
     ]
    }
   ],
   "source": [
    "# EXAMPLE 3, favorites\n",
    "\n",
    "in_list = ['Attack on Titan', 'Attack on Titan Season 2', \n",
    "   'Bungo Stray Dogs', 'My Hero Academia 3', 'Nanbaka', 'Nanbaka: Season 2', 'Nanbaka: Idiots with Student Numbers!',\n",
    "   'One Punch Man']\n",
    "insyn_list = []\n",
    "for t in in_list:\n",
    "    insyn_list.append(list(gen_df[gen_df['title_english'] == t]['favorites'])[0])\n",
    "print(insyn_list)\n",
    "out_list = ['Ouran High School Host Club', 'Maid Sama!', \n",
    "            'My Teen Romantic Comedy SNAFU', 'Princess Mononoke', 'Overlord']\n",
    "outsyn_list = []\n",
    "for t in out_list:\n",
    "    outsyn_list.append(list(gen_df[gen_df['title_english'] == t]['favorites'])[0])\n",
    "sumz = 0\n",
    "for syn in outsyn_list:\n",
    "    z = (std_z(syn, avg(insyn_list), f_stdv['favorites']))\n",
    "    sumz += abs(z)\n",
    "    print(\">> \\t%s, \\t%s\"%(syn,z))\n",
    "\n",
    "print(\"AVG ST.Z: %s\"%(sumz/len(outsyn_list)))\n",
    "print(\"AVG SQ ST.Z: %s\"%(avg_std_z(outsyn_list,avg(insyn_list))))"
   ]
  },
  {
   "cell_type": "code",
   "execution_count": 278,
   "metadata": {},
   "outputs": [
    {
     "name": "stdout",
     "output_type": "stream",
     "text": [
      "[0, 0, 1, 1, 1, 1, 1, 1]\n",
      ">> \t1, \t0.5025660190455492\n",
      ">> \t1, \t0.5025660190455492\n",
      ">> \t1, \t0.5025660190455492\n",
      ">> \t0, \t-1.5076980571366474\n",
      ">> \t0, \t-1.5076980571366474\n",
      "AVG ST.Z: 0.9046188342819885\n",
      "AVG SQ ST.Z: 0.51234753829798\n",
      "ABS MEAN DIFF: 0.15000000000000002\n"
     ]
    }
   ],
   "source": [
    "# EXAMPLE 3, genre_Comedy\n",
    "\n",
    "in_list = ['Attack on Titan', 'Attack on Titan Season 2', \n",
    "   'Bungo Stray Dogs', 'My Hero Academia 3', 'Nanbaka', 'Nanbaka: Season 2', 'Nanbaka: Idiots with Student Numbers!',\n",
    "   'One Punch Man']\n",
    "insyn_list = []\n",
    "for t in in_list:\n",
    "    insyn_list.append(list(gen_df[gen_df['title_english'] == t]['genre_Comedy'])[0])\n",
    "print(insyn_list)\n",
    "out_list = ['Ouran High School Host Club', 'Maid Sama!', \n",
    "            'My Teen Romantic Comedy SNAFU', 'Princess Mononoke', 'Overlord']\n",
    "outsyn_list = []\n",
    "for t in out_list:\n",
    "    outsyn_list.append(list(gen_df[gen_df['title_english'] == t]['genre_Comedy'])[0])\n",
    "sumz = 0\n",
    "for syn in outsyn_list:\n",
    "    z = (std_z(syn, avg(insyn_list), f_stdv['genre_Comedy']))\n",
    "    sumz += abs(z)\n",
    "    print(\">> \\t%s, \\t%s\"%(syn,z))\n",
    "\n",
    "print(\"AVG ST.Z: %s\"%(sumz/len(outsyn_list)))\n",
    "print(\"AVG SQ ST.Z: %s\"%(avg_std_z(outsyn_list,avg(insyn_list))))\n",
    "print(\"ABS MEAN DIFF: %s\"%(abs(mean(outsyn_list)-mean(insyn_list))))"
   ]
  },
  {
   "cell_type": "code",
   "execution_count": 279,
   "metadata": {},
   "outputs": [
    {
     "name": "stdout",
     "output_type": "stream",
     "text": [
      "[1, 1, 1, 1, 1, 1, 1, 1]\n",
      ">> \t0, \t-2.0470777168234116\n",
      ">> \t0, \t-2.0470777168234116\n",
      ">> \t0, \t-2.0470777168234116\n",
      ">> \t1, \t0.0\n",
      ">> \t1, \t0.0\n",
      "AVG ST.Z: 1.228246630094047\n",
      "AVG SQ ST.Z: 0.7745966692414834\n",
      "ABS MEAN DIFF: 0.6\n"
     ]
    }
   ],
   "source": [
    "# EXAMPLE 3, genre_Action\n",
    "\n",
    "in_list = ['Attack on Titan', 'Attack on Titan Season 2', \n",
    "   'Bungo Stray Dogs', 'My Hero Academia 3', 'Nanbaka', 'Nanbaka: Season 2', 'Nanbaka: Idiots with Student Numbers!',\n",
    "   'One Punch Man']\n",
    "insyn_list = []\n",
    "for t in in_list:\n",
    "    insyn_list.append(list(gen_df[gen_df['title_english'] == t]['genre_Action'])[0])\n",
    "print(insyn_list)\n",
    "out_list = ['Ouran High School Host Club', 'Maid Sama!', \n",
    "            'My Teen Romantic Comedy SNAFU', 'Princess Mononoke', 'Overlord']\n",
    "outsyn_list = []\n",
    "for t in out_list:\n",
    "    outsyn_list.append(list(gen_df[gen_df['title_english'] == t]['genre_Action'])[0])\n",
    "sumz = 0\n",
    "for syn in outsyn_list:\n",
    "    z = (std_z(syn, avg(insyn_list), f_stdv['genre_Action']))\n",
    "    sumz += abs(z)\n",
    "    print(\">> \\t%s, \\t%s\"%(syn,z))\n",
    "\n",
    "print(\"AVG ST.Z: %s\"%(sumz/len(outsyn_list)))\n",
    "print(\"AVG SQ ST.Z: %s\"%(avg_std_z(outsyn_list,avg(insyn_list))))\n",
    "print(\"ABS MEAN DIFF: %s\"%(abs(mean(outsyn_list)-mean(insyn_list))))"
   ]
  },
  {
   "cell_type": "code",
   "execution_count": 145,
   "metadata": {},
   "outputs": [
    {
     "name": "stdout",
     "output_type": "stream",
     "text": [
      "Moments prior to Naruto Uzumaki's birth, a huge demon known as the Kyuubi, the Nine-Tailed Fox, attacked Konohagakure, the Hidden Leaf Village, and wreaked havoc. In order to put an end to the Kyuubi's rampage, the leader of the village, the Fourth Hokage, sacrificed his life and sealed the monstrou...\n",
      "The Great Kanto Desert, a sweltering wasteland of nothing but ruins and sand, is all that remains of post-apocalyptic Japan. The once fair population has been left to cling to the inhospitable dunes for survival. At least, that is the case for normal people. For those who have spent a little too lon...\n",
      "In the final years of the Bakumatsu era lived a legendary assassin known as Hitokiri Battousai. Feared as a merciless killer, he was unmatched throughout the country, but mysteriously disappeared at the peak of the Japanese Revolution. It has been ten peaceful years since then, but the very mention ...\n",
      "Japan, 1988. An explosion caused by a young boy with psychic powers tears through the city of Tokyo and ignites the fuse that leads to World War III. In order to prevent any further destruction, he is captured and taken into custody, never to be heard from again. Now, in the year 2019, a restored ve...\n",
      "Daisuke Niwa is a clumsy, block-headed, and wimpy middle school student who has few redeeming qualities. On his 14th birthday, he finally decides to confess his love to his longtime crush Risa Harada, but is rejected. In an unexpected turn of events, however, Daisuke finds himself transforming into ...\n",
      ">> \tJinta Yadomi is peacefully living as a recluse, spending his days away from school and playing video games at home instead. One hot summer day, his childhood friend, Meiko \"Menma\" Honma, appears and pesters him to grant a forgotten wish. He pays her no mind, which annoys her, but he doesn't really c...\n",
      ">> \tAll of a sudden, they arrived: parasitic aliens that descended upon Earth and quickly infiltrated humanity by burrowing into the brains of vulnerable targets. These insatiable beings acquire full control of their host and are able to morph into a variety of forms in order to feed on unsuspecting pre...\n",
      ">> \tLucy is a special breed of human referred to as \"Diclonius,\" born with a short pair of horns and invisible telekinetic hands that lands her as a victim of inhumane scientific experimentation by the government. However, once circumstances present her an opportunity to escape, Lucy, corrupted by the c...\n",
      ">> \tLonely high school student, Yukiteru Amano, spends his days writing a diary on his cellphone, while conversing with his two seemingly imaginary friends Deus Ex Machina, who is the god of time and space, and Murmur, the god's servant. Revealing himself to be an actual entity, Deus grants Yukiteru a \"...\n",
      ">> \tCross Academy is an elite boarding school with two separate, isolated classes: the Day Class and the Night Class. On the surface, Yuuki Cross and Zero Kiryuu are prefects of the academy, and attempt to keep order between the students as classes rotate in the evenings. As the Night Class is full of u...\n"
     ]
    }
   ],
   "source": [
    "# from data_modeling EXAMPLE 4.1 (Cos, un-normalized)\n",
    "in_list = ['AKIRA', 'Desert Punk', 'Naruto', 'D.N.Angel', 'Rurouni Kenshin']\n",
    "insyn_list = list(out_df[out_df['title_english'].isin(in_list)]['synopsis'])\n",
    "for syn in insyn_list:\n",
    "    print(syn[:300]+\"...\")\n",
    "out_list = ['anohana: The Flower We Saw That Day', 'Parasyte -the maxim-', \n",
    "            'Elfen Lied', 'The Future Diary', 'Vampire Knight']\n",
    "outsyn_list = []\n",
    "for t in out_list:\n",
    "    outsyn_list.append(list(out_df[out_df['title_english'] == t]['synopsis'])[0])\n",
    "for syn in outsyn_list:\n",
    "    print('>> \\t%s'%(syn[:300]+\"...\"))"
   ]
  },
  {
   "cell_type": "code",
   "execution_count": 280,
   "metadata": {},
   "outputs": [
    {
     "name": "stdout",
     "output_type": "stream",
     "text": [
      "[193, 1049, 10, 637, 265]\n",
      ">> \t49, \t-0.13312177318078208\n",
      ">> \t44, \t-0.13486511751264146\n",
      ">> \t18, \t-0.14393050803831023\n",
      ">> \t12, \t-0.14602252123654147\n",
      ">> \t173, \t-0.08988683375066951\n",
      "AVG ST.Z: 0.12956535074378894\n",
      "AVG SQ ST.Z: 376.20303029082584\n"
     ]
    }
   ],
   "source": [
    "# EXAMPLE 4.1, popularity\n",
    "\n",
    "in_list = ['AKIRA', 'Desert Punk', 'Naruto', 'D.N.Angel', 'Rurouni Kenshin']\n",
    "insyn_list = []\n",
    "for t in in_list:\n",
    "    insyn_list.append(list(gen_df[gen_df['title_english'] == t]['popularity'])[0])\n",
    "print(insyn_list)\n",
    "out_list = ['anohana: The Flower We Saw That Day', 'Parasyte -the maxim-', 'Elfen Lied', \n",
    "            'The Future Diary', 'Vampire Knight']\n",
    "outsyn_list = []\n",
    "for t in out_list:\n",
    "    outsyn_list.append(list(gen_df[gen_df['title_english'] == t]['popularity'])[0])\n",
    "sumz = 0\n",
    "for syn in outsyn_list:\n",
    "    z = (std_z(syn, avg(insyn_list), f_stdv['popularity']))\n",
    "    sumz += abs(z)\n",
    "    print(\">> \\t%s, \\t%s\"%(syn,z))\n",
    "\n",
    "print(\"AVG ST.Z: %s\"%(sumz/len(outsyn_list)))\n",
    "print(\"AVG SQ ST.Z: %s\"%(avg_std_z(outsyn_list,avg(insyn_list))))"
   ]
  },
  {
   "cell_type": "code",
   "execution_count": 147,
   "metadata": {},
   "outputs": [
    {
     "name": "stdout",
     "output_type": "stream",
     "text": [
      "[11.0, 24.0, 13.0, 26.0, 13.0]\n",
      ">> \t11.0, \t-0.14241412038703516\n",
      ">> \t24.0, \t0.1468645616491301\n",
      ">> \t13.0, \t-0.09790970776608666\n",
      ">> \t26.0, \t0.19136897427007857\n",
      ">> \t13.0, \t-0.09790970776608666\n",
      "AVG ST.Z: 0.13529341436768344\n",
      "AVG SQ ST.Z: 6.2801273872430325\n"
     ]
    }
   ],
   "source": [
    "# EXAMPLE 4.1, episodes\n",
    "\n",
    "in_list = ['AKIRA', 'Desert Punk', 'Naruto', 'D.N.Angel', 'Rurouni Kenshin']\n",
    "insyn_list = []\n",
    "for t in _list:\n",
    "    insyn_list.append(list(gen_df[gen_df['title_english'] == t]['episodes'])[0])\n",
    "print(insyn_list)\n",
    "out_list = ['anohana: The Flower We Saw That Day', 'Parasyte -the maxim-', 'Elfen Lied', \n",
    "            'The Future Diary', 'Vampire Knight']\n",
    "outsyn_list = []\n",
    "for t in out_list:\n",
    "    outsyn_list.append(list(gen_df[gen_df['title_english'] == t]['episodes'])[0])\n",
    "sumz = 0\n",
    "for syn in outsyn_list:\n",
    "    z = (std_z(syn, avg(insyn_list), f_stdv['episodes']))\n",
    "    sumz += abs(z)\n",
    "    print(\">> \\t%s, \\t%s\"%(syn,z))\n",
    "\n",
    "print(\"AVG ST.Z: %s\"%(sumz/len(outsyn_list)))\n",
    "print(\"AVG SQ ST.Z: %s\"%(avg_std_z(outsyn_list,avg(insyn_list))))"
   ]
  },
  {
   "cell_type": "code",
   "execution_count": 281,
   "metadata": {},
   "outputs": [
    {
     "name": "stdout",
     "output_type": "stream",
     "text": [
      "[5845, 673, 39356, 1448, 9044]\n",
      ">> \t22969, \t1.8830668990198374\n",
      ">> \t18100, \t1.099139956756154\n",
      ">> \t20990, \t1.5644406064053726\n",
      ">> \t25002, \t2.210387390624288\n",
      ">> \t8111, \t-0.5091258527061451\n",
      "AVG ST.Z: 1.4532321411023592\n",
      "AVG SQ ST.Z: 9760.047094148675\n"
     ]
    }
   ],
   "source": [
    "# EXAMPLE 4.1, favorites\n",
    "\n",
    "in_list = ['AKIRA', 'Desert Punk', 'Naruto', 'D.N.Angel', 'Rurouni Kenshin']\n",
    "insyn_list = []\n",
    "for t in in_list:\n",
    "    insyn_list.append(list(gen_df[gen_df['title_english'] == t]['favorites'])[0])\n",
    "print(insyn_list)\n",
    "out_list = ['anohana: The Flower We Saw That Day', 'Parasyte -the maxim-', 'Elfen Lied', \n",
    "            'The Future Diary', 'Vampire Knight']\n",
    "outsyn_list = []\n",
    "for t in out_list:\n",
    "    outsyn_list.append(list(gen_df[gen_df['title_english'] == t]['favorites'])[0])\n",
    "sumz = 0\n",
    "for syn in outsyn_list:\n",
    "    z = (std_z(syn, avg(insyn_list), f_stdv['favorites']))\n",
    "    sumz += abs(z)\n",
    "    print(\">> \\t%s, \\t%s\"%(syn,z))\n",
    "\n",
    "print(\"AVG ST.Z: %s\"%(sumz/len(outsyn_list)))\n",
    "print(\"AVG SQ ST.Z: %s\"%(avg_std_z(outsyn_list,avg(insyn_list))))"
   ]
  },
  {
   "cell_type": "code",
   "execution_count": 282,
   "metadata": {},
   "outputs": [
    {
     "name": "stdout",
     "output_type": "stream",
     "text": [
      "[351163, 89817, 1091313, 148256, 296561]\n",
      ">> \t734942, \t2.0670028530320677\n",
      ">> \t767501, \t2.265222533439322\n",
      ">> \t901294, \t3.0797563244257717\n",
      ">> \t1064223, \t4.071670520472137\n",
      ">> \t371097, \t-0.14809096489162654\n",
      "AVG ST.Z: 2.326348639252185\n",
      "AVG SQ ST.Z: 437609.31805687136\n"
     ]
    }
   ],
   "source": [
    "# EXAMPLE 4.1, members\n",
    "\n",
    "in_list = ['AKIRA', 'Desert Punk', 'Naruto', 'D.N.Angel', 'Rurouni Kenshin']\n",
    "insyn_list = []\n",
    "for t in in_list:\n",
    "    insyn_list.append(list(gen_df[gen_df['title_english'] == t]['members'])[0])\n",
    "print(insyn_list)\n",
    "out_list = ['anohana: The Flower We Saw That Day', 'Parasyte -the maxim-', 'Elfen Lied', \n",
    "            'The Future Diary', 'Vampire Knight']\n",
    "outsyn_list = []\n",
    "for t in out_list:\n",
    "    outsyn_list.append(list(gen_df[gen_df['title_english'] == t]['members'])[0])\n",
    "sumz = 0\n",
    "for syn in outsyn_list:\n",
    "    z = (std_z(syn, avg(insyn_list), f_stdv['members']))\n",
    "    sumz += abs(z)\n",
    "    print(\">> \\t%s, \\t%s\"%(syn,z))\n",
    "\n",
    "print(\"AVG ST.Z: %s\"%(sumz/len(outsyn_list)))\n",
    "print(\"AVG SQ ST.Z: %s\"%(avg_std_z(outsyn_list,avg(insyn_list))))"
   ]
  },
  {
   "cell_type": "code",
   "execution_count": 283,
   "metadata": {},
   "outputs": [
    {
     "name": "stdout",
     "output_type": "stream",
     "text": [
      "[0, 1, 1, 1, 1]\n",
      ">> \t0, \t-1.6082112609457573\n",
      ">> \t0, \t-1.6082112609457573\n",
      ">> \t0, \t-1.6082112609457573\n",
      ">> \t0, \t-1.6082112609457573\n",
      ">> \t0, \t-1.6082112609457573\n",
      "AVG ST.Z: 1.6082112609457575\n",
      "AVG SQ ST.Z: 0.8\n",
      "ABS MEAN DIFF: 0.8\n"
     ]
    }
   ],
   "source": [
    "# EXAMPLE 4.1, genre_Comedy\n",
    "\n",
    "in_list = ['AKIRA', 'Desert Punk', 'Naruto', 'D.N.Angel', 'Rurouni Kenshin']\n",
    "insyn_list = []\n",
    "for t in in_list:\n",
    "    insyn_list.append(list(gen_df[gen_df['title_english'] == t]['genre_Comedy'])[0])\n",
    "print(insyn_list)\n",
    "out_list = ['anohana: The Flower We Saw That Day', 'Parasyte -the maxim-', 'Elfen Lied', \n",
    "            'The Future Diary', 'Vampire Knight']\n",
    "outsyn_list = []\n",
    "for t in out_list:\n",
    "    outsyn_list.append(list(gen_df[gen_df['title_english'] == t]['genre_Comedy'])[0])\n",
    "sumz = 0\n",
    "for syn in outsyn_list:\n",
    "    z = (std_z(syn, avg(insyn_list), f_stdv['genre_Comedy']))\n",
    "    sumz += abs(z)\n",
    "    print(\">> \\t%s, \\t%s\"%(syn,z))\n",
    "\n",
    "print(\"AVG ST.Z: %s\"%(sumz/len(outsyn_list)))\n",
    "print(\"AVG SQ ST.Z: %s\"%(avg_std_z(outsyn_list,avg(insyn_list))))\n",
    "print(\"ABS MEAN DIFF: %s\"%(abs(mean(outsyn_list)-mean(insyn_list))))"
   ]
  },
  {
   "cell_type": "code",
   "execution_count": 284,
   "metadata": {},
   "outputs": [
    {
     "name": "stdout",
     "output_type": "stream",
     "text": [
      "[1, 1, 1, 1, 1]\n",
      ">> \t0, \t-2.0470777168234116\n",
      ">> \t1, \t0.0\n",
      ">> \t1, \t0.0\n",
      ">> \t1, \t0.0\n",
      ">> \t0, \t-2.0470777168234116\n",
      "AVG ST.Z: 0.8188310867293647\n",
      "AVG SQ ST.Z: 0.6324555320336759\n",
      "ABS MEAN DIFF: 0.4\n"
     ]
    }
   ],
   "source": [
    "# EXAMPLE 4.1, genre_Action\n",
    "\n",
    "in_list = ['AKIRA', 'Desert Punk', 'Naruto', 'D.N.Angel', 'Rurouni Kenshin']\n",
    "insyn_list = []\n",
    "for t in in_list:\n",
    "    insyn_list.append(list(gen_df[gen_df['title_english'] == t]['genre_Action'])[0])\n",
    "print(insyn_list)\n",
    "out_list = ['anohana: The Flower We Saw That Day', 'Parasyte -the maxim-', 'Elfen Lied', \n",
    "            'The Future Diary', 'Vampire Knight']\n",
    "outsyn_list = []\n",
    "for t in out_list:\n",
    "    outsyn_list.append(list(gen_df[gen_df['title_english'] == t]['genre_Action'])[0])\n",
    "sumz = 0\n",
    "for syn in outsyn_list:\n",
    "    z = (std_z(syn, avg(insyn_list), f_stdv['genre_Action']))\n",
    "    sumz += abs(z)\n",
    "    print(\">> \\t%s, \\t%s\"%(syn,z))\n",
    "\n",
    "print(\"AVG ST.Z: %s\"%(sumz/len(outsyn_list)))\n",
    "print(\"AVG SQ ST.Z: %s\"%(avg_std_z(outsyn_list,avg(insyn_list))))\n",
    "print(\"ABS MEAN DIFF: %s\"%(abs(mean(outsyn_list)-mean(insyn_list))))"
   ]
  },
  {
   "cell_type": "code",
   "execution_count": 285,
   "metadata": {},
   "outputs": [
    {
     "name": "stdout",
     "output_type": "stream",
     "text": [
      "[0, 0, 0, 0, 0]\n",
      ">> \t1, \t2.265058165791925\n",
      ">> \t1, \t2.265058165791925\n",
      ">> \t1, \t2.265058165791925\n",
      ">> \t0, \t0.0\n",
      ">> \t1, \t2.265058165791925\n",
      "AVG ST.Z: 1.81204653263354\n",
      "AVG SQ ST.Z: 0.8944271909999159\n",
      "ABS MEAN DIFF: 0.8\n"
     ]
    }
   ],
   "source": [
    "# EXAMPLE 4.1, genre_Drama\n",
    "\n",
    "in_list = ['AKIRA', 'Desert Punk', 'Naruto', 'D.N.Angel', 'Rurouni Kenshin']\n",
    "insyn_list = []\n",
    "for t in in_list:\n",
    "    insyn_list.append(list(gen_df[gen_df['title_english'] == t]['genre_Drama'])[0])\n",
    "print(insyn_list)\n",
    "out_list = ['anohana: The Flower We Saw That Day', 'Parasyte -the maxim-', 'Elfen Lied', \n",
    "            'The Future Diary', 'Vampire Knight']\n",
    "outsyn_list = []\n",
    "for t in out_list:\n",
    "    outsyn_list.append(list(gen_df[gen_df['title_english'] == t]['genre_Drama'])[0])\n",
    "sumz = 0\n",
    "for syn in outsyn_list:\n",
    "    z = (std_z(syn, avg(insyn_list), f_stdv['genre_Drama']))\n",
    "    sumz += abs(z)\n",
    "    print(\">> \\t%s, \\t%s\"%(syn,z))\n",
    "\n",
    "print(\"AVG ST.Z: %s\"%(sumz/len(outsyn_list)))\n",
    "print(\"AVG SQ ST.Z: %s\"%(avg_std_z(outsyn_list,avg(insyn_list))))\n",
    "print(\"ABS MEAN DIFF: %s\"%(abs(mean(outsyn_list)-mean(insyn_list))))"
   ]
  },
  {
   "cell_type": "code",
   "execution_count": 286,
   "metadata": {},
   "outputs": [
    {
     "name": "stdout",
     "output_type": "stream",
     "text": [
      "[0, 0, 0, 1, 1]\n",
      ">> \t0, \t-0.9579256691060032\n",
      ">> \t0, \t-0.9579256691060032\n",
      ">> \t1, \t1.4368885036590047\n",
      ">> \t0, \t-0.9579256691060032\n",
      ">> \t1, \t1.4368885036590047\n",
      "AVG ST.Z: 1.1495108029272036\n",
      "AVG SQ ST.Z: 0.48989794855663565\n",
      "ABS MEAN DIFF: 0.0\n"
     ]
    }
   ],
   "source": [
    "# EXAMPLE 4.1, genre_Romance\n",
    "\n",
    "in_list = ['AKIRA', 'Desert Punk', 'Naruto', 'D.N.Angel', 'Rurouni Kenshin']\n",
    "insyn_list = []\n",
    "for t in in_list:\n",
    "    insyn_list.append(list(gen_df[gen_df['title_english'] == t]['genre_Romance'])[0])\n",
    "print(insyn_list)\n",
    "out_list = ['anohana: The Flower We Saw That Day', 'Parasyte -the maxim-', 'Elfen Lied', \n",
    "            'The Future Diary', 'Vampire Knight']\n",
    "outsyn_list = []\n",
    "for t in out_list:\n",
    "    outsyn_list.append(list(gen_df[gen_df['title_english'] == t]['genre_Romance'])[0])\n",
    "sumz = 0\n",
    "for syn in outsyn_list:\n",
    "    z = (std_z(syn, avg(insyn_list), f_stdv['genre_Romance']))\n",
    "    sumz += abs(z)\n",
    "    print(\">> \\t%s, \\t%s\"%(syn,z))\n",
    "\n",
    "print(\"AVG ST.Z: %s\"%(sumz/len(outsyn_list)))\n",
    "print(\"AVG SQ ST.Z: %s\"%(avg_std_z(outsyn_list,avg(insyn_list))))\n",
    "print(\"ABS MEAN DIFF: %s\"%(abs(mean(outsyn_list)-mean(insyn_list))))"
   ]
  },
  {
   "cell_type": "code",
   "execution_count": 290,
   "metadata": {},
   "outputs": [
    {
     "name": "stdout",
     "output_type": "stream",
     "text": [
      "[1, 0, 0, 0, 0]\n",
      ">> \t0, \t-0.916742097649014\n",
      ">> \t1, \t3.666968390596056\n",
      ">> \t1, \t3.666968390596056\n",
      ">> \t0, \t-0.916742097649014\n",
      ">> \t0, \t-0.916742097649014\n",
      "AVG ST.Z: 2.016832614827831\n",
      "AVG SQ ST.Z: 0.5291502622129182\n",
      "ABS MEAN DIFF: 0.2\n"
     ]
    }
   ],
   "source": [
    "# EXAMPLE 4.1, genre_Horror\n",
    "\n",
    "in_list = ['AKIRA', 'Desert Punk', 'Naruto', 'D.N.Angel', 'Rurouni Kenshin']\n",
    "insyn_list = []\n",
    "for t in in_list:\n",
    "    insyn_list.append(list(gen_df[gen_df['title_english'] == t]['genre_Horror'])[0])\n",
    "print(insyn_list)\n",
    "out_list = ['anohana: The Flower We Saw That Day', 'Parasyte -the maxim-', 'Elfen Lied', \n",
    "            'The Future Diary', 'Vampire Knight']\n",
    "outsyn_list = []\n",
    "for t in out_list:\n",
    "    outsyn_list.append(list(gen_df[gen_df['title_english'] == t]['genre_Horror'])[0])\n",
    "sumz = 0\n",
    "for syn in outsyn_list:\n",
    "    z = (std_z(syn, avg(insyn_list), f_stdv['genre_Horror']))\n",
    "    sumz += abs(z)\n",
    "    print(\">> \\t%s, \\t%s\"%(syn,z))\n",
    "\n",
    "print(\"AVG ST.Z: %s\"%(sumz/len(outsyn_list)))\n",
    "print(\"AVG SQ ST.Z: %s\"%(avg_std_z(outsyn_list,avg(insyn_list))))\n",
    "print(\"ABS MEAN DIFF: %s\"%(abs(mean(outsyn_list)-mean(insyn_list))))"
   ]
  },
  {
   "cell_type": "code",
   "execution_count": 288,
   "metadata": {},
   "outputs": [
    {
     "name": "stdout",
     "output_type": "stream",
     "text": [
      "[1, 1, 1, 1, 1]\n",
      ">> \t0, \t-2.0815569195725234\n",
      ">> \t1, \t0.0\n",
      ">> \t1, \t0.0\n",
      ">> \t1, \t0.0\n",
      ">> \t1, \t0.0\n",
      "AVG ST.Z: 0.4163113839145047\n",
      "AVG SQ ST.Z: 0.4472135954999579\n",
      "ABS MEAN DIFF: 0.19999999999999996\n"
     ]
    }
   ],
   "source": [
    "# EXAMPLE 4.1, source_Manga\n",
    "\n",
    "in_list = ['AKIRA', 'Desert Punk', 'Naruto', 'D.N.Angel', 'Rurouni Kenshin']\n",
    "insyn_list = []\n",
    "for t in in_list:\n",
    "    insyn_list.append(list(gen_df[gen_df['title_english'] == t]['source_Manga'])[0])\n",
    "print(insyn_list)\n",
    "out_list = ['anohana: The Flower We Saw That Day', 'Parasyte -the maxim-', 'Elfen Lied', \n",
    "            'The Future Diary', 'Vampire Knight']\n",
    "outsyn_list = []\n",
    "for t in out_list:\n",
    "    outsyn_list.append(list(gen_df[gen_df['title_english'] == t]['source_Manga'])[0])\n",
    "sumz = 0\n",
    "for syn in outsyn_list:\n",
    "    z = (std_z(syn, avg(insyn_list), f_stdv['source_Manga']))\n",
    "    sumz += abs(z)\n",
    "    print(\">> \\t%s, \\t%s\"%(syn,z))\n",
    "\n",
    "print(\"AVG ST.Z: %s\"%(sumz/len(outsyn_list)))\n",
    "print(\"AVG SQ ST.Z: %s\"%(avg_std_z(outsyn_list,avg(insyn_list))))\n",
    "print(\"ABS MEAN DIFF: %s\"%(abs(mean(outsyn_list)-mean(insyn_list))))"
   ]
  },
  {
   "cell_type": "code",
   "execution_count": 289,
   "metadata": {},
   "outputs": [
    {
     "name": "stdout",
     "output_type": "stream",
     "text": [
      "[0, 0, 0, 0, 0]\n",
      ">> \t1, \t2.3628897854683997\n",
      ">> \t0, \t0.0\n",
      ">> \t0, \t0.0\n",
      ">> \t0, \t0.0\n",
      ">> \t0, \t0.0\n",
      "AVG ST.Z: 0.47257795709367995\n",
      "AVG SQ ST.Z: 0.4472135954999579\n",
      "ABS MEAN DIFF: 0.2\n"
     ]
    }
   ],
   "source": [
    "# EXAMPLE 4.1, source_Original\n",
    "\n",
    "in_list = ['AKIRA', 'Desert Punk', 'Naruto', 'D.N.Angel', 'Rurouni Kenshin']\n",
    "insyn_list = []\n",
    "for t in in_list:\n",
    "    insyn_list.append(list(gen_df[gen_df['title_english'] == t]['source_Original'])[0])\n",
    "print(insyn_list)\n",
    "out_list = ['anohana: The Flower We Saw That Day', 'Parasyte -the maxim-', 'Elfen Lied', \n",
    "            'The Future Diary', 'Vampire Knight']\n",
    "outsyn_list = []\n",
    "for t in out_list:\n",
    "    outsyn_list.append(list(gen_df[gen_df['title_english'] == t]['source_Original'])[0])\n",
    "sumz = 0\n",
    "for syn in outsyn_list:\n",
    "    z = (std_z(syn, avg(insyn_list), f_stdv['source_Original']))\n",
    "    sumz += abs(z)\n",
    "    print(\">> \\t%s, \\t%s\"%(syn,z))\n",
    "\n",
    "print(\"AVG ST.Z: %s\"%(sumz/len(outsyn_list)))\n",
    "print(\"AVG SQ ST.Z: %s\"%(avg_std_z(outsyn_list,avg(insyn_list))))\n",
    "print(\"ABS MEAN DIFF: %s\"%(abs(mean(outsyn_list)-mean(insyn_list))))"
   ]
  },
  {
   "cell_type": "code",
   "execution_count": 149,
   "metadata": {},
   "outputs": [
    {
     "name": "stdout",
     "output_type": "stream",
     "text": [
      "Moments prior to Naruto Uzumaki's birth, a huge demon known as the Kyuubi, the Nine-Tailed Fox, attacked Konohagakure, the Hidden Leaf Village, and wreaked havoc. In order to put an end to the Kyuubi's rampage, the leader of the village, the Fourth Hokage, sacrificed his life and sealed the monstrou...\n",
      "The Great Kanto Desert, a sweltering wasteland of nothing but ruins and sand, is all that remains of post-apocalyptic Japan. The once fair population has been left to cling to the inhospitable dunes for survival. At least, that is the case for normal people. For those who have spent a little too lon...\n",
      "In the final years of the Bakumatsu era lived a legendary assassin known as Hitokiri Battousai. Feared as a merciless killer, he was unmatched throughout the country, but mysteriously disappeared at the peak of the Japanese Revolution. It has been ten peaceful years since then, but the very mention ...\n",
      "Japan, 1988. An explosion caused by a young boy with psychic powers tears through the city of Tokyo and ignites the fuse that leads to World War III. In order to prevent any further destruction, he is captured and taken into custody, never to be heard from again. Now, in the year 2019, a restored ve...\n",
      "Daisuke Niwa is a clumsy, block-headed, and wimpy middle school student who has few redeeming qualities. On his 14th birthday, he finally decides to confess his love to his longtime crush Risa Harada, but is rejected. In an unexpected turn of events, however, Daisuke finds himself transforming into ...\n",
      ">> \tIt has been two and a half years since Naruto Uzumaki left Konohagakure, the Hidden Leaf Village, for intense training following events which fueled his desire to be stronger. Now Akatsuki, the mysterious organization of elite rogue ninja, is closing in on their grand plan which may threaten the saf...\n",
      ">> \tIchigo Kurosaki is an ordinary high schooler—until his family is attacked by a Hollow, a corrupt spirit that seeks to devour human souls. It is then that he meets a Soul Reaper named Rukia Kuchiki, who gets injured while protecting Ichigo's family from the assailant. To save his family, Ichigo accep...\n",
      ">> \tFive years after winning the World Martial Arts tournament, Gokuu is now living a peaceful life with his wife and son. This changes, however, with the arrival of a mysterious enemy named Raditz who presents himself as Gokuu's long-lost brother. He reveals that Gokuu is a warrior from the once powerf...\n",
      ">> \tKen Kaneki has finally come to accept the monstrous, flesh-craving part of himself that he has feared and despised for so long. After escaping captivity and torture, Kaneki joins Aogiri Tree—the very militant ghoul organization that had abducted him, leading his friends to question his true motive a...\n",
      ">> \tThere is no putting it lightly—Tsunayoshi Sawada is just no good. He is clumsy, talentless, and desperately in love with the school idol Kyouko Sasagawa, a girl so completely out of his league. Dubbed \"Loser Tsuna\" by his classmates, he seems to be the very personification of failure in the guise of...\n"
     ]
    }
   ],
   "source": [
    "# from data_modeling EXAMPLE 4.2 (Cos, normalized)\n",
    "in_list = ['AKIRA', 'Desert Punk', 'Naruto', 'D.N.Angel', 'Rurouni Kenshin']\n",
    "insyn_list = list(out_df[out_df['title_english'].isin(in_list)]['synopsis'])\n",
    "for syn in insyn_list:\n",
    "    print(syn[:300]+\"...\")\n",
    "out_list = ['Naruto: Shippuden', 'Bleach', 'Dragon Ball Z', 'Tokyo Ghoul √A', 'Reborn!']\n",
    "outsyn_list = []\n",
    "for t in out_list:\n",
    "    outsyn_list.append(list(out_df[out_df['title_english'] == t]['synopsis'])[0])\n",
    "for syn in outsyn_list:\n",
    "    print('>> \\t%s'%(syn[:300]+\"...\"))"
   ]
  },
  {
   "cell_type": "code",
   "execution_count": 291,
   "metadata": {},
   "outputs": [
    {
     "name": "stdout",
     "output_type": "stream",
     "text": [
      "[193, 1049, 10, 637, 265]\n",
      ">> \t21, \t-0.1428845014391946\n",
      ">> \t22, \t-0.14253583257282273\n",
      ">> \t71, \t-0.1254510581206008\n",
      ">> \t42, \t-0.1355624552453852\n",
      ">> \t185, \t-0.08570280735420702\n",
      "AVG ST.Z: 0.12642733094644207\n",
      "AVG SQ ST.Z: 367.72070923460376\n"
     ]
    }
   ],
   "source": [
    "# EXAMPLE 4.2, popularity\n",
    "\n",
    "in_list = ['AKIRA', 'Desert Punk', 'Naruto', 'D.N.Angel', 'Rurouni Kenshin']\n",
    "insyn_list = []\n",
    "for t in in_list:\n",
    "    insyn_list.append(list(gen_df[gen_df['title_english'] == t]['popularity'])[0])\n",
    "print(insyn_list)\n",
    "out_list = ['Naruto: Shippuden', 'Bleach', 'Dragon Ball Z', 'Tokyo Ghoul √A', 'Reborn!']\n",
    "outsyn_list = []\n",
    "for t in out_list:\n",
    "    outsyn_list.append(list(gen_df[gen_df['title_english'] == t]['popularity'])[0])\n",
    "sumz = 0\n",
    "for syn in outsyn_list:\n",
    "    z = (std_z(syn, avg(insyn_list), f_stdv['popularity']))\n",
    "    sumz += abs(z)\n",
    "    print(\">> \\t%s, \\t%s\"%(syn,z))\n",
    "\n",
    "print(\"AVG ST.Z: %s\"%(sumz/len(outsyn_list)))\n",
    "print(\"AVG SQ ST.Z: %s\"%(avg_std_z(outsyn_list,avg(insyn_list))))"
   ]
  },
  {
   "cell_type": "code",
   "execution_count": 292,
   "metadata": {},
   "outputs": [
    {
     "name": "stdout",
     "output_type": "stream",
     "text": [
      "[1.0, 24.0, 220.0, 26.0, 94.0]\n",
      ">> \t500.0, \t9.501692094572505\n",
      ">> \t366.0, \t6.5198964489689555\n",
      ">> \t291.0, \t4.850980975683386\n",
      ">> \t12.0, \t-1.3573845849389292\n",
      ">> \t203.0, \t2.8927868203616525\n",
      "AVG ST.Z: 5.024548184905086\n",
      "AVG SQ ST.Z: 259.3541979610124\n"
     ]
    }
   ],
   "source": [
    "# EXAMPLE 4.2, episodes\n",
    "\n",
    "in_list = ['AKIRA', 'Desert Punk', 'Naruto', 'D.N.Angel', 'Rurouni Kenshin']\n",
    "insyn_list = []\n",
    "for t in in_list:\n",
    "    insyn_list.append(list(gen_df[gen_df['title_english'] == t]['episodes'])[0])\n",
    "print(insyn_list)\n",
    "out_list = ['Naruto: Shippuden', 'Bleach', 'Dragon Ball Z', 'Tokyo Ghoul √A', 'Reborn!']\n",
    "outsyn_list = []\n",
    "for t in out_list:\n",
    "    outsyn_list.append(list(gen_df[gen_df['title_english'] == t]['episodes'])[0])\n",
    "sumz = 0\n",
    "for syn in outsyn_list:\n",
    "    z = (std_z(syn, avg(insyn_list), f_stdv['episodes']))\n",
    "    sumz += abs(z)\n",
    "    print(\">> \\t%s, \\t%s\"%(syn,z))\n",
    "\n",
    "print(\"AVG ST.Z: %s\"%(sumz/len(outsyn_list)))\n",
    "print(\"AVG SQ ST.Z: %s\"%(avg_std_z(outsyn_list,avg(insyn_list))))"
   ]
  },
  {
   "cell_type": "code",
   "execution_count": 293,
   "metadata": {},
   "outputs": [
    {
     "name": "stdout",
     "output_type": "stream",
     "text": [
      "[5845, 673, 39356, 1448, 9044]\n",
      ">> \t48972, \t6.069645720067807\n",
      ">> \t42878, \t5.088489263679454\n",
      ">> \t23468, \t1.9634077378347026\n",
      ">> \t8635, \t-0.42475992176628674\n",
      ">> \t14500, \t0.5195266907571274\n",
      "AVG ST.Z: 2.813165866821075\n",
      "AVG SQ ST.Z: 22742.684050041236\n"
     ]
    }
   ],
   "source": [
    "# EXAMPLE 4.2, favorites\n",
    "\n",
    "in_list = ['AKIRA', 'Desert Punk', 'Naruto', 'D.N.Angel', 'Rurouni Kenshin']\n",
    "insyn_list = []\n",
    "for t in in_list:\n",
    "    insyn_list.append(list(gen_df[gen_df['title_english'] == t]['favorites'])[0])\n",
    "print(insyn_list)\n",
    "out_list = ['Naruto: Shippuden', 'Bleach', 'Dragon Ball Z', 'Tokyo Ghoul √A', 'Reborn!']\n",
    "outsyn_list = []\n",
    "for t in out_list:\n",
    "    outsyn_list.append(list(gen_df[gen_df['title_english'] == t]['favorites'])[0])\n",
    "sumz = 0\n",
    "for syn in outsyn_list:\n",
    "    z = (std_z(syn, avg(insyn_list), f_stdv['favorites']))\n",
    "    sumz += abs(z)\n",
    "    print(\">> \\t%s, \\t%s\"%(syn,z))\n",
    "\n",
    "print(\"AVG ST.Z: %s\"%(sumz/len(outsyn_list)))\n",
    "print(\"AVG SQ ST.Z: %s\"%(avg_std_z(outsyn_list,avg(insyn_list))))"
   ]
  },
  {
   "cell_type": "code",
   "execution_count": 294,
   "metadata": {},
   "outputs": [
    {
     "name": "stdout",
     "output_type": "stream",
     "text": [
      "[351163, 89817, 1091313, 148256, 296561]\n",
      ">> \t891865, \t3.022352430984327\n",
      ">> \t889504, \t3.007978627567713\n",
      ">> \t591990, \t1.1967089326543574\n",
      ">> \t776641, \t2.320866990545569\n",
      ">> \t357485, \t-0.23096102508093055\n",
      "AVG ST.Z: 1.9557736013665792\n",
      "AVG SQ ST.Z: 367689.75931537716\n"
     ]
    }
   ],
   "source": [
    "# EXAMPLE 4.2, members\n",
    "\n",
    "in_list = ['AKIRA', 'Desert Punk', 'Naruto', 'D.N.Angel', 'Rurouni Kenshin']\n",
    "insyn_list = []\n",
    "for t in in_list:\n",
    "    insyn_list.append(list(gen_df[gen_df['title_english'] == t]['members'])[0])\n",
    "print(insyn_list)\n",
    "out_list = ['Naruto: Shippuden', 'Bleach', 'Dragon Ball Z', 'Tokyo Ghoul √A', 'Reborn!']\n",
    "outsyn_list = []\n",
    "for t in out_list:\n",
    "    outsyn_list.append(list(gen_df[gen_df['title_english'] == t]['members'])[0])\n",
    "sumz = 0\n",
    "for syn in outsyn_list:\n",
    "    z = (std_z(syn, avg(insyn_list), f_stdv['members']))\n",
    "    sumz += abs(z)\n",
    "    print(\">> \\t%s, \\t%s\"%(syn,z))\n",
    "\n",
    "print(\"AVG ST.Z: %s\"%(sumz/len(outsyn_list)))\n",
    "print(\"AVG SQ ST.Z: %s\"%(avg_std_z(outsyn_list,avg(insyn_list))))"
   ]
  },
  {
   "cell_type": "code",
   "execution_count": 295,
   "metadata": {},
   "outputs": [
    {
     "name": "stdout",
     "output_type": "stream",
     "text": [
      "[0, 1, 1, 1, 1]\n",
      ">> \t1, \t0.4020528152364392\n",
      ">> \t1, \t0.4020528152364392\n",
      ">> \t1, \t0.4020528152364392\n",
      ">> \t0, \t-1.6082112609457573\n",
      ">> \t1, \t0.4020528152364392\n",
      "AVG ST.Z: 0.6432845043783029\n",
      "AVG SQ ST.Z: 0.4\n",
      "ABS MEAN DIFF: 0.0\n"
     ]
    }
   ],
   "source": [
    "# EXAMPLE 4.2, genre_Comedy\n",
    "\n",
    "in_list = ['AKIRA', 'Desert Punk', 'Naruto', 'D.N.Angel', 'Rurouni Kenshin']\n",
    "insyn_list = []\n",
    "for t in in_list:\n",
    "    insyn_list.append(list(gen_df[gen_df['title_english'] == t]['genre_Comedy'])[0])\n",
    "print(insyn_list)\n",
    "out_list = ['Naruto: Shippuden', 'Bleach', 'Dragon Ball Z', 'Tokyo Ghoul √A', 'Reborn!']\n",
    "outsyn_list = []\n",
    "for t in out_list:\n",
    "    outsyn_list.append(list(gen_df[gen_df['title_english'] == t]['genre_Comedy'])[0])\n",
    "sumz = 0\n",
    "for syn in outsyn_list:\n",
    "    z = (std_z(syn, avg(insyn_list), f_stdv['genre_Comedy']))\n",
    "    sumz += abs(z)\n",
    "    print(\">> \\t%s, \\t%s\"%(syn,z))\n",
    "\n",
    "print(\"AVG ST.Z: %s\"%(sumz/len(outsyn_list)))\n",
    "print(\"AVG SQ ST.Z: %s\"%(avg_std_z(outsyn_list,avg(insyn_list))))\n",
    "print(\"ABS MEAN DIFF: %s\"%(abs(mean(outsyn_list)-mean(insyn_list))))"
   ]
  },
  {
   "cell_type": "code",
   "execution_count": 296,
   "metadata": {},
   "outputs": [
    {
     "name": "stdout",
     "output_type": "stream",
     "text": [
      "[1, 1, 1, 1, 1]\n",
      ">> \t1, \t0.0\n",
      ">> \t1, \t0.0\n",
      ">> \t1, \t0.0\n",
      ">> \t1, \t0.0\n",
      ">> \t1, \t0.0\n",
      "AVG ST.Z: 0.0\n",
      "AVG SQ ST.Z: 0.0\n",
      "ABS MEAN DIFF: 0\n"
     ]
    }
   ],
   "source": [
    "# EXAMPLE 4.2, genre_Action\n",
    "\n",
    "in_list = ['AKIRA', 'Desert Punk', 'Naruto', 'D.N.Angel', 'Rurouni Kenshin']\n",
    "insyn_list = []\n",
    "for t in in_list:\n",
    "    insyn_list.append(list(gen_df[gen_df['title_english'] == t]['genre_Action'])[0])\n",
    "print(insyn_list)\n",
    "out_list = ['Naruto: Shippuden', 'Bleach', 'Dragon Ball Z', 'Tokyo Ghoul √A', 'Reborn!']\n",
    "outsyn_list = []\n",
    "for t in out_list:\n",
    "    outsyn_list.append(list(gen_df[gen_df['title_english'] == t]['genre_Action'])[0])\n",
    "sumz = 0\n",
    "for syn in outsyn_list:\n",
    "    z = (std_z(syn, avg(insyn_list), f_stdv['genre_Action']))\n",
    "    sumz += abs(z)\n",
    "    print(\">> \\t%s, \\t%s\"%(syn,z))\n",
    "\n",
    "print(\"AVG ST.Z: %s\"%(sumz/len(outsyn_list)))\n",
    "print(\"AVG SQ ST.Z: %s\"%(avg_std_z(outsyn_list,avg(insyn_list))))\n",
    "print(\"ABS MEAN DIFF: %s\"%(abs(mean(outsyn_list)-mean(insyn_list))))"
   ]
  },
  {
   "cell_type": "code",
   "execution_count": 297,
   "metadata": {},
   "outputs": [
    {
     "name": "stdout",
     "output_type": "stream",
     "text": [
      "[0, 0, 0, 1, 1]\n",
      ">> \t0, \t-0.9579256691060032\n",
      ">> \t0, \t-0.9579256691060032\n",
      ">> \t0, \t-0.9579256691060032\n",
      ">> \t0, \t-0.9579256691060032\n",
      ">> \t0, \t-0.9579256691060032\n",
      "AVG ST.Z: 0.9579256691060032\n",
      "AVG SQ ST.Z: 0.4\n",
      "ABS MEAN DIFF: 0.4\n"
     ]
    }
   ],
   "source": [
    "# EXAMPLE 4.2, genre_Romance\n",
    "\n",
    "in_list = ['AKIRA', 'Desert Punk', 'Naruto', 'D.N.Angel', 'Rurouni Kenshin']\n",
    "insyn_list = []\n",
    "for t in in_list:\n",
    "    insyn_list.append(list(gen_df[gen_df['title_english'] == t]['genre_Romance'])[0])\n",
    "print(insyn_list)\n",
    "out_list = ['Naruto: Shippuden', 'Bleach', 'Dragon Ball Z', 'Tokyo Ghoul √A', 'Reborn!']\n",
    "outsyn_list = []\n",
    "for t in out_list:\n",
    "    outsyn_list.append(list(gen_df[gen_df['title_english'] == t]['genre_Romance'])[0])\n",
    "sumz = 0\n",
    "for syn in outsyn_list:\n",
    "    z = (std_z(syn, avg(insyn_list), f_stdv['genre_Romance']))\n",
    "    sumz += abs(z)\n",
    "    print(\">> \\t%s, \\t%s\"%(syn,z))\n",
    "\n",
    "print(\"AVG ST.Z: %s\"%(sumz/len(outsyn_list)))\n",
    "print(\"AVG SQ ST.Z: %s\"%(avg_std_z(outsyn_list,avg(insyn_list))))\n",
    "print(\"ABS MEAN DIFF: %s\"%(abs(mean(outsyn_list)-mean(insyn_list))))"
   ]
  },
  {
   "cell_type": "code",
   "execution_count": 298,
   "metadata": {},
   "outputs": [
    {
     "name": "stdout",
     "output_type": "stream",
     "text": [
      "[1, 0, 0, 0, 0]\n",
      ">> \t0, \t-0.916742097649014\n",
      ">> \t0, \t-0.916742097649014\n",
      ">> \t0, \t-0.916742097649014\n",
      ">> \t1, \t3.666968390596056\n",
      ">> \t0, \t-0.916742097649014\n",
      "AVG ST.Z: 1.4667873562384224\n",
      "AVG SQ ST.Z: 0.4\n",
      "ABS MEAN DIFF: 0.0\n"
     ]
    }
   ],
   "source": [
    "# EXAMPLE 4.2, genre_Horror\n",
    "\n",
    "in_list = ['AKIRA', 'Desert Punk', 'Naruto', 'D.N.Angel', 'Rurouni Kenshin']\n",
    "insyn_list = []\n",
    "for t in in_list:\n",
    "    insyn_list.append(list(gen_df[gen_df['title_english'] == t]['genre_Horror'])[0])\n",
    "print(insyn_list)\n",
    "out_list = ['Naruto: Shippuden', 'Bleach', 'Dragon Ball Z', 'Tokyo Ghoul √A', 'Reborn!']\n",
    "outsyn_list = []\n",
    "for t in out_list:\n",
    "    outsyn_list.append(list(gen_df[gen_df['title_english'] == t]['genre_Horror'])[0])\n",
    "sumz = 0\n",
    "for syn in outsyn_list:\n",
    "    z = (std_z(syn, avg(insyn_list), f_stdv['genre_Horror']))\n",
    "    sumz += abs(z)\n",
    "    print(\">> \\t%s, \\t%s\"%(syn,z))\n",
    "\n",
    "print(\"AVG ST.Z: %s\"%(sumz/len(outsyn_list)))\n",
    "print(\"AVG SQ ST.Z: %s\"%(avg_std_z(outsyn_list,avg(insyn_list))))\n",
    "print(\"ABS MEAN DIFF: %s\"%(abs(mean(outsyn_list)-mean(insyn_list))))"
   ]
  },
  {
   "cell_type": "code",
   "execution_count": 299,
   "metadata": {},
   "outputs": [
    {
     "name": "stdout",
     "output_type": "stream",
     "text": [
      "[0, 0, 0, 0, 0]\n",
      ">> \t0, \t0.0\n",
      ">> \t0, \t0.0\n",
      ">> \t0, \t0.0\n",
      ">> \t1, \t2.265058165791925\n",
      ">> \t0, \t0.0\n",
      "AVG ST.Z: 0.453011633158385\n",
      "AVG SQ ST.Z: 0.4472135954999579\n",
      "ABS MEAN DIFF: 0.2\n"
     ]
    }
   ],
   "source": [
    "# EXAMPLE 4.2, genre_Drama\n",
    "\n",
    "in_list = ['AKIRA', 'Desert Punk', 'Naruto', 'D.N.Angel', 'Rurouni Kenshin']\n",
    "insyn_list = []\n",
    "for t in in_list:\n",
    "    insyn_list.append(list(gen_df[gen_df['title_english'] == t]['genre_Drama'])[0])\n",
    "print(insyn_list)\n",
    "out_list = ['Naruto: Shippuden', 'Bleach', 'Dragon Ball Z', 'Tokyo Ghoul √A', 'Reborn!']\n",
    "outsyn_list = []\n",
    "for t in out_list:\n",
    "    outsyn_list.append(list(gen_df[gen_df['title_english'] == t]['genre_Drama'])[0])\n",
    "sumz = 0\n",
    "for syn in outsyn_list:\n",
    "    z = (std_z(syn, avg(insyn_list), f_stdv['genre_Drama']))\n",
    "    sumz += abs(z)\n",
    "    print(\">> \\t%s, \\t%s\"%(syn,z))\n",
    "\n",
    "print(\"AVG ST.Z: %s\"%(sumz/len(outsyn_list)))\n",
    "print(\"AVG SQ ST.Z: %s\"%(avg_std_z(outsyn_list,avg(insyn_list))))\n",
    "print(\"ABS MEAN DIFF: %s\"%(abs(mean(outsyn_list)-mean(insyn_list))))"
   ]
  },
  {
   "cell_type": "code",
   "execution_count": 300,
   "metadata": {},
   "outputs": [
    {
     "name": "stdout",
     "output_type": "stream",
     "text": [
      "[0, 0, 0, 1, 0]\n",
      ">> \t0, \t-0.462394697808135\n",
      ">> \t0, \t-0.462394697808135\n",
      ">> \t1, \t1.84957879123254\n",
      ">> \t0, \t-0.462394697808135\n",
      ">> \t0, \t-0.462394697808135\n",
      "AVG ST.Z: 0.739831516493016\n",
      "AVG SQ ST.Z: 0.4000000000000001\n",
      "ABS MEAN DIFF: 0.0\n"
     ]
    }
   ],
   "source": [
    "# EXAMPLE 4.2, genre_Fantasy\n",
    "\n",
    "in_list = ['AKIRA', 'Desert Punk', 'Naruto', 'D.N.Angel', 'Rurouni Kenshin']\n",
    "insyn_list = []\n",
    "for t in in_list:\n",
    "    insyn_list.append(list(gen_df[gen_df['title_english'] == t]['genre_Fantasy'])[0])\n",
    "print(insyn_list)\n",
    "out_list = ['Naruto: Shippuden', 'Bleach', 'Dragon Ball Z', 'Tokyo Ghoul √A', 'Reborn!']\n",
    "outsyn_list = []\n",
    "for t in out_list:\n",
    "    outsyn_list.append(list(gen_df[gen_df['title_english'] == t]['genre_Fantasy'])[0])\n",
    "sumz = 0\n",
    "for syn in outsyn_list:\n",
    "    z = (std_z(syn, avg(insyn_list), f_stdv['genre_Fantasy']))\n",
    "    sumz += abs(z)\n",
    "    print(\">> \\t%s, \\t%s\"%(syn,z))\n",
    "\n",
    "print(\"AVG ST.Z: %s\"%(sumz/len(outsyn_list)))\n",
    "print(\"AVG SQ ST.Z: %s\"%(avg_std_z(outsyn_list,avg(insyn_list))))\n",
    "print(\"ABS MEAN DIFF: %s\"%(abs(mean(outsyn_list)-mean(insyn_list))))"
   ]
  },
  {
   "cell_type": "code",
   "execution_count": 302,
   "metadata": {},
   "outputs": [
    {
     "name": "stdout",
     "output_type": "stream",
     "text": [
      "[1, 1, 1, 1, 1]\n",
      ">> \t1, \t0.0\n",
      ">> \t1, \t0.0\n",
      ">> \t1, \t0.0\n",
      ">> \t1, \t0.0\n",
      ">> \t1, \t0.0\n",
      "AVG ST.Z: 0.0\n",
      "AVG SQ ST.Z: 0.0\n",
      "ABS MEAN DIFF: 0\n"
     ]
    }
   ],
   "source": [
    "# EXAMPLE 4.2, source_Manga\n",
    "\n",
    "in_list = ['AKIRA', 'Desert Punk', 'Naruto', 'D.N.Angel', 'Rurouni Kenshin']\n",
    "insyn_list = []\n",
    "for t in in_list:\n",
    "    insyn_list.append(list(gen_df[gen_df['title_english'] == t]['source_Manga'])[0])\n",
    "print(insyn_list)\n",
    "out_list = ['Naruto: Shippuden', 'Bleach', 'Dragon Ball Z', 'Tokyo Ghoul √A', 'Reborn!']\n",
    "outsyn_list = []\n",
    "for t in out_list:\n",
    "    outsyn_list.append(list(gen_df[gen_df['title_english'] == t]['source_Manga'])[0])\n",
    "sumz = 0\n",
    "for syn in outsyn_list:\n",
    "    z = (std_z(syn, avg(insyn_list), f_stdv['source_Manga']))\n",
    "    sumz += abs(z)\n",
    "    print(\">> \\t%s, \\t%s\"%(syn,z))\n",
    "\n",
    "print(\"AVG ST.Z: %s\"%(sumz/len(outsyn_list)))\n",
    "print(\"AVG SQ ST.Z: %s\"%(avg_std_z(outsyn_list,avg(insyn_list))))\n",
    "print(\"ABS MEAN DIFF: %s\"%(abs(mean(outsyn_list)-mean(insyn_list))))"
   ]
  },
  {
   "cell_type": "code",
   "execution_count": 303,
   "metadata": {},
   "outputs": [
    {
     "name": "stdout",
     "output_type": "stream",
     "text": [
      "[0, 0, 0, 0, 0]\n",
      ">> \t0, \t0.0\n",
      ">> \t0, \t0.0\n",
      ">> \t0, \t0.0\n",
      ">> \t0, \t0.0\n",
      ">> \t0, \t0.0\n",
      "AVG ST.Z: 0.0\n",
      "AVG SQ ST.Z: 0.0\n",
      "ABS MEAN DIFF: 0\n"
     ]
    }
   ],
   "source": [
    "# EXAMPLE 4.2, source_Original\n",
    "\n",
    "in_list = ['AKIRA', 'Desert Punk', 'Naruto', 'D.N.Angel', 'Rurouni Kenshin']\n",
    "insyn_list = []\n",
    "for t in in_list:\n",
    "    insyn_list.append(list(gen_df[gen_df['title_english'] == t]['source_Original'])[0])\n",
    "print(insyn_list)\n",
    "out_list = ['Naruto: Shippuden', 'Bleach', 'Dragon Ball Z', 'Tokyo Ghoul √A', 'Reborn!']\n",
    "outsyn_list = []\n",
    "for t in out_list:\n",
    "    outsyn_list.append(list(gen_df[gen_df['title_english'] == t]['source_Original'])[0])\n",
    "sumz = 0\n",
    "for syn in outsyn_list:\n",
    "    z = (std_z(syn, avg(insyn_list), f_stdv['source_Original']))\n",
    "    sumz += abs(z)\n",
    "    print(\">> \\t%s, \\t%s\"%(syn,z))\n",
    "\n",
    "print(\"AVG ST.Z: %s\"%(sumz/len(outsyn_list)))\n",
    "print(\"AVG SQ ST.Z: %s\"%(avg_std_z(outsyn_list,avg(insyn_list))))\n",
    "print(\"ABS MEAN DIFF: %s\"%(abs(mean(outsyn_list)-mean(insyn_list))))"
   ]
  },
  {
   "cell_type": "code",
   "execution_count": 150,
   "metadata": {},
   "outputs": [
    {
     "name": "stdout",
     "output_type": "stream",
     "text": [
      "Moments prior to Naruto Uzumaki's birth, a huge demon known as the Kyuubi, the Nine-Tailed Fox, attacked Konohagakure, the Hidden Leaf Village, and wreaked havoc. In order to put an end to the Kyuubi's rampage, the leader of the village, the Fourth Hokage, sacrificed his life and sealed the monstrou...\n",
      "The Great Kanto Desert, a sweltering wasteland of nothing but ruins and sand, is all that remains of post-apocalyptic Japan. The once fair population has been left to cling to the inhospitable dunes for survival. At least, that is the case for normal people. For those who have spent a little too lon...\n",
      "In the final years of the Bakumatsu era lived a legendary assassin known as Hitokiri Battousai. Feared as a merciless killer, he was unmatched throughout the country, but mysteriously disappeared at the peak of the Japanese Revolution. It has been ten peaceful years since then, but the very mention ...\n",
      "Japan, 1988. An explosion caused by a young boy with psychic powers tears through the city of Tokyo and ignites the fuse that leads to World War III. In order to prevent any further destruction, he is captured and taken into custody, never to be heard from again. Now, in the year 2019, a restored ve...\n",
      "Daisuke Niwa is a clumsy, block-headed, and wimpy middle school student who has few redeeming qualities. On his 14th birthday, he finally decides to confess his love to his longtime crush Risa Harada, but is rejected. In an unexpected turn of events, however, Daisuke finds himself transforming into ...\n",
      ">> \tFollowing their participation at the Inter-High, the Karasuno High School volleyball team attempts to refocus their efforts, aiming to conquer the Spring tournament instead. When they receive an invitation from long-standing rival Nekoma High, Karasuno agrees to take part in a large training camp al...\n",
      ">> \tSurviving a vampire attack, meeting several girls plagued by supernatural entities, and just trying to get through life are some of the things high school student Koyomi Araragi has had to deal with lately. On top of all this, he wakes up one morning to find himself kidnapped and tied up by his girl...\n",
      ">> \tHigh school student Makoto Itou first notices Kotonoha Katsura at the start of his second semester, freshman year. Immediately, he becomes entranced by her beauty, but his bashfulness doesn't allow him to approach her, even though they ride the same train every day. Instead, he snaps a photo of her ...\n",
      ">> \tHana, a hard-working college student, falls in love with a mysterious man who attends one of her classes though he is not an actual student. As it turns out, he is not truly human either. On a full moon night, he transforms, revealing that he is the last werewolf alive. Despite this, Hana's love rem...\n",
      ">> \tWith the Interhigh Championship finally over, Seirin's basketball team refocuses their efforts, training harder than ever to get the chance to participate in the Winter Cup. Both Kuroko and Kagami see old friends walk back into their lives, providing a challenge both on and off the court. As new ski...\n"
     ]
    }
   ],
   "source": [
    "# from data_modeling EXAMPLE 4.4 (Eucl, normalized)\n",
    "in_list = ['AKIRA', 'Desert Punk', 'Naruto', 'D.N.Angel', 'Rurouni Kenshin']\n",
    "insyn_list = list(out_df[out_df['title_english'].isin(in_list)]['synopsis'])\n",
    "for syn in insyn_list:\n",
    "    print(syn[:300]+\"...\")\n",
    "out_list = ['Haikyu!! 2nd Season', 'Nisemonogatari', 'School Days', 'Wolf Children', 'Kuroko\\'s Basketball 2']\n",
    "outsyn_list = []\n",
    "for t in out_list:\n",
    "    outsyn_list.append(list(out_df[out_df['title_english'] == t]['synopsis'])[0])\n",
    "for syn in outsyn_list:\n",
    "    print('>> \\t%s'%(syn[:300]+\"...\"))"
   ]
  },
  {
   "cell_type": "code",
   "execution_count": 304,
   "metadata": {},
   "outputs": [
    {
     "name": "stdout",
     "output_type": "stream",
     "text": [
      "[193, 1049, 10, 637, 265]\n",
      ">> \t159, \t-0.09476819787987577\n",
      ">> \t151, \t-0.09755754881085078\n",
      ">> \t158, \t-0.09511686674624766\n",
      ">> \t149, \t-0.09825488654359453\n",
      ">> \t160, \t-0.0944195290135039\n",
      "AVG ST.Z: 0.09602340579881452\n",
      "AVG SQ ST.Z: 275.4367440992578\n"
     ]
    }
   ],
   "source": [
    "# EXAMPLE 4.3, popularity\n",
    "\n",
    "in_list = ['AKIRA', 'Desert Punk', 'Naruto', 'D.N.Angel', 'Rurouni Kenshin']\n",
    "insyn_list = []\n",
    "for t in in_list:\n",
    "    insyn_list.append(list(gen_df[gen_df['title_english'] == t]['popularity'])[0])\n",
    "print(insyn_list)\n",
    "out_list = ['Haikyu!! 2nd Season', 'Nisemonogatari', 'School Days', 'Wolf Children', 'Kuroko\\'s Basketball 2']\n",
    "outsyn_list = []\n",
    "for t in out_list:\n",
    "    outsyn_list.append(list(gen_df[gen_df['title_english'] == t]['popularity'])[0])\n",
    "sumz = 0\n",
    "for syn in outsyn_list:\n",
    "    z = (std_z(syn, avg(insyn_list), f_stdv['popularity']))\n",
    "    sumz += abs(z)\n",
    "    print(\">> \\t%s, \\t%s\"%(syn,z))\n",
    "\n",
    "print(\"AVG ST.Z: %s\"%(sumz/len(outsyn_list)))\n",
    "print(\"AVG SQ ST.Z: %s\"%(avg_std_z(outsyn_list,avg(insyn_list))))"
   ]
  },
  {
   "cell_type": "code",
   "execution_count": 305,
   "metadata": {},
   "outputs": [
    {
     "name": "stdout",
     "output_type": "stream",
     "text": [
      "[1.0, 24.0, 220.0, 26.0, 94.0]\n",
      ">> \t25.0, \t-1.068105902902764\n",
      ">> \t11.0, \t-1.3796367912494034\n",
      ">> \t12.0, \t-1.3573845849389292\n",
      ">> \t1.0, \t-1.602158854354146\n",
      ">> \t25.0, \t-1.068105902902764\n",
      "AVG ST.Z: 1.2950784072696013\n",
      "AVG SQ ST.Z: 58.91858789889656\n"
     ]
    }
   ],
   "source": [
    "# EXAMPLE 4.3, episodes\n",
    "\n",
    "in_list = ['AKIRA', 'Desert Punk', 'Naruto', 'D.N.Angel', 'Rurouni Kenshin']\n",
    "insyn_list = []\n",
    "for t in in_list:\n",
    "    insyn_list.append(list(gen_df[gen_df['title_english'] == t]['episodes'])[0])\n",
    "print(insyn_list)\n",
    "out_list = ['Haikyu!! 2nd Season', 'Nisemonogatari', 'School Days', 'Wolf Children', 'Kuroko\\'s Basketball 2']\n",
    "outsyn_list = []\n",
    "for t in out_list:\n",
    "    outsyn_list.append(list(gen_df[gen_df['title_english'] == t]['episodes'])[0])\n",
    "sumz = 0\n",
    "for syn in outsyn_list:\n",
    "    z = (std_z(syn, avg(insyn_list), f_stdv['episodes']))\n",
    "    sumz += abs(z)\n",
    "    print(\">> \\t%s, \\t%s\"%(syn,z))\n",
    "\n",
    "print(\"AVG ST.Z: %s\"%(sumz/len(outsyn_list)))\n",
    "print(\"AVG SQ ST.Z: %s\"%(avg_std_z(outsyn_list,avg(insyn_list))))"
   ]
  },
  {
   "cell_type": "code",
   "execution_count": 306,
   "metadata": {},
   "outputs": [
    {
     "name": "stdout",
     "output_type": "stream",
     "text": [
      "[5845, 673, 39356, 1448, 9044]\n",
      ">> \t7426, \t-0.6194133769309599\n",
      ">> \t2839, \t-1.3579372800247196\n",
      ">> \t2550, \t-1.4044673449896414\n",
      ">> \t7779, \t-0.5625790761260553\n",
      ">> \t3717, \t-1.216576044594957\n",
      "AVG ST.Z: 1.0321946245332667\n",
      "AVG SQ ST.Z: 6802.006877385527\n"
     ]
    }
   ],
   "source": [
    "# EXAMPLE 4.3, favorites\n",
    "\n",
    "in_list = ['AKIRA', 'Desert Punk', 'Naruto', 'D.N.Angel', 'Rurouni Kenshin']\n",
    "insyn_list = []\n",
    "for t in in_list:\n",
    "    insyn_list.append(list(gen_df[gen_df['title_english'] == t]['favorites'])[0])\n",
    "print(insyn_list)\n",
    "out_list = ['Haikyu!! 2nd Season', 'Nisemonogatari', 'School Days', 'Wolf Children', 'Kuroko\\'s Basketball 2']\n",
    "outsyn_list = []\n",
    "for t in out_list:\n",
    "    outsyn_list.append(list(gen_df[gen_df['title_english'] == t]['favorites'])[0])\n",
    "sumz = 0\n",
    "for syn in outsyn_list:\n",
    "    z = (std_z(syn, avg(insyn_list), f_stdv['favorites']))\n",
    "    sumz += abs(z)\n",
    "    print(\">> \\t%s, \\t%s\"%(syn,z))\n",
    "\n",
    "print(\"AVG ST.Z: %s\"%(sumz/len(outsyn_list)))\n",
    "print(\"AVG SQ ST.Z: %s\"%(avg_std_z(outsyn_list,avg(insyn_list))))"
   ]
  },
  {
   "cell_type": "code",
   "execution_count": 307,
   "metadata": {},
   "outputs": [
    {
     "name": "stdout",
     "output_type": "stream",
     "text": [
      "[351163, 89817, 1091313, 148256, 296561]\n",
      ">> \t392000, \t-0.020833187332338993\n",
      ">> \t401291, \t0.03573056003901156\n",
      ">> \t390373, \t-0.030738387738451074\n",
      ">> \t404379, \t0.054530350361122255\n",
      ">> \t390398, \t-0.030586187363433985\n",
      "AVG ST.Z: 0.03448373456687158\n",
      "AVG SQ ST.Z: 5951.740434528374\n"
     ]
    }
   ],
   "source": [
    "# EXAMPLE 4.3, members\n",
    "\n",
    "in_list = ['AKIRA', 'Desert Punk', 'Naruto', 'D.N.Angel', 'Rurouni Kenshin']\n",
    "insyn_list = []\n",
    "for t in in_list:\n",
    "    insyn_list.append(list(gen_df[gen_df['title_english'] == t]['members'])[0])\n",
    "print(insyn_list)\n",
    "out_list = ['Haikyu!! 2nd Season', 'Nisemonogatari', 'School Days', 'Wolf Children', 'Kuroko\\'s Basketball 2']\n",
    "outsyn_list = []\n",
    "for t in out_list:\n",
    "    outsyn_list.append(list(gen_df[gen_df['title_english'] == t]['members'])[0])\n",
    "sumz = 0\n",
    "for syn in outsyn_list:\n",
    "    z = (std_z(syn, avg(insyn_list), f_stdv['members']))\n",
    "    sumz += abs(z)\n",
    "    print(\">> \\t%s, \\t%s\"%(syn,z))\n",
    "\n",
    "print(\"AVG ST.Z: %s\"%(sumz/len(outsyn_list)))\n",
    "print(\"AVG SQ ST.Z: %s\"%(avg_std_z(outsyn_list,avg(insyn_list))))"
   ]
  },
  {
   "cell_type": "code",
   "execution_count": 308,
   "metadata": {},
   "outputs": [
    {
     "name": "stdout",
     "output_type": "stream",
     "text": [
      "[0, 1, 1, 1, 1]\n",
      ">> \t1, \t0.4020528152364392\n",
      ">> \t1, \t0.4020528152364392\n",
      ">> \t0, \t-1.6082112609457573\n",
      ">> \t0, \t-1.6082112609457573\n",
      ">> \t1, \t0.4020528152364392\n",
      "AVG ST.Z: 0.8845161935201664\n",
      "AVG SQ ST.Z: 0.5291502622129182\n",
      "ABS MEAN DIFF: 0.20000000000000007\n"
     ]
    }
   ],
   "source": [
    "# EXAMPLE 4.2, genre_Comedy\n",
    "\n",
    "in_list = ['AKIRA', 'Desert Punk', 'Naruto', 'D.N.Angel', 'Rurouni Kenshin']\n",
    "insyn_list = []\n",
    "for t in in_list:\n",
    "    insyn_list.append(list(gen_df[gen_df['title_english'] == t]['genre_Comedy'])[0])\n",
    "print(insyn_list)\n",
    "out_list = ['Haikyu!! 2nd Season', 'Nisemonogatari', 'School Days', 'Wolf Children', 'Kuroko\\'s Basketball 2']\n",
    "outsyn_list = []\n",
    "for t in out_list:\n",
    "    outsyn_list.append(list(gen_df[gen_df['title_english'] == t]['genre_Comedy'])[0])\n",
    "sumz = 0\n",
    "for syn in outsyn_list:\n",
    "    z = (std_z(syn, avg(insyn_list), f_stdv['genre_Comedy']))\n",
    "    sumz += abs(z)\n",
    "    print(\">> \\t%s, \\t%s\"%(syn,z))\n",
    "\n",
    "print(\"AVG ST.Z: %s\"%(sumz/len(outsyn_list)))\n",
    "print(\"AVG SQ ST.Z: %s\"%(avg_std_z(outsyn_list,avg(insyn_list))))\n",
    "print(\"ABS MEAN DIFF: %s\"%(abs(mean(outsyn_list)-mean(insyn_list))))"
   ]
  },
  {
   "cell_type": "code",
   "execution_count": 309,
   "metadata": {},
   "outputs": [
    {
     "name": "stdout",
     "output_type": "stream",
     "text": [
      "[1, 1, 1, 1, 1]\n",
      ">> \t0, \t-2.0470777168234116\n",
      ">> \t0, \t-2.0470777168234116\n",
      ">> \t0, \t-2.0470777168234116\n",
      ">> \t0, \t-2.0470777168234116\n",
      ">> \t0, \t-2.0470777168234116\n",
      "AVG ST.Z: 2.0470777168234116\n",
      "AVG SQ ST.Z: 1.0\n",
      "ABS MEAN DIFF: 1\n"
     ]
    }
   ],
   "source": [
    "# EXAMPLE 4.2, genre_Action\n",
    "\n",
    "in_list = ['AKIRA', 'Desert Punk', 'Naruto', 'D.N.Angel', 'Rurouni Kenshin']\n",
    "insyn_list = []\n",
    "for t in in_list:\n",
    "    insyn_list.append(list(gen_df[gen_df['title_english'] == t]['genre_Action'])[0])\n",
    "print(insyn_list)\n",
    "out_list = ['Haikyu!! 2nd Season', 'Nisemonogatari', 'School Days', 'Wolf Children', 'Kuroko\\'s Basketball 2']\n",
    "outsyn_list = []\n",
    "for t in out_list:\n",
    "    outsyn_list.append(list(gen_df[gen_df['title_english'] == t]['genre_Action'])[0])\n",
    "sumz = 0\n",
    "for syn in outsyn_list:\n",
    "    z = (std_z(syn, avg(insyn_list), f_stdv['genre_Action']))\n",
    "    sumz += abs(z)\n",
    "    print(\">> \\t%s, \\t%s\"%(syn,z))\n",
    "\n",
    "print(\"AVG ST.Z: %s\"%(sumz/len(outsyn_list)))\n",
    "print(\"AVG SQ ST.Z: %s\"%(avg_std_z(outsyn_list,avg(insyn_list))))\n",
    "print(\"ABS MEAN DIFF: %s\"%(abs(mean(outsyn_list)-mean(insyn_list))))"
   ]
  },
  {
   "cell_type": "code",
   "execution_count": 310,
   "metadata": {},
   "outputs": [
    {
     "name": "stdout",
     "output_type": "stream",
     "text": [
      "[0, 0, 0, 0, 0]\n",
      ">> \t1, \t2.265058165791925\n",
      ">> \t0, \t0.0\n",
      ">> \t1, \t2.265058165791925\n",
      ">> \t0, \t0.0\n",
      ">> \t0, \t0.0\n",
      "AVG ST.Z: 0.90602326631677\n",
      "AVG SQ ST.Z: 0.6324555320336759\n",
      "ABS MEAN DIFF: 0.4\n"
     ]
    }
   ],
   "source": [
    "# EXAMPLE 4.2, genre_Drama\n",
    "\n",
    "in_list = ['AKIRA', 'Desert Punk', 'Naruto', 'D.N.Angel', 'Rurouni Kenshin']\n",
    "insyn_list = []\n",
    "for t in in_list:\n",
    "    insyn_list.append(list(gen_df[gen_df['title_english'] == t]['genre_Drama'])[0])\n",
    "print(insyn_list)\n",
    "out_list = ['Haikyu!! 2nd Season', 'Nisemonogatari', 'School Days', 'Wolf Children', 'Kuroko\\'s Basketball 2']\n",
    "outsyn_list = []\n",
    "for t in out_list:\n",
    "    outsyn_list.append(list(gen_df[gen_df['title_english'] == t]['genre_Drama'])[0])\n",
    "sumz = 0\n",
    "for syn in outsyn_list:\n",
    "    z = (std_z(syn, avg(insyn_list), f_stdv['genre_Drama']))\n",
    "    sumz += abs(z)\n",
    "    print(\">> \\t%s, \\t%s\"%(syn,z))\n",
    "\n",
    "print(\"AVG ST.Z: %s\"%(sumz/len(outsyn_list)))\n",
    "print(\"AVG SQ ST.Z: %s\"%(avg_std_z(outsyn_list,avg(insyn_list))))\n",
    "print(\"ABS MEAN DIFF: %s\"%(abs(mean(outsyn_list)-mean(insyn_list))))"
   ]
  },
  {
   "cell_type": "code",
   "execution_count": 311,
   "metadata": {},
   "outputs": [
    {
     "name": "stdout",
     "output_type": "stream",
     "text": [
      "[0, 0, 0, 1, 0]\n",
      ">> \t0, \t-0.462394697808135\n",
      ">> \t0, \t-0.462394697808135\n",
      ">> \t0, \t-0.462394697808135\n",
      ">> \t1, \t1.84957879123254\n",
      ">> \t0, \t-0.462394697808135\n",
      "AVG ST.Z: 0.739831516493016\n",
      "AVG SQ ST.Z: 0.4\n",
      "ABS MEAN DIFF: 0.0\n"
     ]
    }
   ],
   "source": [
    "# EXAMPLE 4.2, genre_Fantasy\n",
    "\n",
    "in_list = ['AKIRA', 'Desert Punk', 'Naruto', 'D.N.Angel', 'Rurouni Kenshin']\n",
    "insyn_list = []\n",
    "for t in in_list:\n",
    "    insyn_list.append(list(gen_df[gen_df['title_english'] == t]['genre_Fantasy'])[0])\n",
    "print(insyn_list)\n",
    "out_list = ['Haikyu!! 2nd Season', 'Nisemonogatari', 'School Days', 'Wolf Children', 'Kuroko\\'s Basketball 2']\n",
    "outsyn_list = []\n",
    "for t in out_list:\n",
    "    outsyn_list.append(list(gen_df[gen_df['title_english'] == t]['genre_Fantasy'])[0])\n",
    "sumz = 0\n",
    "for syn in outsyn_list:\n",
    "    z = (std_z(syn, avg(insyn_list), f_stdv['genre_Fantasy']))\n",
    "    sumz += abs(z)\n",
    "    print(\">> \\t%s, \\t%s\"%(syn,z))\n",
    "\n",
    "print(\"AVG ST.Z: %s\"%(sumz/len(outsyn_list)))\n",
    "print(\"AVG SQ ST.Z: %s\"%(avg_std_z(outsyn_list,avg(insyn_list))))\n",
    "print(\"ABS MEAN DIFF: %s\"%(abs(mean(outsyn_list)-mean(insyn_list))))"
   ]
  },
  {
   "cell_type": "code",
   "execution_count": 313,
   "metadata": {},
   "outputs": [
    {
     "name": "stdout",
     "output_type": "stream",
     "text": [
      "[0, 0, 0, 1, 1]\n",
      ">> \t0, \t-0.9579256691060032\n",
      ">> \t0, \t-0.9579256691060032\n",
      ">> \t1, \t1.4368885036590047\n",
      ">> \t0, \t-0.9579256691060032\n",
      ">> \t0, \t-0.9579256691060032\n",
      "AVG ST.Z: 1.0537182360166033\n",
      "AVG SQ ST.Z: 0.4472135954999579\n",
      "ABS MEAN DIFF: 0.2\n"
     ]
    }
   ],
   "source": [
    "# EXAMPLE 4.2, genre_Romance\n",
    "\n",
    "in_list = ['AKIRA', 'Desert Punk', 'Naruto', 'D.N.Angel', 'Rurouni Kenshin']\n",
    "insyn_list = []\n",
    "for t in in_list:\n",
    "    insyn_list.append(list(gen_df[gen_df['title_english'] == t]['genre_Romance'])[0])\n",
    "print(insyn_list)\n",
    "out_list = ['Haikyu!! 2nd Season', 'Nisemonogatari', 'School Days', 'Wolf Children', 'Kuroko\\'s Basketball 2']\n",
    "outsyn_list = []\n",
    "for t in out_list:\n",
    "    outsyn_list.append(list(gen_df[gen_df['title_english'] == t]['genre_Romance'])[0])\n",
    "sumz = 0\n",
    "for syn in outsyn_list:\n",
    "    z = (std_z(syn, avg(insyn_list), f_stdv['genre_Romance']))\n",
    "    sumz += abs(z)\n",
    "    print(\">> \\t%s, \\t%s\"%(syn,z))\n",
    "\n",
    "print(\"AVG ST.Z: %s\"%(sumz/len(outsyn_list)))\n",
    "print(\"AVG SQ ST.Z: %s\"%(avg_std_z(outsyn_list,avg(insyn_list))))\n",
    "print(\"ABS MEAN DIFF: %s\"%(abs(mean(outsyn_list)-mean(insyn_list))))"
   ]
  },
  {
   "cell_type": "code",
   "execution_count": 314,
   "metadata": {},
   "outputs": [
    {
     "name": "stdout",
     "output_type": "stream",
     "text": [
      "[1, 0, 0, 0, 0]\n",
      ">> \t0, \t-0.916742097649014\n",
      ">> \t0, \t-0.916742097649014\n",
      ">> \t0, \t-0.916742097649014\n",
      ">> \t0, \t-0.916742097649014\n",
      ">> \t0, \t-0.916742097649014\n",
      "AVG ST.Z: 0.916742097649014\n",
      "AVG SQ ST.Z: 0.2\n",
      "ABS MEAN DIFF: 0.2\n"
     ]
    }
   ],
   "source": [
    "# EXAMPLE 4.2, genre_Horror\n",
    "\n",
    "in_list = ['AKIRA', 'Desert Punk', 'Naruto', 'D.N.Angel', 'Rurouni Kenshin']\n",
    "insyn_list = []\n",
    "for t in in_list:\n",
    "    insyn_list.append(list(gen_df[gen_df['title_english'] == t]['genre_Horror'])[0])\n",
    "print(insyn_list)\n",
    "\n",
    "out_list = ['Haikyu!! 2nd Season', 'Nisemonogatari', 'School Days', 'Wolf Children', 'Kuroko\\'s Basketball 2']\n",
    "outsyn_list = []\n",
    "for t in out_list:\n",
    "    outsyn_list.append(list(gen_df[gen_df['title_english'] == t]['genre_Horror'])[0])\n",
    "sumz = 0\n",
    "for syn in outsyn_list:\n",
    "    z = (std_z(syn, avg(insyn_list), f_stdv['genre_Horror']))\n",
    "    sumz += abs(z)\n",
    "    print(\">> \\t%s, \\t%s\"%(syn,z))\n",
    "\n",
    "print(\"AVG ST.Z: %s\"%(sumz/len(outsyn_list)))\n",
    "print(\"AVG SQ ST.Z: %s\"%(avg_std_z(outsyn_list,avg(insyn_list))))\n",
    "print(\"ABS MEAN DIFF: %s\"%(abs(mean(outsyn_list)-mean(insyn_list))))"
   ]
  },
  {
   "cell_type": "code",
   "execution_count": 315,
   "metadata": {},
   "outputs": [
    {
     "name": "stdout",
     "output_type": "stream",
     "text": [
      "[1, 1, 1, 1, 1]\n",
      ">> \t1, \t0.0\n",
      ">> \t0, \t-2.0815569195725234\n",
      ">> \t0, \t-2.0815569195725234\n",
      ">> \t0, \t-2.0815569195725234\n",
      ">> \t1, \t0.0\n",
      "AVG ST.Z: 1.248934151743514\n",
      "AVG SQ ST.Z: 0.7745966692414834\n",
      "ABS MEAN DIFF: 0.6\n"
     ]
    }
   ],
   "source": [
    "# EXAMPLE 4.2, source_Manga\n",
    "\n",
    "in_list = ['AKIRA', 'Desert Punk', 'Naruto', 'D.N.Angel', 'Rurouni Kenshin']\n",
    "insyn_list = []\n",
    "for t in in_list:\n",
    "    insyn_list.append(list(gen_df[gen_df['title_english'] == t]['source_Manga'])[0])\n",
    "print(insyn_list)\n",
    "out_list = ['Haikyu!! 2nd Season', 'Nisemonogatari', 'School Days', 'Wolf Children', 'Kuroko\\'s Basketball 2']\n",
    "outsyn_list = []\n",
    "for t in out_list:\n",
    "    outsyn_list.append(list(gen_df[gen_df['title_english'] == t]['source_Manga'])[0])\n",
    "sumz = 0\n",
    "for syn in outsyn_list:\n",
    "    z = (std_z(syn, avg(insyn_list), f_stdv['source_Manga']))\n",
    "    sumz += abs(z)\n",
    "    print(\">> \\t%s, \\t%s\"%(syn,z))\n",
    "\n",
    "print(\"AVG ST.Z: %s\"%(sumz/len(outsyn_list)))\n",
    "print(\"AVG SQ ST.Z: %s\"%(avg_std_z(outsyn_list,avg(insyn_list))))\n",
    "print(\"ABS MEAN DIFF: %s\"%(abs(mean(outsyn_list)-mean(insyn_list))))"
   ]
  },
  {
   "cell_type": "code",
   "execution_count": 316,
   "metadata": {},
   "outputs": [
    {
     "name": "stdout",
     "output_type": "stream",
     "text": [
      "[0, 0, 0, 0, 0]\n",
      ">> \t0, \t0.0\n",
      ">> \t0, \t0.0\n",
      ">> \t0, \t0.0\n",
      ">> \t1, \t2.3628897854683997\n",
      ">> \t0, \t0.0\n",
      "AVG ST.Z: 0.47257795709367995\n",
      "AVG SQ ST.Z: 0.4472135954999579\n",
      "ABS MEAN DIFF: 0.2\n"
     ]
    }
   ],
   "source": [
    "# EXAMPLE 4.2, source_Original\n",
    "\n",
    "in_list = ['AKIRA', 'Desert Punk', 'Naruto', 'D.N.Angel', 'Rurouni Kenshin']\n",
    "insyn_list = []\n",
    "for t in in_list:\n",
    "    insyn_list.append(list(gen_df[gen_df['title_english'] == t]['source_Original'])[0])\n",
    "print(insyn_list)\n",
    "out_list = ['Haikyu!! 2nd Season', 'Nisemonogatari', 'School Days', 'Wolf Children', 'Kuroko\\'s Basketball 2']\n",
    "outsyn_list = []\n",
    "for t in out_list:\n",
    "    outsyn_list.append(list(gen_df[gen_df['title_english'] == t]['source_Original'])[0])\n",
    "sumz = 0\n",
    "for syn in outsyn_list:\n",
    "    z = (std_z(syn, avg(insyn_list), f_stdv['source_Original']))\n",
    "    sumz += abs(z)\n",
    "    print(\">> \\t%s, \\t%s\"%(syn,z))\n",
    "\n",
    "print(\"AVG ST.Z: %s\"%(sumz/len(outsyn_list)))\n",
    "print(\"AVG SQ ST.Z: %s\"%(avg_std_z(outsyn_list,avg(insyn_list))))\n",
    "print(\"ABS MEAN DIFF: %s\"%(abs(mean(outsyn_list)-mean(insyn_list))))"
   ]
  },
  {
   "cell_type": "code",
   "execution_count": 151,
   "metadata": {},
   "outputs": [
    {
     "name": "stdout",
     "output_type": "stream",
     "text": [
      "Moments prior to Naruto Uzumaki's birth, a huge demon known as the Kyuubi, the Nine-Tailed Fox, attacked Konohagakure, the Hidden Leaf Village, and wreaked havoc. In order to put an end to the Kyuubi's rampage, the leader of the village, the Fourth Hokage, sacrificed his life and sealed the monstrou...\n",
      "The Great Kanto Desert, a sweltering wasteland of nothing but ruins and sand, is all that remains of post-apocalyptic Japan. The once fair population has been left to cling to the inhospitable dunes for survival. At least, that is the case for normal people. For those who have spent a little too lon...\n",
      "In the final years of the Bakumatsu era lived a legendary assassin known as Hitokiri Battousai. Feared as a merciless killer, he was unmatched throughout the country, but mysteriously disappeared at the peak of the Japanese Revolution. It has been ten peaceful years since then, but the very mention ...\n",
      "Japan, 1988. An explosion caused by a young boy with psychic powers tears through the city of Tokyo and ignites the fuse that leads to World War III. In order to prevent any further destruction, he is captured and taken into custody, never to be heard from again. Now, in the year 2019, a restored ve...\n",
      "Daisuke Niwa is a clumsy, block-headed, and wimpy middle school student who has few redeeming qualities. On his 14th birthday, he finally decides to confess his love to his longtime crush Risa Harada, but is rejected. In an unexpected turn of events, however, Daisuke finds himself transforming into ...\n",
      ">> \tYears after an ancient evil was salvaged from the depths of the sea, Joutarou Kuujou sits peacefully within a Japanese jail cell. He's committed no crime yet demands he not be released, believing he's been possessed by an evil spirit capable of harming those around him. Concerned for her son, Holly ...\n",
      ">> \tAt the Battle of Sekigahara in 1600, Toyohisa Shimazu is the rearguard for his retreating troops, and is critically wounded when he suddenly finds himself in a modern, gleaming white hallway. Faced with only a stoic man named Murasaki and hundreds of doors on both sides, Toyohisa is pulled into the ...\n",
      ">> \tKujo Jotaro is a normal, popular Japanese high-schooler, until he thinks that he is possessed by a spirit, and locks himself in prison. After seeing his grandfather, Joseph Joestar, and fighting Joseph's friend Muhammad Abdul, Jotaro learns that the \"Spirit\" is actually Star Platinum, his Stand, or ...\n",
      ">> \tFourteen years after the Third Impact, the Earth is a post-apocalyptic wasteland, human civilization is in ruins, and the people Shinji knows are almost unrecognizable. Trapped inside Evangelion Unit-01, he is recovered from space by Asuka and Mari, only to find himself a prisoner of Wille, a milita...\n",
      ">> \tHumans have designed countless worlds—each one born from the unique imagination of its creator. Souta Mizushino is a high school student who aspires to be such a creator by writing and illustrating his own light novel. One day, while watching anime for inspiration, he is briefly transported into a f...\n"
     ]
    }
   ],
   "source": [
    "# from data_modeling EXAMPLE 4.3 (Eucl, un-normalized)\n",
    "in_list = ['AKIRA', 'Desert Punk', 'Naruto', 'D.N.Angel', 'Rurouni Kenshin']\n",
    "insyn_list = list(out_df[out_df['title_english'].isin(in_list)]['synopsis'])\n",
    "for syn in insyn_list:\n",
    "    print(syn[:300]+\"...\")\n",
    "out_list = ['JoJo\\'s Bizarre Adventure: Stardust Crusaders', 'Drifters', \n",
    "            'JoJo\\'s Bizarre Adventure', 'Evangelion: 3.0 You Can (Not) Redo', \n",
    "            'Re:CREATORS']\n",
    "outsyn_list = []\n",
    "for t in out_list:\n",
    "    outsyn_list.append(list(out_df[out_df['title_english'] == t]['synopsis'])[0])\n",
    "for syn in outsyn_list:\n",
    "    print('>> \\t%s'%(syn[:300]+\"...\"))"
   ]
  },
  {
   "cell_type": "code",
   "execution_count": 317,
   "metadata": {},
   "outputs": [
    {
     "name": "stdout",
     "output_type": "stream",
     "text": [
      "[193, 1049, 10, 637, 265]\n",
      ">> \t289, \t-0.04944124525153196\n",
      ">> \t294, \t-0.047697900919672576\n",
      ">> \t2139, \t0.5955961575364378\n",
      ">> \t465, \t0.011924475229918139\n",
      ">> \t333, \t-0.03409981513116943\n",
      "AVG ST.Z: 0.147751918813746\n",
      "AVG SQ ST.Z: 770.3899272446389\n"
     ]
    }
   ],
   "source": [
    "# EXAMPLE 4.3, popularity\n",
    "\n",
    "in_list = ['AKIRA', 'Desert Punk', 'Naruto', 'D.N.Angel', 'Rurouni Kenshin']\n",
    "insyn_list = []\n",
    "for t in in_list:\n",
    "    insyn_list.append(list(gen_df[gen_df['title_english'] == t]['popularity'])[0])\n",
    "print(insyn_list)\n",
    "out_list = ['JoJo\\'s Bizarre Adventure: Stardust Crusaders', 'Drifters', \n",
    "            'JoJo\\'s Bizarre Adventure', 'Evangelion: 3.0 You Can (Not) Redo', \n",
    "            'Re:CREATORS']\n",
    "outsyn_list = []\n",
    "for t in out_list:\n",
    "    outsyn_list.append(list(gen_df[gen_df['title_english'] == t]['popularity'])[0])\n",
    "sumz = 0\n",
    "for syn in outsyn_list:\n",
    "    z = (std_z(syn, avg(insyn_list), f_stdv['popularity']))\n",
    "    sumz += abs(z)\n",
    "    print(\">> \\t%s, \\t%s\"%(syn,z))\n",
    "\n",
    "print(\"AVG ST.Z: %s\"%(sumz/len(outsyn_list)))\n",
    "print(\"AVG SQ ST.Z: %s\"%(avg_std_z(outsyn_list,avg(insyn_list))))"
   ]
  },
  {
   "cell_type": "code",
   "execution_count": 318,
   "metadata": {},
   "outputs": [
    {
     "name": "stdout",
     "output_type": "stream",
     "text": [
      "[1.0, 24.0, 220.0, 26.0, 94.0]\n",
      ">> \t24.0, \t-1.0903581092132382\n",
      ">> \t12.0, \t-1.3573845849389292\n",
      ">> \t7.0, \t-1.4686456164913004\n",
      ">> \t1.0, \t-1.602158854354146\n",
      ">> \t22.0, \t-1.1348625218341868\n",
      "AVG ST.Z: 1.33068193736636\n",
      "AVG SQ ST.Z: 60.436743790512075\n"
     ]
    }
   ],
   "source": [
    "# EXAMPLE 4.3, episodes\n",
    "\n",
    "in_list = ['AKIRA', 'Desert Punk', 'Naruto', 'D.N.Angel', 'Rurouni Kenshin']\n",
    "insyn_list = []\n",
    "for t in in_list:\n",
    "    insyn_list.append(list(gen_df[gen_df['title_english'] == t]['episodes'])[0])\n",
    "print(insyn_list)\n",
    "out_list = ['JoJo\\'s Bizarre Adventure: Stardust Crusaders', 'Drifters', \n",
    "            'JoJo\\'s Bizarre Adventure', 'Evangelion: 3.0 You Can (Not) Redo', \n",
    "            'Re:CREATORS']\n",
    "outsyn_list = []\n",
    "for t in out_list:\n",
    "    outsyn_list.append(list(gen_df[gen_df['title_english'] == t]['episodes'])[0])\n",
    "sumz = 0\n",
    "for syn in outsyn_list:\n",
    "    z = (std_z(syn, avg(insyn_list), f_stdv['episodes']))\n",
    "    sumz += abs(z)\n",
    "    print(\">> \\t%s, \\t%s\"%(syn,z))\n",
    "\n",
    "print(\"AVG ST.Z: %s\"%(sumz/len(outsyn_list)))\n",
    "print(\"AVG SQ ST.Z: %s\"%(avg_std_z(outsyn_list,avg(insyn_list))))"
   ]
  },
  {
   "cell_type": "code",
   "execution_count": 319,
   "metadata": {},
   "outputs": [
    {
     "name": "stdout",
     "output_type": "stream",
     "text": [
      "[5845, 673, 39356, 1448, 9044]\n",
      ">> \t6335, \t-0.7950683972656649\n",
      ">> \t2120, \t-1.473698929539525\n",
      ">> \t166, \t-1.788300130028997\n",
      ">> \t983, \t-1.6567601193842176\n",
      ">> \t2044, \t-1.4859352095995046\n",
      "AVG ST.Z: 1.4399525571635816\n",
      "AVG SQ ST.Z: 9193.50999346822\n"
     ]
    }
   ],
   "source": [
    "# EXAMPLE 4.3, favorites\n",
    "\n",
    "in_list = ['AKIRA', 'Desert Punk', 'Naruto', 'D.N.Angel', 'Rurouni Kenshin']\n",
    "insyn_list = []\n",
    "for t in in_list:\n",
    "    insyn_list.append(list(gen_df[gen_df['title_english'] == t]['favorites'])[0])\n",
    "print(insyn_list)\n",
    "out_list = ['JoJo\\'s Bizarre Adventure: Stardust Crusaders', 'Drifters', \n",
    "            'JoJo\\'s Bizarre Adventure', 'Evangelion: 3.0 You Can (Not) Redo', \n",
    "            'Re:CREATORS']\n",
    "outsyn_list = []\n",
    "for t in out_list:\n",
    "    outsyn_list.append(list(gen_df[gen_df['title_english'] == t]['favorites'])[0])\n",
    "sumz = 0\n",
    "for syn in outsyn_list:\n",
    "    z = (std_z(syn, avg(insyn_list), f_stdv['favorites']))\n",
    "    sumz += abs(z)\n",
    "    print(\">> \\t%s, \\t%s\"%(syn,z))\n",
    "\n",
    "print(\"AVG ST.Z: %s\"%(sumz/len(outsyn_list)))\n",
    "print(\"AVG SQ ST.Z: %s\"%(avg_std_z(outsyn_list,avg(insyn_list))))"
   ]
  },
  {
   "cell_type": "code",
   "execution_count": 320,
   "metadata": {},
   "outputs": [
    {
     "name": "stdout",
     "output_type": "stream",
     "text": [
      "[351163, 89817, 1091313, 148256, 296561]\n",
      ">> \t281554, \t-0.6932300920978306\n",
      ">> \t275539, \t-0.729849502326942\n",
      ">> \t34055, \t-2.2000077167520002\n",
      ">> \t193319, \t-1.2304060956831406\n",
      ">> \t248516, \t-0.8943659316904127\n",
      "AVG ST.Z: 1.149571867710065\n",
      "AVG SQ ST.Z: 209929.0162159581\n"
     ]
    }
   ],
   "source": [
    "# EXAMPLE 4.3, members\n",
    "\n",
    "in_list = ['AKIRA', 'Desert Punk', 'Naruto', 'D.N.Angel', 'Rurouni Kenshin']\n",
    "insyn_list = []\n",
    "for t in in_list:\n",
    "    insyn_list.append(list(gen_df[gen_df['title_english'] == t]['members'])[0])\n",
    "print(insyn_list)\n",
    "out_list = ['JoJo\\'s Bizarre Adventure: Stardust Crusaders', 'Drifters', \n",
    "            'JoJo\\'s Bizarre Adventure', 'Evangelion: 3.0 You Can (Not) Redo', \n",
    "            'Re:CREATORS']\n",
    "outsyn_list = []\n",
    "for t in out_list:\n",
    "    outsyn_list.append(list(gen_df[gen_df['title_english'] == t]['members'])[0])\n",
    "sumz = 0\n",
    "for syn in outsyn_list:\n",
    "    z = (std_z(syn, avg(insyn_list), f_stdv['members']))\n",
    "    sumz += abs(z)\n",
    "    print(\">> \\t%s, \\t%s\"%(syn,z))\n",
    "\n",
    "print(\"AVG ST.Z: %s\"%(sumz/len(outsyn_list)))\n",
    "print(\"AVG SQ ST.Z: %s\"%(avg_std_z(outsyn_list,avg(insyn_list))))"
   ]
  },
  {
   "cell_type": "code",
   "execution_count": 321,
   "metadata": {},
   "outputs": [
    {
     "name": "stdout",
     "output_type": "stream",
     "text": [
      "[0, 1, 1, 1, 1]\n",
      ">> \t0, \t-1.6082112609457573\n",
      ">> \t1, \t0.4020528152364392\n",
      ">> \t0, \t-1.6082112609457573\n",
      ">> \t0, \t-1.6082112609457573\n",
      ">> \t0, \t-1.6082112609457573\n",
      "AVG ST.Z: 1.3669795718038935\n",
      "AVG SQ ST.Z: 0.7211102550927979\n",
      "ABS MEAN DIFF: 0.6000000000000001\n"
     ]
    }
   ],
   "source": [
    "# EXAMPLE 4.2, genre_Comedy\n",
    "\n",
    "in_list = ['AKIRA', 'Desert Punk', 'Naruto', 'D.N.Angel', 'Rurouni Kenshin']\n",
    "insyn_list = []\n",
    "for t in in_list:\n",
    "    insyn_list.append(list(gen_df[gen_df['title_english'] == t]['genre_Comedy'])[0])\n",
    "print(insyn_list)\n",
    "out_list = ['JoJo\\'s Bizarre Adventure: Stardust Crusaders', 'Drifters', \n",
    "            'JoJo\\'s Bizarre Adventure', 'Evangelion: 3.0 You Can (Not) Redo', \n",
    "            'Re:CREATORS']\n",
    "outsyn_list = []\n",
    "for t in out_list:\n",
    "    outsyn_list.append(list(gen_df[gen_df['title_english'] == t]['genre_Comedy'])[0])\n",
    "sumz = 0\n",
    "for syn in outsyn_list:\n",
    "    z = (std_z(syn, avg(insyn_list), f_stdv['genre_Comedy']))\n",
    "    sumz += abs(z)\n",
    "    print(\">> \\t%s, \\t%s\"%(syn,z))\n",
    "\n",
    "print(\"AVG ST.Z: %s\"%(sumz/len(outsyn_list)))\n",
    "print(\"AVG SQ ST.Z: %s\"%(avg_std_z(outsyn_list,avg(insyn_list))))\n",
    "print(\"ABS MEAN DIFF: %s\"%(abs(mean(outsyn_list)-mean(insyn_list))))"
   ]
  },
  {
   "cell_type": "code",
   "execution_count": 322,
   "metadata": {},
   "outputs": [
    {
     "name": "stdout",
     "output_type": "stream",
     "text": [
      "[1, 1, 1, 1, 1]\n",
      ">> \t1, \t0.0\n",
      ">> \t1, \t0.0\n",
      ">> \t0, \t-2.0470777168234116\n",
      ">> \t1, \t0.0\n",
      ">> \t1, \t0.0\n",
      "AVG ST.Z: 0.40941554336468233\n",
      "AVG SQ ST.Z: 0.4472135954999579\n",
      "ABS MEAN DIFF: 0.19999999999999996\n"
     ]
    }
   ],
   "source": [
    "# EXAMPLE 4.2, genre_Action\n",
    "\n",
    "in_list = ['AKIRA', 'Desert Punk', 'Naruto', 'D.N.Angel', 'Rurouni Kenshin']\n",
    "insyn_list = []\n",
    "for t in in_list:\n",
    "    insyn_list.append(list(gen_df[gen_df['title_english'] == t]['genre_Action'])[0])\n",
    "print(insyn_list)\n",
    "out_list = ['JoJo\\'s Bizarre Adventure: Stardust Crusaders', 'Drifters', \n",
    "            'JoJo\\'s Bizarre Adventure', 'Evangelion: 3.0 You Can (Not) Redo', \n",
    "            'Re:CREATORS']\n",
    "outsyn_list = []\n",
    "for t in out_list:\n",
    "    outsyn_list.append(list(gen_df[gen_df['title_english'] == t]['genre_Action'])[0])\n",
    "sumz = 0\n",
    "for syn in outsyn_list:\n",
    "    z = (std_z(syn, avg(insyn_list), f_stdv['genre_Action']))\n",
    "    sumz += abs(z)\n",
    "    print(\">> \\t%s, \\t%s\"%(syn,z))\n",
    "\n",
    "print(\"AVG ST.Z: %s\"%(sumz/len(outsyn_list)))\n",
    "print(\"AVG SQ ST.Z: %s\"%(avg_std_z(outsyn_list,avg(insyn_list))))\n",
    "print(\"ABS MEAN DIFF: %s\"%(abs(mean(outsyn_list)-mean(insyn_list))))"
   ]
  },
  {
   "cell_type": "code",
   "execution_count": 323,
   "metadata": {},
   "outputs": [
    {
     "name": "stdout",
     "output_type": "stream",
     "text": [
      "[0, 0, 0, 0, 0]\n",
      ">> \t1, \t2.265058165791925\n",
      ">> \t0, \t0.0\n",
      ">> \t1, \t2.265058165791925\n",
      ">> \t0, \t0.0\n",
      ">> \t0, \t0.0\n",
      "AVG ST.Z: 0.90602326631677\n",
      "AVG SQ ST.Z: 0.6324555320336759\n",
      "ABS MEAN DIFF: 0.4\n"
     ]
    }
   ],
   "source": [
    "# EXAMPLE 4.2, genre_Drama\n",
    "\n",
    "in_list = ['AKIRA', 'Desert Punk', 'Naruto', 'D.N.Angel', 'Rurouni Kenshin']\n",
    "insyn_list = []\n",
    "for t in in_list:\n",
    "    insyn_list.append(list(gen_df[gen_df['title_english'] == t]['genre_Drama'])[0])\n",
    "print(insyn_list)\n",
    "out_list = ['JoJo\\'s Bizarre Adventure: Stardust Crusaders', 'Drifters', \n",
    "            'JoJo\\'s Bizarre Adventure', 'Evangelion: 3.0 You Can (Not) Redo', \n",
    "            'Re:CREATORS']\n",
    "outsyn_list = []\n",
    "for t in out_list:\n",
    "    outsyn_list.append(list(gen_df[gen_df['title_english'] == t]['genre_Drama'])[0])\n",
    "sumz = 0\n",
    "for syn in outsyn_list:\n",
    "    z = (std_z(syn, avg(insyn_list), f_stdv['genre_Drama']))\n",
    "    sumz += abs(z)\n",
    "    print(\">> \\t%s, \\t%s\"%(syn,z))\n",
    "\n",
    "print(\"AVG ST.Z: %s\"%(sumz/len(outsyn_list)))\n",
    "print(\"AVG SQ ST.Z: %s\"%(avg_std_z(outsyn_list,avg(insyn_list))))\n",
    "print(\"ABS MEAN DIFF: %s\"%(abs(mean(outsyn_list)-mean(insyn_list))))"
   ]
  },
  {
   "cell_type": "code",
   "execution_count": 324,
   "metadata": {},
   "outputs": [
    {
     "name": "stdout",
     "output_type": "stream",
     "text": [
      "[0, 0, 0, 1, 0]\n",
      ">> \t0, \t-0.462394697808135\n",
      ">> \t1, \t1.84957879123254\n",
      ">> \t1, \t1.84957879123254\n",
      ">> \t0, \t-0.462394697808135\n",
      ">> \t1, \t1.84957879123254\n",
      "AVG ST.Z: 1.2947051538627778\n",
      "AVG SQ ST.Z: 0.6324555320336759\n",
      "ABS MEAN DIFF: 0.39999999999999997\n"
     ]
    }
   ],
   "source": [
    "# EXAMPLE 4.2, genre_Fantasy\n",
    "\n",
    "in_list = ['AKIRA', 'Desert Punk', 'Naruto', 'D.N.Angel', 'Rurouni Kenshin']\n",
    "insyn_list = []\n",
    "for t in in_list:\n",
    "    insyn_list.append(list(gen_df[gen_df['title_english'] == t]['genre_Fantasy'])[0])\n",
    "print(insyn_list)\n",
    "out_list = ['JoJo\\'s Bizarre Adventure: Stardust Crusaders', 'Drifters', \n",
    "            'JoJo\\'s Bizarre Adventure', 'Evangelion: 3.0 You Can (Not) Redo', \n",
    "            'Re:CREATORS']\n",
    "outsyn_list = []\n",
    "for t in out_list:\n",
    "    outsyn_list.append(list(gen_df[gen_df['title_english'] == t]['genre_Fantasy'])[0])\n",
    "sumz = 0\n",
    "for syn in outsyn_list:\n",
    "    z = (std_z(syn, avg(insyn_list), f_stdv['genre_Fantasy']))\n",
    "    sumz += abs(z)\n",
    "    print(\">> \\t%s, \\t%s\"%(syn,z))\n",
    "\n",
    "print(\"AVG ST.Z: %s\"%(sumz/len(outsyn_list)))\n",
    "print(\"AVG SQ ST.Z: %s\"%(avg_std_z(outsyn_list,avg(insyn_list))))\n",
    "print(\"ABS MEAN DIFF: %s\"%(abs(mean(outsyn_list)-mean(insyn_list))))"
   ]
  },
  {
   "cell_type": "code",
   "execution_count": 328,
   "metadata": {},
   "outputs": [
    {
     "name": "stdout",
     "output_type": "stream",
     "text": [
      "[0, 0, 0, 1, 1]\n",
      ">> \t0, \t-0.9579256691060032\n",
      ">> \t0, \t-0.9579256691060032\n",
      ">> \t0, \t-0.9579256691060032\n",
      ">> \t0, \t-0.9579256691060032\n",
      ">> \t0, \t-0.9579256691060032\n",
      "AVG ST.Z: 0.9579256691060032\n",
      "AVG SQ ST.Z: 0.4\n",
      "ABS MEAN DIFF: 0.4\n"
     ]
    }
   ],
   "source": [
    "# EXAMPLE 4.2, genre_Romance\n",
    "\n",
    "in_list = ['AKIRA', 'Desert Punk', 'Naruto', 'D.N.Angel', 'Rurouni Kenshin']\n",
    "insyn_list = []\n",
    "for t in in_list:\n",
    "    insyn_list.append(list(gen_df[gen_df['title_english'] == t]['genre_Romance'])[0])\n",
    "print(insyn_list)\n",
    "out_list = ['JoJo\\'s Bizarre Adventure: Stardust Crusaders', 'Drifters', \n",
    "            'JoJo\\'s Bizarre Adventure', 'Evangelion: 3.0 You Can (Not) Redo', \n",
    "            'Re:CREATORS']\n",
    "outsyn_list = []\n",
    "for t in out_list:\n",
    "    outsyn_list.append(list(gen_df[gen_df['title_english'] == t]['genre_Romance'])[0])\n",
    "sumz = 0\n",
    "for syn in outsyn_list:\n",
    "    z = (std_z(syn, avg(insyn_list), f_stdv['genre_Romance']))\n",
    "    sumz += abs(z)\n",
    "    print(\">> \\t%s, \\t%s\"%(syn,z))\n",
    "\n",
    "print(\"AVG ST.Z: %s\"%(sumz/len(outsyn_list)))\n",
    "print(\"AVG SQ ST.Z: %s\"%(avg_std_z(outsyn_list,avg(insyn_list))))\n",
    "print(\"ABS MEAN DIFF: %s\"%(abs(mean(outsyn_list)-mean(insyn_list))))"
   ]
  },
  {
   "cell_type": "code",
   "execution_count": 329,
   "metadata": {},
   "outputs": [
    {
     "name": "stdout",
     "output_type": "stream",
     "text": [
      "[1, 0, 0, 0, 0]\n",
      ">> \t0, \t-0.916742097649014\n",
      ">> \t0, \t-0.916742097649014\n",
      ">> \t1, \t3.666968390596056\n",
      ">> \t0, \t-0.916742097649014\n",
      ">> \t0, \t-0.916742097649014\n",
      "AVG ST.Z: 1.4667873562384226\n",
      "AVG SQ ST.Z: 0.4000000000000001\n",
      "ABS MEAN DIFF: 0.0\n"
     ]
    }
   ],
   "source": [
    "# EXAMPLE 4.2, genre_Horror\n",
    "\n",
    "in_list = ['AKIRA', 'Desert Punk', 'Naruto', 'D.N.Angel', 'Rurouni Kenshin']\n",
    "insyn_list = []\n",
    "for t in in_list:\n",
    "    insyn_list.append(list(gen_df[gen_df['title_english'] == t]['genre_Horror'])[0])\n",
    "print(insyn_list)\n",
    "out_list = ['JoJo\\'s Bizarre Adventure: Stardust Crusaders', 'Drifters', \n",
    "            'JoJo\\'s Bizarre Adventure', 'Evangelion: 3.0 You Can (Not) Redo', \n",
    "            'Re:CREATORS']\n",
    "outsyn_list = []\n",
    "for t in out_list:\n",
    "    outsyn_list.append(list(gen_df[gen_df['title_english'] == t]['genre_Horror'])[0])\n",
    "sumz = 0\n",
    "for syn in outsyn_list:\n",
    "    z = (std_z(syn, avg(insyn_list), f_stdv['genre_Horror']))\n",
    "    sumz += abs(z)\n",
    "    print(\">> \\t%s, \\t%s\"%(syn,z))\n",
    "\n",
    "print(\"AVG ST.Z: %s\"%(sumz/len(outsyn_list)))\n",
    "print(\"AVG SQ ST.Z: %s\"%(avg_std_z(outsyn_list,avg(insyn_list))))\n",
    "print(\"ABS MEAN DIFF: %s\"%(abs(mean(outsyn_list)-mean(insyn_list))))"
   ]
  },
  {
   "cell_type": "code",
   "execution_count": 325,
   "metadata": {},
   "outputs": [
    {
     "name": "stdout",
     "output_type": "stream",
     "text": [
      "[1, 1, 1, 1, 1]\n",
      ">> \t1, \t0.0\n",
      ">> \t1, \t0.0\n",
      ">> \t1, \t0.0\n",
      ">> \t0, \t-2.0815569195725234\n",
      ">> \t0, \t-2.0815569195725234\n",
      "AVG ST.Z: 0.8326227678290093\n",
      "AVG SQ ST.Z: 0.6324555320336759\n",
      "ABS MEAN DIFF: 0.4\n"
     ]
    }
   ],
   "source": [
    "# EXAMPLE 4.2, source_Manga\n",
    "\n",
    "in_list = ['AKIRA', 'Desert Punk', 'Naruto', 'D.N.Angel', 'Rurouni Kenshin']\n",
    "insyn_list = []\n",
    "for t in in_list:\n",
    "    insyn_list.append(list(gen_df[gen_df['title_english'] == t]['source_Manga'])[0])\n",
    "print(insyn_list)\n",
    "out_list = ['JoJo\\'s Bizarre Adventure: Stardust Crusaders', 'Drifters', \n",
    "            'JoJo\\'s Bizarre Adventure', 'Evangelion: 3.0 You Can (Not) Redo', \n",
    "            'Re:CREATORS']\n",
    "outsyn_list = []\n",
    "for t in out_list:\n",
    "    outsyn_list.append(list(gen_df[gen_df['title_english'] == t]['source_Manga'])[0])\n",
    "sumz = 0\n",
    "for syn in outsyn_list:\n",
    "    z = (std_z(syn, avg(insyn_list), f_stdv['source_Manga']))\n",
    "    sumz += abs(z)\n",
    "    print(\">> \\t%s, \\t%s\"%(syn,z))\n",
    "\n",
    "print(\"AVG ST.Z: %s\"%(sumz/len(outsyn_list)))\n",
    "print(\"AVG SQ ST.Z: %s\"%(avg_std_z(outsyn_list,avg(insyn_list))))\n",
    "print(\"ABS MEAN DIFF: %s\"%(abs(mean(outsyn_list)-mean(insyn_list))))"
   ]
  },
  {
   "cell_type": "code",
   "execution_count": 327,
   "metadata": {},
   "outputs": [
    {
     "name": "stdout",
     "output_type": "stream",
     "text": [
      "[0, 0, 0, 0, 0]\n",
      ">> \t0, \t0.0\n",
      ">> \t0, \t0.0\n",
      ">> \t0, \t0.0\n",
      ">> \t1, \t2.3628897854683997\n",
      ">> \t1, \t2.3628897854683997\n",
      "AVG ST.Z: 0.9451559141873599\n",
      "AVG SQ ST.Z: 0.6324555320336759\n",
      "ABS MEAN DIFF: 0.4\n"
     ]
    }
   ],
   "source": [
    "# EXAMPLE 4.2, source_Original\n",
    "\n",
    "in_list = ['AKIRA', 'Desert Punk', 'Naruto', 'D.N.Angel', 'Rurouni Kenshin']\n",
    "insyn_list = []\n",
    "for t in in_list:\n",
    "    insyn_list.append(list(gen_df[gen_df['title_english'] == t]['source_Original'])[0])\n",
    "print(insyn_list)\n",
    "out_list = ['JoJo\\'s Bizarre Adventure: Stardust Crusaders', 'Drifters', \n",
    "            'JoJo\\'s Bizarre Adventure', 'Evangelion: 3.0 You Can (Not) Redo', \n",
    "            'Re:CREATORS']\n",
    "outsyn_list = []\n",
    "for t in out_list:\n",
    "    outsyn_list.append(list(gen_df[gen_df['title_english'] == t]['source_Original'])[0])\n",
    "sumz = 0\n",
    "for syn in outsyn_list:\n",
    "    z = (std_z(syn, avg(insyn_list), f_stdv['source_Original']))\n",
    "    sumz += abs(z)\n",
    "    print(\">> \\t%s, \\t%s\"%(syn,z))\n",
    "\n",
    "print(\"AVG ST.Z: %s\"%(sumz/len(outsyn_list)))\n",
    "print(\"AVG SQ ST.Z: %s\"%(avg_std_z(outsyn_list,avg(insyn_list))))\n",
    "print(\"ABS MEAN DIFF: %s\"%(abs(mean(outsyn_list)-mean(insyn_list))))"
   ]
  }
 ],
 "metadata": {
  "kernelspec": {
   "display_name": "Python 3",
   "language": "python",
   "name": "python3"
  },
  "language_info": {
   "codemirror_mode": {
    "name": "ipython",
    "version": 3
   },
   "file_extension": ".py",
   "mimetype": "text/x-python",
   "name": "python",
   "nbconvert_exporter": "python",
   "pygments_lexer": "ipython3",
   "version": "3.7.6"
  }
 },
 "nbformat": 4,
 "nbformat_minor": 2
}
