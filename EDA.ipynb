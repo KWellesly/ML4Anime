{
 "cells": [
  {
   "cell_type": "markdown",
   "metadata": {},
   "source": [
    "# EDA notebook -- scratchbook to play & understand the data\n",
    "### Feel free to mess around!"
   ]
  },
  {
   "cell_type": "code",
   "execution_count": 153,
   "metadata": {},
   "outputs": [
    {
     "data": {
      "text/html": [
       "<style>.container { width:95% !important; }</style>"
      ],
      "text/plain": [
       "<IPython.core.display.HTML object>"
      ]
     },
     "metadata": {},
     "output_type": "display_data"
    }
   ],
   "source": [
    "import numpy as np\n",
    "import pandas as pd\n",
    "import matplotlib.pyplot as plt\n",
    "from IPython.core.display import display, HTML\n",
    "from pylab import rcParams\n",
    "rcParams['figure.figsize'] = 10, 6\n",
    "display(HTML(\"<style>.container { width:95% !important; }</style>\"))"
   ]
  },
  {
   "cell_type": "code",
   "execution_count": 154,
   "metadata": {},
   "outputs": [
    {
     "ename": "FileNotFoundError",
     "evalue": "[Errno 2] File data/anime-recommendations-database/anime.csv does not exist: 'data/anime-recommendations-database/anime.csv'",
     "output_type": "error",
     "traceback": [
      "\u001b[1;31m---------------------------------------------------------------------------\u001b[0m",
      "\u001b[1;31mFileNotFoundError\u001b[0m                         Traceback (most recent call last)",
      "\u001b[1;32m<ipython-input-154-dc448a4f1fed>\u001b[0m in \u001b[0;36m<module>\u001b[1;34m\u001b[0m\n\u001b[0;32m      1\u001b[0m \u001b[0mroot\u001b[0m \u001b[1;33m=\u001b[0m \u001b[1;34m\"data/anime-recommendations-database/\"\u001b[0m\u001b[1;33m\u001b[0m\u001b[1;33m\u001b[0m\u001b[0m\n\u001b[0;32m      2\u001b[0m \u001b[0mroot2\u001b[0m \u001b[1;33m=\u001b[0m \u001b[1;34m\"data/anime-data-score-staff-synopsis-and-genre/\"\u001b[0m\u001b[1;33m\u001b[0m\u001b[1;33m\u001b[0m\u001b[0m\n\u001b[1;32m----> 3\u001b[1;33m \u001b[0manime_data\u001b[0m \u001b[1;33m=\u001b[0m \u001b[0mpd\u001b[0m\u001b[1;33m.\u001b[0m\u001b[0mread_csv\u001b[0m\u001b[1;33m(\u001b[0m\u001b[0mroot\u001b[0m \u001b[1;33m+\u001b[0m \u001b[1;34m\"anime.csv\"\u001b[0m\u001b[1;33m)\u001b[0m\u001b[1;33m\u001b[0m\u001b[1;33m\u001b[0m\u001b[0m\n\u001b[0m",
      "\u001b[1;32m~\\anaconda3\\lib\\site-packages\\pandas\\io\\parsers.py\u001b[0m in \u001b[0;36mparser_f\u001b[1;34m(filepath_or_buffer, sep, delimiter, header, names, index_col, usecols, squeeze, prefix, mangle_dupe_cols, dtype, engine, converters, true_values, false_values, skipinitialspace, skiprows, skipfooter, nrows, na_values, keep_default_na, na_filter, verbose, skip_blank_lines, parse_dates, infer_datetime_format, keep_date_col, date_parser, dayfirst, cache_dates, iterator, chunksize, compression, thousands, decimal, lineterminator, quotechar, quoting, doublequote, escapechar, comment, encoding, dialect, error_bad_lines, warn_bad_lines, delim_whitespace, low_memory, memory_map, float_precision)\u001b[0m\n\u001b[0;32m    674\u001b[0m         )\n\u001b[0;32m    675\u001b[0m \u001b[1;33m\u001b[0m\u001b[0m\n\u001b[1;32m--> 676\u001b[1;33m         \u001b[1;32mreturn\u001b[0m \u001b[0m_read\u001b[0m\u001b[1;33m(\u001b[0m\u001b[0mfilepath_or_buffer\u001b[0m\u001b[1;33m,\u001b[0m \u001b[0mkwds\u001b[0m\u001b[1;33m)\u001b[0m\u001b[1;33m\u001b[0m\u001b[1;33m\u001b[0m\u001b[0m\n\u001b[0m\u001b[0;32m    677\u001b[0m \u001b[1;33m\u001b[0m\u001b[0m\n\u001b[0;32m    678\u001b[0m     \u001b[0mparser_f\u001b[0m\u001b[1;33m.\u001b[0m\u001b[0m__name__\u001b[0m \u001b[1;33m=\u001b[0m \u001b[0mname\u001b[0m\u001b[1;33m\u001b[0m\u001b[1;33m\u001b[0m\u001b[0m\n",
      "\u001b[1;32m~\\anaconda3\\lib\\site-packages\\pandas\\io\\parsers.py\u001b[0m in \u001b[0;36m_read\u001b[1;34m(filepath_or_buffer, kwds)\u001b[0m\n\u001b[0;32m    446\u001b[0m \u001b[1;33m\u001b[0m\u001b[0m\n\u001b[0;32m    447\u001b[0m     \u001b[1;31m# Create the parser.\u001b[0m\u001b[1;33m\u001b[0m\u001b[1;33m\u001b[0m\u001b[1;33m\u001b[0m\u001b[0m\n\u001b[1;32m--> 448\u001b[1;33m     \u001b[0mparser\u001b[0m \u001b[1;33m=\u001b[0m \u001b[0mTextFileReader\u001b[0m\u001b[1;33m(\u001b[0m\u001b[0mfp_or_buf\u001b[0m\u001b[1;33m,\u001b[0m \u001b[1;33m**\u001b[0m\u001b[0mkwds\u001b[0m\u001b[1;33m)\u001b[0m\u001b[1;33m\u001b[0m\u001b[1;33m\u001b[0m\u001b[0m\n\u001b[0m\u001b[0;32m    449\u001b[0m \u001b[1;33m\u001b[0m\u001b[0m\n\u001b[0;32m    450\u001b[0m     \u001b[1;32mif\u001b[0m \u001b[0mchunksize\u001b[0m \u001b[1;32mor\u001b[0m \u001b[0miterator\u001b[0m\u001b[1;33m:\u001b[0m\u001b[1;33m\u001b[0m\u001b[1;33m\u001b[0m\u001b[0m\n",
      "\u001b[1;32m~\\anaconda3\\lib\\site-packages\\pandas\\io\\parsers.py\u001b[0m in \u001b[0;36m__init__\u001b[1;34m(self, f, engine, **kwds)\u001b[0m\n\u001b[0;32m    878\u001b[0m             \u001b[0mself\u001b[0m\u001b[1;33m.\u001b[0m\u001b[0moptions\u001b[0m\u001b[1;33m[\u001b[0m\u001b[1;34m\"has_index_names\"\u001b[0m\u001b[1;33m]\u001b[0m \u001b[1;33m=\u001b[0m \u001b[0mkwds\u001b[0m\u001b[1;33m[\u001b[0m\u001b[1;34m\"has_index_names\"\u001b[0m\u001b[1;33m]\u001b[0m\u001b[1;33m\u001b[0m\u001b[1;33m\u001b[0m\u001b[0m\n\u001b[0;32m    879\u001b[0m \u001b[1;33m\u001b[0m\u001b[0m\n\u001b[1;32m--> 880\u001b[1;33m         \u001b[0mself\u001b[0m\u001b[1;33m.\u001b[0m\u001b[0m_make_engine\u001b[0m\u001b[1;33m(\u001b[0m\u001b[0mself\u001b[0m\u001b[1;33m.\u001b[0m\u001b[0mengine\u001b[0m\u001b[1;33m)\u001b[0m\u001b[1;33m\u001b[0m\u001b[1;33m\u001b[0m\u001b[0m\n\u001b[0m\u001b[0;32m    881\u001b[0m \u001b[1;33m\u001b[0m\u001b[0m\n\u001b[0;32m    882\u001b[0m     \u001b[1;32mdef\u001b[0m \u001b[0mclose\u001b[0m\u001b[1;33m(\u001b[0m\u001b[0mself\u001b[0m\u001b[1;33m)\u001b[0m\u001b[1;33m:\u001b[0m\u001b[1;33m\u001b[0m\u001b[1;33m\u001b[0m\u001b[0m\n",
      "\u001b[1;32m~\\anaconda3\\lib\\site-packages\\pandas\\io\\parsers.py\u001b[0m in \u001b[0;36m_make_engine\u001b[1;34m(self, engine)\u001b[0m\n\u001b[0;32m   1112\u001b[0m     \u001b[1;32mdef\u001b[0m \u001b[0m_make_engine\u001b[0m\u001b[1;33m(\u001b[0m\u001b[0mself\u001b[0m\u001b[1;33m,\u001b[0m \u001b[0mengine\u001b[0m\u001b[1;33m=\u001b[0m\u001b[1;34m\"c\"\u001b[0m\u001b[1;33m)\u001b[0m\u001b[1;33m:\u001b[0m\u001b[1;33m\u001b[0m\u001b[1;33m\u001b[0m\u001b[0m\n\u001b[0;32m   1113\u001b[0m         \u001b[1;32mif\u001b[0m \u001b[0mengine\u001b[0m \u001b[1;33m==\u001b[0m \u001b[1;34m\"c\"\u001b[0m\u001b[1;33m:\u001b[0m\u001b[1;33m\u001b[0m\u001b[1;33m\u001b[0m\u001b[0m\n\u001b[1;32m-> 1114\u001b[1;33m             \u001b[0mself\u001b[0m\u001b[1;33m.\u001b[0m\u001b[0m_engine\u001b[0m \u001b[1;33m=\u001b[0m \u001b[0mCParserWrapper\u001b[0m\u001b[1;33m(\u001b[0m\u001b[0mself\u001b[0m\u001b[1;33m.\u001b[0m\u001b[0mf\u001b[0m\u001b[1;33m,\u001b[0m \u001b[1;33m**\u001b[0m\u001b[0mself\u001b[0m\u001b[1;33m.\u001b[0m\u001b[0moptions\u001b[0m\u001b[1;33m)\u001b[0m\u001b[1;33m\u001b[0m\u001b[1;33m\u001b[0m\u001b[0m\n\u001b[0m\u001b[0;32m   1115\u001b[0m         \u001b[1;32melse\u001b[0m\u001b[1;33m:\u001b[0m\u001b[1;33m\u001b[0m\u001b[1;33m\u001b[0m\u001b[0m\n\u001b[0;32m   1116\u001b[0m             \u001b[1;32mif\u001b[0m \u001b[0mengine\u001b[0m \u001b[1;33m==\u001b[0m \u001b[1;34m\"python\"\u001b[0m\u001b[1;33m:\u001b[0m\u001b[1;33m\u001b[0m\u001b[1;33m\u001b[0m\u001b[0m\n",
      "\u001b[1;32m~\\anaconda3\\lib\\site-packages\\pandas\\io\\parsers.py\u001b[0m in \u001b[0;36m__init__\u001b[1;34m(self, src, **kwds)\u001b[0m\n\u001b[0;32m   1889\u001b[0m         \u001b[0mkwds\u001b[0m\u001b[1;33m[\u001b[0m\u001b[1;34m\"usecols\"\u001b[0m\u001b[1;33m]\u001b[0m \u001b[1;33m=\u001b[0m \u001b[0mself\u001b[0m\u001b[1;33m.\u001b[0m\u001b[0musecols\u001b[0m\u001b[1;33m\u001b[0m\u001b[1;33m\u001b[0m\u001b[0m\n\u001b[0;32m   1890\u001b[0m \u001b[1;33m\u001b[0m\u001b[0m\n\u001b[1;32m-> 1891\u001b[1;33m         \u001b[0mself\u001b[0m\u001b[1;33m.\u001b[0m\u001b[0m_reader\u001b[0m \u001b[1;33m=\u001b[0m \u001b[0mparsers\u001b[0m\u001b[1;33m.\u001b[0m\u001b[0mTextReader\u001b[0m\u001b[1;33m(\u001b[0m\u001b[0msrc\u001b[0m\u001b[1;33m,\u001b[0m \u001b[1;33m**\u001b[0m\u001b[0mkwds\u001b[0m\u001b[1;33m)\u001b[0m\u001b[1;33m\u001b[0m\u001b[1;33m\u001b[0m\u001b[0m\n\u001b[0m\u001b[0;32m   1892\u001b[0m         \u001b[0mself\u001b[0m\u001b[1;33m.\u001b[0m\u001b[0munnamed_cols\u001b[0m \u001b[1;33m=\u001b[0m \u001b[0mself\u001b[0m\u001b[1;33m.\u001b[0m\u001b[0m_reader\u001b[0m\u001b[1;33m.\u001b[0m\u001b[0munnamed_cols\u001b[0m\u001b[1;33m\u001b[0m\u001b[1;33m\u001b[0m\u001b[0m\n\u001b[0;32m   1893\u001b[0m \u001b[1;33m\u001b[0m\u001b[0m\n",
      "\u001b[1;32mpandas\\_libs\\parsers.pyx\u001b[0m in \u001b[0;36mpandas._libs.parsers.TextReader.__cinit__\u001b[1;34m()\u001b[0m\n",
      "\u001b[1;32mpandas\\_libs\\parsers.pyx\u001b[0m in \u001b[0;36mpandas._libs.parsers.TextReader._setup_parser_source\u001b[1;34m()\u001b[0m\n",
      "\u001b[1;31mFileNotFoundError\u001b[0m: [Errno 2] File data/anime-recommendations-database/anime.csv does not exist: 'data/anime-recommendations-database/anime.csv'"
     ]
    }
   ],
   "source": [
    "root = \"data/anime-recommendations-database/\"\n",
    "root2 = \"data/anime-data-score-staff-synopsis-and-genre/\"\n",
    "anime_data = pd.read_csv(root + \"anime.csv\")"
   ]
  },
  {
   "cell_type": "code",
   "execution_count": null,
   "metadata": {},
   "outputs": [],
   "source": [
    "print (anime_data.shape)\n",
    "anime_data.head(10)"
   ]
  },
  {
   "cell_type": "code",
   "execution_count": null,
   "metadata": {},
   "outputs": [],
   "source": [
    "rating_data = pd.read_csv(root + \"rating.csv\")"
   ]
  },
  {
   "cell_type": "code",
   "execution_count": null,
   "metadata": {},
   "outputs": [],
   "source": [
    "print (rating_data.shape)\n",
    "rating_data.head(10)"
   ]
  },
  {
   "cell_type": "code",
   "execution_count": null,
   "metadata": {},
   "outputs": [],
   "source": [
    "plt.plot(rating_data.rating.value_counts())"
   ]
  },
  {
   "cell_type": "code",
   "execution_count": 155,
   "metadata": {},
   "outputs": [
    {
     "ename": "NameError",
     "evalue": "name 'rating_data' is not defined",
     "output_type": "error",
     "traceback": [
      "\u001b[1;31m---------------------------------------------------------------------------\u001b[0m",
      "\u001b[1;31mNameError\u001b[0m                                 Traceback (most recent call last)",
      "\u001b[1;32m<ipython-input-155-39a6e84fa853>\u001b[0m in \u001b[0;36m<module>\u001b[1;34m\u001b[0m\n\u001b[0;32m      1\u001b[0m \u001b[1;31m# Seems like there are a ton of -1 ratings (where people didn't rate). May be worthwhile to delete all of them (>1.4M data)\u001b[0m\u001b[1;33m\u001b[0m\u001b[1;33m\u001b[0m\u001b[1;33m\u001b[0m\u001b[0m\n\u001b[1;32m----> 2\u001b[1;33m \u001b[0mrating_data\u001b[0m\u001b[1;33m.\u001b[0m\u001b[0mrating\u001b[0m\u001b[1;33m.\u001b[0m\u001b[0mvalue_counts\u001b[0m\u001b[1;33m(\u001b[0m\u001b[1;33m)\u001b[0m\u001b[1;33m.\u001b[0m\u001b[0mplot\u001b[0m\u001b[1;33m(\u001b[0m\u001b[0mkind\u001b[0m\u001b[1;33m=\u001b[0m\u001b[1;34m'bar'\u001b[0m\u001b[1;33m)\u001b[0m\u001b[1;33m\u001b[0m\u001b[1;33m\u001b[0m\u001b[0m\n\u001b[0m\u001b[0;32m      3\u001b[0m \u001b[0mplt\u001b[0m\u001b[1;33m.\u001b[0m\u001b[0mshow\u001b[0m\u001b[1;33m(\u001b[0m\u001b[1;33m)\u001b[0m\u001b[1;33m\u001b[0m\u001b[1;33m\u001b[0m\u001b[0m\n",
      "\u001b[1;31mNameError\u001b[0m: name 'rating_data' is not defined"
     ]
    }
   ],
   "source": [
    "# Seems like there are a ton of -1 ratings (where people didn't rate). May be worthwhile to delete all of them (>1.4M data) \n",
    "rating_data.rating.value_counts().plot(kind='bar')\n",
    "plt.show()"
   ]
  },
  {
   "cell_type": "code",
   "execution_count": null,
   "metadata": {},
   "outputs": [],
   "source": [
    "# lol, the anime with the most ratings is deathnote\n",
    "rating_data.anime_id.value_counts()[:50].plot(kind='bar')\n",
    "plt.show()"
   ]
  },
  {
   "cell_type": "code",
   "execution_count": null,
   "metadata": {},
   "outputs": [],
   "source": [
    "top_50_frequently_rated = list(rating_data.anime_id.value_counts()[:25].keys())"
   ]
  },
  {
   "cell_type": "code",
   "execution_count": null,
   "metadata": {},
   "outputs": [],
   "source": [
    "anime_data[anime_data['anime_id'].isin(top_50_frequently_rated)]"
   ]
  },
  {
   "cell_type": "code",
   "execution_count": null,
   "metadata": {},
   "outputs": [],
   "source": [
    "new_df = pd.read_csv(root2 + \"dataanime.csv\")"
   ]
  },
  {
   "cell_type": "code",
   "execution_count": null,
   "metadata": {},
   "outputs": [],
   "source": [
    "print (new_df.shape)\n",
    "new_df.head()"
   ]
  },
  {
   "cell_type": "code",
   "execution_count": null,
   "metadata": {},
   "outputs": [],
   "source": [
    "new_df = pd.read_csv(\"data/tidy_anime.csv\")"
   ]
  },
  {
   "cell_type": "code",
   "execution_count": null,
   "metadata": {},
   "outputs": [],
   "source": [
    "print(new_df.shape)\n",
    "new_df.head()"
   ]
  },
  {
   "cell_type": "code",
   "execution_count": 156,
   "metadata": {},
   "outputs": [
    {
     "ename": "NameError",
     "evalue": "name 'new_df' is not defined",
     "output_type": "error",
     "traceback": [
      "\u001b[1;31m---------------------------------------------------------------------------\u001b[0m",
      "\u001b[1;31mNameError\u001b[0m                                 Traceback (most recent call last)",
      "\u001b[1;32m<ipython-input-156-7e5ebc33d76f>\u001b[0m in \u001b[0;36m<module>\u001b[1;34m\u001b[0m\n\u001b[1;32m----> 1\u001b[1;33m \u001b[0mnew_df\u001b[0m\u001b[1;33m.\u001b[0m\u001b[0mcolumns\u001b[0m\u001b[1;33m.\u001b[0m\u001b[0mtolist\u001b[0m\u001b[1;33m(\u001b[0m\u001b[1;33m)\u001b[0m\u001b[1;33m\u001b[0m\u001b[1;33m\u001b[0m\u001b[0m\n\u001b[0m",
      "\u001b[1;31mNameError\u001b[0m: name 'new_df' is not defined"
     ]
    }
   ],
   "source": [
    "new_df.columns.tolist()"
   ]
  },
  {
   "cell_type": "code",
   "execution_count": null,
   "metadata": {},
   "outputs": [],
   "source": [
    "desired_cols = ['animeID', 'title_english', 'type', 'source', 'producers', 'genre', 'studio',\n",
    "               'episodes', 'premiered', 'rating', 'score', 'scored_by', 'rank', 'popularity',\n",
    "               'members', 'favorites', 'synopsis', 'background']\n",
    "new_df[desired_cols].head()"
   ]
  },
  {
   "cell_type": "code",
   "execution_count": null,
   "metadata": {},
   "outputs": [],
   "source": []
  },
  {
   "cell_type": "markdown",
   "metadata": {},
   "source": [
    "# Join the datasets, clean\n",
    "\n",
    "* Rename rating column (duplicated)\n",
    "* Join anime_data and rating_data on anime_id\n",
    "* Remove all ratings of -1"
   ]
  },
  {
   "cell_type": "code",
   "execution_count": null,
   "metadata": {},
   "outputs": [],
   "source": [
    "anime_data = anime_data.rename(columns={\"rating\": \"overall_rating\"})\n",
    "anime_data.head()"
   ]
  },
  {
   "cell_type": "code",
   "execution_count": null,
   "metadata": {},
   "outputs": [],
   "source": [
    "rating_data = rating_data.rename(columns={\"rating\": \"user_rating\"})\n",
    "rating_data.head()"
   ]
  },
  {
   "cell_type": "code",
   "execution_count": null,
   "metadata": {},
   "outputs": [],
   "source": [
    "merged_df = pd.merge(anime_data, rating_data, on='anime_id')\n",
    "merged_df.head()"
   ]
  },
  {
   "cell_type": "code",
   "execution_count": null,
   "metadata": {},
   "outputs": [],
   "source": [
    "out_df = pd.read_csv('data/relevant_output_data.csv')\n",
    "out_df = out_df.drop(columns=['Unnamed: 0'])\n",
    "out_df.head()"
   ]
  },
  {
   "cell_type": "code",
   "execution_count": null,
   "metadata": {},
   "outputs": [],
   "source": [
    "gen_df = pd.read_csv('data/model_training_data.csv')\n",
    "gen_df = gen_df.drop(columns=['Unnamed: 0'])\n",
    "gen_df.head()"
   ]
  },
  {
   "cell_type": "code",
   "execution_count": 157,
   "metadata": {},
   "outputs": [],
   "source": [
    "def std_z(x, avg, n):\n",
    "    return (x-avg)/n\n",
    "\n",
    "def avg_std_z(xs, avg):\n",
    "    sum = 0\n",
    "    for x in xs:\n",
    "        sum += (x-avg)**2\n",
    "    return (sum/len(xs))**(1/2)\n",
    "\n",
    "def avg(vals):\n",
    "    if(len(vals) == 1):\n",
    "        return vals[0]\n",
    "    return sum(vals)/len(vals)"
   ]
  },
  {
   "cell_type": "code",
   "execution_count": 158,
   "metadata": {},
   "outputs": [
    {
     "name": "stdout",
     "output_type": "stream",
     "text": [
      "Centuries ago, mankind was slaughtered to near extinction by monstrous humanoid creatures called titans, forcing humans to hide in fear behind enormous concentric walls. What makes these giants truly terrifying is that their taste for human flesh is not born out of hunger but what appears to be out ...\n",
      ">> \tIn the year 2022, virtual reality has progressed by leaps and bounds, and a massive online role-playing game called Sword Art Online (SAO) is launched. With the aid of \"NerveGear\" technology, players can control their avatars within the game using nothing but their own thoughts. Kazuto Kirigaya, nic...\n",
      ">> \tFive years after winning the World Martial Arts tournament, Gokuu is now living a peaceful life with his wife and son. This changes, however, with the arrival of a mysterious enemy named Raditz who presents himself as Gokuu's long-lost brother. He reveals that Gokuu is a warrior from the once powerf...\n",
      ">> \tOne year has passed since the Black Rebellion, a failed uprising against the Holy Britannian Empire led by the masked vigilante Zero, who is now missing. At a loss without their revolutionary leader, Area 11's resistance group—the Black Knights—find themselves too powerless to combat the brutality i...\n",
      ">> \tA shinigami, as a god of death, can kill any person—provided they see their victim's face and write their victim's name in a notebook called a Death Note. One day, Ryuk, bored by the shinigami lifestyle and interested in seeing how a human would use a Death Note, drops one into the human realm. High...\n",
      ">> \tThe seemingly ordinary and unimpressive Saitama has a rather unique hobby: being a hero. In order to pursue his childhood dream, he trained relentlessly for three years—and lost all of his hair in the process. Now, Saitama is incredibly powerful, so much so that no enemy is able to defeat him in bat...\n"
     ]
    }
   ],
   "source": [
    "# from data_modeling EXAMPLE 1 (Cosine, un-normalized), ['Attack on Titan'] input,\n",
    "# ['Sword Art Online', 'Dragon Ball Z', 'Code Geass: Lelouch of the Rebellion R2', \n",
    "#  'Death Note', 'One Punch Man'] output\n",
    "in_list = ['Attack on Titan']\n",
    "insyn_list = list(out_df[out_df['title_english'].isin(in_list)]['synopsis'])\n",
    "for syn in insyn_list:\n",
    "    print(syn[:300]+\"...\")\n",
    "out_list = ['Sword Art Online', 'Dragon Ball Z', 'Code Geass: Lelouch of the Rebellion R2', 'Death Note', 'One Punch Man']\n",
    "outsyn_list = []\n",
    "for t in out_list:\n",
    "    outsyn_list.append(list(out_df[out_df['title_english'] == t]['synopsis'])[0])\n",
    "for syn in outsyn_list:\n",
    "    print('>> \\t%s'%(syn[:300]+\"...\"))"
   ]
  },
  {
   "cell_type": "code",
   "execution_count": 159,
   "metadata": {},
   "outputs": [
    {
     "name": "stdout",
     "output_type": "stream",
     "text": [
      "1038161\n",
      ">> \t1007035, \t-6225.2\n",
      ">> \t402779, \t-127076.4\n",
      ">> \t591272, \t-89377.8\n",
      ">> \t1107955, \t13958.8\n",
      ">> \t806647, \t-46302.8\n",
      "AVG ST.Z: 56588.2\n",
      "AVG SQ ST.Z: 364104.0584099551\n"
     ]
    }
   ],
   "source": [
    "# SCORED_BY\n",
    "# from data_modeling EXAMPLE 1 (Cosine, un-normalized), ['Attack on Titan'] input,\n",
    "# ['Sword Art Online', 'Dragon Ball Z', 'Code Geass: Lelouch of the Rebellion R2', \n",
    "#  'Death Note', 'One Punch Man'] output\n",
    "in_list = ['Attack on Titan']\n",
    "insyn_list = list(gen_df[gen_df['title_english'].isin(in_list)]['scored_by'])\n",
    "for syn in insyn_list:\n",
    "    print(syn)\n",
    "out_list = ['Sword Art Online', 'Dragon Ball Z', 'Code Geass: Lelouch of the Rebellion R2', 'Death Note', 'One Punch Man']\n",
    "outsyn_list = []\n",
    "for t in out_list:\n",
    "    outsyn_list.append(list(gen_df[gen_df['title_english'] == t]['scored_by'])[0])\n",
    "sumz = 0\n",
    "for syn in outsyn_list:\n",
    "    z = (std_z(syn, avg(insyn_list), len(outsyn_list)))\n",
    "    sumz += abs(z)\n",
    "    print(\">> \\t%s, \\t%s\"%(syn,z))\n",
    "\n",
    "print(\"AVG ST.Z: %s\"%(sumz/len(outsyn_list)))\n",
    "print(\"AVG SQ ST.Z: %s\"%(avg_std_z(outsyn_list,avg(insyn_list))))"
   ]
  },
  {
   "cell_type": "code",
   "execution_count": 160,
   "metadata": {},
   "outputs": [
    {
     "name": "stdout",
     "output_type": "stream",
     "text": [
      "2\n",
      ">> \t3, \t0.2\n",
      ">> \t71, \t13.8\n",
      ">> \t24, \t4.4\n",
      ">> \t1, \t-0.2\n",
      ">> \t5, \t0.6\n",
      "AVG ST.Z: 3.84\n",
      "AVG SQ ST.Z: 32.42221460665511\n"
     ]
    }
   ],
   "source": [
    "# POPULARITY\n",
    "# from data_modeling EXAMPLE 1 (Cosine, un-normalized), ['Attack on Titan'] input,\n",
    "# ['Sword Art Online', 'Dragon Ball Z', 'Code Geass: Lelouch of the Rebellion R2', \n",
    "#  'Death Note', 'One Punch Man'] output\n",
    "in_list = ['Attack on Titan']\n",
    "insyn_list = list(gen_df[gen_df['title_english'].isin(in_list)]['popularity'])\n",
    "for syn in insyn_list:\n",
    "    print(syn)\n",
    "out_list = ['Sword Art Online', 'Dragon Ball Z', 'Code Geass: Lelouch of the Rebellion R2', 'Death Note', 'One Punch Man']\n",
    "outsyn_list = []\n",
    "for t in out_list:\n",
    "    outsyn_list.append(list(gen_df[gen_df['title_english'] == t]['popularity'])[0])\n",
    "sumz = 0\n",
    "for syn in outsyn_list:\n",
    "    z = (std_z(syn, avg(insyn_list), len(outsyn_list)))\n",
    "    sumz += abs(z)\n",
    "    print(\">> \\t%s, \\t%s\"%(syn,z))\n",
    "\n",
    "print(\"AVG ST.Z: %s\"%(sumz/len(outsyn_list)))\n",
    "print(\"AVG SQ ST.Z: %s\"%(avg_std_z(outsyn_list,avg(insyn_list))))"
   ]
  },
  {
   "cell_type": "code",
   "execution_count": 161,
   "metadata": {},
   "outputs": [
    {
     "name": "stdout",
     "output_type": "stream",
     "text": [
      "25.0\n",
      ">> \t25.0, \t0.0\n",
      ">> \t291.0, \t53.2\n",
      ">> \t25.0, \t0.0\n",
      ">> \t37.0, \t2.4\n",
      ">> \t12.0, \t-2.6\n",
      "AVG ST.Z: 11.64\n",
      "AVG SQ ST.Z: 119.22164233057687\n"
     ]
    }
   ],
   "source": [
    "# EPISODES\n",
    "# from data_modeling EXAMPLE 1 (Cosine, un-normalized), ['Attack on Titan'] input,\n",
    "# ['Sword Art Online', 'Dragon Ball Z', 'Code Geass: Lelouch of the Rebellion R2', \n",
    "#  'Death Note', 'One Punch Man'] output\n",
    "in_list = ['Attack on Titan']\n",
    "insyn_list = list(gen_df[gen_df['title_english'].isin(in_list)]['episodes'])\n",
    "for syn in insyn_list:\n",
    "    print(syn)\n",
    "out_list = ['Sword Art Online', 'Dragon Ball Z', 'Code Geass: Lelouch of the Rebellion R2', 'Death Note', 'One Punch Man']\n",
    "outsyn_list = []\n",
    "for t in out_list:\n",
    "    outsyn_list.append(list(gen_df[gen_df['title_english'] == t]['episodes'])[0])\n",
    "sumz = 0\n",
    "for syn in outsyn_list:\n",
    "    z = (std_z(syn, avg(insyn_list), len(outsyn_list)))\n",
    "    sumz += abs(z)\n",
    "    print(\">> \\t%s, \\t%s\"%(syn,z))\n",
    "\n",
    "print(\"AVG ST.Z: %s\"%(sumz/len(outsyn_list)))\n",
    "print(\"AVG SQ ST.Z: %s\"%(avg_std_z(outsyn_list,avg(insyn_list))))"
   ]
  },
  {
   "cell_type": "code",
   "execution_count": 162,
   "metadata": {},
   "outputs": [
    {
     "name": "stdout",
     "output_type": "stream",
     "text": [
      "116\n",
      ">> \t1440, \t264.8\n",
      ">> \t249, \t26.6\n",
      ">> \t17, \t-19.8\n",
      ">> \t54, \t-12.4\n",
      ">> \t46, \t-14.0\n",
      "AVG ST.Z: 67.52000000000001\n",
      "AVG SQ ST.Z: 598.1989635564408\n"
     ]
    }
   ],
   "source": [
    "# RANK\n",
    "# from data_modeling EXAMPLE 1 (Cosine, un-normalized), ['Attack on Titan'] input,\n",
    "# ['Sword Art Online', 'Dragon Ball Z', 'Code Geass: Lelouch of the Rebellion R2', \n",
    "#  'Death Note', 'One Punch Man'] output\n",
    "in_list = ['Attack on Titan']\n",
    "insyn_list = list(gen_df[gen_df['title_english'].isin(in_list)]['rank'])\n",
    "for syn in insyn_list:\n",
    "    print(syn)\n",
    "out_list = ['Sword Art Online', 'Dragon Ball Z', 'Code Geass: Lelouch of the Rebellion R2', 'Death Note', 'One Punch Man']\n",
    "outsyn_list = []\n",
    "for t in out_list:\n",
    "    outsyn_list.append(list(gen_df[gen_df['title_english'] == t]['rank'])[0])\n",
    "sumz = 0\n",
    "for syn in outsyn_list:\n",
    "    z = (std_z(syn, avg(insyn_list), len(outsyn_list)))\n",
    "    sumz += abs(z)\n",
    "    print(\">> \\t%s, \\t%s\"%(syn,z))\n",
    "\n",
    "print(\"AVG ST.Z: %s\"%(sumz/len(outsyn_list)))\n",
    "print(\"AVG SQ ST.Z: %s\"%(avg_std_z(outsyn_list,avg(insyn_list))))"
   ]
  },
  {
   "cell_type": "code",
   "execution_count": 163,
   "metadata": {},
   "outputs": [
    {
     "name": "stdout",
     "output_type": "stream",
     "text": [
      "1500958\n",
      ">> \t1442099, \t-11771.8\n",
      ">> \t591990, \t-181793.6\n",
      ">> \t869302, \t-126331.2\n",
      ">> \t1610561, \t21920.6\n",
      ">> \t1195384, \t-61114.8\n",
      "AVG ST.Z: 80586.4\n",
      "AVG SQ ST.Z: 516539.4072722816\n"
     ]
    }
   ],
   "source": [
    "# MEMBERS\n",
    "# from data_modeling EXAMPLE 1 (Cosine, un-normalized), ['Attack on Titan'] input,\n",
    "# ['Sword Art Online', 'Dragon Ball Z', 'Code Geass: Lelouch of the Rebellion R2', \n",
    "#  'Death Note', 'One Punch Man'] output\n",
    "in_list = ['Attack on Titan']\n",
    "insyn_list = list(gen_df[gen_df['title_english'].isin(in_list)]['members'])\n",
    "for syn in insyn_list:\n",
    "    print(syn)\n",
    "out_list = ['Sword Art Online', 'Dragon Ball Z', 'Code Geass: Lelouch of the Rebellion R2', 'Death Note', 'One Punch Man']\n",
    "outsyn_list = []\n",
    "for t in out_list:\n",
    "    outsyn_list.append(list(gen_df[gen_df['title_english'] == t]['members'])[0])\n",
    "sumz = 0\n",
    "for syn in outsyn_list:\n",
    "    z = (std_z(syn, avg(insyn_list), len(outsyn_list)))\n",
    "    sumz += abs(z)\n",
    "    print(\">> \\t%s, \\t%s\"%(syn,z))\n",
    "\n",
    "print(\"AVG ST.Z: %s\"%(sumz/len(outsyn_list)))\n",
    "print(\"AVG SQ ST.Z: %s\"%(avg_std_z(outsyn_list,avg(insyn_list))))"
   ]
  },
  {
   "cell_type": "code",
   "execution_count": 164,
   "metadata": {},
   "outputs": [
    {
     "name": "stdout",
     "output_type": "stream",
     "text": [
      "70555\n",
      ">> \t53268, \t-3457.4\n",
      ">> \t23468, \t-9417.4\n",
      ">> \t47637, \t-4583.6\n",
      ">> \t96146, \t5118.2\n",
      ">> \t35969, \t-6917.2\n",
      "AVG ST.Z: 5898.76\n",
      "AVG SQ ST.Z: 31280.509391632353\n"
     ]
    }
   ],
   "source": [
    "# FAVORITES\n",
    "# from data_modeling EXAMPLE 1 (Cosine, un-normalized), ['Attack on Titan'] input,\n",
    "# ['Sword Art Online', 'Dragon Ball Z', 'Code Geass: Lelouch of the Rebellion R2', \n",
    "#  'Death Note', 'One Punch Man'] output\n",
    "in_list = ['Attack on Titan']\n",
    "insyn_list = list(gen_df[gen_df['title_english'].isin(in_list)]['favorites'])\n",
    "for syn in insyn_list:\n",
    "    print(syn)\n",
    "out_list = ['Sword Art Online', 'Dragon Ball Z', 'Code Geass: Lelouch of the Rebellion R2', 'Death Note', 'One Punch Man']\n",
    "outsyn_list = []\n",
    "for t in out_list:\n",
    "    outsyn_list.append(list(gen_df[gen_df['title_english'] == t]['favorites'])[0])\n",
    "sumz = 0\n",
    "for syn in outsyn_list:\n",
    "    z = (std_z(syn, avg(insyn_list), len(outsyn_list)))\n",
    "    sumz += abs(z)\n",
    "    print(\">> \\t%s, \\t%s\"%(syn,z))\n",
    "\n",
    "print(\"AVG ST.Z: %s\"%(sumz/len(outsyn_list)))\n",
    "print(\"AVG SQ ST.Z: %s\"%(avg_std_z(outsyn_list,avg(insyn_list))))"
   ]
  },
  {
   "cell_type": "code",
   "execution_count": 165,
   "metadata": {},
   "outputs": [
    {
     "name": "stdout",
     "output_type": "stream",
     "text": [
      "Centuries ago, mankind was slaughtered to near extinction by monstrous humanoid creatures called titans, forcing humans to hide in fear behind enormous concentric walls. What makes these giants truly terrifying is that their taste for human flesh is not born out of hunger but what appears to be out ...\n",
      ">> \tFor centuries, humanity has been hunted by giant, mysterious predators known as the Titans. Three mighty walls—Wall Maria, Rose, and Sheena—provided peace and protection for humanity for over a hundred years. That peace, however, was shattered when the Colossus Titan and Armored Titan appeared and d...\n",
      ">> \t\"In order for something to be obtained, something of equal value must be lost.\" Alchemy is bound by this Law of Equivalent Exchange—something the young brothers Edward and Alphonse Elric only realize after attempting human transmutation: the one forbidden act of alchemy. They pay a terrible price fo...\n",
      ">> \tA shinigami, as a god of death, can kill any person—provided they see their victim's face and write their victim's name in a notebook called a Death Note. One day, Ryuk, bored by the shinigami lifestyle and interested in seeing how a human would use a Death Note, drops one into the human realm. High...\n",
      ">> \tIn the year 2010, the Holy Empire of Britannia is establishing itself as a dominant military nation, starting with the conquest of Japan. Renamed to Area 11 after its swift defeat, Japan has seen significant resistance against these tyrants in an attempt to regain independence. Lelouch Lamperouge, a...\n",
      ">> \tOne year has passed since the Black Rebellion, a failed uprising against the Holy Britannian Empire led by the masked vigilante Zero, who is now missing. At a loss without their revolutionary leader, Area 11's resistance group—the Black Knights—find themselves too powerless to combat the brutality i...\n"
     ]
    }
   ],
   "source": [
    "# from data_modeling EXAMPLE 1 (Cosine, normalized), ['Attack on Titan'] input,\n",
    "# ['Attack on Titan Season 2', 'Fullmetal Alchemist: Brotherhood', 'Death Note',\n",
    "# 'Code Geass: Lelouch of the Rebellion', 'Code Geass: Lelouch of the Rebellion R2'] output\n",
    "in_list = ['Attack on Titan']\n",
    "insyn_list = list(out_df[out_df['title_english'].isin(in_list)]['synopsis'])\n",
    "for syn in insyn_list:\n",
    "    print(syn[:300]+\"...\")\n",
    "out_list = ['Attack on Titan Season 2', 'Fullmetal Alchemist: Brotherhood', 'Death Note',\n",
    "            'Code Geass: Lelouch of the Rebellion', 'Code Geass: Lelouch of the Rebellion R2']\n",
    "outsyn_list = []\n",
    "for t in out_list:\n",
    "    outsyn_list.append(list(out_df[out_df['title_english'] == t]['synopsis'])[0])\n",
    "for syn in outsyn_list:\n",
    "    print('>> \\t%s'%(syn[:300]+\"...\"))"
   ]
  },
  {
   "cell_type": "code",
   "execution_count": 166,
   "metadata": {},
   "outputs": [
    {
     "name": "stdout",
     "output_type": "stream",
     "text": [
      "1038161\n",
      ">> \t439965, \t-119639.2\n",
      ">> \t826899, \t-42252.4\n",
      ">> \t1107955, \t13958.8\n",
      ">> \t681621, \t-71308.0\n",
      ">> \t591272, \t-89377.8\n",
      "AVG ST.Z: 67307.24\n",
      "AVG SQ ST.Z: 383189.72831144626\n"
     ]
    }
   ],
   "source": [
    "# SCORED_BY\n",
    "# from data_modeling EXAMPLE 1 (Cosine, un-normalized), ['Attack on Titan'] input,\n",
    "# ['Sword Art Online', 'Dragon Ball Z', 'Code Geass: Lelouch of the Rebellion R2', \n",
    "#  'Death Note', 'One Punch Man'] output\n",
    "in_list = ['Attack on Titan']\n",
    "insyn_list = list(gen_df[gen_df['title_english'].isin(in_list)]['scored_by'])\n",
    "for syn in insyn_list:\n",
    "    print(syn)\n",
    "out_list = ['Attack on Titan Season 2', 'Fullmetal Alchemist: Brotherhood', 'Death Note',\n",
    "            'Code Geass: Lelouch of the Rebellion', 'Code Geass: Lelouch of the Rebellion R2']\n",
    "outsyn_list = []\n",
    "for t in out_list:\n",
    "    outsyn_list.append(list(gen_df[gen_df['title_english'] == t]['scored_by'])[0])\n",
    "sumz = 0\n",
    "for syn in outsyn_list:\n",
    "    z = (std_z(syn, avg(insyn_list), len(outsyn_list)))\n",
    "    sumz += abs(z)\n",
    "    print(\">> \\t%s, \\t%s\"%(syn,z))\n",
    "\n",
    "print(\"AVG ST.Z: %s\"%(sumz/len(outsyn_list)))\n",
    "print(\"AVG SQ ST.Z: %s\"%(avg_std_z(outsyn_list,avg(insyn_list))))"
   ]
  },
  {
   "cell_type": "code",
   "execution_count": 167,
   "metadata": {},
   "outputs": [
    {
     "name": "stdout",
     "output_type": "stream",
     "text": [
      "2\n",
      ">> \t41, \t7.8\n",
      ">> \t4, \t0.4\n",
      ">> \t1, \t-0.2\n",
      ">> \t11, \t1.8\n",
      ">> \t24, \t4.4\n",
      "AVG ST.Z: 2.92\n",
      "AVG SQ ST.Z: 20.449938875214272\n"
     ]
    }
   ],
   "source": [
    "# POPULARITY\n",
    "# from data_modeling EXAMPLE 1 (Cosine, un-normalized), ['Attack on Titan'] input,\n",
    "# ['Sword Art Online', 'Dragon Ball Z', 'Code Geass: Lelouch of the Rebellion R2', \n",
    "#  'Death Note', 'One Punch Man'] output\n",
    "in_list = ['Attack on Titan']\n",
    "insyn_list = list(gen_df[gen_df['title_english'].isin(in_list)]['popularity'])\n",
    "for syn in insyn_list:\n",
    "    print(syn)\n",
    "out_list = ['Attack on Titan Season 2', 'Fullmetal Alchemist: Brotherhood', 'Death Note',\n",
    "            'Code Geass: Lelouch of the Rebellion', 'Code Geass: Lelouch of the Rebellion R2']\n",
    "outsyn_list = []\n",
    "for t in out_list:\n",
    "    outsyn_list.append(list(gen_df[gen_df['title_english'] == t]['popularity'])[0])\n",
    "sumz = 0\n",
    "for syn in outsyn_list:\n",
    "    z = (std_z(syn, avg(insyn_list), len(outsyn_list)))\n",
    "    sumz += abs(z)\n",
    "    print(\">> \\t%s, \\t%s\"%(syn,z))\n",
    "\n",
    "print(\"AVG ST.Z: %s\"%(sumz/len(outsyn_list)))\n",
    "print(\"AVG SQ ST.Z: %s\"%(avg_std_z(outsyn_list,avg(insyn_list))))"
   ]
  },
  {
   "cell_type": "code",
   "execution_count": 168,
   "metadata": {},
   "outputs": [
    {
     "name": "stdout",
     "output_type": "stream",
     "text": [
      "25.0\n",
      ">> \t12.0, \t-2.6\n",
      ">> \t64.0, \t7.8\n",
      ">> \t37.0, \t2.4\n",
      ">> \t25.0, \t0.0\n",
      ">> \t25.0, \t0.0\n",
      "AVG ST.Z: 2.56\n",
      "AVG SQ ST.Z: 19.15202339179858\n"
     ]
    }
   ],
   "source": [
    "# EPISODES\n",
    "# from data_modeling EXAMPLE 1 (Cosine, un-normalized), ['Attack on Titan'] input,\n",
    "# ['Sword Art Online', 'Dragon Ball Z', 'Code Geass: Lelouch of the Rebellion R2', \n",
    "#  'Death Note', 'One Punch Man'] output\n",
    "in_list = ['Attack on Titan']\n",
    "insyn_list = list(gen_df[gen_df['title_english'].isin(in_list)]['episodes'])\n",
    "for syn in insyn_list:\n",
    "    print(syn)\n",
    "out_list = ['Attack on Titan Season 2', 'Fullmetal Alchemist: Brotherhood', 'Death Note',\n",
    "            'Code Geass: Lelouch of the Rebellion', 'Code Geass: Lelouch of the Rebellion R2']\n",
    "outsyn_list = []\n",
    "for t in out_list:\n",
    "    outsyn_list.append(list(gen_df[gen_df['title_english'] == t]['episodes'])[0])\n",
    "sumz = 0\n",
    "for syn in outsyn_list:\n",
    "    z = (std_z(syn, avg(insyn_list), len(outsyn_list)))\n",
    "    sumz += abs(z)\n",
    "    print(\">> \\t%s, \\t%s\"%(syn,z))\n",
    "\n",
    "print(\"AVG ST.Z: %s\"%(sumz/len(outsyn_list)))\n",
    "print(\"AVG SQ ST.Z: %s\"%(avg_std_z(outsyn_list,avg(insyn_list))))"
   ]
  },
  {
   "cell_type": "code",
   "execution_count": 169,
   "metadata": {},
   "outputs": [
    {
     "name": "stdout",
     "output_type": "stream",
     "text": [
      "116\n",
      ">> \t143, \t5.4\n",
      ">> \t1, \t-23.0\n",
      ">> \t54, \t-12.4\n",
      ">> \t32, \t-16.8\n",
      ">> \t17, \t-19.8\n",
      "AVG ST.Z: 15.479999999999999\n",
      "AVG SQ ST.Z: 83.25262758616091\n"
     ]
    }
   ],
   "source": [
    "# RANK\n",
    "# from data_modeling EXAMPLE 1 (Cosine, un-normalized), ['Attack on Titan'] input,\n",
    "# ['Sword Art Online', 'Dragon Ball Z', 'Code Geass: Lelouch of the Rebellion R2', \n",
    "#  'Death Note', 'One Punch Man'] output\n",
    "in_list = ['Attack on Titan']\n",
    "insyn_list = list(gen_df[gen_df['title_english'].isin(in_list)]['rank'])\n",
    "for syn in insyn_list:\n",
    "    print(syn)\n",
    "out_list = ['Attack on Titan Season 2', 'Fullmetal Alchemist: Brotherhood', 'Death Note',\n",
    "            'Code Geass: Lelouch of the Rebellion', 'Code Geass: Lelouch of the Rebellion R2']\n",
    "outsyn_list = []\n",
    "for t in out_list:\n",
    "    outsyn_list.append(list(gen_df[gen_df['title_english'] == t]['rank'])[0])\n",
    "sumz = 0\n",
    "for syn in outsyn_list:\n",
    "    z = (std_z(syn, avg(insyn_list), len(outsyn_list)))\n",
    "    sumz += abs(z)\n",
    "    print(\">> \\t%s, \\t%s\"%(syn,z))\n",
    "\n",
    "print(\"AVG ST.Z: %s\"%(sumz/len(outsyn_list)))\n",
    "print(\"AVG SQ ST.Z: %s\"%(avg_std_z(outsyn_list,avg(insyn_list))))"
   ]
  },
  {
   "cell_type": "code",
   "execution_count": 170,
   "metadata": {},
   "outputs": [
    {
     "name": "stdout",
     "output_type": "stream",
     "text": [
      "1500958\n",
      ">> \t781129, \t-143965.8\n",
      ">> \t1355349, \t-29121.8\n",
      ">> \t1610561, \t21920.6\n",
      ">> \t1082349, \t-83721.8\n",
      ">> \t869302, \t-126331.2\n",
      "AVG ST.Z: 81012.24\n",
      "AVG SQ ST.Z: 474466.3075389021\n"
     ]
    }
   ],
   "source": [
    "# MEMBERS\n",
    "# from data_modeling EXAMPLE 1 (Cosine, un-normalized), ['Attack on Titan'] input,\n",
    "# ['Sword Art Online', 'Dragon Ball Z', 'Code Geass: Lelouch of the Rebellion R2', \n",
    "#  'Death Note', 'One Punch Man'] output\n",
    "in_list = ['Attack on Titan']\n",
    "insyn_list = list(gen_df[gen_df['title_english'].isin(in_list)]['members'])\n",
    "for syn in insyn_list:\n",
    "    print(syn)\n",
    "out_list = ['Attack on Titan Season 2', 'Fullmetal Alchemist: Brotherhood', 'Death Note',\n",
    "            'Code Geass: Lelouch of the Rebellion', 'Code Geass: Lelouch of the Rebellion R2']\n",
    "outsyn_list = []\n",
    "for t in out_list:\n",
    "    outsyn_list.append(list(gen_df[gen_df['title_english'] == t]['members'])[0])\n",
    "sumz = 0\n",
    "for syn in outsyn_list:\n",
    "    z = (std_z(syn, avg(insyn_list), len(outsyn_list)))\n",
    "    sumz += abs(z)\n",
    "    print(\">> \\t%s, \\t%s\"%(syn,z))\n",
    "\n",
    "print(\"AVG ST.Z: %s\"%(sumz/len(outsyn_list)))\n",
    "print(\"AVG SQ ST.Z: %s\"%(avg_std_z(outsyn_list,avg(insyn_list))))"
   ]
  },
  {
   "cell_type": "code",
   "execution_count": 171,
   "metadata": {},
   "outputs": [
    {
     "name": "stdout",
     "output_type": "stream",
     "text": [
      "70555\n",
      ">> \t8670, \t-12377.0\n",
      ">> \t120331, \t9955.2\n",
      ">> \t96146, \t5118.2\n",
      ">> \t68684, \t-374.2\n",
      ">> \t47637, \t-4583.6\n",
      "AVG ST.Z: 6481.640000000001\n",
      "AVG SQ ST.Z: 38706.68688224297\n"
     ]
    }
   ],
   "source": [
    "# FAVORITES\n",
    "# from data_modeling EXAMPLE 1 (Cosine, un-normalized), ['Attack on Titan'] input,\n",
    "# ['Sword Art Online', 'Dragon Ball Z', 'Code Geass: Lelouch of the Rebellion R2', \n",
    "#  'Death Note', 'One Punch Man'] output\n",
    "in_list = ['Attack on Titan']\n",
    "insyn_list = list(gen_df[gen_df['title_english'].isin(in_list)]['favorites'])\n",
    "for syn in insyn_list:\n",
    "    print(syn)\n",
    "out_list = ['Attack on Titan Season 2', 'Fullmetal Alchemist: Brotherhood', 'Death Note',\n",
    "            'Code Geass: Lelouch of the Rebellion', 'Code Geass: Lelouch of the Rebellion R2']\n",
    "outsyn_list = []\n",
    "for t in out_list:\n",
    "    outsyn_list.append(list(gen_df[gen_df['title_english'] == t]['favorites'])[0])\n",
    "sumz = 0\n",
    "for syn in outsyn_list:\n",
    "    z = (std_z(syn, avg(insyn_list), len(outsyn_list)))\n",
    "    sumz += abs(z)\n",
    "    print(\">> \\t%s, \\t%s\"%(syn,z))\n",
    "\n",
    "print(\"AVG ST.Z: %s\"%(sumz/len(outsyn_list)))\n",
    "print(\"AVG SQ ST.Z: %s\"%(avg_std_z(outsyn_list,avg(insyn_list))))"
   ]
  },
  {
   "cell_type": "code",
   "execution_count": 172,
   "metadata": {},
   "outputs": [
    {
     "name": "stdout",
     "output_type": "stream",
     "text": [
      "Centuries ago, mankind was slaughtered to near extinction by monstrous humanoid creatures called titans, forcing humans to hide in fear behind enormous concentric walls. What makes these giants truly terrifying is that their taste for human flesh is not born out of hunger but what appears to be out ...\n",
      "Recap of the events in Shingeki no Kyojin that happened prior to episode 14....\n",
      "Recap of episodes 1-13....\n",
      "Recap of episodes 14-25....\n",
      "For centuries, humanity has been hunted by giant, mysterious predators known as the Titans. Three mighty walls—Wall Maria, Rose, and Sheena—provided peace and protection for humanity for over a hundred years. That peace, however, was shattered when the Colossus Titan and Armored Titan appeared and d...\n",
      "On his first day of junior high, Eren Yeager comes face-to-face with a titan—and has his lunch stolen! From that day on, he holds a grudge against titans for taking his favorite food from him, a cheeseburger, vowing to eliminate their kind once and for all. Along with his adoptive sister Mikasa Acke...\n",
      "Third season of the Shingeki no Kyojin....\n",
      ">> \tJinta Yadomi is peacefully living as a recluse, spending his days away from school and playing video games at home instead. One hot summer day, his childhood friend, Meiko \"Menma\" Honma, appears and pesters him to grant a forgotten wish. He pays her no mind, which annoys her, but he doesn't really c...\n",
      ">> \tThe young girls of Mitakihara happily live their lives, occasionally fighting off evil, but otherwise going about their peaceful, everyday routines. However, Homura Akemi feels that something is wrong with this unusually pleasant atmosphere—though the others remain oblivious, she can't help but susp...\n",
      ">> \tTeikou Junior High School's basketball team is crowned champion three years in a row thanks to five outstanding players who, with their breathtaking and unique skills, leave opponents in despair and fans in admiration. However, after graduating, these teammates, known as \"The Generation of Miracles,...\n",
      ">> \tCross Academy is an elite boarding school with two separate, isolated classes: the Day Class and the Night Class. On the surface, Yuuki Cross and Zero Kiryuu are prefects of the academy, and attempt to keep order between the students as classes rotate in the evenings. As the Night Class is full of u...\n",
      ">> \tBeing the first female student council president isn't easy, especially when your school just transitioned from an all boys high school to a co-ed one. Aptly nicknamed \"Demon President\" by the boys for her strict disciplinary style, Misaki Ayuzawa is not afraid to use her mastery of Aikido technique...\n"
     ]
    }
   ],
   "source": [
    "# from data_modeling EXAMPLE 2 (Cosine, un-normalized)\n",
    "# ['Attack on Titan', 'Attack on Titan: Since That Day', 'Attack on Titan: Crimson Bow and Arrow',\n",
    "#  'Attack on Titan: Wings of Freedom', 'Attack on Titan Season 2', 'Attack on Titan: Junior High',\n",
    "#  'Attack on Titan Season 3'] input,\n",
    "# ['anohana: The Flower We Saw That Day', 'Puella Magi Madoka Magica the Movie: Rebellion',\n",
    "#  'Kuroko\\'s Basketball', 'Vampire Knight', 'Maid Sama!'] output\n",
    "in_list = ['Attack on Titan', 'Attack on Titan: Since That Day', 'Attack on Titan: Crimson Bow and Arrow',\n",
    "           'Attack on Titan: Wings of Freedom', 'Attack on Titan Season 2', 'Attack on Titan: Junior High',\n",
    "           'Attack on Titan Season 3']\n",
    "insyn_list = list(out_df[out_df['title_english'].isin(in_list)]['synopsis'])\n",
    "for syn in insyn_list:\n",
    "    print(syn[:300]+\"...\")\n",
    "out_list = ['anohana: The Flower We Saw That Day', 'Puella Magi Madoka Magica the Movie: Rebellion', \n",
    "            'Kuroko\\'s Basketball', 'Vampire Knight', 'Maid Sama!']\n",
    "outsyn_list = []\n",
    "for t in out_list:\n",
    "    outsyn_list.append(list(out_df[out_df['title_english'] == t]['synopsis'])[0])\n",
    "for syn in outsyn_list:\n",
    "    print('>> \\t%s'%(syn[:300]+\"...\"))"
   ]
  },
  {
   "cell_type": "code",
   "execution_count": 173,
   "metadata": {},
   "outputs": [
    {
     "name": "stdout",
     "output_type": "stream",
     "text": [
      "[439345, 123238, 315061, 220644, 339932]\n",
      ">> \t439345, \t30340.2\n",
      ">> \t123238, \t-32881.2\n",
      ">> \t315061, \t5483.4\n",
      ">> \t220644, \t-13400.0\n",
      ">> \t339932, \t10457.6\n",
      "AVG ST.Z: 18512.48\n",
      "AVG SQ ST.Z: 107719.31402492312\n"
     ]
    }
   ],
   "source": [
    "# SCORED_BY\n",
    "# from data_modeling EXAMPLE 1 (Cosine, un-normalized), ['Attack on Titan'] input,\n",
    "# ['Sword Art Online', 'Dragon Ball Z', 'Code Geass: Lelouch of the Rebellion R2', \n",
    "#  'Death Note', 'One Punch Man'] output\n",
    "in_list = ['Attack on Titan', 'Attack on Titan: Since That Day', 'Attack on Titan: Crimson Bow and Arrow',\n",
    "           'Attack on Titan: Wings of Freedom', 'Attack on Titan Season 2', 'Attack on Titan: Junior High',\n",
    "           'Attack on Titan Season 3']\n",
    "insyn_list = []\n",
    "for t in out_list:\n",
    "    insyn_list.append(list(gen_df[gen_df['title_english'] == t]['scored_by'])[0])\n",
    "print(insyn_list)\n",
    "out_list = ['anohana: The Flower We Saw That Day', 'Puella Magi Madoka Magica the Movie: Rebellion', \n",
    "            'Kuroko\\'s Basketball', 'Vampire Knight', 'Maid Sama!']\n",
    "outsyn_list = []\n",
    "for t in out_list:\n",
    "    outsyn_list.append(list(gen_df[gen_df['title_english'] == t]['scored_by'])[0])\n",
    "sumz = 0\n",
    "for syn in outsyn_list:\n",
    "    z = (std_z(syn, avg(insyn_list), len(outsyn_list)))\n",
    "    sumz += abs(z)\n",
    "    print(\">> \\t%s, \\t%s\"%(syn,z))\n",
    "\n",
    "print(\"AVG ST.Z: %s\"%(sumz/len(outsyn_list)))\n",
    "print(\"AVG SQ ST.Z: %s\"%(avg_std_z(outsyn_list,avg(insyn_list))))"
   ]
  },
  {
   "cell_type": "code",
   "execution_count": 174,
   "metadata": {},
   "outputs": [
    {
     "name": "stdout",
     "output_type": "stream",
     "text": [
      "[49, 416, 88, 173, 76]\n",
      ">> \t49, \t-22.28\n",
      ">> \t416, \t51.12\n",
      ">> \t88, \t-14.48\n",
      ">> \t173, \t2.5199999999999987\n",
      ">> \t76, \t-16.880000000000003\n",
      "AVG ST.Z: 21.456\n",
      "AVG SQ ST.Z: 134.36160165761646\n"
     ]
    }
   ],
   "source": [
    "# POPULARITY\n",
    "# from data_modeling EXAMPLE 1 (Cosine, un-normalized), ['Attack on Titan'] input,\n",
    "# ['Sword Art Online', 'Dragon Ball Z', 'Code Geass: Lelouch of the Rebellion R2', \n",
    "#  'Death Note', 'One Punch Man'] output\n",
    "in_list = ['Attack on Titan', 'Attack on Titan: Since That Day', 'Attack on Titan: Crimson Bow and Arrow',\n",
    "           'Attack on Titan: Wings of Freedom', 'Attack on Titan Season 2', 'Attack on Titan: Junior High',\n",
    "           'Attack on Titan Season 3']\n",
    "insyn_list = []\n",
    "for t in out_list:\n",
    "    insyn_list.append(list(gen_df[gen_df['title_english'] == t]['popularity'])[0])\n",
    "print(insyn_list)\n",
    "out_list = ['anohana: The Flower We Saw That Day', 'Puella Magi Madoka Magica the Movie: Rebellion', \n",
    "            'Kuroko\\'s Basketball', 'Vampire Knight', 'Maid Sama!']\n",
    "outsyn_list = []\n",
    "for t in out_list:\n",
    "    outsyn_list.append(list(gen_df[gen_df['title_english'] == t]['popularity'])[0])\n",
    "sumz = 0\n",
    "for syn in outsyn_list:\n",
    "    z = (std_z(syn, avg(insyn_list), len(outsyn_list)))\n",
    "    sumz += abs(z)\n",
    "    print(\">> \\t%s, \\t%s\"%(syn,z))\n",
    "\n",
    "print(\"AVG ST.Z: %s\"%(sumz/len(outsyn_list)))\n",
    "print(\"AVG SQ ST.Z: %s\"%(avg_std_z(outsyn_list,avg(insyn_list))))"
   ]
  },
  {
   "cell_type": "code",
   "execution_count": 175,
   "metadata": {},
   "outputs": [
    {
     "name": "stdout",
     "output_type": "stream",
     "text": [
      "[11.0, 1.0, 25.0, 13.0, 26.0]\n",
      ">> \t11.0, \t-0.8399999999999999\n",
      ">> \t1.0, \t-2.84\n",
      ">> \t25.0, \t1.9600000000000002\n",
      ">> \t13.0, \t-0.43999999999999984\n",
      ">> \t26.0, \t2.16\n",
      "AVG ST.Z: 1.6479999999999997\n",
      "AVG SQ ST.Z: 9.346657156438337\n"
     ]
    }
   ],
   "source": [
    "# EPISODES\n",
    "# from data_modeling EXAMPLE 1 (Cosine, un-normalized), ['Attack on Titan'] input,\n",
    "# ['Sword Art Online', 'Dragon Ball Z', 'Code Geass: Lelouch of the Rebellion R2', \n",
    "#  'Death Note', 'One Punch Man'] output\n",
    "in_list = ['Attack on Titan', 'Attack on Titan: Since That Day', 'Attack on Titan: Crimson Bow and Arrow',\n",
    "           'Attack on Titan: Wings of Freedom', 'Attack on Titan Season 2', 'Attack on Titan: Junior High',\n",
    "           'Attack on Titan Season 3']\n",
    "insyn_list = []\n",
    "for t in out_list:\n",
    "    insyn_list.append(list(gen_df[gen_df['title_english'] == t]['episodes'])[0])\n",
    "print(insyn_list)\n",
    "out_list = ['anohana: The Flower We Saw That Day', 'Puella Magi Madoka Magica the Movie: Rebellion', \n",
    "            'Kuroko\\'s Basketball', 'Vampire Knight', 'Maid Sama!']\n",
    "outsyn_list = []\n",
    "for t in out_list:\n",
    "    outsyn_list.append(list(gen_df[gen_df['title_english'] == t]['episodes'])[0])\n",
    "sumz = 0\n",
    "for syn in outsyn_list:\n",
    "    z = (std_z(syn, avg(insyn_list), len(outsyn_list)))\n",
    "    sumz += abs(z)\n",
    "    print(\">> \\t%s, \\t%s\"%(syn,z))\n",
    "\n",
    "print(\"AVG ST.Z: %s\"%(sumz/len(outsyn_list)))\n",
    "print(\"AVG SQ ST.Z: %s\"%(avg_std_z(outsyn_list,avg(insyn_list))))"
   ]
  },
  {
   "cell_type": "code",
   "execution_count": 176,
   "metadata": {},
   "outputs": [
    {
     "name": "stdout",
     "output_type": "stream",
     "text": [
      "[93, 131, 212, 2602, 336]\n",
      ">> \t93, \t-116.35999999999999\n",
      ">> \t131, \t-108.75999999999999\n",
      ">> \t212, \t-92.55999999999999\n",
      ">> \t2602, \t385.44\n",
      ">> \t336, \t-67.75999999999999\n",
      "AVG ST.Z: 154.176\n",
      "AVG SQ ST.Z: 967.1896194645599\n"
     ]
    }
   ],
   "source": [
    "# RANK\n",
    "# from data_modeling EXAMPLE 1 (Cosine, un-normalized), ['Attack on Titan'] input,\n",
    "# ['Sword Art Online', 'Dragon Ball Z', 'Code Geass: Lelouch of the Rebellion R2', \n",
    "#  'Death Note', 'One Punch Man'] output\n",
    "in_list = ['Attack on Titan', 'Attack on Titan: Since That Day', 'Attack on Titan: Crimson Bow and Arrow',\n",
    "           'Attack on Titan: Wings of Freedom', 'Attack on Titan Season 2', 'Attack on Titan: Junior High',\n",
    "           'Attack on Titan Season 3']\n",
    "insyn_list = []\n",
    "for t in out_list:\n",
    "    insyn_list.append(list(gen_df[gen_df['title_english'] == t]['rank'])[0])\n",
    "print(insyn_list)\n",
    "out_list = ['anohana: The Flower We Saw That Day', 'Puella Magi Madoka Magica the Movie: Rebellion', \n",
    "            'Kuroko\\'s Basketball', 'Vampire Knight', 'Maid Sama!']\n",
    "outsyn_list = []\n",
    "for t in out_list:\n",
    "    outsyn_list.append(list(gen_df[gen_df['title_english'] == t]['rank'])[0])\n",
    "sumz = 0\n",
    "for syn in outsyn_list:\n",
    "    z = (std_z(syn, avg(insyn_list), len(outsyn_list)))\n",
    "    sumz += abs(z)\n",
    "    print(\">> \\t%s, \\t%s\"%(syn,z))\n",
    "\n",
    "print(\"AVG ST.Z: %s\"%(sumz/len(outsyn_list)))\n",
    "print(\"AVG SQ ST.Z: %s\"%(avg_std_z(outsyn_list,avg(insyn_list))))"
   ]
  },
  {
   "cell_type": "code",
   "execution_count": 177,
   "metadata": {},
   "outputs": [
    {
     "name": "stdout",
     "output_type": "stream",
     "text": [
      "[734942, 208482, 534177, 371097, 579513]\n",
      ">> \t734942, \t49859.96\n",
      ">> \t208482, \t-55432.04\n",
      ">> \t534177, \t9706.959999999997\n",
      ">> \t371097, \t-22909.04\n",
      ">> \t579513, \t18774.159999999996\n",
      "AVG ST.Z: 31336.432\n",
      "AVG SQ ST.Z: 180696.49885418368\n"
     ]
    }
   ],
   "source": [
    "# MEMBERS\n",
    "# from data_modeling EXAMPLE 1 (Cosine, un-normalized), ['Attack on Titan'] input,\n",
    "# ['Sword Art Online', 'Dragon Ball Z', 'Code Geass: Lelouch of the Rebellion R2', \n",
    "#  'Death Note', 'One Punch Man'] output\n",
    "in_list = ['Attack on Titan', 'Attack on Titan: Since That Day', 'Attack on Titan: Crimson Bow and Arrow',\n",
    "           'Attack on Titan: Wings of Freedom', 'Attack on Titan Season 2', 'Attack on Titan: Junior High',\n",
    "           'Attack on Titan Season 3']\n",
    "insyn_list = []\n",
    "for t in out_list:\n",
    "    insyn_list.append(list(gen_df[gen_df['title_english'] == t]['members'])[0])\n",
    "print(insyn_list)\n",
    "out_list = ['anohana: The Flower We Saw That Day', 'Puella Magi Madoka Magica the Movie: Rebellion', \n",
    "            'Kuroko\\'s Basketball', 'Vampire Knight', 'Maid Sama!']\n",
    "outsyn_list = []\n",
    "for t in out_list:\n",
    "    outsyn_list.append(list(gen_df[gen_df['title_english'] == t]['members'])[0])\n",
    "sumz = 0\n",
    "for syn in outsyn_list:\n",
    "    z = (std_z(syn, avg(insyn_list), len(outsyn_list)))\n",
    "    sumz += abs(z)\n",
    "    print(\">> \\t%s, \\t%s\"%(syn,z))\n",
    "\n",
    "print(\"AVG ST.Z: %s\"%(sumz/len(outsyn_list)))\n",
    "print(\"AVG SQ ST.Z: %s\"%(avg_std_z(outsyn_list,avg(insyn_list))))"
   ]
  },
  {
   "cell_type": "code",
   "execution_count": 178,
   "metadata": {},
   "outputs": [
    {
     "name": "stdout",
     "output_type": "stream",
     "text": [
      "[22969, 5275, 16005, 8111, 15410]\n",
      ">> \t22969, \t1883.0\n",
      ">> \t5275, \t-1655.8\n",
      ">> \t16005, \t490.2\n",
      ">> \t8111, \t-1088.6\n",
      ">> \t15410, \t371.2\n",
      "AVG ST.Z: 1097.76\n",
      "AVG SQ ST.Z: 6265.180795475897\n"
     ]
    }
   ],
   "source": [
    "# FAVORITES\n",
    "# from data_modeling EXAMPLE 1 (Cosine, un-normalized), ['Attack on Titan'] input,\n",
    "# ['Sword Art Online', 'Dragon Ball Z', 'Code Geass: Lelouch of the Rebellion R2', \n",
    "#  'Death Note', 'One Punch Man'] output\n",
    "in_list = ['Attack on Titan', 'Attack on Titan: Since That Day', 'Attack on Titan: Crimson Bow and Arrow',\n",
    "           'Attack on Titan: Wings of Freedom', 'Attack on Titan Season 2', 'Attack on Titan: Junior High',\n",
    "           'Attack on Titan Season 3']\n",
    "insyn_list = []\n",
    "for t in out_list:\n",
    "    insyn_list.append(list(gen_df[gen_df['title_english'] == t]['favorites'])[0])\n",
    "print(insyn_list)\n",
    "out_list = ['anohana: The Flower We Saw That Day', 'Puella Magi Madoka Magica the Movie: Rebellion', \n",
    "            'Kuroko\\'s Basketball', 'Vampire Knight', 'Maid Sama!']\n",
    "outsyn_list = []\n",
    "for t in out_list:\n",
    "    outsyn_list.append(list(gen_df[gen_df['title_english'] == t]['favorites'])[0])\n",
    "sumz = 0\n",
    "for syn in outsyn_list:\n",
    "    z = (std_z(syn, avg(insyn_list), len(outsyn_list)))\n",
    "    sumz += abs(z)\n",
    "    print(\">> \\t%s, \\t%s\"%(syn,z))\n",
    "\n",
    "print(\"AVG ST.Z: %s\"%(sumz/len(outsyn_list)))\n",
    "print(\"AVG SQ ST.Z: %s\"%(avg_std_z(outsyn_list,avg(insyn_list))))"
   ]
  },
  {
   "cell_type": "code",
   "execution_count": 179,
   "metadata": {},
   "outputs": [
    {
     "name": "stdout",
     "output_type": "stream",
     "text": [
      "Centuries ago, mankind was slaughtered to near extinction by monstrous humanoid creatures called titans, forcing humans to hide in fear behind enormous concentric walls. What makes these giants truly terrifying is that their taste for human flesh is not born out of hunger but what appears to be out ...\n",
      "Recap of the events in Shingeki no Kyojin that happened prior to episode 14....\n",
      "Recap of episodes 1-13....\n",
      "Recap of episodes 14-25....\n",
      "For centuries, humanity has been hunted by giant, mysterious predators known as the Titans. Three mighty walls—Wall Maria, Rose, and Sheena—provided peace and protection for humanity for over a hundred years. That peace, however, was shattered when the Colossus Titan and Armored Titan appeared and d...\n",
      "On his first day of junior high, Eren Yeager comes face-to-face with a titan—and has his lunch stolen! From that day on, he holds a grudge against titans for taking his favorite food from him, a cheeseburger, vowing to eliminate their kind once and for all. Along with his adoptive sister Mikasa Acke...\n",
      "Third season of the Shingeki no Kyojin....\n",
      ">> \tRecap of episodes 1-9....\n",
      ">> \tRecap of the first 11 episodes of 3-gatsu no Lion....\n",
      ">> \tRecap episode of Berserk 2nd Season....\n",
      ">> \tNEVER make a deal with a wet goddess you've only just met. That's a lesson Ryosuke Kaga learns the hard way when he foolishly agrees to let Lisara Restole use some of his \"essence\" to stay in this world. Because despite her smoking hot appearance, Lisara's actually a Shinigami, a Goddess of Death. H...\n",
      ">> \tRecap of the first six episodes of Tsuki ga Kirei....\n"
     ]
    }
   ],
   "source": [
    "# from data_modeling EXAMPLE 2 (Cosine, normalized)\n",
    "# ['Attack on Titan', 'Attack on Titan: Since That Day', 'Attack on Titan: Crimson Bow and Arrow',\n",
    "#  'Attack on Titan: Wings of Freedom', 'Attack on Titan Season 2', 'Attack on Titan: Junior High',\n",
    "#  'Attack on Titan Season 3'] input,\n",
    "# ['Gun Samurai Recap', 'Marches Comes in Like a Lion: Special Omnibus Episode',\n",
    "#  'Berserk: Recollections of the Witch', 'So, I Can\\'t Play H!',\n",
    "#  'Tsukigakirei: First Half - The Road So Far'] output\n",
    "in_list = ['Attack on Titan', 'Attack on Titan: Since That Day', 'Attack on Titan: Crimson Bow and Arrow',\n",
    "           'Attack on Titan: Wings of Freedom', 'Attack on Titan Season 2', 'Attack on Titan: Junior High',\n",
    "           'Attack on Titan Season 3']\n",
    "insyn_list = list(out_df[out_df['title_english'].isin(in_list)]['synopsis'])\n",
    "for syn in insyn_list:\n",
    "    print(syn[:300]+\"...\")\n",
    "out_list = ['Gun Samurai Recap', 'Marches Comes in Like a Lion: Special Omnibus Episode',\n",
    "            'Berserk: Recollections of the Witch', 'So, I Can\\'t Play H!',\n",
    "            'Tsukigakirei: First Half - The Road So Far']\n",
    "outsyn_list = []\n",
    "for t in out_list:\n",
    "    outsyn_list.append(list(out_df[out_df['title_english'] == t]['synopsis'])[0])\n",
    "for syn in outsyn_list:\n",
    "    print('>> \\t%s'%(syn[:300]+\"...\"))"
   ]
  },
  {
   "cell_type": "code",
   "execution_count": 180,
   "metadata": {},
   "outputs": [
    {
     "name": "stdout",
     "output_type": "stream",
     "text": [
      "[45, 4589, 4083, 133619, 5019]\n",
      ">> \t45, \t-5885.2\n",
      ">> \t4589, \t-4976.4\n",
      ">> \t4083, \t-5077.6\n",
      ">> \t133619, \t20829.6\n",
      ">> \t5019, \t-4890.4\n",
      "AVG ST.Z: 8331.84\n",
      "AVG SQ ST.Z: 52104.241961667576\n"
     ]
    }
   ],
   "source": [
    "# SCORED_BY\n",
    "# from data_modeling EXAMPLE 1 (Cosine, un-normalized), ['Attack on Titan'] input,\n",
    "# ['Sword Art Online', 'Dragon Ball Z', 'Code Geass: Lelouch of the Rebellion R2', \n",
    "#  'Death Note', 'One Punch Man'] output\n",
    "in_list = ['Attack on Titan', 'Attack on Titan: Since That Day', 'Attack on Titan: Crimson Bow and Arrow',\n",
    "           'Attack on Titan: Wings of Freedom', 'Attack on Titan Season 2', 'Attack on Titan: Junior High',\n",
    "           'Attack on Titan Season 3']\n",
    "insyn_list = []\n",
    "for t in out_list:\n",
    "    insyn_list.append(list(gen_df[gen_df['title_english'] == t]['scored_by'])[0])\n",
    "print(insyn_list)\n",
    "out_list = ['Gun Samurai Recap', 'Marches Comes in Like a Lion: Special Omnibus Episode',\n",
    "            'Berserk: Recollections of the Witch', 'So, I Can\\'t Play H!',\n",
    "            'Tsukigakirei: First Half - The Road So Far']\n",
    "outsyn_list = []\n",
    "for t in out_list:\n",
    "    outsyn_list.append(list(gen_df[gen_df['title_english'] == t]['scored_by'])[0])\n",
    "sumz = 0\n",
    "for syn in outsyn_list:\n",
    "    z = (std_z(syn, avg(insyn_list), len(outsyn_list)))\n",
    "    sumz += abs(z)\n",
    "    print(\">> \\t%s, \\t%s\"%(syn,z))\n",
    "\n",
    "print(\"AVG ST.Z: %s\"%(sumz/len(outsyn_list)))\n",
    "print(\"AVG SQ ST.Z: %s\"%(avg_std_z(outsyn_list,avg(insyn_list))))"
   ]
  },
  {
   "cell_type": "code",
   "execution_count": 181,
   "metadata": {},
   "outputs": [
    {
     "name": "stdout",
     "output_type": "stream",
     "text": [
      "[11050, 4185, 4249, 320, 4118]\n",
      ">> \t11050, \t1253.1200000000001\n",
      ">> \t4185, \t-119.87999999999992\n",
      ">> \t4249, \t-107.07999999999993\n",
      ">> \t320, \t-892.8799999999999\n",
      ">> \t4118, \t-133.27999999999992\n",
      "AVG ST.Z: 501.24799999999993\n",
      "AVG SQ ST.Z: 3472.135746194264\n"
     ]
    }
   ],
   "source": [
    "# POPULARITY\n",
    "# from data_modeling EXAMPLE 1 (Cosine, un-normalized), ['Attack on Titan'] input,\n",
    "# ['Sword Art Online', 'Dragon Ball Z', 'Code Geass: Lelouch of the Rebellion R2', \n",
    "#  'Death Note', 'One Punch Man'] output\n",
    "in_list = ['Attack on Titan', 'Attack on Titan: Since That Day', 'Attack on Titan: Crimson Bow and Arrow',\n",
    "           'Attack on Titan: Wings of Freedom', 'Attack on Titan Season 2', 'Attack on Titan: Junior High',\n",
    "           'Attack on Titan Season 3']\n",
    "insyn_list = []\n",
    "for t in out_list:\n",
    "    insyn_list.append(list(gen_df[gen_df['title_english'] == t]['popularity'])[0])\n",
    "print(insyn_list)\n",
    "out_list = ['Gun Samurai Recap', 'Marches Comes in Like a Lion: Special Omnibus Episode',\n",
    "            'Berserk: Recollections of the Witch', 'So, I Can\\'t Play H!',\n",
    "            'Tsukigakirei: First Half - The Road So Far']\n",
    "outsyn_list = []\n",
    "for t in out_list:\n",
    "    outsyn_list.append(list(gen_df[gen_df['title_english'] == t]['popularity'])[0])\n",
    "sumz = 0\n",
    "for syn in outsyn_list:\n",
    "    z = (std_z(syn, avg(insyn_list), len(outsyn_list)))\n",
    "    sumz += abs(z)\n",
    "    print(\">> \\t%s, \\t%s\"%(syn,z))\n",
    "\n",
    "print(\"AVG ST.Z: %s\"%(sumz/len(outsyn_list)))\n",
    "print(\"AVG SQ ST.Z: %s\"%(avg_std_z(outsyn_list,avg(insyn_list))))"
   ]
  },
  {
   "cell_type": "code",
   "execution_count": 182,
   "metadata": {},
   "outputs": [
    {
     "name": "stdout",
     "output_type": "stream",
     "text": [
      "[1.0, 1.0, 1.0, 12.0, 1.0]\n",
      ">> \t1.0, \t-0.44000000000000006\n",
      ">> \t1.0, \t-0.44000000000000006\n",
      ">> \t1.0, \t-0.44000000000000006\n",
      ">> \t12.0, \t1.7600000000000002\n",
      ">> \t1.0, \t-0.44000000000000006\n",
      "AVG ST.Z: 0.7040000000000001\n",
      "AVG SQ ST.Z: 4.4\n"
     ]
    }
   ],
   "source": [
    "# EPISODES\n",
    "# from data_modeling EXAMPLE 1 (Cosine, un-normalized), ['Attack on Titan'] input,\n",
    "# ['Sword Art Online', 'Dragon Ball Z', 'Code Geass: Lelouch of the Rebellion R2', \n",
    "#  'Death Note', 'One Punch Man'] output\n",
    "in_list = ['Attack on Titan', 'Attack on Titan: Since That Day', 'Attack on Titan: Crimson Bow and Arrow',\n",
    "           'Attack on Titan: Wings of Freedom', 'Attack on Titan Season 2', 'Attack on Titan: Junior High',\n",
    "           'Attack on Titan Season 3']\n",
    "insyn_list = []\n",
    "for t in out_list:\n",
    "    insyn_list.append(list(gen_df[gen_df['title_english'] == t]['episodes'])[0])\n",
    "print(insyn_list)\n",
    "out_list = ['Gun Samurai Recap', 'Marches Comes in Like a Lion: Special Omnibus Episode',\n",
    "            'Berserk: Recollections of the Witch', 'So, I Can\\'t Play H!',\n",
    "            'Tsukigakirei: First Half - The Road So Far']\n",
    "outsyn_list = []\n",
    "for t in out_list:\n",
    "    outsyn_list.append(list(gen_df[gen_df['title_english'] == t]['episodes'])[0])\n",
    "sumz = 0\n",
    "for syn in outsyn_list:\n",
    "    z = (std_z(syn, avg(insyn_list), len(outsyn_list)))\n",
    "    sumz += abs(z)\n",
    "    print(\">> \\t%s, \\t%s\"%(syn,z))\n",
    "\n",
    "print(\"AVG ST.Z: %s\"%(sumz/len(outsyn_list)))\n",
    "print(\"AVG SQ ST.Z: %s\"%(avg_std_z(outsyn_list,avg(insyn_list))))"
   ]
  },
  {
   "cell_type": "code",
   "execution_count": 183,
   "metadata": {},
   "outputs": [
    {
     "name": "stdout",
     "output_type": "stream",
     "text": [
      "[11051, 4747, 8229, 4241, 5603]\n",
      ">> \t11051, \t855.36\n",
      ">> \t4747, \t-405.43999999999994\n",
      ">> \t8229, \t290.96000000000004\n",
      ">> \t4241, \t-506.64\n",
      ">> \t5603, \t-234.23999999999995\n",
      "AVG ST.Z: 458.52799999999996\n",
      "AVG SQ ST.Z: 2541.881696696367\n"
     ]
    }
   ],
   "source": [
    "# RANK\n",
    "# from data_modeling EXAMPLE 1 (Cosine, un-normalized), ['Attack on Titan'] input,\n",
    "# ['Sword Art Online', 'Dragon Ball Z', 'Code Geass: Lelouch of the Rebellion R2', \n",
    "#  'Death Note', 'One Punch Man'] output\n",
    "in_list = ['Attack on Titan', 'Attack on Titan: Since That Day', 'Attack on Titan: Crimson Bow and Arrow',\n",
    "           'Attack on Titan: Wings of Freedom', 'Attack on Titan Season 2', 'Attack on Titan: Junior High',\n",
    "           'Attack on Titan Season 3']\n",
    "insyn_list = []\n",
    "for t in out_list:\n",
    "    insyn_list.append(list(gen_df[gen_df['title_english'] == t]['rank'])[0])\n",
    "print(insyn_list)\n",
    "out_list = ['Gun Samurai Recap', 'Marches Comes in Like a Lion: Special Omnibus Episode',\n",
    "            'Berserk: Recollections of the Witch', 'So, I Can\\'t Play H!',\n",
    "            'Tsukigakirei: First Half - The Road So Far']\n",
    "outsyn_list = []\n",
    "for t in out_list:\n",
    "    outsyn_list.append(list(gen_df[gen_df['title_english'] == t]['rank'])[0])\n",
    "sumz = 0\n",
    "for syn in outsyn_list:\n",
    "    z = (std_z(syn, avg(insyn_list), len(outsyn_list)))\n",
    "    sumz += abs(z)\n",
    "    print(\">> \\t%s, \\t%s\"%(syn,z))\n",
    "\n",
    "print(\"AVG ST.Z: %s\"%(sumz/len(outsyn_list)))\n",
    "print(\"AVG SQ ST.Z: %s\"%(avg_std_z(outsyn_list,avg(insyn_list))))"
   ]
  },
  {
   "cell_type": "code",
   "execution_count": 184,
   "metadata": {},
   "outputs": [
    {
     "name": "stdout",
     "output_type": "stream",
     "text": [
      "[328, 8811, 8518, 255584, 9212]\n",
      ">> \t328, \t-11232.52\n",
      ">> \t8811, \t-9535.92\n",
      ">> \t8518, \t-9594.52\n",
      ">> \t255584, \t39818.68\n",
      ">> \t9212, \t-9455.72\n",
      "AVG ST.Z: 15927.472\n",
      "AVG SQ ST.Z: 99601.60660069695\n"
     ]
    }
   ],
   "source": [
    "# MEMBERS\n",
    "# from data_modeling EXAMPLE 1 (Cosine, un-normalized), ['Attack on Titan'] input,\n",
    "# ['Sword Art Online', 'Dragon Ball Z', 'Code Geass: Lelouch of the Rebellion R2', \n",
    "#  'Death Note', 'One Punch Man'] output\n",
    "in_list = ['Attack on Titan', 'Attack on Titan: Since That Day', 'Attack on Titan: Crimson Bow and Arrow',\n",
    "           'Attack on Titan: Wings of Freedom', 'Attack on Titan Season 2', 'Attack on Titan: Junior High',\n",
    "           'Attack on Titan Season 3']\n",
    "insyn_list = []\n",
    "for t in out_list:\n",
    "    insyn_list.append(list(gen_df[gen_df['title_english'] == t]['members'])[0])\n",
    "print(insyn_list)\n",
    "out_list = ['Gun Samurai Recap', 'Marches Comes in Like a Lion: Special Omnibus Episode',\n",
    "            'Berserk: Recollections of the Witch', 'So, I Can\\'t Play H!',\n",
    "            'Tsukigakirei: First Half - The Road So Far']\n",
    "outsyn_list = []\n",
    "for t in out_list:\n",
    "    outsyn_list.append(list(gen_df[gen_df['title_english'] == t]['members'])[0])\n",
    "sumz = 0\n",
    "for syn in outsyn_list:\n",
    "    z = (std_z(syn, avg(insyn_list), len(outsyn_list)))\n",
    "    sumz += abs(z)\n",
    "    print(\">> \\t%s, \\t%s\"%(syn,z))\n",
    "\n",
    "print(\"AVG ST.Z: %s\"%(sumz/len(outsyn_list)))\n",
    "print(\"AVG SQ ST.Z: %s\"%(avg_std_z(outsyn_list,avg(insyn_list))))"
   ]
  },
  {
   "cell_type": "code",
   "execution_count": 185,
   "metadata": {},
   "outputs": [
    {
     "name": "stdout",
     "output_type": "stream",
     "text": [
      "[0, 8, 13, 701, 10]\n",
      ">> \t0, \t-29.28\n",
      ">> \t8, \t-27.68\n",
      ">> \t13, \t-26.68\n",
      ">> \t701, \t110.92\n",
      ">> \t10, \t-27.28\n",
      "AVG ST.Z: 44.368\n",
      "AVG SQ ST.Z: 277.3334455127978\n"
     ]
    }
   ],
   "source": [
    "# FAVORITES\n",
    "# from data_modeling EXAMPLE 1 (Cosine, un-normalized), ['Attack on Titan'] input,\n",
    "# ['Sword Art Online', 'Dragon Ball Z', 'Code Geass: Lelouch of the Rebellion R2', \n",
    "#  'Death Note', 'One Punch Man'] output\n",
    "in_list = ['Attack on Titan', 'Attack on Titan: Since That Day', 'Attack on Titan: Crimson Bow and Arrow',\n",
    "           'Attack on Titan: Wings of Freedom', 'Attack on Titan Season 2', 'Attack on Titan: Junior High',\n",
    "           'Attack on Titan Season 3']\n",
    "insyn_list = []\n",
    "for t in out_list:\n",
    "    insyn_list.append(list(gen_df[gen_df['title_english'] == t]['favorites'])[0])\n",
    "print(insyn_list)\n",
    "out_list = ['Gun Samurai Recap', 'Marches Comes in Like a Lion: Special Omnibus Episode',\n",
    "            'Berserk: Recollections of the Witch', 'So, I Can\\'t Play H!',\n",
    "            'Tsukigakirei: First Half - The Road So Far']\n",
    "outsyn_list = []\n",
    "for t in out_list:\n",
    "    outsyn_list.append(list(gen_df[gen_df['title_english'] == t]['favorites'])[0])\n",
    "sumz = 0\n",
    "for syn in outsyn_list:\n",
    "    z = (std_z(syn, avg(insyn_list), len(outsyn_list)))\n",
    "    sumz += abs(z)\n",
    "    print(\">> \\t%s, \\t%s\"%(syn,z))\n",
    "\n",
    "print(\"AVG ST.Z: %s\"%(sumz/len(outsyn_list)))\n",
    "print(\"AVG SQ ST.Z: %s\"%(avg_std_z(outsyn_list,avg(insyn_list))))"
   ]
  },
  {
   "cell_type": "code",
   "execution_count": 186,
   "metadata": {},
   "outputs": [
    {
     "name": "stdout",
     "output_type": "stream",
     "text": [
      "Centuries ago, mankind was slaughtered to near extinction by monstrous humanoid creatures called titans, forcing humans to hide in fear behind enormous concentric walls. What makes these giants truly terrifying is that their taste for human flesh is not born out of hunger but what appears to be out ...\n",
      "Recap of the events in Shingeki no Kyojin that happened prior to episode 14....\n",
      "Recap of episodes 1-13....\n",
      "Recap of episodes 14-25....\n",
      "For centuries, humanity has been hunted by giant, mysterious predators known as the Titans. Three mighty walls—Wall Maria, Rose, and Sheena—provided peace and protection for humanity for over a hundred years. That peace, however, was shattered when the Colossus Titan and Armored Titan appeared and d...\n",
      "On his first day of junior high, Eren Yeager comes face-to-face with a titan—and has his lunch stolen! From that day on, he holds a grudge against titans for taking his favorite food from him, a cheeseburger, vowing to eliminate their kind once and for all. Along with his adoptive sister Mikasa Acke...\n",
      "Third season of the Shingeki no Kyojin....\n",
      ">> \tRecap of the first 11 episodes of 3-gatsu no Lion....\n",
      ">> \tRecap of the entire 25-episode television anime series with new cuts and also the unaired \"True End Episode\" that was included in the 10th Blu-ray Disc/DVD volume....\n",
      ">> \t1. State Alchemists vs Seven Homunculi A 10 minute film featuring: Ed, Al, Mustang and many other members of the State doing battle with the deadly Homonculi in an alternate reality Amestris. 2. Chibi Party (Enkai-hen) Short 6 minute Skit drawn in Super Deformed style where every character in the se...\n",
      ">> \tThe official website of the Shiki television anime series confirmed on Saturday that the anime's eighth and ninth Blu-ray Disc/DVD volumes will each include an unaired episode. The eighth volume will ship with Episode 21 and the unaired episode \"Dai Futatō to Han wa\" (a wordplay for \"Episode 20.5\") ...\n",
      ">> \tThe story revolves around a new team of \"Toei robot girls\" named \"Team Z\" that is made up of three girls based on Toei's Mazinger Z franchise: Mazinger Z, Great Mazinger, and UFO Robot Grendizer. Usually they perform in activities around Nerima ward in Tokyo to raise the awareness of the promising f...\n"
     ]
    }
   ],
   "source": [
    "# from data_modeling EXAMPLE 2 (Euclidean, normalized)\n",
    "# ['Attack on Titan', 'Attack on Titan: Since That Day', 'Attack on Titan: Crimson Bow and Arrow',\n",
    "#  'Attack on Titan: Wings of Freedom', 'Attack on Titan Season 2', 'Attack on Titan: Junior High',\n",
    "#  'Attack on Titan Season 3'] input,\n",
    "# ['Gun Samurai Recap', 'Marches Comes in Like a Lion: Special Omnibus Episode',\n",
    "#  'Berserk: Recollections of the Witch', 'So, I Can\\'t Play H!',\n",
    "#  'Tsukigakirei: First Half - The Road So Far'] output\n",
    "in_list = ['Attack on Titan', 'Attack on Titan: Since That Day', 'Attack on Titan: Crimson Bow and Arrow',\n",
    "           'Attack on Titan: Wings of Freedom', 'Attack on Titan Season 2', 'Attack on Titan: Junior High',\n",
    "           'Attack on Titan Season 3']\n",
    "insyn_list = list(out_df[out_df['title_english'].isin(in_list)]['synopsis'])\n",
    "for syn in insyn_list:\n",
    "    print(syn[:300]+\"...\")\n",
    "out_list = ['Marches Comes in Like a Lion: Special Omnibus Episode', \n",
    "            'Persona 4 the Animation: The Factor of Hope', \n",
    "            'Fullmetal Alchemist: Premium OVA Collection', 'Shiki Specials',\n",
    "            'Robot Girls Z']\n",
    "outsyn_list = []\n",
    "for t in out_list:\n",
    "    outsyn_list.append(list(out_df[out_df['title_english'] == t]['synopsis'])[0])\n",
    "for syn in outsyn_list:\n",
    "    print('>> \\t%s'%(syn[:300]+\"...\"))"
   ]
  },
  {
   "cell_type": "code",
   "execution_count": 187,
   "metadata": {},
   "outputs": [
    {
     "name": "stdout",
     "output_type": "stream",
     "text": [
      "[4589, 3261, 27630, 28578, 6135]\n",
      ">> \t4589, \t-1889.92\n",
      ">> \t3261, \t-2155.52\n",
      ">> \t27630, \t2718.2799999999997\n",
      ">> \t28578, \t2907.88\n",
      ">> \t6135, \t-1580.72\n",
      "AVG ST.Z: 2250.4639999999995\n",
      "AVG SQ ST.Z: 11524.22493012003\n"
     ]
    }
   ],
   "source": [
    "# SCORED_BY\n",
    "# from data_modeling EXAMPLE 1 (Cosine, un-normalized), ['Attack on Titan'] input,\n",
    "# ['Sword Art Online', 'Dragon Ball Z', 'Code Geass: Lelouch of the Rebellion R2', \n",
    "#  'Death Note', 'One Punch Man'] output\n",
    "in_list = ['Attack on Titan', 'Attack on Titan: Since That Day', 'Attack on Titan: Crimson Bow and Arrow',\n",
    "           'Attack on Titan: Wings of Freedom', 'Attack on Titan Season 2', 'Attack on Titan: Junior High',\n",
    "           'Attack on Titan Season 3']\n",
    "insyn_list = []\n",
    "for t in out_list:\n",
    "    insyn_list.append(list(gen_df[gen_df['title_english'] == t]['scored_by'])[0])\n",
    "print(insyn_list)\n",
    "out_list = ['Marches Comes in Like a Lion: Special Omnibus Episode', \n",
    "            'Persona 4 the Animation: The Factor of Hope', \n",
    "            'Fullmetal Alchemist: Premium OVA Collection', 'Shiki Specials',\n",
    "            'Robot Girls Z']\n",
    "outsyn_list = []\n",
    "for t in out_list:\n",
    "    outsyn_list.append(list(gen_df[gen_df['title_english'] == t]['scored_by'])[0])\n",
    "sumz = 0\n",
    "for syn in outsyn_list:\n",
    "    z = (std_z(syn, avg(insyn_list), len(outsyn_list)))\n",
    "    sumz += abs(z)\n",
    "    print(\">> \\t%s, \\t%s\"%(syn,z))\n",
    "\n",
    "print(\"AVG ST.Z: %s\"%(sumz/len(outsyn_list)))\n",
    "print(\"AVG SQ ST.Z: %s\"%(avg_std_z(outsyn_list,avg(insyn_list))))"
   ]
  },
  {
   "cell_type": "code",
   "execution_count": 188,
   "metadata": {},
   "outputs": [
    {
     "name": "stdout",
     "output_type": "stream",
     "text": [
      "[4185, 3487, 1605, 1701, 3234]\n",
      ">> \t4185, \t268.52\n",
      ">> \t3487, \t128.92\n",
      ">> \t1605, \t-247.48000000000002\n",
      ">> \t1701, \t-228.28000000000003\n",
      ">> \t3234, \t78.31999999999998\n",
      "AVG ST.Z: 190.304\n",
      "AVG SQ ST.Z: 1020.3320243920602\n"
     ]
    }
   ],
   "source": [
    "# POPULARITY\n",
    "# from data_modeling EXAMPLE 1 (Cosine, un-normalized), ['Attack on Titan'] input,\n",
    "# ['Sword Art Online', 'Dragon Ball Z', 'Code Geass: Lelouch of the Rebellion R2', \n",
    "#  'Death Note', 'One Punch Man'] output\n",
    "in_list = ['Attack on Titan', 'Attack on Titan: Since That Day', 'Attack on Titan: Crimson Bow and Arrow',\n",
    "           'Attack on Titan: Wings of Freedom', 'Attack on Titan Season 2', 'Attack on Titan: Junior High',\n",
    "           'Attack on Titan Season 3']\n",
    "insyn_list = []\n",
    "for t in out_list:\n",
    "    insyn_list.append(list(gen_df[gen_df['title_english'] == t]['popularity'])[0])\n",
    "print(insyn_list)\n",
    "out_list = ['Marches Comes in Like a Lion: Special Omnibus Episode', \n",
    "            'Persona 4 the Animation: The Factor of Hope', \n",
    "            'Fullmetal Alchemist: Premium OVA Collection', 'Shiki Specials',\n",
    "            'Robot Girls Z']\n",
    "outsyn_list = []\n",
    "for t in out_list:\n",
    "    outsyn_list.append(list(gen_df[gen_df['title_english'] == t]['popularity'])[0])\n",
    "sumz = 0\n",
    "for syn in outsyn_list:\n",
    "    z = (std_z(syn, avg(insyn_list), len(outsyn_list)))\n",
    "    sumz += abs(z)\n",
    "    print(\">> \\t%s, \\t%s\"%(syn,z))\n",
    "\n",
    "print(\"AVG ST.Z: %s\"%(sumz/len(outsyn_list)))\n",
    "print(\"AVG SQ ST.Z: %s\"%(avg_std_z(outsyn_list,avg(insyn_list))))"
   ]
  },
  {
   "cell_type": "code",
   "execution_count": 189,
   "metadata": {},
   "outputs": [
    {
     "name": "stdout",
     "output_type": "stream",
     "text": [
      "[1.0, 1.0, 3.0, 2.0, 3.0]\n",
      ">> \t1.0, \t-0.2\n",
      ">> \t1.0, \t-0.2\n",
      ">> \t3.0, \t0.2\n",
      ">> \t2.0, \t0.0\n",
      ">> \t3.0, \t0.2\n",
      "AVG ST.Z: 0.16\n",
      "AVG SQ ST.Z: 0.8944271909999159\n"
     ]
    }
   ],
   "source": [
    "# EPISODES\n",
    "# from data_modeling EXAMPLE 1 (Cosine, un-normalized), ['Attack on Titan'] input,\n",
    "# ['Sword Art Online', 'Dragon Ball Z', 'Code Geass: Lelouch of the Rebellion R2', \n",
    "#  'Death Note', 'One Punch Man'] output\n",
    "in_list = ['Attack on Titan', 'Attack on Titan: Since That Day', 'Attack on Titan: Crimson Bow and Arrow',\n",
    "           'Attack on Titan: Wings of Freedom', 'Attack on Titan Season 2', 'Attack on Titan: Junior High',\n",
    "           'Attack on Titan Season 3']\n",
    "insyn_list = []\n",
    "for t in out_list:\n",
    "    insyn_list.append(list(gen_df[gen_df['title_english'] == t]['episodes'])[0])\n",
    "print(insyn_list)\n",
    "out_list = ['Marches Comes in Like a Lion: Special Omnibus Episode', \n",
    "            'Persona 4 the Animation: The Factor of Hope', \n",
    "            'Fullmetal Alchemist: Premium OVA Collection', 'Shiki Specials',\n",
    "            'Robot Girls Z']\n",
    "outsyn_list = []\n",
    "for t in out_list:\n",
    "    outsyn_list.append(list(gen_df[gen_df['title_english'] == t]['episodes'])[0])\n",
    "sumz = 0\n",
    "for syn in outsyn_list:\n",
    "    z = (std_z(syn, avg(insyn_list), len(outsyn_list)))\n",
    "    sumz += abs(z)\n",
    "    print(\">> \\t%s, \\t%s\"%(syn,z))\n",
    "\n",
    "print(\"AVG ST.Z: %s\"%(sumz/len(outsyn_list)))\n",
    "print(\"AVG SQ ST.Z: %s\"%(avg_std_z(outsyn_list,avg(insyn_list))))"
   ]
  },
  {
   "cell_type": "code",
   "execution_count": 190,
   "metadata": {},
   "outputs": [
    {
     "name": "stdout",
     "output_type": "stream",
     "text": [
      "[4747, 1879, 2000, 749, 5800]\n",
      ">> \t4747, \t342.4\n",
      ">> \t1879, \t-231.2\n",
      ">> \t2000, \t-207.0\n",
      ">> \t749, \t-457.2\n",
      ">> \t5800, \t553.0\n",
      "AVG ST.Z: 358.15999999999997\n",
      "AVG SQ ST.Z: 1908.3776355847394\n"
     ]
    }
   ],
   "source": [
    "# RANK\n",
    "# from data_modeling EXAMPLE 1 (Cosine, un-normalized), ['Attack on Titan'] input,\n",
    "# ['Sword Art Online', 'Dragon Ball Z', 'Code Geass: Lelouch of the Rebellion R2', \n",
    "#  'Death Note', 'One Punch Man'] output\n",
    "in_list = ['Attack on Titan', 'Attack on Titan: Since That Day', 'Attack on Titan: Crimson Bow and Arrow',\n",
    "           'Attack on Titan: Wings of Freedom', 'Attack on Titan Season 2', 'Attack on Titan: Junior High',\n",
    "           'Attack on Titan Season 3']\n",
    "insyn_list = []\n",
    "for t in out_list:\n",
    "    insyn_list.append(list(gen_df[gen_df['title_english'] == t]['rank'])[0])\n",
    "print(insyn_list)\n",
    "out_list = ['Marches Comes in Like a Lion: Special Omnibus Episode', \n",
    "            'Persona 4 the Animation: The Factor of Hope', \n",
    "            'Fullmetal Alchemist: Premium OVA Collection', 'Shiki Specials',\n",
    "            'Robot Girls Z']\n",
    "outsyn_list = []\n",
    "for t in out_list:\n",
    "    outsyn_list.append(list(gen_df[gen_df['title_english'] == t]['rank'])[0])\n",
    "sumz = 0\n",
    "for syn in outsyn_list:\n",
    "    z = (std_z(syn, avg(insyn_list), len(outsyn_list)))\n",
    "    sumz += abs(z)\n",
    "    print(\">> \\t%s, \\t%s\"%(syn,z))\n",
    "\n",
    "print(\"AVG ST.Z: %s\"%(sumz/len(outsyn_list)))\n",
    "print(\"AVG SQ ST.Z: %s\"%(avg_std_z(outsyn_list,avg(insyn_list))))"
   ]
  },
  {
   "cell_type": "code",
   "execution_count": 191,
   "metadata": {},
   "outputs": [
    {
     "name": "stdout",
     "output_type": "stream",
     "text": [
      "[8811, 13700, 52727, 48923, 16045]\n",
      ">> \t8811, \t-3846.04\n",
      ">> \t13700, \t-2868.2400000000002\n",
      ">> \t52727, \t4937.16\n",
      ">> \t48923, \t4176.36\n",
      ">> \t16045, \t-2399.2400000000002\n",
      "AVG ST.Z: 3645.4080000000004\n",
      "AVG SQ ST.Z: 18787.324007425857\n"
     ]
    }
   ],
   "source": [
    "# MEMBERS\n",
    "# from data_modeling EXAMPLE 1 (Cosine, un-normalized), ['Attack on Titan'] input,\n",
    "# ['Sword Art Online', 'Dragon Ball Z', 'Code Geass: Lelouch of the Rebellion R2', \n",
    "#  'Death Note', 'One Punch Man'] output\n",
    "in_list = ['Attack on Titan', 'Attack on Titan: Since That Day', 'Attack on Titan: Crimson Bow and Arrow',\n",
    "           'Attack on Titan: Wings of Freedom', 'Attack on Titan Season 2', 'Attack on Titan: Junior High',\n",
    "           'Attack on Titan Season 3']\n",
    "insyn_list = []\n",
    "for t in out_list:\n",
    "    insyn_list.append(list(gen_df[gen_df['title_english'] == t]['members'])[0])\n",
    "print(insyn_list)\n",
    "out_list = ['Marches Comes in Like a Lion: Special Omnibus Episode', \n",
    "            'Persona 4 the Animation: The Factor of Hope', \n",
    "            'Fullmetal Alchemist: Premium OVA Collection', 'Shiki Specials',\n",
    "            'Robot Girls Z']\n",
    "outsyn_list = []\n",
    "for t in out_list:\n",
    "    outsyn_list.append(list(gen_df[gen_df['title_english'] == t]['members'])[0])\n",
    "sumz = 0\n",
    "for syn in outsyn_list:\n",
    "    z = (std_z(syn, avg(insyn_list), len(outsyn_list)))\n",
    "    sumz += abs(z)\n",
    "    print(\">> \\t%s, \\t%s\"%(syn,z))\n",
    "\n",
    "print(\"AVG ST.Z: %s\"%(sumz/len(outsyn_list)))\n",
    "print(\"AVG SQ ST.Z: %s\"%(avg_std_z(outsyn_list,avg(insyn_list))))"
   ]
  },
  {
   "cell_type": "code",
   "execution_count": 192,
   "metadata": {},
   "outputs": [
    {
     "name": "stdout",
     "output_type": "stream",
     "text": [
      "[8, 15, 101, 76, 14]\n",
      ">> \t8, \t-6.959999999999999\n",
      ">> \t15, \t-5.56\n",
      ">> \t101, \t11.64\n",
      ">> \t76, \t6.640000000000001\n",
      ">> \t14, \t-5.76\n",
      "AVG ST.Z: 7.312\n",
      "AVG SQ ST.Z: 38.2172735814579\n"
     ]
    }
   ],
   "source": [
    "# FAVORITES\n",
    "# from data_modeling EXAMPLE 1 (Cosine, un-normalized), ['Attack on Titan'] input,\n",
    "# ['Sword Art Online', 'Dragon Ball Z', 'Code Geass: Lelouch of the Rebellion R2', \n",
    "#  'Death Note', 'One Punch Man'] output\n",
    "in_list = ['Attack on Titan', 'Attack on Titan: Since That Day', 'Attack on Titan: Crimson Bow and Arrow',\n",
    "           'Attack on Titan: Wings of Freedom', 'Attack on Titan Season 2', 'Attack on Titan: Junior High',\n",
    "           'Attack on Titan Season 3']\n",
    "insyn_list = []\n",
    "for t in out_list:\n",
    "    insyn_list.append(list(gen_df[gen_df['title_english'] == t]['favorites'])[0])\n",
    "print(insyn_list)\n",
    "out_list = ['Marches Comes in Like a Lion: Special Omnibus Episode', \n",
    "            'Persona 4 the Animation: The Factor of Hope', \n",
    "            'Fullmetal Alchemist: Premium OVA Collection', 'Shiki Specials',\n",
    "            'Robot Girls Z']\n",
    "outsyn_list = []\n",
    "for t in out_list:\n",
    "    outsyn_list.append(list(gen_df[gen_df['title_english'] == t]['favorites'])[0])\n",
    "sumz = 0\n",
    "for syn in outsyn_list:\n",
    "    z = (std_z(syn, avg(insyn_list), len(outsyn_list)))\n",
    "    sumz += abs(z)\n",
    "    print(\">> \\t%s, \\t%s\"%(syn,z))\n",
    "\n",
    "print(\"AVG ST.Z: %s\"%(sumz/len(outsyn_list)))\n",
    "print(\"AVG SQ ST.Z: %s\"%(avg_std_z(outsyn_list,avg(insyn_list))))"
   ]
  },
  {
   "cell_type": "code",
   "execution_count": 193,
   "metadata": {},
   "outputs": [
    {
     "name": "stdout",
     "output_type": "stream",
     "text": [
      "Centuries ago, mankind was slaughtered to near extinction by monstrous humanoid creatures called titans, forcing humans to hide in fear behind enormous concentric walls. What makes these giants truly terrifying is that their taste for human flesh is not born out of hunger but what appears to be out ...\n",
      "Recap of the events in Shingeki no Kyojin that happened prior to episode 14....\n",
      "Recap of episodes 1-13....\n",
      "Recap of episodes 14-25....\n",
      "For centuries, humanity has been hunted by giant, mysterious predators known as the Titans. Three mighty walls—Wall Maria, Rose, and Sheena—provided peace and protection for humanity for over a hundred years. That peace, however, was shattered when the Colossus Titan and Armored Titan appeared and d...\n",
      "On his first day of junior high, Eren Yeager comes face-to-face with a titan—and has his lunch stolen! From that day on, he holds a grudge against titans for taking his favorite food from him, a cheeseburger, vowing to eliminate their kind once and for all. Along with his adoptive sister Mikasa Acke...\n",
      "Third season of the Shingeki no Kyojin....\n",
      ">> \tAs Kobayashi sets off for another day at work, she opens her apartment door only to be met by an unusually frightening sight—the head of a dragon, staring at her from across the balcony. The dragon immediately transforms into a cute, busty, and energetic young girl dressed in a maid outfit, introduc...\n",
      ">> \tYoukai Academy is a seemingly normal boarding school, except that its pupils are monsters learning to coexist with humans. All students attend in human form and take normal academic subjects, such as literature, gym, foreign language, and mathematics. However, there is one golden rule at Youkai Acad...\n",
      ">> \tYahari Ore no Seishun Love Comedy wa Machigatteiru. Zoku picks up immediately after the events of the first season, continuing the adventures of the Volunteer Service Club—the dispassionate Hachiman Hikigaya, the cheerful Yui Yuigahama, and the competitive Yukino Yukinoshita—as it dedicates itself t...\n",
      ">> \tOff-duty Japan Self-Defense Forces (JSDF) officer and otaku, Youji Itami, is on his way to attend a doujin convention in Ginza, Tokyo when a mysterious portal in the shape of a large gate suddenly appears. From this gate, supernatural creatures and warriors clad in medieval armor emerge, charging th...\n",
      ">> \tKujo Jotaro is a normal, popular Japanese high-schooler, until he thinks that he is possessed by a spirit, and locks himself in prison. After seeing his grandfather, Joseph Joestar, and fighting Joseph's friend Muhammad Abdul, Jotaro learns that the \"Spirit\" is actually Star Platinum, his Stand, or ...\n"
     ]
    }
   ],
   "source": [
    "# from data_modeling EXAMPLE 2 (Euclidean, un-normalized)\n",
    "# ['Attack on Titan', 'Attack on Titan: Since That Day', 'Attack on Titan: Crimson Bow and Arrow',\n",
    "#  'Attack on Titan: Wings of Freedom', 'Attack on Titan Season 2', 'Attack on Titan: Junior High',\n",
    "#  'Attack on Titan Season 3'] input,\n",
    "# ['Gun Samurai Recap', 'Marches Comes in Like a Lion: Special Omnibus Episode',\n",
    "#  'Berserk: Recollections of the Witch', 'So, I Can\\'t Play H!',\n",
    "#  'Tsukigakirei: First Half - The Road So Far'] output\n",
    "in_list = ['Attack on Titan', 'Attack on Titan: Since That Day', 'Attack on Titan: Crimson Bow and Arrow',\n",
    "           'Attack on Titan: Wings of Freedom', 'Attack on Titan Season 2', 'Attack on Titan: Junior High',\n",
    "           'Attack on Titan Season 3']\n",
    "insyn_list = list(out_df[out_df['title_english'].isin(in_list)]['synopsis'])\n",
    "for syn in insyn_list:\n",
    "    print(syn[:300]+\"...\")\n",
    "out_list = ['Miss Kobayashi\\'s Dragon Maid', 'Rosario + Vampire', \n",
    "            'My Teen Romantic Comedy SNAFU TOO!', 'GATE',\n",
    "            'JoJo\\'s Bizarre Adventure']\n",
    "outsyn_list = []\n",
    "for t in out_list:\n",
    "    outsyn_list.append(list(out_df[out_df['title_english'] == t]['synopsis'])[0])\n",
    "for syn in outsyn_list:\n",
    "    print('>> \\t%s'%(syn[:300]+\"...\"))"
   ]
  },
  {
   "cell_type": "code",
   "execution_count": 194,
   "metadata": {},
   "outputs": [
    {
     "name": "stdout",
     "output_type": "stream",
     "text": [
      "[244021, 245586, 251353, 235214, 14356]\n",
      ">> \t244021, \t9183.0\n",
      ">> \t245586, \t9496.0\n",
      ">> \t251353, \t10649.4\n",
      ">> \t235214, \t7421.6\n",
      ">> \t14356, \t-36750.0\n",
      "AVG ST.Z: 14700.0\n",
      "AVG SQ ST.Z: 92020.48336973676\n"
     ]
    }
   ],
   "source": [
    "# SCORED_BY\n",
    "# from data_modeling EXAMPLE 1 (Cosine, un-normalized), ['Attack on Titan'] input,\n",
    "# ['Sword Art Online', 'Dragon Ball Z', 'Code Geass: Lelouch of the Rebellion R2', \n",
    "#  'Death Note', 'One Punch Man'] output\n",
    "in_list = ['Attack on Titan', 'Attack on Titan: Since That Day', 'Attack on Titan: Crimson Bow and Arrow',\n",
    "           'Attack on Titan: Wings of Freedom', 'Attack on Titan Season 2', 'Attack on Titan: Junior High',\n",
    "           'Attack on Titan Season 3']\n",
    "insyn_list = []\n",
    "for t in out_list:\n",
    "    insyn_list.append(list(gen_df[gen_df['title_english'] == t]['scored_by'])[0])\n",
    "print(insyn_list)\n",
    "out_list = ['Miss Kobayashi\\'s Dragon Maid', 'Rosario + Vampire', \n",
    "            'My Teen Romantic Comedy SNAFU TOO!', 'GATE',\n",
    "            'JoJo\\'s Bizarre Adventure']\n",
    "outsyn_list = []\n",
    "for t in out_list:\n",
    "    outsyn_list.append(list(gen_df[gen_df['title_english'] == t]['scored_by'])[0])\n",
    "sumz = 0\n",
    "for syn in outsyn_list:\n",
    "    z = (std_z(syn, avg(insyn_list), len(outsyn_list)))\n",
    "    sumz += abs(z)\n",
    "    print(\">> \\t%s, \\t%s\"%(syn,z))\n",
    "\n",
    "print(\"AVG ST.Z: %s\"%(sumz/len(outsyn_list)))\n",
    "print(\"AVG SQ ST.Z: %s\"%(avg_std_z(outsyn_list,avg(insyn_list))))"
   ]
  },
  {
   "cell_type": "code",
   "execution_count": 195,
   "metadata": {},
   "outputs": [
    {
     "name": "stdout",
     "output_type": "stream",
     "text": [
      "[134, 143, 148, 139, 2139]\n",
      ">> \t134, \t-81.32000000000001\n",
      ">> \t143, \t-79.52000000000001\n",
      ">> \t148, \t-78.52000000000001\n",
      ">> \t139, \t-80.32000000000001\n",
      ">> \t2139, \t319.68\n",
      "AVG ST.Z: 127.87200000000003\n",
      "AVG SQ ST.Z: 799.2132631532087\n"
     ]
    }
   ],
   "source": [
    "# POPULARITY\n",
    "# from data_modeling EXAMPLE 1 (Cosine, un-normalized), ['Attack on Titan'] input,\n",
    "# ['Sword Art Online', 'Dragon Ball Z', 'Code Geass: Lelouch of the Rebellion R2', \n",
    "#  'Death Note', 'One Punch Man'] output\n",
    "in_list = ['Attack on Titan', 'Attack on Titan: Since That Day', 'Attack on Titan: Crimson Bow and Arrow',\n",
    "           'Attack on Titan: Wings of Freedom', 'Attack on Titan Season 2', 'Attack on Titan: Junior High',\n",
    "           'Attack on Titan Season 3']\n",
    "insyn_list = []\n",
    "for t in out_list:\n",
    "    insyn_list.append(list(gen_df[gen_df['title_english'] == t]['popularity'])[0])\n",
    "print(insyn_list)\n",
    "out_list = ['Miss Kobayashi\\'s Dragon Maid', 'Rosario + Vampire', \n",
    "            'My Teen Romantic Comedy SNAFU TOO!', 'GATE',\n",
    "            'JoJo\\'s Bizarre Adventure']\n",
    "outsyn_list = []\n",
    "for t in out_list:\n",
    "    outsyn_list.append(list(gen_df[gen_df['title_english'] == t]['popularity'])[0])\n",
    "sumz = 0\n",
    "for syn in outsyn_list:\n",
    "    z = (std_z(syn, avg(insyn_list), len(outsyn_list)))\n",
    "    sumz += abs(z)\n",
    "    print(\">> \\t%s, \\t%s\"%(syn,z))\n",
    "\n",
    "print(\"AVG ST.Z: %s\"%(sumz/len(outsyn_list)))\n",
    "print(\"AVG SQ ST.Z: %s\"%(avg_std_z(outsyn_list,avg(insyn_list))))"
   ]
  },
  {
   "cell_type": "code",
   "execution_count": 196,
   "metadata": {},
   "outputs": [
    {
     "name": "stdout",
     "output_type": "stream",
     "text": [
      "[13.0, 13.0, 13.0, 12.0, 7.0]\n",
      ">> \t13.0, \t0.2800000000000001\n",
      ">> \t13.0, \t0.2800000000000001\n",
      ">> \t13.0, \t0.2800000000000001\n",
      ">> \t12.0, \t0.08000000000000007\n",
      ">> \t7.0, \t-0.9199999999999999\n",
      "AVG ST.Z: 0.36800000000000005\n",
      "AVG SQ ST.Z: 2.33238075793812\n"
     ]
    }
   ],
   "source": [
    "# EPISODES\n",
    "# from data_modeling EXAMPLE 1 (Cosine, un-normalized), ['Attack on Titan'] input,\n",
    "# ['Sword Art Online', 'Dragon Ball Z', 'Code Geass: Lelouch of the Rebellion R2', \n",
    "#  'Death Note', 'One Punch Man'] output\n",
    "in_list = ['Attack on Titan', 'Attack on Titan: Since That Day', 'Attack on Titan: Crimson Bow and Arrow',\n",
    "           'Attack on Titan: Wings of Freedom', 'Attack on Titan Season 2', 'Attack on Titan: Junior High',\n",
    "           'Attack on Titan Season 3']\n",
    "insyn_list = []\n",
    "for t in out_list:\n",
    "    insyn_list.append(list(gen_df[gen_df['title_english'] == t]['episodes'])[0])\n",
    "print(insyn_list)\n",
    "out_list = ['Miss Kobayashi\\'s Dragon Maid', 'Rosario + Vampire', \n",
    "            'My Teen Romantic Comedy SNAFU TOO!', 'GATE',\n",
    "            'JoJo\\'s Bizarre Adventure']\n",
    "outsyn_list = []\n",
    "for t in out_list:\n",
    "    outsyn_list.append(list(gen_df[gen_df['title_english'] == t]['episodes'])[0])\n",
    "sumz = 0\n",
    "for syn in outsyn_list:\n",
    "    z = (std_z(syn, avg(insyn_list), len(outsyn_list)))\n",
    "    sumz += abs(z)\n",
    "    print(\">> \\t%s, \\t%s\"%(syn,z))\n",
    "\n",
    "print(\"AVG ST.Z: %s\"%(sumz/len(outsyn_list)))\n",
    "print(\"AVG SQ ST.Z: %s\"%(avg_std_z(outsyn_list,avg(insyn_list))))"
   ]
  },
  {
   "cell_type": "code",
   "execution_count": 197,
   "metadata": {},
   "outputs": [
    {
     "name": "stdout",
     "output_type": "stream",
     "text": [
      "[359, 3569, 271, 758, 2818]\n",
      ">> \t359, \t-239.2\n",
      ">> \t3569, \t402.8\n",
      ">> \t271, \t-256.8\n",
      ">> \t758, \t-159.4\n",
      ">> \t2818, \t252.6\n",
      "AVG ST.Z: 262.15999999999997\n",
      "AVG SQ ST.Z: 1368.6231037067876\n"
     ]
    }
   ],
   "source": [
    "# RANK\n",
    "# from data_modeling EXAMPLE 1 (Cosine, un-normalized), ['Attack on Titan'] input,\n",
    "# ['Sword Art Online', 'Dragon Ball Z', 'Code Geass: Lelouch of the Rebellion R2', \n",
    "#  'Death Note', 'One Punch Man'] output\n",
    "in_list = ['Attack on Titan', 'Attack on Titan: Since That Day', 'Attack on Titan: Crimson Bow and Arrow',\n",
    "           'Attack on Titan: Wings of Freedom', 'Attack on Titan Season 2', 'Attack on Titan: Junior High',\n",
    "           'Attack on Titan Season 3']\n",
    "insyn_list = []\n",
    "for t in out_list:\n",
    "    insyn_list.append(list(gen_df[gen_df['title_english'] == t]['rank'])[0])\n",
    "print(insyn_list)\n",
    "out_list = ['Miss Kobayashi\\'s Dragon Maid', 'Rosario + Vampire', \n",
    "            'My Teen Romantic Comedy SNAFU TOO!', 'GATE',\n",
    "            'JoJo\\'s Bizarre Adventure']\n",
    "outsyn_list = []\n",
    "for t in out_list:\n",
    "    outsyn_list.append(list(gen_df[gen_df['title_english'] == t]['rank'])[0])\n",
    "sumz = 0\n",
    "for syn in outsyn_list:\n",
    "    z = (std_z(syn, avg(insyn_list), len(outsyn_list)))\n",
    "    sumz += abs(z)\n",
    "    print(\">> \\t%s, \\t%s\"%(syn,z))\n",
    "\n",
    "print(\"AVG ST.Z: %s\"%(sumz/len(outsyn_list)))\n",
    "print(\"AVG SQ ST.Z: %s\"%(avg_std_z(outsyn_list,avg(insyn_list))))"
   ]
  },
  {
   "cell_type": "code",
   "execution_count": 198,
   "metadata": {},
   "outputs": [
    {
     "name": "stdout",
     "output_type": "stream",
     "text": [
      "[426274, 414882, 405743, 419943, 34055]\n",
      ">> \t426274, \t17218.919999999995\n",
      ">> \t414882, \t14940.519999999995\n",
      ">> \t405743, \t13112.719999999996\n",
      ">> \t419943, \t15952.719999999996\n",
      ">> \t34055, \t-61224.880000000005\n",
      "AVG ST.Z: 24489.951999999997\n",
      "AVG SQ ST.Z: 153209.48038629984\n"
     ]
    }
   ],
   "source": [
    "# MEMBERS\n",
    "# from data_modeling EXAMPLE 1 (Cosine, un-normalized), ['Attack on Titan'] input,\n",
    "# ['Sword Art Online', 'Dragon Ball Z', 'Code Geass: Lelouch of the Rebellion R2', \n",
    "#  'Death Note', 'One Punch Man'] output\n",
    "in_list = ['Attack on Titan', 'Attack on Titan: Since That Day', 'Attack on Titan: Crimson Bow and Arrow',\n",
    "           'Attack on Titan: Wings of Freedom', 'Attack on Titan Season 2', 'Attack on Titan: Junior High',\n",
    "           'Attack on Titan Season 3']\n",
    "insyn_list = []\n",
    "for t in out_list:\n",
    "    insyn_list.append(list(gen_df[gen_df['title_english'] == t]['members'])[0])\n",
    "print(insyn_list)\n",
    "out_list = ['Miss Kobayashi\\'s Dragon Maid', 'Rosario + Vampire', \n",
    "            'My Teen Romantic Comedy SNAFU TOO!', 'GATE',\n",
    "            'JoJo\\'s Bizarre Adventure']\n",
    "outsyn_list = []\n",
    "for t in out_list:\n",
    "    outsyn_list.append(list(gen_df[gen_df['title_english'] == t]['members'])[0])\n",
    "sumz = 0\n",
    "for syn in outsyn_list:\n",
    "    z = (std_z(syn, avg(insyn_list), len(outsyn_list)))\n",
    "    sumz += abs(z)\n",
    "    print(\">> \\t%s, \\t%s\"%(syn,z))\n",
    "\n",
    "print(\"AVG ST.Z: %s\"%(sumz/len(outsyn_list)))\n",
    "print(\"AVG SQ ST.Z: %s\"%(avg_std_z(outsyn_list,avg(insyn_list))))"
   ]
  },
  {
   "cell_type": "code",
   "execution_count": 199,
   "metadata": {},
   "outputs": [
    {
     "name": "stdout",
     "output_type": "stream",
     "text": [
      "[7684, 3262, 10758, 4266, 166]\n",
      ">> \t7684, \t491.36\n",
      ">> \t3262, \t-393.03999999999996\n",
      ">> \t10758, \t1106.16\n",
      ">> \t4266, \t-192.23999999999995\n",
      ">> \t166, \t-1012.24\n",
      "AVG ST.Z: 639.008\n",
      "AVG SQ ST.Z: 3661.346113111952\n"
     ]
    }
   ],
   "source": [
    "# FAVORITES\n",
    "# from data_modeling EXAMPLE 1 (Cosine, un-normalized), ['Attack on Titan'] input,\n",
    "# ['Sword Art Online', 'Dragon Ball Z', 'Code Geass: Lelouch of the Rebellion R2', \n",
    "#  'Death Note', 'One Punch Man'] output\n",
    "in_list = ['Attack on Titan', 'Attack on Titan: Since That Day', 'Attack on Titan: Crimson Bow and Arrow',\n",
    "           'Attack on Titan: Wings of Freedom', 'Attack on Titan Season 2', 'Attack on Titan: Junior High',\n",
    "           'Attack on Titan Season 3']\n",
    "insyn_list = []\n",
    "for t in out_list:\n",
    "    insyn_list.append(list(gen_df[gen_df['title_english'] == t]['favorites'])[0])\n",
    "print(insyn_list)\n",
    "out_list = ['Miss Kobayashi\\'s Dragon Maid', 'Rosario + Vampire', \n",
    "            'My Teen Romantic Comedy SNAFU TOO!', 'GATE',\n",
    "            'JoJo\\'s Bizarre Adventure']\n",
    "outsyn_list = []\n",
    "for t in out_list:\n",
    "    outsyn_list.append(list(gen_df[gen_df['title_english'] == t]['favorites'])[0])\n",
    "sumz = 0\n",
    "for syn in outsyn_list:\n",
    "    z = (std_z(syn, avg(insyn_list), len(outsyn_list)))\n",
    "    sumz += abs(z)\n",
    "    print(\">> \\t%s, \\t%s\"%(syn,z))\n",
    "\n",
    "print(\"AVG ST.Z: %s\"%(sumz/len(outsyn_list)))\n",
    "print(\"AVG SQ ST.Z: %s\"%(avg_std_z(outsyn_list,avg(insyn_list))))"
   ]
  }
 ],
 "metadata": {
  "kernelspec": {
   "display_name": "Python 3",
   "language": "python",
   "name": "python3"
  },
  "language_info": {
   "codemirror_mode": {
    "name": "ipython",
    "version": 3
   },
   "file_extension": ".py",
   "mimetype": "text/x-python",
   "name": "python",
   "nbconvert_exporter": "python",
   "pygments_lexer": "ipython3",
   "version": "3.7.6"
  }
 },
 "nbformat": 4,
 "nbformat_minor": 2
}
